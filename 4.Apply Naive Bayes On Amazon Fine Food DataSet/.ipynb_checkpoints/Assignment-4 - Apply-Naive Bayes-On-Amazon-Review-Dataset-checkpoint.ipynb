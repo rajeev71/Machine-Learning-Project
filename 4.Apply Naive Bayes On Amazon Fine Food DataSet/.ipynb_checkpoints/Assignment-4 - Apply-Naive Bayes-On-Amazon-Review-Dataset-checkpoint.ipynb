{
 "cells": [
  {
   "cell_type": "markdown",
   "metadata": {},
   "source": [
    "# Assignment-4: Apply Naive Bayes On Amazon Fine Food Reviews DataSet "
   ]
  },
  {
   "cell_type": "markdown",
   "metadata": {},
   "source": [
    "## Introduction "
   ]
  },
  {
   "cell_type": "markdown",
   "metadata": {},
   "source": [
    "(i).Naive Bayes is a simple, yet effective and commonly-used, machine learning classifier. It is a probabilistic classifier that makes classifications using the Maximum A Posteriori decision rule in a Bayesian setting\n",
    "\n",
    "(ii).Naive Bayes classifiers have been especially popular for text classification, and are a traditional solution for problems such as spam detection."
   ]
  },
  {
   "cell_type": "markdown",
   "metadata": {},
   "source": [
    "## Objective"
   ]
  },
  {
   "cell_type": "markdown",
   "metadata": {},
   "source": [
    "To Predict the Polarity of Amazon Fine Food Review Using Naive Bayes Algorithm."
   ]
  },
  {
   "cell_type": "markdown",
   "metadata": {},
   "source": [
    "## Importing All Required Library"
   ]
  },
  {
   "cell_type": "code",
   "execution_count": 1,
   "metadata": {
    "collapsed": true
   },
   "outputs": [],
   "source": [
    "%matplotlib inline\n",
    "import sqlite3\n",
    "import pandas as pd\n",
    "import numpy as np\n",
    "import nltk\n",
    "import string\n",
    "import matplotlib.pyplot as plt\n",
    "import seaborn as sns\n",
    "import math\n",
    "\n",
    "from sklearn.model_selection import GridSearchCV\n",
    "from sklearn.feature_extraction.text import CountVectorizer\n",
    "from sklearn.naive_bayes import MultinomialNB\n",
    "\n",
    "\n",
    "from sklearn.metrics import classification_report\n",
    "from sklearn.feature_extraction.text import TfidfTransformer\n",
    "from sklearn.feature_extraction.text import TfidfVectorizer\n",
    "from sklearn.model_selection import TimeSeriesSplit\n",
    "\n",
    "from sklearn.metrics import confusion_matrix\n",
    "from sklearn import metrics\n",
    "from sklearn.metrics import roc_curve, auc\n",
    "from sklearn.model_selection import cross_val_score\n",
    "from sklearn import preprocessing\n",
    "\n",
    "import pickle\n",
    "\n",
    "from tqdm import tqdm\n",
    "import os\n",
    "import warnings\n",
    "warnings.filterwarnings(\"ignore\")"
   ]
  },
  {
   "cell_type": "markdown",
   "metadata": {},
   "source": [
    "## Importing Amazon Fine Food Review  Dataset"
   ]
  },
  {
   "cell_type": "code",
   "execution_count": 2,
   "metadata": {
    "collapsed": true
   },
   "outputs": [],
   "source": [
    "if os.path.isfile(\"final.sqlite\"):\n",
    "    conn=sqlite3.connect(\"final.sqlite\")\n",
    "    Data=pd.read_sql_query(\"select * from NaiveBayes where Score!=3\",conn)\n",
    "    conn.close()\n",
    "else :\n",
    "    print(\"Error Importing the file\")"
   ]
  },
  {
   "cell_type": "markdown",
   "metadata": {},
   "source": [
    "## Taking 150K Random Points"
   ]
  },
  {
   "cell_type": "code",
   "execution_count": null,
   "metadata": {
    "collapsed": true
   },
   "outputs": [],
   "source": [
    "Data=Data.sample(n=150000)"
   ]
  },
  {
   "cell_type": "code",
   "execution_count": 3,
   "metadata": {},
   "outputs": [
    {
     "data": {
      "text/plain": [
       "1    126439\n",
       "0     23561\n",
       "Name: Score, dtype: int64"
      ]
     },
     "execution_count": 3,
     "metadata": {},
     "output_type": "execute_result"
    }
   ],
   "source": [
    "# Printing some data of DataFrame\n",
    "\n",
    "Data['Score'].value_counts()"
   ]
  },
  {
   "cell_type": "markdown",
   "metadata": {},
   "source": [
    "## Information About DataSet"
   ]
  },
  {
   "cell_type": "code",
   "execution_count": 4,
   "metadata": {},
   "outputs": [
    {
     "name": "stdout",
     "output_type": "stream",
     "text": [
      "\n",
      "Number of Reviews:  150000\n",
      "\n",
      "Number of Users:  115632\n",
      "\n",
      "Number of Products:  43130\n",
      "\n",
      "Shape of Data:  (150000, 12)\n",
      "\n",
      "Column Name of DataSet :  Index(['index', 'Id', 'ProductId', 'UserId', 'ProfileName',\n",
      "       'HelpfulnessNumerator', 'HelpfulnessDenominator', 'Score', 'Time',\n",
      "       'Summary', 'Text', 'CleanedText'],\n",
      "      dtype='object')\n",
      "\n",
      "\n",
      "Number of Attributes/Columns in data: 12\n",
      "\n",
      "Number of Positive Reviews :  126439\n",
      "\n",
      "Number of Negative Reviews :  23561\n"
     ]
    }
   ],
   "source": [
    "print(\"\\nNumber of Reviews: \",Data[\"Text\"].count())\n",
    "print(\"\\nNumber of Users: \",len(Data[\"UserId\"].unique())) # Unique returns 1-D array of unique values of DataFrame.\n",
    "print(\"\\nNumber of Products: \",len(Data[\"ProductId\"].unique()))\n",
    "print(\"\\nShape of Data: \", Data.shape)\n",
    "print(\"\\nColumn Name of DataSet : \",Data.columns)\n",
    "print(\"\\n\\nNumber of Attributes/Columns in data: 12\") \n",
    "print(\"\\nNumber of Positive Reviews : \", Data['Score'].value_counts()[1])\n",
    "print(\"\\nNumber of Negative Reviews : \", Data['Score'].value_counts()[0])"
   ]
  },
  {
   "cell_type": "code",
   "execution_count": 5,
   "metadata": {},
   "outputs": [
    {
     "name": "stdout",
     "output_type": "stream",
     "text": [
      "\n",
      "Number of Reviews:  150000\n"
     ]
    }
   ],
   "source": [
    "print(\"\\nNumber of Reviews: \",Data[\"Text\"].count())"
   ]
  },
  {
   "cell_type": "markdown",
   "metadata": {},
   "source": [
    "## Attribute Information About DataSet"
   ]
  },
  {
   "cell_type": "markdown",
   "metadata": {},
   "source": [
    "1.Id - A unique value starts from 1\n",
    "\n",
    "\n",
    "\n",
    "2.ProductId - A unique identifier for the product\n",
    "\n",
    "\n",
    "\n",
    "3.UserId - A unqiue identifier for the user\n",
    "\n",
    "\n",
    "\n",
    "4.ProfileName - Name of user profile \n",
    "\n",
    "\n",
    "\n",
    "5.HelpfulnessNumerator - Number of users who found the review helpful\n",
    "\n",
    "\n",
    "\n",
    "6.HelpfulnessDenominator - Number of users who indicated whether they found the review helpful or not\n",
    "\n",
    "\n",
    "\n",
    "7.Score - Rating 0 or 1\n",
    "\n",
    "\n",
    "\n",
    "8.Time - Timestamp for the review\n",
    "\n",
    "\n",
    "\n",
    "9.Summary - Brief summary of the review\n",
    "\n",
    "\n",
    "\n",
    "10.Text - Text of the review\n",
    "\n",
    "\n",
    "\n",
    "11.Cleaned Text - Text that only alphabets"
   ]
  },
  {
   "cell_type": "code",
   "execution_count": 6,
   "metadata": {
    "collapsed": true
   },
   "outputs": [],
   "source": [
    "# Sorting on the basis of Time Parameter\n",
    "Data.sort_values('Time',inplace=True)"
   ]
  },
  {
   "cell_type": "code",
   "execution_count": 7,
   "metadata": {
    "collapsed": true
   },
   "outputs": [],
   "source": [
    "Y = Data['Score'].values\n",
    "X = Data['CleanedText'].values"
   ]
  },
  {
   "cell_type": "markdown",
   "metadata": {},
   "source": [
    "## Splitting DataSet into Train and Test Data"
   ]
  },
  {
   "cell_type": "code",
   "execution_count": 8,
   "metadata": {},
   "outputs": [
    {
     "name": "stdout",
     "output_type": "stream",
     "text": [
      "Shape of Train and Test Dataset for 50k points\n",
      "(100500,) (100500,)\n",
      "(49500,) (49500,)\n"
     ]
    }
   ],
   "source": [
    "from sklearn.model_selection import train_test_split\n",
    "# X_train, X_test, y_train, y_test = train_test_split(X, Y, test_size=0.33, shuffle=Flase): this is for time series split\n",
    "X_train, X_test, Y_train, Y_test = train_test_split(X, Y, test_size=0.33) # this is random splitting\n",
    "\n",
    "print(\"Shape of Train and Test Dataset for 50k points\")\n",
    "print(X_train.shape, Y_train.shape)\n",
    "print(X_test.shape, Y_test.shape)"
   ]
  },
  {
   "cell_type": "markdown",
   "metadata": {},
   "source": [
    "## Defining Some Function"
   ]
  },
  {
   "cell_type": "markdown",
   "metadata": {},
   "source": [
    "###  Train Data Confusion Matrix Plot"
   ]
  },
  {
   "cell_type": "code",
   "execution_count": 9,
   "metadata": {
    "collapsed": true
   },
   "outputs": [],
   "source": [
    "def trainconfusionmatrix(model,X_train,y_train):\n",
    "    print(\"Confusion Matrix for Train set\")\n",
    "    cm=confusion_matrix(y_train, model.predict(X_train))\n",
    "    class_label = [\"negative\", \"positive\"]\n",
    "    df_cm = pd.DataFrame(cm, index = class_label, columns = class_label)\n",
    "    sns.heatmap(df_cm, annot = True, fmt = \"d\")\n",
    "    plt.title(\"Train Confusiion Matrix\")\n",
    "    plt.xlabel(\"Predicted Label\")\n",
    "    plt.ylabel(\"True Label\")\n",
    "    plt.show()"
   ]
  },
  {
   "cell_type": "markdown",
   "metadata": {},
   "source": [
    "### Test Data Confusion Matrix Plot"
   ]
  },
  {
   "cell_type": "code",
   "execution_count": 10,
   "metadata": {
    "collapsed": true
   },
   "outputs": [],
   "source": [
    "def testconfusionmatrix(model,X_test,y_test):\n",
    "    print(\"Confusion Matrix for Test set\")\n",
    "    cm=confusion_matrix(y_test, model.predict(X_test))\n",
    "    class_label = [\"negative\", \"positive\"]\n",
    "    df_cm = pd.DataFrame(cm, index = class_label, columns = class_label)\n",
    "    sns.heatmap(df_cm, annot = True, fmt = \"d\")\n",
    "    plt.title(\"Test Confusiion Matrix\")\n",
    "    plt.xlabel(\"Predicted Label\")\n",
    "    plt.ylabel(\"True Label\")\n",
    "    plt.show()"
   ]
  },
  {
   "cell_type": "markdown",
   "metadata": {},
   "source": [
    "### ROC-AUC Curve Plot"
   ]
  },
  {
   "cell_type": "code",
   "execution_count": 12,
   "metadata": {
    "collapsed": true
   },
   "outputs": [],
   "source": [
    "def plot(Alpha,gsv):\n",
    "    \n",
    "    Res=gsv.cv_results_\n",
    "    train_auc=Res['mean_train_score']\n",
    "    train_auc_std=Res['std_train_score']\n",
    "    cv_auc=Res['mean_test_score']\n",
    "    cv_auc_std=Res['std_test_score']\n",
    "    \n",
    "    \n",
    "    log_alpha=[math.log10(x) for x in Alpha ]\n",
    "    plt.plot(log_alpha, train_auc, label='Train AUC')\n",
    "    plt.gca().fill_between(log_alpha,train_auc - train_auc_std,train_auc + train_auc_std,alpha=0.01,color='darkblue')\n",
    "\n",
    "    plt.plot(log_alpha, cv_auc, label='CV AUC')\n",
    "    plt.gca().fill_between(log_alpha,cv_auc - cv_auc_std,cv_auc + cv_auc_std,alpha=0.01,color='darkorange')\n",
    "    plt.legend()\n",
    "    plt.xlabel(\"Log(Alpha): hyperparameter\")\n",
    "    plt.ylabel(\"AUC\")\n",
    "    plt.title(\"Plot Between AUC & Log(Alpha)\")\n",
    "    plt.show()"
   ]
  },
  {
   "cell_type": "markdown",
   "metadata": {},
   "source": [
    "### GridSearchCV"
   ]
  },
  {
   "cell_type": "code",
   "execution_count": 13,
   "metadata": {
    "collapsed": true
   },
   "outputs": [],
   "source": [
    "def Grid_SearchCV(X_train,Y_train,alpha):\n",
    "    \n",
    "    tscv = TimeSeriesSplit(n_splits=10)\n",
    "    M_NB = MultinomialNB()\n",
    "    \n",
    "    gsv=GridSearchCV(M_NB,alpha,cv=tscv,verbose=1,scoring='roc_auc')\n",
    "    gsv.fit(X_train,Y_train)\n",
    "    \n",
    "    return gsv"
   ]
  },
  {
   "cell_type": "markdown",
   "metadata": {},
   "source": [
    "### 30 Informative Feature"
   ]
  },
  {
   "cell_type": "code",
   "execution_count": 36,
   "metadata": {
    "collapsed": true
   },
   "outputs": [],
   "source": [
    " def show_30_informative_feature(vectorizer,model,n=30):\n",
    "    \n",
    "    # For Negative Class\n",
    "    neg_class_prob_sorted = model.feature_log_prob_[0, :].argsort()\n",
    "    neg_feat=[vectorizer.get_feature_names()[x] for x in neg_class_prob_sorted[-n:]]\n",
    "    neg_prob=[model.feature_log_prob_[0, :][x] for x in neg_class_prob_sorted[-n:]]\n",
    "    \n",
    "    neg_zip=list(zip(neg_feat,neg_prob))\n",
    "    neg_zip.sort()\n",
    "    \n",
    "    # For Positive Class \n",
    "    pos_class_prob_sorted = model.feature_log_prob_[1, :].argsort()\n",
    "    pos_feat=[vectorizer.get_feature_names()[x] for x in pos_class_prob_sorted[-n:]]\n",
    "    pos_prob=[model.feature_log_prob_[0, :][x] for x in pos_class_prob_sorted[-n:]]\n",
    "    pos_zip=list(zip(pos_feat,pos_prob))\n",
    "    pos_zip.sort()\n",
    "    \n",
    "    top=zip(pos_zip,neg_zip)\n",
    "    \n",
    "    print(\"{0:20}{1:55}{2:20}\".format(\"S.N\",\"Positive\",\"Negative\"))\n",
    "    print(\"_\"*90)\n",
    "    i=1\n",
    "    for (fn_1,coef_1), (fn_2,coef_2) in top:\n",
    "        print(\"%d.\\t\\t%.3f\\t%-30s\\t\\t%.3f\\t%s\" % (i,coef_1, fn_1, coef_2, fn_2))\n",
    "        i+=1\n",
    "    \n",
    "    "
   ]
  },
  {
   "cell_type": "markdown",
   "metadata": {},
   "source": [
    "## Bags of Words"
   ]
  },
  {
   "cell_type": "code",
   "execution_count": 15,
   "metadata": {},
   "outputs": [
    {
     "name": "stdout",
     "output_type": "stream",
     "text": [
      "Shape of Train and Test Data After vectorizations\n",
      "(100500, 38189) (100500,)\n",
      "(49500, 38189) (49500,)\n"
     ]
    }
   ],
   "source": [
    "vectorizer = CountVectorizer()\n",
    "vectorizer.fit(X_train) # fit has to happen only on train data\n",
    "\n",
    "# we use the fitted CountVectorizer to convert the text to vector\n",
    "X_train_bow = vectorizer.transform(X_train)\n",
    "X_train_bow=preprocessing.normalize(X_train_bow)\n",
    "\n",
    "X_test_bow = vectorizer.transform(X_test)\n",
    "X_test_bow=preprocessing.normalize(X_test_bow)\n",
    "\n",
    "print(\"Shape of Train and Test Data After vectorizations\")\n",
    "print(X_train_bow.shape, Y_train.shape)\n",
    "print(X_test_bow.shape, Y_test.shape)"
   ]
  },
  {
   "cell_type": "markdown",
   "metadata": {},
   "source": [
    "### Finding the best value Of hyperparameter (Alpha)"
   ]
  },
  {
   "cell_type": "code",
   "execution_count": 70,
   "metadata": {},
   "outputs": [
    {
     "name": "stdout",
     "output_type": "stream",
     "text": [
      "Fitting 10 folds for each of 15 candidates, totalling 150 fits\n"
     ]
    },
    {
     "name": "stderr",
     "output_type": "stream",
     "text": [
      "[Parallel(n_jobs=1)]: Using backend SequentialBackend with 1 concurrent workers.\n",
      "[Parallel(n_jobs=1)]: Done 150 out of 150 | elapsed:   15.1s finished\n"
     ]
    },
    {
     "name": "stdout",
     "output_type": "stream",
     "text": [
      "Best HyperParameter:  {'alpha': 0.05}\n",
      "Best Accuracy: 92.22%\n"
     ]
    }
   ],
   "source": [
    "Alpha={'alpha':[1000,500,100,50,10,5,1,0.5,0.1,0.05,0.01,0.005,0.001,0.0005,0.0001]}\n",
    "gsv=Grid_SearchCV(X_train_bow,Y_train,Alpha)\n",
    "\n",
    "print(\"Best HyperParameter: \",gsv.best_params_)\n",
    "print(\"Best Accuracy: %.2f%%\"%(gsv.best_score_*100))"
   ]
  },
  {
   "cell_type": "code",
   "execution_count": 71,
   "metadata": {},
   "outputs": [
    {
     "data": {
      "image/png": "[encoded data removed]",
      "text/plain": [
       "<Figure size 432x288 with 1 Axes>"
      ]
     },
     "metadata": {
      "needs_background": "light"
     },
     "output_type": "display_data"
    }
   ],
   "source": [
    "plot(Alpha['alpha'],gsv)"
   ]
  },
  {
   "cell_type": "markdown",
   "metadata": {},
   "source": [
    "### Training the model"
   ]
  },
  {
   "cell_type": "code",
   "execution_count": 72,
   "metadata": {},
   "outputs": [
    {
     "data": {
      "text/plain": [
       "MultinomialNB(alpha=0.05, class_prior=None, fit_prior=True)"
      ]
     },
     "execution_count": 72,
     "metadata": {},
     "output_type": "execute_result"
    }
   ],
   "source": [
    "model_FBOW=MultinomialNB(alpha=gsv.best_params_['alpha'])\n",
    "model_FBOW.fit(X_train_bow,Y_train)"
   ]
  },
  {
   "cell_type": "markdown",
   "metadata": {},
   "source": [
    "### Evaluating the performance of model"
   ]
  },
  {
   "cell_type": "code",
   "execution_count": 73,
   "metadata": {},
   "outputs": [
    {
     "name": "stdout",
     "output_type": "stream",
     "text": [
      "Confusion Matrix for Train set\n"
     ]
    },
    {
     "data": {
      "image/png": "[encoded data removed]",
      "text/plain": [
       "<Figure size 432x288 with 2 Axes>"
      ]
     },
     "metadata": {
      "needs_background": "light"
     },
     "output_type": "display_data"
    }
   ],
   "source": [
    "trainconfusionmatrix(model_FBOW,X_train_bow,Y_train)"
   ]
  },
  {
   "cell_type": "code",
   "execution_count": 74,
   "metadata": {},
   "outputs": [
    {
     "name": "stdout",
     "output_type": "stream",
     "text": [
      "Confusion Matrix for Test set\n"
     ]
    },
    {
     "data": {
      "image/png": "[encoded data removed]",
      "text/plain": [
       "<Figure size 432x288 with 2 Axes>"
      ]
     },
     "metadata": {
      "needs_background": "light"
     },
     "output_type": "display_data"
    }
   ],
   "source": [
    "testconfusionmatrix(model_FBOW,X_test_bow,Y_test)"
   ]
  },
  {
   "cell_type": "code",
   "execution_count": 75,
   "metadata": {},
   "outputs": [
    {
     "data": {
      "image/png": "[encoded data removed]",
      "text/plain": [
       "<Figure size 432x288 with 1 Axes>"
      ]
     },
     "metadata": {
      "needs_background": "light"
     },
     "output_type": "display_data"
    }
   ],
   "source": [
    "plot_auc_roc(model_FBOW,X_train_bow,X_test_bow,Y_train,Y_test)"
   ]
  },
  {
   "cell_type": "code",
   "execution_count": 76,
   "metadata": {},
   "outputs": [
    {
     "name": "stdout",
     "output_type": "stream",
     "text": [
      "Classification Report: \n",
      "\n",
      "              precision    recall  f1-score   support\n",
      "\n",
      "           0       0.92      0.19      0.31      7990\n",
      "           1       0.86      1.00      0.93     41510\n",
      "\n",
      "   micro avg       0.87      0.87      0.87     49500\n",
      "   macro avg       0.89      0.59      0.62     49500\n",
      "weighted avg       0.87      0.87      0.83     49500\n",
      "\n"
     ]
    }
   ],
   "source": [
    "print(\"Classification Report: \\n\")\n",
    "y_pred=model_FBOW.predict(X_test_bow)\n",
    "\n",
    "print(classification_report(Y_test, y_pred))\n"
   ]
  },
  {
   "cell_type": "markdown",
   "metadata": {},
   "source": [
    "### Displaying 30 most informative feature"
   ]
  },
  {
   "cell_type": "code",
   "execution_count": 77,
   "metadata": {},
   "outputs": [
    {
     "name": "stdout",
     "output_type": "stream",
     "text": [
      "S.N                 Positive                                               Negative            \n",
      "__________________________________________________________________________________________\n",
      "1.\t\t-5.943\talso                          \t\t-5.412\tamazon\n",
      "2.\t\t-5.412\tamazon                        \t\t-5.505\tbag\n",
      "3.\t\t-6.689\tbest                          \t\t-5.319\tbox\n",
      "4.\t\t-5.004\tbuy                           \t\t-5.004\tbuy\n",
      "5.\t\t-5.043\tcoffe                         \t\t-5.043\tcoffe\n",
      "6.\t\t-5.238\tdont                          \t\t-5.536\tdisappoint\n",
      "7.\t\t-5.507\teat                           \t\t-5.238\tdont\n",
      "8.\t\t-6.103\tfind                          \t\t-5.507\teat\n",
      "9.\t\t-4.750\tflavor                        \t\t-5.372\teven\n",
      "10.\t\t-5.395\tfood                          \t\t-4.750\tflavor\n",
      "11.\t\t-5.145\tget                           \t\t-5.395\tfood\n",
      "12.\t\t-5.004\tgood                          \t\t-5.145\tget\n",
      "13.\t\t-5.886\tgreat                         \t\t-5.004\tgood\n",
      "14.\t\t-4.260\tlike                          \t\t-4.260\tlike\n",
      "15.\t\t-6.045\tlittl                         \t\t-5.588\tlook\n",
      "16.\t\t-5.524\tlove                          \t\t-5.524\tlove\n",
      "17.\t\t-5.544\tmake                          \t\t-5.544\tmake\n",
      "18.\t\t-5.474\tmuch                          \t\t-5.474\tmuch\n",
      "19.\t\t-4.746\tone                           \t\t-4.746\tone\n",
      "20.\t\t-5.065\torder                         \t\t-5.065\torder\n",
      "21.\t\t-5.688\tprice                         \t\t-5.579\tpackag\n",
      "22.\t\t-4.366\tproduct                       \t\t-4.366\tproduct\n",
      "23.\t\t-5.509\trealli                        \t\t-5.609\tpurchas\n",
      "24.\t\t-5.986\tstore                         \t\t-5.509\trealli\n",
      "25.\t\t-4.148\ttast                          \t\t-4.148\ttast\n",
      "26.\t\t-5.423\ttea                           \t\t-5.423\ttea\n",
      "27.\t\t-5.485\ttime                          \t\t-5.485\ttime\n",
      "28.\t\t-4.885\ttri                           \t\t-4.885\ttri\n",
      "29.\t\t-5.072\tuse                           \t\t-5.072\tuse\n",
      "30.\t\t-4.857\twould                         \t\t-4.857\twould\n"
     ]
    }
   ],
   "source": [
    "show_30_informative_feature(vectorizer,model_FBOW)"
   ]
  },
  {
   "cell_type": "markdown",
   "metadata": {},
   "source": [
    "## TF-IDF"
   ]
  },
  {
   "cell_type": "code",
   "execution_count": 83,
   "metadata": {},
   "outputs": [
    {
     "data": {
      "text/plain": [
       "TfidfVectorizer(analyzer='word', binary=False, decode_error='strict',\n",
       "        dtype=<class 'numpy.float64'>, encoding='utf-8', input='content',\n",
       "        lowercase=True, max_df=1.0, max_features=None, min_df=1,\n",
       "        ngram_range=(1, 1), norm='l2', preprocessor=None, smooth_idf=True,\n",
       "        stop_words=None, strip_accents=None, sublinear_tf=False,\n",
       "        token_pattern='(?u)\\\\b\\\\w\\\\w+\\\\b', tokenizer=None, use_idf=True,\n",
       "        vocabulary=None)"
      ]
     },
     "execution_count": 83,
     "metadata": {},
     "output_type": "execute_result"
    }
   ],
   "source": [
    "vectorizer_tfidf=TfidfVectorizer()\n",
    "vectorizer_tfidf.fit(X_train)"
   ]
  },
  {
   "cell_type": "code",
   "execution_count": 84,
   "metadata": {
    "collapsed": true
   },
   "outputs": [],
   "source": [
    "X_Train_Tfidf=vectorizer_tfidf.transform(X_train)\n",
    "X_Train_Tfidf=preprocessing.normalize(X_Train_Tfidf)\n",
    "\n",
    "X_Test_Tfidf=vectorizer_tfidf.transform(X_test)\n",
    "X_Test_Tfidf=preprocessing.normalize(X_Test_Tfidf)"
   ]
  },
  {
   "cell_type": "code",
   "execution_count": 85,
   "metadata": {},
   "outputs": [
    {
     "name": "stdout",
     "output_type": "stream",
     "text": [
      "Shape of Train and Test Data After vectorizations\n",
      "(100500, 38440) (100500,)\n",
      "(49500, 38440) (49500,)\n"
     ]
    }
   ],
   "source": [
    "print(\"Shape of Train and Test Data After vectorizations\")\n",
    "print(X_Train_Tfidf.shape, Y_train.shape)\n",
    "print(X_Test_Tfidf.shape, Y_test.shape)"
   ]
  },
  {
   "cell_type": "markdown",
   "metadata": {},
   "source": [
    "### Finding the best value of hyperparameter(Alpha)"
   ]
  },
  {
   "cell_type": "code",
   "execution_count": 86,
   "metadata": {},
   "outputs": [
    {
     "name": "stdout",
     "output_type": "stream",
     "text": [
      "Fitting 10 folds for each of 15 candidates, totalling 150 fits\n"
     ]
    },
    {
     "name": "stderr",
     "output_type": "stream",
     "text": [
      "[Parallel(n_jobs=1)]: Using backend SequentialBackend with 1 concurrent workers.\n",
      "[Parallel(n_jobs=1)]: Done 150 out of 150 | elapsed:   15.3s finished\n"
     ]
    },
    {
     "name": "stdout",
     "output_type": "stream",
     "text": [
      "Best HyperParameter:  {'alpha': 0.1}\n",
      "Best Accuracy: 89.89%\n"
     ]
    }
   ],
   "source": [
    "Alpha={'alpha':[1000,500,100,50,10,5,1,0.5,0.1,0.05,0.01,0.005,0.001,0.0005,0.0001]}\n",
    "gsv=Grid_SearchCV(X_Train_Tfidf,Y_train,Alpha)\n",
    "\n",
    "print(\"Best HyperParameter: \",gsv.best_params_)\n",
    "print(\"Best Accuracy: %.2f%%\"%(gsv.best_score_*100))"
   ]
  },
  {
   "cell_type": "code",
   "execution_count": 87,
   "metadata": {},
   "outputs": [
    {
     "data": {
      "image/png": "[encoded data removed]",
      "text/plain": [
       "<Figure size 432x288 with 1 Axes>"
      ]
     },
     "metadata": {
      "needs_background": "light"
     },
     "output_type": "display_data"
    }
   ],
   "source": [
    "plot(Alpha['alpha'],gsv)"
   ]
  },
  {
   "cell_type": "markdown",
   "metadata": {},
   "source": [
    "### Training the model"
   ]
  },
  {
   "cell_type": "code",
   "execution_count": 88,
   "metadata": {},
   "outputs": [
    {
     "data": {
      "text/plain": [
       "MultinomialNB(alpha=0.1, class_prior=None, fit_prior=True)"
      ]
     },
     "execution_count": 88,
     "metadata": {},
     "output_type": "execute_result"
    }
   ],
   "source": [
    "model_Tfidf=MultinomialNB(alpha=gsv.best_params_['alpha'])\n",
    "model_Tfidf.fit(X_Train_Tfidf,Y_train)"
   ]
  },
  {
   "cell_type": "markdown",
   "metadata": {},
   "source": [
    "### Evaluating the performance of model"
   ]
  },
  {
   "cell_type": "code",
   "execution_count": 89,
   "metadata": {},
   "outputs": [
    {
     "name": "stdout",
     "output_type": "stream",
     "text": [
      "Confusion Matrix for Train set\n"
     ]
    },
    {
     "data": {
      "image/png": "[encoded data removed]",
      "text/plain": [
       "<Figure size 432x288 with 2 Axes>"
      ]
     },
     "metadata": {
      "needs_background": "light"
     },
     "output_type": "display_data"
    }
   ],
   "source": [
    "trainconfusionmatrix(model_Tfidf,X_Train_Tfidf,Y_train)"
   ]
  },
  {
   "cell_type": "code",
   "execution_count": 90,
   "metadata": {},
   "outputs": [
    {
     "name": "stdout",
     "output_type": "stream",
     "text": [
      "Confusion Matrix for Test set\n"
     ]
    },
    {
     "data": {
      "image/png": "[encoded data removed]",
      "text/plain": [
       "<Figure size 432x288 with 2 Axes>"
      ]
     },
     "metadata": {
      "needs_background": "light"
     },
     "output_type": "display_data"
    }
   ],
   "source": [
    "testconfusionmatrix(model_Tfidf,X_Test_Tfidf,Y_test)"
   ]
  },
  {
   "cell_type": "code",
   "execution_count": 91,
   "metadata": {},
   "outputs": [
    {
     "data": {
      "image/png": "[encoded data removed]",
      "text/plain": [
       "<Figure size 432x288 with 1 Axes>"
      ]
     },
     "metadata": {
      "needs_background": "light"
     },
     "output_type": "display_data"
    }
   ],
   "source": [
    "plot_auc_roc(model_Tfidf,X_Train_Tfidf,X_Test_Tfidf,Y_train,Y_test)"
   ]
  },
  {
   "cell_type": "code",
   "execution_count": 92,
   "metadata": {},
   "outputs": [
    {
     "name": "stdout",
     "output_type": "stream",
     "text": [
      "Classification Report: \n",
      "\n",
      "              precision    recall  f1-score   support\n",
      "\n",
      "           0       0.89      0.24      0.37      7990\n",
      "           1       0.87      0.99      0.93     41510\n",
      "\n",
      "   micro avg       0.87      0.87      0.87     49500\n",
      "   macro avg       0.88      0.61      0.65     49500\n",
      "weighted avg       0.87      0.87      0.84     49500\n",
      "\n"
     ]
    }
   ],
   "source": [
    "print(\"Classification Report: \\n\")\n",
    "y_pred=model_Tfidf.predict(X_Test_Tfidf)\n",
    "\n",
    "print(classification_report(Y_test, y_pred))\n"
   ]
  },
  {
   "cell_type": "markdown",
   "metadata": {},
   "source": [
    "### Displaying 30 most informative feature"
   ]
  },
  {
   "cell_type": "code",
   "execution_count": 93,
   "metadata": {},
   "outputs": [
    {
     "name": "stdout",
     "output_type": "stream",
     "text": [
      "S.N                 Positive                                               Negative            \n",
      "__________________________________________________________________________________________\n",
      "1.\t\t-5.902\tamazon                        \t\t-5.902\tamazon\n",
      "2.\t\t-7.158\tbest                          \t\t-5.850\tbad\n",
      "3.\t\t-5.529\tbuy                           \t\t-5.856\tbag\n",
      "4.\t\t-5.401\tcoffe                         \t\t-5.951\tbought\n",
      "5.\t\t-5.940\tdog                           \t\t-5.642\tbox\n",
      "6.\t\t-6.222\tdrink                         \t\t-5.529\tbuy\n",
      "7.\t\t-5.965\teat                           \t\t-5.401\tcoffe\n",
      "8.\t\t-6.562\tfind                          \t\t-5.657\tdisappoint\n",
      "9.\t\t-5.409\tflavor                        \t\t-5.940\tdog\n",
      "10.\t\t-5.827\tfood                          \t\t-5.711\tdont\n",
      "11.\t\t-5.749\tget                           \t\t-5.965\teat\n",
      "12.\t\t-5.729\tgood                          \t\t-5.813\teven\n",
      "13.\t\t-6.584\tgreat                         \t\t-5.409\tflavor\n",
      "14.\t\t-5.054\tlike                          \t\t-5.827\tfood\n",
      "15.\t\t-6.489\tlittl                         \t\t-5.749\tget\n",
      "16.\t\t-6.247\tlove                          \t\t-5.729\tgood\n",
      "17.\t\t-6.146\tmake                          \t\t-5.054\tlike\n",
      "18.\t\t-5.945\tmuch                          \t\t-5.953\tlook\n",
      "19.\t\t-5.428\tone                           \t\t-5.968\tmoney\n",
      "20.\t\t-5.528\torder                         \t\t-5.945\tmuch\n",
      "21.\t\t-6.138\tprice                         \t\t-5.428\tone\n",
      "22.\t\t-5.048\tproduct                       \t\t-5.528\torder\n",
      "23.\t\t-5.980\trealli                        \t\t-5.914\tpackag\n",
      "24.\t\t-6.387\tstore                         \t\t-5.048\tproduct\n",
      "25.\t\t-4.916\ttast                          \t\t-5.938\tpurchas\n",
      "26.\t\t-5.728\ttea                           \t\t-4.916\ttast\n",
      "27.\t\t-5.999\ttime                          \t\t-5.728\ttea\n",
      "28.\t\t-5.528\ttri                           \t\t-5.528\ttri\n",
      "29.\t\t-5.754\tuse                           \t\t-5.754\tuse\n",
      "30.\t\t-5.390\twould                         \t\t-5.390\twould\n"
     ]
    }
   ],
   "source": [
    "show_30_informative_feature(vectorizer_tfidf,model_Tfidf)"
   ]
  },
  {
   "cell_type": "markdown",
   "metadata": {},
   "source": [
    "## Addition of another column length "
   ]
  },
  {
   "cell_type": "code",
   "execution_count": 16,
   "metadata": {
    "collapsed": true
   },
   "outputs": [],
   "source": [
    "Train_len=[]\n",
    "Test_len=[]\n",
    "for i in X_train:\n",
    "    Train_len.append(len(i))\n",
    "    \n",
    "for i in X_test:\n",
    "    Test_len.append(len(i))"
   ]
  },
  {
   "cell_type": "code",
   "execution_count": 17,
   "metadata": {
    "collapsed": true
   },
   "outputs": [],
   "source": [
    "Train_len=np.array(Train_len)\n",
    "Test_len=np.array(Test_len)"
   ]
  },
  {
   "cell_type": "code",
   "execution_count": 18,
   "metadata": {
    "collapsed": true
   },
   "outputs": [],
   "source": [
    "Train_len=Train_len[:,np.newaxis]\n",
    "Test_len=Test_len[:,np.newaxis]"
   ]
  },
  {
   "cell_type": "markdown",
   "metadata": {},
   "source": [
    "## Bag Of Words"
   ]
  },
  {
   "cell_type": "code",
   "execution_count": 19,
   "metadata": {
    "collapsed": true
   },
   "outputs": [],
   "source": [
    "X_Train_BOW=X_train_bow.todense()"
   ]
  },
  {
   "cell_type": "code",
   "execution_count": 20,
   "metadata": {
    "collapsed": true
   },
   "outputs": [],
   "source": [
    "X_Train_New=np.append(X_Train_BOW,Train_len,axis=1)"
   ]
  },
  {
   "cell_type": "code",
   "execution_count": 21,
   "metadata": {
    "collapsed": true
   },
   "outputs": [],
   "source": [
    "from scipy.sparse import csr_matrix\n",
    "X_Train_New= csr_matrix(X_Train_New)"
   ]
  },
  {
   "cell_type": "code",
   "execution_count": 22,
   "metadata": {},
   "outputs": [
    {
     "name": "stdout",
     "output_type": "stream",
     "text": [
      "Shape of Train Data Before Adding length column \n",
      "(100500, 38189)\n",
      "\n",
      "Shape of Train Data After Adding length column \n",
      "(100500, 38190)\n"
     ]
    }
   ],
   "source": [
    "print(\"Shape of Train Data Before Adding length column \")\n",
    "print(X_train_bow.shape)\n",
    "\n",
    "print(\"\\nShape of Train Data After Adding length column \")\n",
    "print(X_Train_New.shape)"
   ]
  },
  {
   "cell_type": "markdown",
   "metadata": {},
   "source": [
    "### Finding the best value of hyperparameter (Alpha)"
   ]
  },
  {
   "cell_type": "code",
   "execution_count": 23,
   "metadata": {},
   "outputs": [
    {
     "name": "stdout",
     "output_type": "stream",
     "text": [
      "Fitting 10 folds for each of 15 candidates, totalling 150 fits\n"
     ]
    },
    {
     "name": "stderr",
     "output_type": "stream",
     "text": [
      "[Parallel(n_jobs=1)]: Using backend SequentialBackend with 1 concurrent workers.\n",
      "[Parallel(n_jobs=1)]: Done 150 out of 150 | elapsed:   31.2s finished\n"
     ]
    },
    {
     "name": "stdout",
     "output_type": "stream",
     "text": [
      "Best HyperParameter:  {'alpha': 0.05}\n",
      "Best Accuracy: 91.83%\n"
     ]
    }
   ],
   "source": [
    "Alpha={'alpha':[1000,500,100,50,10,5,1,0.5,0.1,0.05,0.01,0.005,0.001,0.0005,0.0001]}\n",
    "gsv1=Grid_SearchCV(X_Train_New,Y_train,Alpha)\n",
    "\n",
    "print(\"Best HyperParameter: \",gsv1.best_params_)\n",
    "print(\"Best Accuracy: %.2f%%\"%(gsv1.best_score_*100))"
   ]
  },
  {
   "cell_type": "code",
   "execution_count": 24,
   "metadata": {},
   "outputs": [
    {
     "data": {
      "image/png": "[encoded data removed]",
      "text/plain": [
       "<Figure size 432x288 with 1 Axes>"
      ]
     },
     "metadata": {
      "needs_background": "light"
     },
     "output_type": "display_data"
    }
   ],
   "source": [
    "plot(Alpha['alpha'],gsv1)"
   ]
  },
  {
   "cell_type": "code",
   "execution_count": 25,
   "metadata": {
    "collapsed": true
   },
   "outputs": [],
   "source": [
    "X_Test_Bow=X_test_bow.todense()"
   ]
  },
  {
   "cell_type": "code",
   "execution_count": 26,
   "metadata": {
    "collapsed": true
   },
   "outputs": [],
   "source": [
    "X_Test_New=np.append(X_Test_Bow,Test_len,axis=1)"
   ]
  },
  {
   "cell_type": "code",
   "execution_count": 27,
   "metadata": {
    "collapsed": true
   },
   "outputs": [],
   "source": [
    "X_Test_New=csr_matrix(X_Test_New)"
   ]
  },
  {
   "cell_type": "code",
   "execution_count": 28,
   "metadata": {},
   "outputs": [
    {
     "name": "stdout",
     "output_type": "stream",
     "text": [
      "Shape of Test Data Before Adding length column \n",
      "(49500, 38189)\n",
      "\n",
      "Shape of Test Data After Adding length column \n",
      "(49500, 38190)\n"
     ]
    }
   ],
   "source": [
    "print(\"Shape of Test Data Before Adding length column \")\n",
    "print(X_test_bow.shape)\n",
    "\n",
    "print(\"\\nShape of Test Data After Adding length column \")\n",
    "print(X_Test_New.shape)"
   ]
  },
  {
   "cell_type": "markdown",
   "metadata": {},
   "source": [
    "### Training the model"
   ]
  },
  {
   "cell_type": "code",
   "execution_count": 29,
   "metadata": {},
   "outputs": [
    {
     "data": {
      "text/plain": [
       "MultinomialNB(alpha=0.05, class_prior=None, fit_prior=True)"
      ]
     },
     "execution_count": 29,
     "metadata": {},
     "output_type": "execute_result"
    }
   ],
   "source": [
    "model_New_Bow=MultinomialNB(alpha=gsv1.best_params_['alpha'])\n",
    "model_New_Bow.fit(X_Train_New,Y_train)"
   ]
  },
  {
   "cell_type": "markdown",
   "metadata": {},
   "source": [
    "### Evaluating the performance of model"
   ]
  },
  {
   "cell_type": "code",
   "execution_count": 30,
   "metadata": {},
   "outputs": [
    {
     "name": "stdout",
     "output_type": "stream",
     "text": [
      "Confusion Matrix for Train set\n"
     ]
    },
    {
     "data": {
      "image/png": "[encoded data removed]",
      "text/plain": [
       "<Figure size 432x288 with 2 Axes>"
      ]
     },
     "metadata": {
      "needs_background": "light"
     },
     "output_type": "display_data"
    }
   ],
   "source": [
    "trainconfusionmatrix(model_New_Bow,X_Train_New,Y_train)"
   ]
  },
  {
   "cell_type": "code",
   "execution_count": 31,
   "metadata": {},
   "outputs": [
    {
     "name": "stdout",
     "output_type": "stream",
     "text": [
      "Confusion Matrix for Test set\n"
     ]
    },
    {
     "data": {
      "image/png": "[encoded data removed]",
      "text/plain": [
       "<Figure size 432x288 with 2 Axes>"
      ]
     },
     "metadata": {
      "needs_background": "light"
     },
     "output_type": "display_data"
    }
   ],
   "source": [
    "testconfusionmatrix(model_New_Bow,X_Train_New,Y_train)"
   ]
  },
  {
   "cell_type": "code",
   "execution_count": 32,
   "metadata": {},
   "outputs": [
    {
     "data": {
      "image/png": "[encoded data removed]",
      "text/plain": [
       "<Figure size 432x288 with 1 Axes>"
      ]
     },
     "metadata": {
      "needs_background": "light"
     },
     "output_type": "display_data"
    }
   ],
   "source": [
    "plot_auc_roc(model_New_Bow,X_Train_New,X_Test_New,Y_train,Y_test)"
   ]
  },
  {
   "cell_type": "code",
   "execution_count": 33,
   "metadata": {},
   "outputs": [
    {
     "name": "stdout",
     "output_type": "stream",
     "text": [
      "Classification Report: \n",
      "\n",
      "              precision    recall  f1-score   support\n",
      "\n",
      "           0       0.88      0.20      0.33      7793\n",
      "           1       0.87      0.99      0.93     41707\n",
      "\n",
      "   micro avg       0.87      0.87      0.87     49500\n",
      "   macro avg       0.88      0.60      0.63     49500\n",
      "weighted avg       0.87      0.87      0.83     49500\n",
      "\n"
     ]
    }
   ],
   "source": [
    "print(\"Classification Report: \\n\")\n",
    "y_pred=model_New_Bow.predict(X_Test_New)\n",
    "\n",
    "print(classification_report(Y_test, y_pred))"
   ]
  },
  {
   "cell_type": "code",
   "execution_count": 37,
   "metadata": {},
   "outputs": [
    {
     "name": "stdout",
     "output_type": "stream",
     "text": [
      "S.N                 Positive                                               Negative            \n",
      "__________________________________________________________________________________________\n",
      "1.\t\t-9.346\tamazon                        \t\t-9.346\tamazon\n",
      "2.\t\t-10.598\tbest                          \t\t-9.371\tbag\n",
      "3.\t\t-8.908\tbuy                           \t\t-9.238\tbox\n",
      "4.\t\t-8.942\tcoffe                         \t\t-8.908\tbuy\n",
      "5.\t\t-9.124\tdont                          \t\t-8.942\tcoffe\n",
      "6.\t\t-9.384\teat                           \t\t-9.453\tdisappoint\n",
      "7.\t\t-9.974\tfind                          \t\t-9.124\tdont\n",
      "8.\t\t-8.649\tflavor                        \t\t-9.384\teat\n",
      "9.\t\t-9.312\tfood                          \t\t-9.299\teven\n",
      "10.\t\t-9.031\tget                           \t\t-8.649\tflavor\n",
      "11.\t\t-8.871\tgood                          \t\t-9.312\tfood\n",
      "12.\t\t-9.765\tgreat                         \t\t-9.031\tget\n",
      "13.\t\t-8.148\tlike                          \t\t-8.871\tgood\n",
      "14.\t\t-9.913\tlittl                         \t\t-8.148\tlike\n",
      "15.\t\t-9.423\tlove                          \t\t-9.468\tlook\n",
      "16.\t\t-9.437\tmake                          \t\t-9.423\tlove\n",
      "17.\t\t-9.363\tmuch                          \t\t-9.437\tmake\n",
      "18.\t\t-8.635\tone                           \t\t-9.363\tmuch\n",
      "19.\t\t-8.943\torder                         \t\t-8.635\tone\n",
      "20.\t\t-9.581\tprice                         \t\t-8.943\torder\n",
      "21.\t\t-8.261\tproduct                       \t\t-9.479\tpackag\n",
      "22.\t\t-9.392\trealli                        \t\t-8.261\tproduct\n",
      "23.\t\t-9.897\tstore                         \t\t-9.490\tpurchas\n",
      "24.\t\t-8.042\ttast                          \t\t-9.392\trealli\n",
      "25.\t\t-9.262\ttea                           \t\t-8.042\ttast\n",
      "26.\t\t-9.397\ttime                          \t\t-9.262\ttea\n",
      "27.\t\t-8.790\ttri                           \t\t-9.397\ttime\n",
      "28.\t\t-8.961\tuse                           \t\t-8.790\ttri\n",
      "29.\t\t-9.922\twell                          \t\t-8.961\tuse\n",
      "30.\t\t-8.746\twould                         \t\t-8.746\twould\n"
     ]
    }
   ],
   "source": [
    "show_30_informative_feature(vectorizer,model_New_Bow)"
   ]
  },
  {
   "cell_type": "markdown",
   "metadata": {},
   "source": [
    "## TF-IDF"
   ]
  },
  {
   "cell_type": "code",
   "execution_count": 30,
   "metadata": {
    "collapsed": true
   },
   "outputs": [],
   "source": [
    "X_Train_New_Tf=X_Train_Tfidf.todense()"
   ]
  },
  {
   "cell_type": "code",
   "execution_count": 31,
   "metadata": {
    "collapsed": true
   },
   "outputs": [],
   "source": [
    "X_Train_New_Tf1=np.append(X_Train_New_Tf,Train_len,axis=1)"
   ]
  },
  {
   "cell_type": "code",
   "execution_count": 32,
   "metadata": {
    "collapsed": true
   },
   "outputs": [],
   "source": [
    "from scipy.sparse import csr_matrix\n",
    "X_Train_New_Tf1=csr_matrix(X_Train_New_Tf1)"
   ]
  },
  {
   "cell_type": "markdown",
   "metadata": {},
   "source": [
    "### Finding the best value of hyperparameter (Alpha)"
   ]
  },
  {
   "cell_type": "code",
   "execution_count": 33,
   "metadata": {},
   "outputs": [
    {
     "name": "stdout",
     "output_type": "stream",
     "text": [
      "Fitting 10 folds for each of 15 candidates, totalling 150 fits\n"
     ]
    },
    {
     "name": "stderr",
     "output_type": "stream",
     "text": [
      "[Parallel(n_jobs=1)]: Using backend SequentialBackend with 1 concurrent workers.\n",
      "[Parallel(n_jobs=1)]: Done 150 out of 150 | elapsed:   24.7s finished\n"
     ]
    },
    {
     "name": "stdout",
     "output_type": "stream",
     "text": [
      "Best HyperParameter:  {'alpha': 0.05}\n",
      "Best Accuracy: 89.40%\n"
     ]
    }
   ],
   "source": [
    "Alpha={'alpha':[1000,500,100,50,10,5,1,0.5,0.1,0.05,0.01,0.005,0.001,0.0005,0.0001]}\n",
    "gsv2=Grid_SearchCV(X_Train_New_Tf1,Y_train,Alpha)\n",
    "\n",
    "print(\"Best HyperParameter: \",gsv2.best_params_)\n",
    "print(\"Best Accuracy: %.2f%%\"%(gsv2.best_score_*100))"
   ]
  },
  {
   "cell_type": "code",
   "execution_count": 34,
   "metadata": {},
   "outputs": [
    {
     "data": {
      "image/png": "[encoded data removed]",
      "text/plain": [
       "<Figure size 432x288 with 1 Axes>"
      ]
     },
     "metadata": {
      "needs_background": "light"
     },
     "output_type": "display_data"
    }
   ],
   "source": [
    "plot(Alpha['alpha'],gsv2)"
   ]
  },
  {
   "cell_type": "code",
   "execution_count": 35,
   "metadata": {
    "collapsed": true
   },
   "outputs": [],
   "source": [
    "X_Test_New_Tf1=X_Test_Tfidf.todense()"
   ]
  },
  {
   "cell_type": "code",
   "execution_count": 36,
   "metadata": {
    "collapsed": true
   },
   "outputs": [],
   "source": [
    "X_Test_New_Tf1=np.append(X_Test_New_Tf1,Test_len,axis=1)"
   ]
  },
  {
   "cell_type": "code",
   "execution_count": 37,
   "metadata": {
    "collapsed": true
   },
   "outputs": [],
   "source": [
    "from scipy.sparse import csr_matrix\n",
    "X_Test_New_Tf1=csr_matrix(X_Test_New_Tf1)"
   ]
  },
  {
   "cell_type": "markdown",
   "metadata": {},
   "source": [
    "### Training the model"
   ]
  },
  {
   "cell_type": "code",
   "execution_count": 38,
   "metadata": {},
   "outputs": [
    {
     "data": {
      "text/plain": [
       "MultinomialNB(alpha=0.05, class_prior=None, fit_prior=True)"
      ]
     },
     "execution_count": 38,
     "metadata": {},
     "output_type": "execute_result"
    }
   ],
   "source": [
    "model_New_Tfidf1=MultinomialNB(alpha=gsv2.best_params_['alpha'])\n",
    "model_New_Tfidf1.fit(X_Train_New_Tf1,Y_train)"
   ]
  },
  {
   "cell_type": "markdown",
   "metadata": {},
   "source": [
    "### Evaluating the performance of model"
   ]
  },
  {
   "cell_type": "code",
   "execution_count": 39,
   "metadata": {},
   "outputs": [
    {
     "name": "stdout",
     "output_type": "stream",
     "text": [
      "Confusion Matrix for Train set\n"
     ]
    },
    {
     "data": {
      "image/png": "[encoded data removed]",
      "text/plain": [
       "<Figure size 432x288 with 2 Axes>"
      ]
     },
     "metadata": {
      "needs_background": "light"
     },
     "output_type": "display_data"
    }
   ],
   "source": [
    "trainconfusionmatrix(model_New_Tfidf1,X_Train_New_Tf1,Y_train)"
   ]
  },
  {
   "cell_type": "code",
   "execution_count": 40,
   "metadata": {},
   "outputs": [
    {
     "name": "stdout",
     "output_type": "stream",
     "text": [
      "Confusion Matrix for Test set\n"
     ]
    },
    {
     "data": {
      "image/png": "[encoded data removed]",
      "text/plain": [
       "<Figure size 432x288 with 2 Axes>"
      ]
     },
     "metadata": {
      "needs_background": "light"
     },
     "output_type": "display_data"
    }
   ],
   "source": [
    "testconfusionmatrix(model_New_Tfidf1,X_Test_New_Tf1,Y_test)"
   ]
  },
  {
   "cell_type": "code",
   "execution_count": 41,
   "metadata": {},
   "outputs": [
    {
     "data": {
      "image/png": "[encoded data removed]",
      "text/plain": [
       "<Figure size 432x288 with 1 Axes>"
      ]
     },
     "metadata": {
      "needs_background": "light"
     },
     "output_type": "display_data"
    }
   ],
   "source": [
    "plot_auc_roc(model_New_Tfidf1,X_Train_New_Tf1,X_Test_New_Tf1,Y_train,Y_test)"
   ]
  },
  {
   "cell_type": "code",
   "execution_count": 42,
   "metadata": {},
   "outputs": [
    {
     "name": "stdout",
     "output_type": "stream",
     "text": [
      "Classification Report: \n",
      "\n",
      "              precision    recall  f1-score   support\n",
      "\n",
      "           0       0.85      0.25      0.39      7990\n",
      "           1       0.87      0.99      0.93     41510\n",
      "\n",
      "   micro avg       0.87      0.87      0.87     49500\n",
      "   macro avg       0.86      0.62      0.66     49500\n",
      "weighted avg       0.87      0.87      0.84     49500\n",
      "\n"
     ]
    }
   ],
   "source": [
    "print(\"Classification Report: \\n\")\n",
    "y_pred=model_New_Tfidf1.predict(X_Test_New_Tf1)\n",
    "\n",
    "print(classification_report(Y_test, y_pred))"
   ]
  },
  {
   "cell_type": "markdown",
   "metadata": {},
   "source": [
    "### Displaying 30 most informative feature"
   ]
  },
  {
   "cell_type": "code",
   "execution_count": 67,
   "metadata": {},
   "outputs": [
    {
     "name": "stdout",
     "output_type": "stream",
     "text": [
      "S.N                 Positive                                               Negative            \n",
      "__________________________________________________________________________________________\n",
      "1.\t\t-9.807\tamazon                        \t\t-9.807\tamazon\n",
      "2.\t\t-11.064\tbest                          \t\t-9.755\tbad\n",
      "3.\t\t-9.434\tbuy                           \t\t-9.760\tbag\n",
      "4.\t\t-9.306\tcoffe                         \t\t-9.856\tbought\n",
      "5.\t\t-9.845\tdog                           \t\t-9.547\tbox\n",
      "6.\t\t-10.127\tdrink                         \t\t-9.434\tbuy\n",
      "7.\t\t-9.870\teat                           \t\t-9.306\tcoffe\n",
      "8.\t\t-10.467\tfind                          \t\t-9.562\tdisappoint\n",
      "9.\t\t-9.313\tflavor                        \t\t-9.845\tdog\n",
      "10.\t\t-9.732\tfood                          \t\t-9.616\tdont\n",
      "11.\t\t-9.654\tget                           \t\t-9.870\teat\n",
      "12.\t\t-9.634\tgood                          \t\t-9.717\teven\n",
      "13.\t\t-10.489\tgreat                         \t\t-9.313\tflavor\n",
      "14.\t\t-8.958\tlike                          \t\t-9.732\tfood\n",
      "15.\t\t-10.394\tlittl                         \t\t-9.654\tget\n",
      "16.\t\t-10.152\tlove                          \t\t-9.634\tgood\n",
      "17.\t\t-10.050\tmake                          \t\t-8.958\tlike\n",
      "18.\t\t-9.850\tmuch                          \t\t-9.858\tlook\n",
      "19.\t\t-9.333\tone                           \t\t-9.872\tmoney\n",
      "20.\t\t-9.433\torder                         \t\t-9.850\tmuch\n",
      "21.\t\t-10.043\tprice                         \t\t-9.333\tone\n",
      "22.\t\t-8.953\tproduct                       \t\t-9.433\torder\n",
      "23.\t\t-9.885\trealli                        \t\t-9.819\tpackag\n",
      "24.\t\t-10.292\tstore                         \t\t-8.953\tproduct\n",
      "25.\t\t-8.821\ttast                          \t\t-9.843\tpurchas\n",
      "26.\t\t-9.633\ttea                           \t\t-8.821\ttast\n",
      "27.\t\t-9.904\ttime                          \t\t-9.633\ttea\n",
      "28.\t\t-9.433\ttri                           \t\t-9.433\ttri\n",
      "29.\t\t-9.659\tuse                           \t\t-9.659\tuse\n",
      "30.\t\t-9.295\twould                         \t\t-9.295\twould\n"
     ]
    }
   ],
   "source": [
    "show_30_informative_feature(vectorizer_tfidf,model_New_Tfidf1)"
   ]
  },
  {
   "cell_type": "markdown",
   "metadata": {},
   "source": [
    "# Conclusion :"
   ]
  },
  {
   "cell_type": "markdown",
   "metadata": {},
   "source": [
    "#### 1.Report On Different Vectorizer Method"
   ]
  },
  {
   "cell_type": "code",
   "execution_count": 1,
   "metadata": {},
   "outputs": [
    {
     "name": "stdout",
     "output_type": "stream",
     "text": [
      "+------------+-----------------------+-----------+----------+----------+\n",
      "| Vectorizer | Hyperparameter(Alpha) | Train AUC | Test AUC | F1-Score |\n",
      "+------------+-----------------------+-----------+----------+----------+\n",
      "|    BOW     |          0.05         |    0.95   |   0.93   |   0.83   |\n",
      "|   TF-IDF   |          0.1          |    0.95   |   0.91   |   0.84   |\n",
      "+------------+-----------------------+-----------+----------+----------+\n"
     ]
    }
   ],
   "source": [
    "from prettytable import PrettyTable\n",
    "    \n",
    "x = PrettyTable()\n",
    "\n",
    "x.field_names = [\"Vectorizer\", \"Hyperparameter(Alpha)\", \"Train AUC\",\"Test AUC\",\"F1-Score\"]\n",
    "\n",
    "x.add_row([\"BOW\",0.05,0.95,0.93,0.83])\n",
    "x.add_row([\"TF-IDF\",0.1,0.95,0.91,0.84])\n",
    "\n",
    "print(x)"
   ]
  },
  {
   "cell_type": "markdown",
   "metadata": {
    "collapsed": true
   },
   "source": [
    "#### 2.Report On Different Vectorizer Method After Addition Of Length as another Column"
   ]
  },
  {
   "cell_type": "code",
   "execution_count": 2,
   "metadata": {},
   "outputs": [
    {
     "name": "stdout",
     "output_type": "stream",
     "text": [
      "+------------+-----------------------+-----------+----------+----------+\n",
      "| Vectorizer | Hyperparameter(Alpha) | Train AUC | Test AUC | F1-Score |\n",
      "+------------+-----------------------+-----------+----------+----------+\n",
      "|    BOW     |          0.05         |    0.94   |   0.92   |   0.83   |\n",
      "|   TF-IDF   |          0.05         |    0.95   |   0.91   |   0.84   |\n",
      "+------------+-----------------------+-----------+----------+----------+\n"
     ]
    }
   ],
   "source": [
    "from prettytable import PrettyTable\n",
    "    \n",
    "x = PrettyTable()\n",
    "\n",
    "x.field_names = [\"Vectorizer\", \"Hyperparameter(Alpha)\", \"Train AUC\",\"Test AUC\",\"F1-Score\"]\n",
    "\n",
    "x.add_row([\"BOW\",0.05,0.94,0.92,0.83])\n",
    "x.add_row([\"TF-IDF\",0.05,0.95,0.91,0.84])\n",
    "\n",
    "print(x)"
   ]
  },
  {
   "cell_type": "markdown",
   "metadata": {},
   "source": [
    "#### 3. I have taken considerable amount of data but it did not take long time in execution .\n",
    "#### 4. Since data is unbalanced , i did time based splitting and used roc_auc metric as scoring parameter in GridsearchCV .\n",
    "#### 5. After adding Length as another column , there is no any improvement."
   ]
  }
 ],
 "metadata": {
  "kernelspec": {
   "display_name": "Python 3",
   "language": "python",
   "name": "python3"
  },
  "language_info": {
   "codemirror_mode": {
    "name": "ipython",
    "version": 3
   },
   "file_extension": ".py",
   "mimetype": "text/x-python",
   "name": "python",
   "nbconvert_exporter": "python",
   "pygments_lexer": "ipython3",
   "version": "3.6.2"
  }
 },
 "nbformat": 4,
 "nbformat_minor": 2
}
