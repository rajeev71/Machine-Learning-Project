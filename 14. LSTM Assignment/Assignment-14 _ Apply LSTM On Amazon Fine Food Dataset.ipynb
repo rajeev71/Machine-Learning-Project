{
 "cells": [
  {
   "cell_type": "markdown",
   "metadata": {
    "colab_type": "text",
    "id": "kbgsbzIxra0O"
   },
   "source": [
    "**1.0 Importing Required Library**"
   ]
  },
  {
   "cell_type": "code",
   "execution_count": 0,
   "metadata": {
    "colab": {
     "base_uri": "https://localhost:8080/",
     "height": 34
    },
    "colab_type": "code",
    "executionInfo": {
     "elapsed": 3478,
     "status": "ok",
     "timestamp": 1566630948912,
     "user": {
      "displayName": "Rajeev Kumar",
      "photoUrl": "https://lh3.googleusercontent.com/a-/AAuE7mD1577_cBp9rcrzqGd-HgOgnI9b90b4sZJizE-xjg=s64",
      "userId": "01808597093748562717"
     },
     "user_tz": -330
    },
    "id": "5xspl2-1q_cQ",
    "outputId": "c001f681-5591-4f51-bf25-fc5c85a335dd"
   },
   "outputs": [
    {
     "name": "stderr",
     "output_type": "stream",
     "text": [
      "Using TensorFlow backend.\n"
     ]
    }
   ],
   "source": [
    "import os\n",
    "import numpy as np\n",
    "import pandas as pd\n",
    "import sqlite3\n",
    "\n",
    "from collections import Counter\n",
    "from keras.datasets import imdb\n",
    "from keras.models import Sequential\n",
    "from keras.layers import Dense, Dropout, BatchNormalization\n",
    "from keras.layers import LSTM\n",
    "from keras.layers.embeddings import Embedding\n",
    "from keras.preprocessing import sequence\n",
    "\n",
    "from matplotlib import pyplot as plt\n",
    "from prettytable import PrettyTable"
   ]
  },
  {
   "cell_type": "markdown",
   "metadata": {
    "colab_type": "text",
    "id": "zts0HJEgribe"
   },
   "source": [
    "**2.0 Importing DataSet**"
   ]
  },
  {
   "cell_type": "code",
   "execution_count": 0,
   "metadata": {
    "colab": {
     "base_uri": "https://localhost:8080/",
     "height": 122
    },
    "colab_type": "code",
    "executionInfo": {
     "elapsed": 25802,
     "status": "ok",
     "timestamp": 1566630971252,
     "user": {
      "displayName": "Rajeev Kumar",
      "photoUrl": "https://lh3.googleusercontent.com/a-/AAuE7mD1577_cBp9rcrzqGd-HgOgnI9b90b4sZJizE-xjg=s64",
      "userId": "01808597093748562717"
     },
     "user_tz": -330
    },
    "id": "-GcdhvmTrr7I",
    "outputId": "9983d79c-ca58-4573-ff62-1f8737f92b66"
   },
   "outputs": [
    {
     "name": "stdout",
     "output_type": "stream",
     "text": [
      "Go to this URL in a browser: https://accounts.google.com/o/oauth2/auth?client_id=947318989803-6bn6qk8qdgf4n4g3pfee6491hc0brc4i.apps.googleusercontent.com&redirect_uri=urn%3Aietf%3Awg%3Aoauth%3A2.0%3Aoob&scope=email%20https%3A%2F%2Fwww.googleapis.com%2Fauth%2Fdocs.test%20https%3A%2F%2Fwww.googleapis.com%2Fauth%2Fdrive%20https%3A%2F%2Fwww.googleapis.com%2Fauth%2Fdrive.photos.readonly%20https%3A%2F%2Fwww.googleapis.com%2Fauth%2Fpeopleapi.readonly&response_type=code\n",
      "\n",
      "Enter your authorization code:\n",
      "··········\n",
      "Mounted at /content/drive\n"
     ]
    }
   ],
   "source": [
    "from google.colab import drive\n",
    "drive.mount('/content/drive')"
   ]
  },
  {
   "cell_type": "code",
   "execution_count": 0,
   "metadata": {
    "colab": {},
    "colab_type": "code",
    "id": "mRDHXmIjrWQ5"
   },
   "outputs": [],
   "source": [
    "if os.path.isfile(\"/content/drive/My Drive/Colab Notebooks/final.sqlite\"):\n",
    "    conn=sqlite3.connect(\"/content/drive/My Drive/Colab Notebooks/final.sqlite\")\n",
    "    Data=pd.read_sql_query(\"select * from Reviews where Score!=3\",conn)\n",
    "    conn.close()\n",
    "else :\n",
    "    print(\"Error Importing the file\")"
   ]
  },
  {
   "cell_type": "code",
   "execution_count": 0,
   "metadata": {
    "colab": {},
    "colab_type": "code",
    "id": "ONlGuV4cey6z"
   },
   "outputs": [],
   "source": [
    "Data=Data.sample(100000)"
   ]
  },
  {
   "cell_type": "code",
   "execution_count": 0,
   "metadata": {
    "colab": {
     "base_uri": "https://localhost:8080/",
     "height": 335
    },
    "colab_type": "code",
    "executionInfo": {
     "elapsed": 2232,
     "status": "ok",
     "timestamp": 1566630996692,
     "user": {
      "displayName": "Rajeev Kumar",
      "photoUrl": "https://lh3.googleusercontent.com/a-/AAuE7mD1577_cBp9rcrzqGd-HgOgnI9b90b4sZJizE-xjg=s64",
      "userId": "01808597093748562717"
     },
     "user_tz": -330
    },
    "id": "cvKzOcFpsETY",
    "outputId": "8edaf698-0f5e-425f-da10-fd0a44373944"
   },
   "outputs": [
    {
     "data": {
      "text/html": [
       "<div>\n",
       "<style scoped>\n",
       "    .dataframe tbody tr th:only-of-type {\n",
       "        vertical-align: middle;\n",
       "    }\n",
       "\n",
       "    .dataframe tbody tr th {\n",
       "        vertical-align: top;\n",
       "    }\n",
       "\n",
       "    .dataframe thead th {\n",
       "        text-align: right;\n",
       "    }\n",
       "</style>\n",
       "<table border=\"1\" class=\"dataframe\">\n",
       "  <thead>\n",
       "    <tr style=\"text-align: right;\">\n",
       "      <th></th>\n",
       "      <th>index</th>\n",
       "      <th>Id</th>\n",
       "      <th>ProductId</th>\n",
       "      <th>UserId</th>\n",
       "      <th>ProfileName</th>\n",
       "      <th>HelpfulnessNumerator</th>\n",
       "      <th>HelpfulnessDenominator</th>\n",
       "      <th>Score</th>\n",
       "      <th>Time</th>\n",
       "      <th>Summary</th>\n",
       "      <th>Text</th>\n",
       "      <th>CleanedText</th>\n",
       "    </tr>\n",
       "  </thead>\n",
       "  <tbody>\n",
       "    <tr>\n",
       "      <th>355679</th>\n",
       "      <td>466759</td>\n",
       "      <td>504717</td>\n",
       "      <td>B007I7YZJK</td>\n",
       "      <td>A27ULPK1RGCNU6</td>\n",
       "      <td>Picky CO Mom</td>\n",
       "      <td>2</td>\n",
       "      <td>3</td>\n",
       "      <td>0</td>\n",
       "      <td>1333929600</td>\n",
       "      <td>not a fan</td>\n",
       "      <td>I was trying all of the honey tea flavors that...</td>\n",
       "      <td>tri honey tea flavor came fan one two tri actu...</td>\n",
       "    </tr>\n",
       "    <tr>\n",
       "      <th>157277</th>\n",
       "      <td>216333</td>\n",
       "      <td>234436</td>\n",
       "      <td>B001BDI0QQ</td>\n",
       "      <td>AN5T6MAD6FC5I</td>\n",
       "      <td>Legal&amp;Sane</td>\n",
       "      <td>0</td>\n",
       "      <td>0</td>\n",
       "      <td>1</td>\n",
       "      <td>1331769600</td>\n",
       "      <td>Kitties love it and a lot less expensive than ...</td>\n",
       "      <td>One of the kitties has a very sensitive tummy,...</td>\n",
       "      <td>one kitti sensit tummi spend quit bit money me...</td>\n",
       "    </tr>\n",
       "  </tbody>\n",
       "</table>\n",
       "</div>"
      ],
      "text/plain": [
       "         index  ...                                        CleanedText\n",
       "355679  466759  ...  tri honey tea flavor came fan one two tri actu...\n",
       "157277  216333  ...  one kitti sensit tummi spend quit bit money me...\n",
       "\n",
       "[2 rows x 12 columns]"
      ]
     },
     "execution_count": 5,
     "metadata": {
      "tags": []
     },
     "output_type": "execute_result"
    }
   ],
   "source": [
    "Data.head(2)"
   ]
  },
  {
   "cell_type": "code",
   "execution_count": 0,
   "metadata": {
    "colab": {},
    "colab_type": "code",
    "id": "BddSE3xhstMR"
   },
   "outputs": [],
   "source": [
    "from sklearn.model_selection import train_test_split\n",
    "\n",
    "X_train,X_test,Y_train,Y_test = train_test_split(Data['CleanedText'],Data['Score'],test_size=0.33)"
   ]
  },
  {
   "cell_type": "code",
   "execution_count": 0,
   "metadata": {
    "colab": {
     "base_uri": "https://localhost:8080/",
     "height": 102
    },
    "colab_type": "code",
    "executionInfo": {
     "elapsed": 810,
     "status": "ok",
     "timestamp": 1566631007840,
     "user": {
      "displayName": "Rajeev Kumar",
      "photoUrl": "https://lh3.googleusercontent.com/a-/AAuE7mD1577_cBp9rcrzqGd-HgOgnI9b90b4sZJizE-xjg=s64",
      "userId": "01808597093748562717"
     },
     "user_tz": -330
    },
    "id": "y6yIeyEOs_YJ",
    "outputId": "42655def-6530-43d3-8482-0cc7526d3f86"
   },
   "outputs": [
    {
     "name": "stdout",
     "output_type": "stream",
     "text": [
      "Train Data Shape \n",
      "(67000,) (67000,)\n",
      "\n",
      "Test Data Shape \n",
      "(33000,) (33000,)\n"
     ]
    }
   ],
   "source": [
    "print(\"Train Data Shape \")\n",
    "print(X_train.shape,Y_train.shape)\n",
    "\n",
    "print(\"\\nTest Data Shape \")\n",
    "print(X_test.shape,Y_test.shape)"
   ]
  },
  {
   "cell_type": "markdown",
   "metadata": {
    "colab_type": "text",
    "id": "zu4VYTOjx904"
   },
   "source": [
    "**3.0 Text Preprocessing**\n",
    "    \n",
    "     These Function basically prepares the data to be loaded and processed similar to IMDB data in datasets.\n",
    "    1. A Vocabulary is created with all the words and it's Frequencies.\n",
    "    2. Top 'num_words' are selected and another dictionary 'word_idx' is created to store the ranks of the corresponding words.\n",
    "    3. Finally, train and test data (x's & y's) are returned to the caller."
   ]
  },
  {
   "cell_type": "code",
   "execution_count": 0,
   "metadata": {
    "colab": {},
    "colab_type": "code",
    "id": "ayJx6WisuEQ5"
   },
   "outputs": [],
   "source": [
    "vocab = Counter()\n",
    "word_idx = dict()\n",
    "\n",
    "\n",
    "def load_data(X_train , X_test, num_words=5000):\n",
    "    cnt=1\n",
    "    max_sent_len = 0    \n",
    "   \n",
    "    for review in X_train:\n",
    "        if len(review.split()) > max_sent_len:\n",
    "            max_sent_len = len(review.split())\n",
    "        for word in review.split():\n",
    "            vocab[word] += 1\n",
    "\n",
    "    for x,y in vocab.most_common(num_words):\n",
    "        word_idx[x] = cnt\n",
    "        cnt += 1\n",
    "    \n",
    "    def transform_data(data):\n",
    "        data_idx = []\n",
    "        for review in data:\n",
    "            temp_idx = []\n",
    "            for word in review.split():\n",
    "                if 0 < word_idx.get(word, 0) <= num_words:\n",
    "                    temp_idx.append(word_idx[word])\n",
    "            data_idx.append(temp_idx)\n",
    "\n",
    "        return data_idx\n",
    "        \n",
    "    x_train = transform_data(X_train)\n",
    "    x_test = transform_data(X_test)\n",
    "    \n",
    "    return x_train , x_test"
   ]
  },
  {
   "cell_type": "code",
   "execution_count": 0,
   "metadata": {
    "colab": {
     "base_uri": "https://localhost:8080/",
     "height": 51
    },
    "colab_type": "code",
    "executionInfo": {
     "elapsed": 3865,
     "status": "ok",
     "timestamp": 1566631015193,
     "user": {
      "displayName": "Rajeev Kumar",
      "photoUrl": "https://lh3.googleusercontent.com/a-/AAuE7mD1577_cBp9rcrzqGd-HgOgnI9b90b4sZJizE-xjg=s64",
      "userId": "01808597093748562717"
     },
     "user_tz": -330
    },
    "id": "B-ILK3sT2PZ_",
    "outputId": "97acb07e-8ac5-4f2d-faaf-62e843350e2f"
   },
   "outputs": [
    {
     "name": "stdout",
     "output_type": "stream",
     "text": [
      "CPU times: user 3.03 s, sys: 16.2 ms, total: 3.05 s\n",
      "Wall time: 3.07 s\n"
     ]
    }
   ],
   "source": [
    "%%time\n",
    "num_words = 5000\n",
    "x_train ,x_test = load_data(X_train , X_test,num_words=num_words)"
   ]
  },
  {
   "cell_type": "code",
   "execution_count": 0,
   "metadata": {
    "colab": {
     "base_uri": "https://localhost:8080/",
     "height": 122
    },
    "colab_type": "code",
    "executionInfo": {
     "elapsed": 915,
     "status": "ok",
     "timestamp": 1566631016811,
     "user": {
      "displayName": "Rajeev Kumar",
      "photoUrl": "https://lh3.googleusercontent.com/a-/AAuE7mD1577_cBp9rcrzqGd-HgOgnI9b90b4sZJizE-xjg=s64",
      "userId": "01808597093748562717"
     },
     "user_tz": -330
    },
    "id": "EB8VXIwP2WW8",
    "outputId": "1e4472b4-e498-4428-c5e0-26c0004aab4c"
   },
   "outputs": [
    {
     "name": "stdout",
     "output_type": "stream",
     "text": [
      "Most Common Words :-\n",
      "[('like', 31265), ('tast', 29754), ('flavor', 23963), ('good', 23443), ('use', 21977), ('product', 21751), ('one', 21464), ('love', 21150), ('great', 20291), ('tri', 19375)]\n",
      "\n",
      "Word Ranks :-\n",
      "{'like': 1, 'tast': 2, 'flavor': 3, 'good': 4, 'use': 5, 'product': 6, 'one': 7, 'love': 8, 'great': 9, 'tri': 10, 'tea': 11, 'coffe': 12, 'make': 13, 'get': 14, 'food': 15, 'would': 16, 'buy': 17, 'time': 18, 'realli': 19, 'eat': 20, 'amazon': 21, 'order': 22, 'dont': 23, 'much': 24, 'price': 25, 'also': 26, 'find': 27, 'littl': 28, 'bag': 29, 'dog': 30, 'even': 31, 'best': 32, 'drink': 33, 'well': 34, 'store': 35, 'ive': 36, 'better': 37, 'chocol': 38, 'mix': 39, 'box': 40, 'day': 41, 'water': 42, 'recommend': 43, 'year': 44, 'look': 45, 'sugar': 46, 'sweet': 47, 'first': 48, 'want': 49, 'give': 50, 'packag': 51, 'cup': 52, 'brand': 53, 'purchas': 54, 'found': 55, 'think': 56, 'work': 57, 'high': 58, 'made': 59, 'way': 60, 'bought': 61, 'treat': 62, 'enjoy': 63, 'say': 64, 'need': 65, 'delici': 66, 'know': 67, 'nice': 68, 'thing': 69, 'two': 70, 'differ': 71, 'review': 72, 'sinc': 73, 'could': 74, 'bit': 75, 'cat': 76, 'add': 77, 'pack': 78, 'favorit': 79, 'lot': 80, 'still': 81, 'keep': 82, 'mani': 83, 'come': 84, 'cant': 85, 'perfect': 86, 'snack': 87, 'never': 88, 'stuff': 89, 'hot': 90, 'got': 91, 'take': 92, 'milk': 93, 'ingredi': 94, 'free': 95, 'oil': 96, 'ship': 97, 'fresh': 98, 'put': 99, 'sauc': 100, 'everi': 101, 'bar': 102, 'cooki': 103, 'someth': 104, 'without': 105, 'seem': 106, 'alway': 107, 'organ': 108, 'right': 109, 'wonder': 110, 'local': 111, 'ever': 112, 'didnt': 113, 'qualiti': 114, 'natur': 115, 'easi': 116, 'back': 117, 'less': 118, 'doesnt': 119, 'contain': 120, 'cook': 121, 'enough': 122, 'dri': 123, 'last': 124, 'smell': 125, 'bottl': 126, 'hard': 127, 'sure': 128, 'healthi': 129, 'see': 130, 'regular': 131, 'small': 132, 'long': 133, 'definit': 134, 'month': 135, 'whole': 136, 'calori': 137, 'feel': 138, 'salt': 139, 'green': 140, 'ad': 141, 'candi': 142, 'bad': 143, 'size': 144, 'howev': 145, 'actual': 146, 'open': 147, 'though': 148, 'old': 149, 'start': 150, 'serv': 151, 'far': 152, 'happi': 153, 'quick': 154, 'problem': 155, 'help': 156, 'tasti': 157, 'bean': 158, 'strong': 159, 'quit': 160, 'thought': 161, 'pretti': 162, 'butter': 163, 'excel': 164, 'item': 165, 'thank': 166, 'cereal': 167, 'big': 168, 'fruit': 169, 'new': 170, 'go': 171, 'peopl': 172, 'rice': 173, 'anoth': 174, 'usual': 175, 'textur': 176, 'chicken': 177, 'receiv': 178, 'groceri': 179, 'arriv': 180, 'diet': 181, 'almost': 182, 'real': 183, 'coconut': 184, 'famili': 185, 'per': 186, 'may': 187, 'amount': 188, 'anyth': 189, 'chip': 190, 'kid': 191, 'worth': 192, 'week': 193, 'save': 194, 'around': 195, 'blend': 196, 'friend': 197, 'sever': 198, 'can': 199, 'compani': 200, 'expens': 201, 'low': 202, 'star': 203, 'ice': 204, 'peanut': 205, 'case': 206, 'fat': 207, 'expect': 208, 'came': 209, 'disappoint': 210, 'kind': 211, 'that': 212, 'bread': 213, 'top': 214, 'varieti': 215, 'vanilla': 216, 'chew': 217, 'light': 218, 'morn': 219, 'dark': 220, 'away': 221, 'roast': 222, 'soup': 223, 'reason': 224, 'minut': 225, 'recip': 226, 'bake': 227, 'avail': 228, 'half': 229, 'read': 230, 'said': 231, 'prefer': 232, 'full': 233, 'chees': 234, 'home': 235, 'pleas': 236, 'spice': 237, 'powder': 238, 'gluten': 239, 'piec': 240, 'meal': 241, 'honey': 242, 'wont': 243, 'bitter': 244, 'hope': 245, 'cost': 246, 'probabl': 247, 'black': 248, 'health': 249, 'protein': 250, 'brew': 251, 'theyr': 252, 'absolut': 253, 'gift': 254, 'leav': 255, 'juic': 256, 'might': 257, 'abl': 258, 'husband': 259, 'ill': 260, 'let': 261, 'your': 262, 'syrup': 263, 'decid': 264, 'especi': 265, 'noth': 266, 'money': 267, 'hand': 268, 'nut': 269, 'amaz': 270, 'fill': 271, 'pasta': 272, 'deal': 273, 'cream': 274, 'instead': 275, 'type': 276, 'white': 277, 'isnt': 278, 'larg': 279, 'fact': 280, 'sweeten': 281, 'three': 282, 'place': 283, 'care': 284, 'carri': 285, 'jar': 286, 'compar': 287, 'surpris': 288, 'breakfast': 289, 'fine': 290, 'wish': 291, 'chang': 292, 'extra': 293, 'cracker': 294, 'second': 295, 'end': 296, 'smooth': 297, 'next': 298, 'live': 299, 'notic': 300, 'least': 301, 'color': 302, 'packet': 303, 'gave': 304, 'run': 305, 'corn': 306, 'red': 307, 'hous': 308, 'went': 309, 'call': 310, 'coupl': 311, 'mayb': 312, 'either': 313, 'list': 314, 'noodl': 315, 'market': 316, 'babi': 317, 'other': 318, 'feed': 319, 'ago': 320, 'season': 321, 'hair': 322, 'meat': 323, 'soft': 324, 'cheaper': 325, 'rich': 326, 'longer': 327, 'slight': 328, 'fast': 329, 'must': 330, 'stick': 331, 'popcorn': 332, 'turn': 333, 'seed': 334, 'satisfi': 335, 'yet': 336, 'includ': 337, 'although': 338, 'stop': 339, 'tell': 340, 'spici': 341, 'past': 342, 'side': 343, 'everyth': 344, 'glad': 345, 'els': 346, 'etc': 347, 'wasnt': 348, 'energi': 349, 'anyon': 350, 'plus': 351, 'hour': 352, 'addit': 353, 'heat': 354, 'normal': 355, 'person': 356, 'cake': 357, 'almond': 358, 'part': 359, 'sell': 360, 'total': 361, 'couldnt': 362, 'fan': 363, 'took': 364, 'offer': 365, 'pepper': 366, 'mouth': 367, 'version': 368, 'pay': 369, 'origin': 370, 'recent': 371, 'son': 372, 'believ': 373, 'weight': 374, 'cut': 375, 'wheat': 376, 'flour': 377, 'experi': 378, 'issu': 379, 'cinnamon': 380, 'cold': 381, 'dish': 382, 'conveni': 383, 'exact': 384, 'bowl': 385, 'clean': 386, 'rather': 387, 'youll': 388, 'direct': 389, 'gum': 390, 'sometim': 391, 'valu': 392, 'ginger': 393, 'everyon': 394, 'plastic': 395, 'onlin': 396, 'yummi': 397, 'pound': 398, 'bite': 399, 'appl': 400, 'brown': 401, 'altern': 402, 'label': 403, 'consist': 404, 'choic': 405, 'fiber': 406, 'often': 407, 'crunchi': 408, 'oatmeal': 409, 'base': 410, 'super': 411, 'goe': 412, 'close': 413, 'result': 414, 'machin': 415, 'grain': 416, 'lemon': 417, 'daughter': 418, 'stock': 419, 'complet': 420, 'mean': 421, 'wait': 422, 'date': 423, 'awesom': 424, 'salad': 425, 'havent': 426, 'wife': 427, 'wouldnt': 428, 'ounc': 429, 'life': 430, 'oliv': 431, 'soda': 432, 'ground': 433, 'night': 434, 'artifici': 435, 'potato': 436, 'nutrit': 437, 'cannot': 438, 'guess': 439, 'pod': 440, 'near': 441, 'pop': 442, 'easili': 443, 'caffein': 444, 'special': 445, 'continu': 446, 'set': 447, 'instant': 448, 'starbuck': 449, 'bodi': 450, 'ask': 451, 'carb': 452, 'final': 453, 'soy': 454, 'stay': 455, 'formula': 456, 'pick': 457, 'prepar': 458, 'vitamin': 459, 'switch': 460, 'line': 461, 'cocoa': 462, 'consid': 463, 'egg': 464, 'left': 465, 'teeth': 466, 'subscrib': 467, 'certain': 468, 'replac': 469, 'similar': 470, 'shop': 471, 'process': 472, 'finish': 473, 'orang': 474, 'simpli': 475, 'wrong': 476, 'beef': 477, 'smaller': 478, 'salti': 479, 'cours': 480, 'particular': 481, 'effect': 482, 'content': 483, 'pet': 484, 'sodium': 485, 'pleasant': 486, 'option': 487, 'addict': 488, 'aroma': 489, 'insid': 490, 'custom': 491, 'becom': 492, 'deliv': 493, 'suggest': 494, 'plain': 495, 'overal': 496, 'combin': 497, 'wast': 498, 'state': 499, 'there': 500, 'mild': 501, 'four': 502, 'fair': 503, 'glass': 504, 'veget': 505, 'rememb': 506, 'french': 507, 'servic': 508, 'check': 509, 'cherri': 510, 'alreadi': 511, 'huge': 512, 'sit': 513, 'fish': 514, 'pour': 515, 'fantast': 516, 'name': 517, 'search': 518, 'decaf': 519, 'coat': 520, 'espresso': 521, 'daili': 522, 'someon': 523, 'ate': 524, 'except': 525, 'extrem': 526, 'clear': 527, 'saw': 528, 'rate': 529, 'acid': 530, 'return': 531, 'tomato': 532, 'lunch': 533, 'yes': 534, 'deliveri': 535, 'pure': 536, 'keurig': 537, 'along': 538, 'stomach': 539, 'pot': 540, 'point': 541, 'aftertast': 542, 'idea': 543, 'due': 544, 'skin': 545, 'singl': 546, 'follow': 547, 'benefit': 548, 'note': 549, 'chewi': 550, 'caus': 551, 'gone': 552, 'individu': 553, 'throw': 554, 'raw': 555, 'bulk': 556, 'microwav': 557, 'bring': 558, 'later': 559, 'excit': 560, 'mine': 561, 'done': 562, 'thick': 563, 'melt': 564, 'eaten': 565, 'com': 566, 'granola': 567, 'creami': 568, 'bold': 569, 'entir': 570, 'batch': 571, 'given': 572, 'suppos': 573, 'seller': 574, 'liquid': 575, 'anyway': 576, 'gram': 577, 'christma': 578, 'larger': 579, 'unfortun': 580, 'break': 581, 'mention': 582, 'substitut': 583, 'mind': 584, 'rest': 585, 'drop': 586, 'today': 587, 'mint': 588, 'miss': 589, 'bottom': 590, 'soon': 591, 'hit': 592, 'sold': 593, 'allergi': 594, 'maker': 595, 'provid': 596, 'chai': 597, 'plan': 598, 'chili': 599, 'consum': 600, 'area': 601, 'impress': 602, 'vet': 603, 'strawberri': 604, 'arent': 605, 'discov': 606, 'seal': 607, 'wrap': 608, 'dinner': 609, 'oat': 610, 'world': 611, 'hold': 612, 'happen': 613, 'import': 614, 'true': 615, 'blue': 616, 'plant': 617, 'sent': 618, 'bone': 619, 'share': 620, 'balanc': 621, 'veggi': 622, 'five': 623, 'produc': 624, 'beat': 625, 'general': 626, 'sale': 627, 'healthier': 628, 'warm': 629, 'picki': 630, 'hint': 631, 'opinion': 632, 'cheap': 633, 'refresh': 634, 'thin': 635, 'within': 636, 'cover': 637, 'difficult': 638, 'figur': 639, 'truli': 640, 'crave': 641, 'told': 642, 'pancak': 643, 'togeth': 644, 'level': 645, 'garlic': 646, 'chemic': 647, 'sour': 648, 'show': 649, 'sampl': 650, 'fit': 651, 'worri': 652, 'possibl': 653, 'lower': 654, 'restaur': 655, 'pouch': 656, 'roll': 657, 'watch': 658, 'delight': 659, 'boil': 660, 'supermarket': 661, 'condit': 662, 'interest': 663, 'medium': 664, 'shake': 665, 'hate': 666, 'weve': 667, 'test': 668, 'crunch': 669, 'easier': 670, 'shipment': 671, 'pictur': 672, 'twice': 673, 'seen': 674, 'jerki': 675, 'kitchen': 676, 'tuna': 677, 'sourc': 678, 'caramel': 679, 'shape': 680, 'slice': 681, 'berri': 682, 'none': 683, 'immedi': 684, 'fri': 685, 'beauti': 686, 'mom': 687, 'simpl': 688, 'dress': 689, 'matter': 690, 'onion': 691, 'gummi': 692, 'pill': 693, 'yogurt': 694, 'toy': 695, 'allow': 696, 'stevia': 697, 'short': 698, 'unless': 699, 'blueberri': 700, 'research': 701, 'realiz': 702, 'digest': 703, 'expir': 704, 'loos': 705, 'beverag': 706, 'banana': 707, 'avoid': 708, 'pumpkin': 709, 'anywher': 710, 'shampoo': 711, 'terribl': 712, 'agre': 713, 'busi': 714, 'lover': 715, 'spoon': 716, 'felt': 717, 'tend': 718, 'unlik': 719, 'describ': 720, 'manufactur': 721, 'descript': 722, 'toast': 723, 'sort': 724, 'complaint': 725, 'concern': 726, 'readi': 727, 'raisin': 728, 'cool': 729, 'send': 730, 'websit': 731, 'mess': 732, 'grow': 733, 'anymor': 734, 'fun': 735, 'licoric': 736, 'dollar': 737, 'preserv': 738, 'tradit': 739, 'salmon': 740, 'wow': 741, 'previous': 742, 'requir': 743, 'overpow': 744, 'stale': 745, 'broken': 746, 'extract': 747, 'hook': 748, 'sandwich': 749, 'serious': 750, 'diabet': 751, 'basic': 752, 'drinker': 753, 'weak': 754, 'refriger': 755, 'stir': 756, 'tini': 757, 'perhap': 758, 'heavi': 759, 'six': 760, 'spread': 761, 'dip': 762, 'stand': 763, 'remov': 764, 'control': 765, 'puppi': 766, 'decent': 767, 'horribl': 768, 'improv': 769, 'kick': 770, 'whatev': 771, 'yum': 772, 'imagin': 773, 'remind': 774, 'form': 775, 'typic': 776, 'touch': 777, 'wine': 778, 'move': 779, 'instruct': 780, 'sensit': 781, 'word': 782, 'most': 783, 'number': 784, 'peach': 785, 'honest': 786, 'crisp': 787, 'forward': 788, 'higher': 789, 'italian': 790, 'futur': 791, 'curri': 792, 'children': 793, 'travel': 794, 'quantiti': 795, 'homemad': 796, 'trip': 797, 'doubl': 798, 'blood': 799, 'tart': 800, 'learn': 801, 'tin': 802, 'gourmet': 803, 'standard': 804, 'bland': 805, 'moist': 806, 'suppli': 807, 'aw': 808, 'pizza': 809, 'portion': 810, 'advertis': 811, 'main': 812, 'mountain': 813, 'knew': 814, 'splenda': 815, 'vinegar': 816, 'paid': 817, 'job': 818, 'offic': 819, 'burn': 820, 'reduc': 821, 'raspberri': 822, 'summer': 823, 'heard': 824, 'straight': 825, 'relat': 826, 'grind': 827, 'count': 828, 'parti': 829, 'crazi': 830, 'lack': 831, 'somewhat': 832, 'appear': 833, 'tree': 834, 'sick': 835, 'comment': 836, 'across': 837, 'plenti': 838, 'room': 839, 'pricey': 840, 'site': 841, 'claim': 842, 'vegan': 843, 'shot': 844, 'dessert': 845, 'style': 846, 'write': 847, 'fall': 848, 'chanc': 849, 'otherwis': 850, 'pan': 851, 'shelf': 852, 'visit': 853, 'waffl': 854, 'scent': 855, 'sea': 856, 'mapl': 857, 'crystal': 858, 'appreci': 859, 'lose': 860, 'pie': 861, 'sprinkl': 862, 'hazelnut': 863, 'sound': 864, 'steep': 865, 'biscuit': 866, 'kept': 867, 'mother': 868, 'over': 869, 'wet': 870, 'tablespoon': 871, 'outsid': 872, 'china': 873, 'stronger': 874, 'spend': 875, 'lid': 876, 'trap': 877, 'creat': 878, 'age': 879, 'subtl': 880, 'american': 881, 'uniqu': 882, 'incred': 883, 'brought': 884, 'limit': 885, 'chunk': 886, 'pork': 887, 'increas': 888, 'solid': 889, 'herb': 890, 'late': 891, 'browni': 892, 'present': 893, 'fridg': 894, 'worst': 895, 'costco': 896, 'mustard': 897, 'concentr': 898, 'frozen': 899, 'subscript': 900, 'system': 901, 'flake': 902, 'select': 903, 'door': 904, 'mango': 905, 'premium': 906, 'wash': 907, 'train': 908, 'obvious': 909, 'hes': 910, 'ball': 911, 'various': 912, 'paper': 913, 'understand': 914, 'alon': 915, 'safe': 916, 'teaspoon': 917, 'jelli': 918, 'adult': 919, 'inform': 920, 'damag': 921, 'bear': 922, 'thrill': 923, 'supplement': 924, 'equal': 925, 'admit': 926, 'eye': 927, 'latt': 928, 'truffl': 929, 'broth': 930, 'afford': 931, 'prompt': 932, 'lost': 933, 'leaf': 934, 'upon': 935, 'grab': 936, 'pass': 937, 'crispi': 938, 'creamer': 939, 'flower': 940, 'youv': 941, 'smoke': 942, 'okay': 943, 'sorri': 944, 'fix': 945, 'boost': 946, 'smoothi': 947, 'eater': 948, 'shes': 949, 'mill': 950, 'everyday': 951, 'known': 952, 'liter': 953, 'grill': 954, 'design': 955, 'poor': 956, 'power': 957, 'shell': 958, 'prime': 959, 'pain': 960, 'basket': 961, 'child': 962, 'stuck': 963, 'troubl': 964, 'air': 965, 'remain': 966, 'lime': 967, 'anim': 968, 'negat': 969, 'steak': 970, 'grey': 971, 'play': 972, 'charg': 973, 'peppermint': 974, 'current': 975, 'occasion': 976, 'overwhelm': 977, 'pea': 978, 'chop': 979, 'pantri': 980, 'measur': 981, 'contact': 982, 'wild': 983, 'filter': 984, 'handl': 985, 'boy': 986, 'kit': 987, 'sip': 988, 'whether': 989, 'holiday': 990, 'guy': 991, 'muffin': 992, 'crust': 993, 'afternoon': 994, 'flavour': 995, 'nasti': 996, 'pull': 997, 'apart': 998, 'tabl': 999, 'freez': 1000, 'heart': 1001, 'heaven': 1002, 'yeast': 1003, 'pocket': 1004, 'tire': 1005, 'third': 1006, 'major': 1007, 'breath': 1008, 'separ': 1009, 'head': 1010, 'sleep': 1011, 'gotten': 1012, 'litter': 1013, 'birthday': 1014, 'sticki': 1015, 'warn': 1016, 'walmart': 1017, 'depend': 1018, 'matcha': 1019, 'crumbl': 1020, 'weird': 1021, 'bunch': 1022, 'yellow': 1023, 'school': 1024, 'sad': 1025, 'freezer': 1026, 'intens': 1027, 'talk': 1028, 'farm': 1029, 'earl': 1030, 'face': 1031, 'carbon': 1032, 'beer': 1033, 'bother': 1034, 'turkey': 1035, 'cranberri': 1036, 'condition': 1037, 'wors': 1038, 'book': 1039, 'whenev': 1040, 'soak': 1041, 'post': 1042, 'gas': 1043, 'proper': 1044, 'threw': 1045, 'bacon': 1046, 'lbs': 1047, 'mocha': 1048, 'allerg': 1049, 'introduc': 1050, 'fabul': 1051, 'dissolv': 1052, 'grape': 1053, 'english': 1054, 'empti': 1055, 'dairi': 1056, 'what': 1057, 'usa': 1058, 'buck': 1059, 'car': 1060, 'zero': 1061, 'initi': 1062, 'guest': 1063, 'taco': 1064, 'stapl': 1065, 'mixtur': 1066, 'bud': 1067, 'drank': 1068, 'posit': 1069, 'rins': 1070, 'grew': 1071, 'dent': 1072, 'senseo': 1073, 'lol': 1074, 'kibbl': 1075, 'pretzel': 1076, 'toss': 1077, 'countri': 1078, 'cent': 1079, 'joe': 1080, 'mistak': 1081, 'nutti': 1082, 'winter': 1083, 'golden': 1084, 'squeez': 1085, 'strang': 1086, 'kitti': 1087, 'spot': 1088, 'odd': 1089, 'complain': 1090, 'begin': 1091, 'oven': 1092, 'scoop': 1093, 'herbal': 1094, 'root': 1095, 'bbq': 1096, 'load': 1097, 'graham': 1098, 'bigger': 1099, 'scratch': 1100, 'ton': 1101, 'press': 1102, 'sens': 1103, 'bare': 1104, 'newman': 1105, 'choos': 1106, 'older': 1107, 'vendor': 1108, 'scalp': 1109, 'fruiti': 1110, 'via': 1111, 'bob': 1112, 'indian': 1113, 'round': 1114, 'vegetarian': 1115, 'upset': 1116, 'trust': 1117, 'frost': 1118, 'refund': 1119, 'hesit': 1120, 'pump': 1121, 'lipton': 1122, 'mug': 1123, 'sprout': 1124, 'favor': 1125, 'girl': 1126, 'earth': 1127, 'gross': 1128, 'bill': 1129, 'human': 1130, 'accord': 1131, 'gold': 1132, 'assort': 1133, 'assum': 1134, 'updat': 1135, 'doctor': 1136, 'sardin': 1137, 'comparison': 1138, 'mail': 1139, 'moistur': 1140, 'brewer': 1141, 'respons': 1142, 'alot': 1143, 'doubt': 1144, 'fructos': 1145, 'sister': 1146, 'youd': 1147, 'intak': 1148, 'bubbl': 1149, 'folk': 1150, 'carrot': 1151, 'disgust': 1152, 'flax': 1153, 'cholesterol': 1154, 'manag': 1155, 'specif': 1156, 'leak': 1157, 'correct': 1158, 'averag': 1159, 'jam': 1160, 'mushroom': 1161, 'finger': 1162, 'palat': 1163, 'retail': 1164, 'handi': 1165, 'nutriti': 1166, 'msg': 1167, 'program': 1168, 'walk': 1169, 'bed': 1170, 'internet': 1171, 'temperatur': 1172, 'enhanc': 1173, 'gravi': 1174, 'activ': 1175, 'frequent': 1176, 'becam': 1177, 'chines': 1178, 'unit': 1179, 'cardboard': 1180, 'appar': 1181, 'nose': 1182, 'taken': 1183, 'middl': 1184, 'salsa': 1185, 'sign': 1186, 'tooth': 1187, 'gallon': 1188, 'began': 1189, 'lab': 1190, 'sweeter': 1191, 'success': 1192, 'counter': 1193, 'popular': 1194, 'develop': 1195, 'discontinu': 1196, 'fell': 1197, 'junk': 1198, 'grown': 1199, 'deep': 1200, 'spaghetti': 1201, 'rock': 1202, 'superior': 1203, 'asian': 1204, 'thai': 1205, 'mini': 1206, 'odor': 1207, 'basi': 1208, 'appeal': 1209, 'diseas': 1210, 'delic': 1211, 'luck': 1212, 'question': 1213, 'tip': 1214, 'distinct': 1215, 'spray': 1216, 'fed': 1217, 'filler': 1218, 'despit': 1219, 'practic': 1220, 'everywher': 1221, 'rare': 1222, 'email': 1223, 'awar': 1224, 'fanci': 1225, 'medicin': 1226, 'front': 1227, 'purpos': 1228, 'sesam': 1229, 'tough': 1230, 'hungri': 1231, 'prevent': 1232, 'buffalo': 1233, 'flat': 1234, 'rub': 1235, 'celiac': 1236, 'term': 1237, 'trick': 1238, 'discount': 1239, 'cube': 1240, 'cashew': 1241, 'die': 1242, 'period': 1243, 'parent': 1244, 'common': 1245, 'medic': 1246, 'agav': 1247, 'ran': 1248, 'squar': 1249, 'drive': 1250, 'miner': 1251, 'min': 1252, 'stash': 1253, 'cane': 1254, 'spent': 1255, 'toler': 1256, 'classic': 1257, 'werent': 1258, 'skeptic': 1259, 'earli': 1260, 'beyond': 1261, 'steam': 1262, 'xylitol': 1263, 'rawhid': 1264, 'foil': 1265, 'grass': 1266, 'outstand': 1267, 'dough': 1268, 'terrif': 1269, 'cafe': 1270, 'town': 1271, 'inch': 1272, 'constant': 1273, 'donut': 1274, 'authent': 1275, 'movi': 1276, 'drain': 1277, 'sugari': 1278, 'tender': 1279, 'indic': 1280, 'iron': 1281, 'imposs': 1282, 'cappuccino': 1283, 'center': 1284, 'firm': 1285, 'punch': 1286, 'awhil': 1287, 'bonus': 1288, 'comfort': 1289, 'grade': 1290, 'crush': 1291, 'besid': 1292, 'mac': 1293, 'dust': 1294, 'pomegran': 1295, 'commerci': 1296, 'whip': 1297, 'defin': 1298, 'suffer': 1299, 'cheddar': 1300, 'drip': 1301, 'walnut': 1302, 'trade': 1303, 'jasmin': 1304, 'essenti': 1305, 'storag': 1306, 'pear': 1307, 'reaction': 1308, 'accept': 1309, 'desir': 1310, 'tongu': 1311, 'nutrient': 1312, 'sunflow': 1313, 'magic': 1314, 'fortun': 1315, 'greasi': 1316, 'kona': 1317, 'robust': 1318, 'relax': 1319, 'strip': 1320, 'signific': 1321, 'pink': 1322, 'refus': 1323, 'promis': 1324, 'hear': 1325, 'cap': 1326, 'reach': 1327, 'strength': 1328, 'california': 1329, 'oili': 1330, 'fudg': 1331, 'report': 1332, 'burnt': 1333, 'thus': 1334, 'sampler': 1335, 'attempt': 1336, 'kill': 1337, 'ten': 1338, 'complex': 1339, 'pamela': 1340, 'rave': 1341, 'multipl': 1342, 'member': 1343, 'messi': 1344, 'degre': 1345, 'trader': 1346, 'shock': 1347, 'owner': 1348, 'sausag': 1349, 'alcohol': 1350, 'crack': 1351, 'rose': 1352, 'lick': 1353, 'antioxid': 1354, 'bewar': 1355, 'step': 1356, 'wake': 1357, 'hole': 1358, 'illi': 1359, 'wide': 1360, 'neither': 1361, 'marinad': 1362, 'kraft': 1363, 'lighter': 1364, 'forget': 1365, 'ramen': 1366, 'breast': 1367, 'twine': 1368, 'attent': 1369, 'garden': 1370, 'elsewher': 1371, 'layer': 1372, 'swallow': 1373, 'fake': 1374, 'grinder': 1375, 'throat': 1376, 'rais': 1377, 'crumb': 1378, 'cute': 1379, 'purs': 1380, 'space': 1381, 'loss': 1382, 'sparkl': 1383, 'san': 1384, 'bargain': 1385, 'unpleas': 1386, 'effort': 1387, 'trash': 1388, 'method': 1389, 'rip': 1390, 'vari': 1391, 'snap': 1392, 'man': 1393, 'leftov': 1394, 'regret': 1395, 'mark': 1396, 'quinoa': 1397, 'onto': 1398, 'web': 1399, 'match': 1400, 'throughout': 1401, 'tear': 1402, 'among': 1403, 'harder': 1404, 'quaker': 1405, 'wateri': 1406, 'dump': 1407, 'support': 1408, 'risk': 1409, 'thicker': 1410, 'wed': 1411, 'adjust': 1412, 'experienc': 1413, 'spring': 1414, 'pickl': 1415, 'reorder': 1416, 'forev': 1417, 'hide': 1418, 'intend': 1419, 'locat': 1420, 'spoil': 1421, 'japanes': 1422, 'winner': 1423, 'settl': 1424, 'floor': 1425, 'loaf': 1426, 'theyv': 1427, 'greeni': 1428, 'club': 1429, 'workout': 1430, 'tangi': 1431, 'therefor': 1432, 'young': 1433, 'appli': 1434, 'pecan': 1435, 'factor': 1436, 'protect': 1437, 'jump': 1438, 'lamb': 1439, 'softer': 1440, 'inde': 1441, 'maintain': 1442, 'recal': 1443, 'prior': 1444, 'chef': 1445, 'funni': 1446, 'tight': 1447, 'satur': 1448, 'canist': 1449, 'occas': 1450, 'slowli': 1451, 'shred': 1452, 'metal': 1453, 'south': 1454, 'buyer': 1455, 'german': 1456, 'yeah': 1457, 'bran': 1458, 'rang': 1459, 'dozen': 1460, 'duck': 1461, 'pressur': 1462, 'batter': 1463, 'wrapper': 1464, 'reseal': 1465, 'speak': 1466, 'brother': 1467, 'pleasur': 1468, 'bright': 1469, 'edg': 1470, 'econom': 1471, 'somewher': 1472, 'ridicul': 1473, 'childhood': 1474, 'tub': 1475, 'sooth': 1476, 'shrimp': 1477, 'stool': 1478, 'clump': 1479, 'memori': 1480, 'household': 1481, 'bay': 1482, 'target': 1483, 'kernel': 1484, 'mexican': 1485, 'shelv': 1486, 'capsul': 1487, 'pineappl': 1488, 'liver': 1489, 'excess': 1490, 'vomit': 1491, 'pud': 1492, 'ruin': 1493, 'stew': 1494, 'spit': 1495, 'edibl': 1496, 'bpa': 1497, 'kinda': 1498, 'eight': 1499, 'pup': 1500, 'shini': 1501, 'affect': 1502, 'solut': 1503, 'choke': 1504, 'eas': 1505, 'tran': 1506, 'win': 1507, 'kitten': 1508, 'lucki': 1509, 'poop': 1510, 'suck': 1511, 'automat': 1512, 'god': 1513, 'ahead': 1514, 'dens': 1515, 'gobbl': 1516, 'grate': 1517, 'inexpens': 1518, 'non': 1519, 'carton': 1520, 'rise': 1521, 'citrus': 1522, 'regard': 1523, 'fig': 1524, 'studi': 1525, 'mushi': 1526, 'ideal': 1527, 'starter': 1528, 'hurt': 1529, 'cola': 1530, 'hasnt': 1531, 'mellow': 1532, 'slow': 1533, 'titl': 1534, 'anytim': 1535, 'exampl': 1536, 'diamond': 1537, 'photo': 1538, 'scienc': 1539, 'forc': 1540, 'shame': 1541, 'potassium': 1542, 'carbohydr': 1543, 'will': 1544, 'creme': 1545, 'ador': 1546, 'gain': 1547, 'lemonad': 1548, 'yuck': 1549, 'disappear': 1550, 'darker': 1551, 'mio': 1552, 'hearti': 1553, 'virgin': 1554, 'mile': 1555, 'cupcak': 1556, 'answer': 1557, 'calcium': 1558, 'absorb': 1559, 'cancel': 1560, 'here': 1561, 'diarrhea': 1562, 'fulli': 1563, 'supplier': 1564, 'cider': 1565, 'brush': 1566, 'info': 1567, 'certifi': 1568, 'page': 1569, 'hershey': 1570, 'behind': 1571, 'caught': 1572, 'aspartam': 1573, 'moder': 1574, 'intoler': 1575, 'jack': 1576, 'toddler': 1577, 'rooibo': 1578, 'ratio': 1579, 'savori': 1580, 'ear': 1581, 'grocer': 1582, 'colleg': 1583, 'timothi': 1584, 'fishi': 1585, 'unabl': 1586, 'shown': 1587, 'repeat': 1588, 'sushi': 1589, 'moment': 1590, 'crap': 1591, 'broke': 1592, 'fli': 1593, 'tortilla': 1594, 'peel': 1595, 'aromat': 1596, 'marshmallow': 1597, 'coke': 1598, 'blender': 1599, 'sam': 1600, 'tummi': 1601, 'plate': 1602, 'purina': 1603, 'tasteless': 1604, 'soggi': 1605, 'bore': 1606, 'attract': 1607, 'tsp': 1608, 'meant': 1609, 'compliment': 1610, 'link': 1611, 'cancer': 1612, 'explain': 1613, 'reward': 1614, 'necessari': 1615, 'dad': 1616, 'tazo': 1617, 'frank': 1618, 'collect': 1619, 'belli': 1620, 'fluffi': 1621, 'dispens': 1622, 'garbag': 1623, 'jalapeno': 1624, 'starch': 1625, 'malt': 1626, 'unsweeten': 1627, 'afraid': 1628, 'toward': 1629, 'kashi': 1630, 'england': 1631, 'lead': 1632, 'yesterday': 1633, 'sharp': 1634, 'class': 1635, 'hadnt': 1636, 'royal': 1637, 'featur': 1638, 'twist': 1639, 'happier': 1640, 'versatil': 1641, 'mislead': 1642, 'kettl': 1643, 'dietari': 1644, 'decad': 1645, 'chipotl': 1646, 'mayo': 1647, 'stuf': 1648, 'refil': 1649, 'split': 1650, 'fail': 1651, 'partial': 1652, 'meet': 1653, 'earlier': 1654, 'infus': 1655, 'sun': 1656, 'citi': 1657, 'oreo': 1658, 'weather': 1659, 'faster': 1660, 'familiar': 1661, 'emerg': 1662, 'eventu': 1663, 'dental': 1664, 'breed': 1665, 'desk': 1666, 'puff': 1667, 'kidney': 1668, 'tube': 1669, 'suspect': 1670, 'dead': 1671, 'tabasco': 1672, 'recycl': 1673, 'cow': 1674, 'chose': 1675, 'transit': 1676, 'indulg': 1677, 'wafer': 1678, 'molass': 1679, 'downsid': 1680, 'itali': 1681, 'pair': 1682, 'hemp': 1683, 'seafood': 1684, 'materi': 1685, 'fashion': 1686, 'elimin': 1687, 'asid': 1688, 'act': 1689, 'rid': 1690, 'volum': 1691, 'thorough': 1692, 'bell': 1693, 'chill': 1694, 'secret': 1695, 'hydrogen': 1696, 'teabag': 1697, 'request': 1698, 'island': 1699, 'broccoli': 1700, 'harvest': 1701, 'rough': 1702, 'cupboard': 1703, 'minim': 1704, 'penni': 1705, 'closest': 1706, 'apricot': 1707, 'butteri': 1708, 'push': 1709, 'numi': 1710, 'cacao': 1711, 'calm': 1712, 'tray': 1713, 'gentl': 1714, 'rum': 1715, 'intern': 1716, 'vine': 1717, 'dilut': 1718, 'expert': 1719, 'challeng': 1720, 'steel': 1721, 'catch': 1722, 'coupon': 1723, 'specialti': 1724, 'overpr': 1725, 'barley': 1726, 'fragranc': 1727, 'overnight': 1728, 'googl': 1729, 'section': 1730, 'advis': 1731, 'irish': 1732, 'wrote': 1733, 'manner': 1734, 'competit': 1735, 'folger': 1736, 'japan': 1737, 'warehous': 1738, 'thru': 1739, 'stain': 1740, 'wholesom': 1741, 'wasabi': 1742, 'hamburg': 1743, 'till': 1744, 'dose': 1745, 'danger': 1746, 'somehow': 1747, 'pinch': 1748, 'acquir': 1749, 'leg': 1750, 'appetit': 1751, 'shouldnt': 1752, 'bigelow': 1753, 'haribo': 1754, 'soil': 1755, 'graini': 1756, 'palm': 1757, 'shower': 1758, 'seawe': 1759, 'destroy': 1760, 'drawer': 1761, 'anni': 1762, 'chain': 1763, 'america': 1764, 'shed': 1765, 'stove': 1766, 'rescu': 1767, 'valley': 1768, 'dice': 1769, 'miso': 1770, 'lollipop': 1771, 'ketchup': 1772, 'road': 1773, 'devour': 1774, 'harm': 1775, 'reciev': 1776, 'miracl': 1777, 'mole': 1778, 'heck': 1779, 'thumb': 1780, 'mate': 1781, 'darn': 1782, 'india': 1783, 'chewer': 1784, 'germani': 1785, 'oolong': 1786, 'hey': 1787, 'combo': 1788, 'hell': 1789, 'fear': 1790, 'consider': 1791, 'weigh': 1792, 'needless': 1793, 'burger': 1794, 'dream': 1795, 'spinach': 1796, 'trail': 1797, 'promot': 1798, 'chia': 1799, 'bug': 1800, 'gritti': 1801, 'gooey': 1802, 'diagnos': 1803, 'mold': 1804, 'theyd': 1805, 'smoki': 1806, 'superb': 1807, 'macaroni': 1808, 'lentil': 1809, 'weekend': 1810, 'coco': 1811, 'bull': 1812, 'group': 1813, 'substanti': 1814, 'nectar': 1815, 'tropic': 1816, 'kcup': 1817, 'neighbor': 1818, 'beg': 1819, 'cal': 1820, 'bulli': 1821, 'up': 1822, 'tofu': 1823, 'habit': 1824, 'juici': 1825, 'dislik': 1826, 'sweetner': 1827, 'smart': 1828, 'tassimo': 1829, 'spill': 1830, 'lavazza': 1831, 'mash': 1832, 'exercis': 1833, 'print': 1834, 'guarante': 1835, 'rancid': 1836, 'happili': 1837, 'fool': 1838, 'saver': 1839, 'passion': 1840, 'knock': 1841, 'watermelon': 1842, 'track': 1843, 'sport': 1844, 'stori': 1845, 'properti': 1846, 'oppos': 1847, 'gel': 1848, 'harsh': 1849, 'bath': 1850, 'grapefruit': 1851, 'sore': 1852, 'theyll': 1853, 'munch': 1854, 'camp': 1855, 'boyfriend': 1856, 'greek': 1857, 'kellogg': 1858, 'fault': 1859, 'celesti': 1860, 'luckili': 1861, 'mood': 1862, 'unusu': 1863, 'solv': 1864, 'hawaii': 1865, 'bet': 1866, 'cheapest': 1867, 'portabl': 1868, 'fresher': 1869, 'zip': 1870, 'joy': 1871, 'dehydr': 1872, 'feast': 1873, 'margarita': 1874, 'cabinet': 1875, 'canin': 1876, 'associ': 1877, 'hunt': 1878, 'written': 1879, 'sucralos': 1880, 'simmer': 1881, 'drizzl': 1882, 'linger': 1883, 'guilti': 1884, 'tad': 1885, 'lay': 1886, 'toffe': 1887, 'kosher': 1888, 'tbsp': 1889, 'gelatin': 1890, 'refin': 1891, 'student': 1892, 'decor': 1893, 'clove': 1894, 'approxim': 1895, 'consumpt': 1896, 'europ': 1897, 'auto': 1898, 'tablet': 1899, 'thrown': 1900, 'guilt': 1901, 'fight': 1902, 'melitta': 1903, 'build': 1904, 'texa': 1905, 'ultim': 1906, 'afterward': 1907, 'quart': 1908, 'sudden': 1909, 'minor': 1910, 'popper': 1911, 'hunger': 1912, 'fragrant': 1913, 'rush': 1914, 'hydrat': 1915, 'feet': 1916, 'omega': 1917, 'fond': 1918, 'finicki': 1919, 'unhealthi': 1920, 'blackberri': 1921, 'fire': 1922, 'cocktail': 1923, 'hubbi': 1924, 'ring': 1925, 'dirti': 1926, 'maxwel': 1927, 'cough': 1928, 'deserv': 1929, 'detail': 1930, 'splash': 1931, 'frustrat': 1932, 'lie': 1933, 'terrier': 1934, 'flaxse': 1935, 'releas': 1936, 'fatti': 1937, 'refer': 1938, 'crema': 1939, 'younger': 1940, 'key': 1941, 'squirt': 1942, 'chow': 1943, 'father': 1944, 'cooker': 1945, 'user': 1946, 'pistachio': 1947, 'cure': 1948, 'highest': 1949, 'yard': 1950, 'snob': 1951, 'pronounc': 1952, 'poison': 1953, 'irrit': 1954, 'station': 1955, 'toxic': 1956, 'richer': 1957, 'soooo': 1958, 'burst': 1959, 'fussi': 1960, 'blow': 1961, 'basil': 1962, 'closer': 1963, 'wise': 1964, 'granul': 1965, 'giant': 1966, 'nestl': 1967, 'potenti': 1968, 'bonsai': 1969, 'gotta': 1970, 'aid': 1971, 'stack': 1972, 'chunki': 1973, 'biggest': 1974, 'adopt': 1975, 'vacuum': 1976, 'shortbread': 1977, 'ranch': 1978, 'envelop': 1979, 'indoor': 1980, 'held': 1981, 'fuel': 1982, 'generous': 1983, 'outrag': 1984, 'hassl': 1985, 'whim': 1986, 'headach': 1987, 'balsam': 1988, 'ladi': 1989, 'ride': 1990, 'event': 1991, 'straw': 1992, 'appet': 1993, 'nutiva': 1994, 'distribut': 1995, 'own': 1996, 'readili': 1997, 'dash': 1998, 'sturdi': 1999, 'detect': 2000, 'jug': 2001, 'senior': 2002, 'vacat': 2003, 'smile': 2004, 'torani': 2005, 'intact': 2006, 'suit': 2007, 'florida': 2008, 'sheet': 2009, 'girlfriend': 2010, 'hip': 2011, 'male': 2012, 'hairbal': 2013, 'paw': 2014, 'doggi': 2015, 'function': 2016, 'resist': 2017, 'curious': 2018, 'skip': 2019, 'wood': 2020, 'struggl': 2021, 'glaze': 2022, 'shepherd': 2023, 'tax': 2024, 'chihuahua': 2025, 'news': 2026, 'king': 2027, 'thicken': 2028, 'infect': 2029, 'yogi': 2030, 'chamomil': 2031, 'zevia': 2032, 'earthi': 2033, 'sat': 2034, 'click': 2035, 'residu': 2036, 'situat': 2037, 'pitcher': 2038, 'convinc': 2039, 'routin': 2040, 'bakeri': 2041, 'habanero': 2042, 'swiss': 2043, 'confus': 2044, 'appropri': 2045, 'attach': 2046, 'watcher': 2047, 'desert': 2048, 'southern': 2049, 'canada': 2050, 'fur': 2051, 'wing': 2052, 'holder': 2053, 'advantag': 2054, 'smoother': 2055, 'runni': 2056, 'ham': 2057, 'moth': 2058, 'stress': 2059, 'savor': 2060, 'subject': 2061, 'communiti': 2062, 'edit': 2063, 'substanc': 2064, 'hibiscus': 2065, 'british': 2066, 'thinner': 2067, 'death': 2068, 'scale': 2069, 'stumbl': 2070, 'sucker': 2071, 'grant': 2072, 'exist': 2073, 'diaper': 2074, 'ensur': 2075, 'convert': 2076, 'prescript': 2077, 'resembl': 2078, 'dandruff': 2079, 'heal': 2080, 'planter': 2081, 'soften': 2082, 'advic': 2083, 'rye': 2084, 'sumatra': 2085, 'fewer': 2086, 'cross': 2087, 'modifi': 2088, 'drawback': 2089, 'account': 2090, 'path': 2091, 'whatsoev': 2092, 'med': 2093, 'smokey': 2094, 'european': 2095, 'lean': 2096, 'decaffein': 2097, 'law': 2098, 'disc': 2099, 'ignor': 2100, 'schedul': 2101, 'address': 2102, 'net': 2103, 'insan': 2104, 'milder': 2105, 'silki': 2106, 'bene': 2107, 'seattl': 2108, 'pad': 2109, 'scone': 2110, 'annoy': 2111, 'york': 2112, 'met': 2113, 'generic': 2114, 'chocolatey': 2115, 'gevalia': 2116, 'shaker': 2117, 'lactos': 2118, 'focus': 2119, 'quarter': 2120, 'dissapoint': 2121, 'tempt': 2122, 'muscl': 2123, 'regardless': 2124, 'goodi': 2125, 'reserv': 2126, 'spare': 2127, 'cluster': 2128, 'self': 2129, 'joint': 2130, 'symptom': 2131, 'joke': 2132, 'cramp': 2133, 'henc': 2134, 'izz': 2135, 'reliabl': 2136, 'approv': 2137, 'lazi': 2138, 'exclus': 2139, 'ingest': 2140, 'drug': 2141, 'restrict': 2142, 'crash': 2143, 'card': 2144, 'eden': 2145, 'nutmeg': 2146, 'omg': 2147, 'plum': 2148, 'nurs': 2149, 'scare': 2150, 'bagel': 2151, 'constip': 2152, 'gonna': 2153, 'sooo': 2154, 'faint': 2155, 'oclock': 2156, 'assur': 2157, 'grandmoth': 2158, 'seven': 2159, 'caution': 2160, 'ordinari': 2161, 'soap': 2162, 'game': 2163, 'east': 2164, 'nearbi': 2165, 'cheesi': 2166, 'bird': 2167, 'cheerio': 2168, 'dye': 2169, 'knife': 2170, 'grandson': 2171, 'lip': 2172, 'respect': 2173, 'dirt': 2174, 'iam': 2175, 'coast': 2176, 'stretch': 2177, 'mask': 2178, 'determin': 2179, 'lobster': 2180, 'rope': 2181, 'listen': 2182, 'access': 2183, 'occur': 2184, 'vodka': 2185, 'depart': 2186, 'unbeliev': 2187, 'itch': 2188, 'con': 2189, 'condiment': 2190, 'patti': 2191, 'imag': 2192, 'goji': 2193, 'columbian': 2194, 'hotter': 2195, 'corner': 2196, 'hike': 2197, 'factori': 2198, 'whey': 2199, 'aspect': 2200, 'ami': 2201, 'juli': 2202, 'purpl': 2203, 'carpet': 2204, 'evapor': 2205, 'video': 2206, 'baker': 2207, 'cornbread': 2208, 'record': 2209, 'evo': 2210, 'dig': 2211, 'gag': 2212, 'theater': 2213, 'canola': 2214, 'grandma': 2215, 'parmesan': 2216, 'secur': 2217, 'mrs': 2218, 'marin': 2219, 'decreas': 2220, 'lock': 2221, 'minti': 2222, 'awak': 2223, 'betti': 2224, 'wear': 2225, 'celeri': 2226, 'phone': 2227, 'tastier': 2228, 'ale': 2229, 'spearmint': 2230, 'relief': 2231, 'sustain': 2232, 'retriev': 2233, 'neat': 2234, 'brittl': 2235, 'opportun': 2236, 'foam': 2237, 'remark': 2238, 'respond': 2239, 'twin': 2240, 'connoisseur': 2241, 'bloat': 2242, 'casserol': 2243, 'safeti': 2244, 'equival': 2245, 'virtual': 2246, 'environ': 2247, 'steal': 2248, 'trace': 2249, 'citric': 2250, 'numer': 2251, 'tulli': 2252, 'accur': 2253, 'temp': 2254, 'lavend': 2255, 'chicori': 2256, 'slim': 2257, 'demand': 2258, 'tap': 2259, 'bowel': 2260, 'truth': 2261, 'jean': 2262, 'clam': 2263, 'swear': 2264, 'greatest': 2265, 'fda': 2266, 'vita': 2267, 'profil': 2268, 'jet': 2269, 'stink': 2270, 'screw': 2271, 'perform': 2272, 'hang': 2273, 'goat': 2274, 'cycl': 2275, 'zico': 2276, 'magnesium': 2277, 'concept': 2278, 'peppercorn': 2279, 'length': 2280, 'mari': 2281, 'confirm': 2282, 'buddi': 2283, 'rib': 2284, 'nourish': 2285, 'categori': 2286, 'board': 2287, 'gmo': 2288, 'gingerbread': 2289, 'pearl': 2290, 'fluid': 2291, 'skillet': 2292, 'newton': 2293, 'sink': 2294, 'kiwi': 2295, 'mixer': 2296, 'master': 2297, 'silk': 2298, 'durabl': 2299, 'paprika': 2300, 'itll': 2301, 'similac': 2302, 'halloween': 2303, 'rees': 2304, 'ferment': 2305, 'gerber': 2306, 'hummus': 2307, 'encourag': 2308, 'everybodi': 2309, 'bee': 2310, 'rabbit': 2311, 'marmalad': 2312, 'farmer': 2313, 'desper': 2314, 'mass': 2315, 'outer': 2316, 'chocolati': 2317, 'hospit': 2318, 'davidson': 2319, 'involv': 2320, 'orijen': 2321, 'surgeri': 2322, 'monster': 2323, 'cloth': 2324, 'rubber': 2325, 'lift': 2326, 'accid': 2327, 'budget': 2328, 'laugh': 2329, 'exot': 2330, 'wherea': 2331, 'francisco': 2332, 'retain': 2333, 'complement': 2334, 'barbecu': 2335, 'felin': 2336, 'hotel': 2337, 'tall': 2338, 'ined': 2339, 'credit': 2340, 'btw': 2341, 'express': 2342, 'rotat': 2343, 'dispos': 2344, 'forgot': 2345, 'skim': 2346, 'tiger': 2347, 'surfac': 2348, 'gloria': 2349, 'floral': 2350, 'profession': 2351, 'kong': 2352, 'nutella': 2353, 'pig': 2354, 'error': 2355, 'spike': 2356, 'entertain': 2357, 'nation': 2358, 'mush': 2359, 'tonight': 2360, 'minimum': 2361, 'confid': 2362, 'concoct': 2363, 'primarili': 2364, 'abil': 2365, 'coars': 2366, 'caribou': 2367, 'variat': 2368, 'seek': 2369, 'nowher': 2370, 'campbel': 2371, 'opt': 2372, 'conscious': 2373, 'recipi': 2374, 'potent': 2375, 'west': 2376, 'everytim': 2377, 'judg': 2378, 'sensat': 2379, 'eager': 2380, 'femal': 2381, 'soybean': 2382, 'tang': 2383, 'occupi': 2384, 'decemb': 2385, 'plump': 2386, 'glycem': 2387, 'welcom': 2388, 'anchovi': 2389, 'notch': 2390, 'born': 2391, 'recomend': 2392, 'treatment': 2393, 'heap': 2394, 'cri': 2395, 'core': 2396, 'greas': 2397, 'block': 2398, 'pastri': 2399, 'tripl': 2400, 'difficulti': 2401, 'finest': 2402, 'glucos': 2403, 'brain': 2404, 'lotion': 2405, 'nori': 2406, 'reflux': 2407, 'ident': 2408, 'feedback': 2409, 'healthiest': 2410, 'planet': 2411, 'famous': 2412, 'tonic': 2413, 'tie': 2414, 'exceed': 2415, 'alo': 2416, 'altoid': 2417, 'evid': 2418, 'thanksgiv': 2419, 'lifestyl': 2420, 'couscous': 2421, 'angel': 2422, 'anticip': 2423, 'hundr': 2424, 'franc': 2425, 'enthusiast': 2426, 'shine': 2427, 'bergamot': 2428, 'histori': 2429, 'backpack': 2430, 'cone': 2431, 'contamin': 2432, 'compet': 2433, 'nibbl': 2434, 'catnip': 2435, 'invest': 2436, 'tag': 2437, 'depth': 2438, 'arm': 2439, 'boot': 2440, 'extend': 2441, 'brooklyn': 2442, 'men': 2443, 'zing': 2444, 'nylabon': 2445, 'sooner': 2446, 'inferior': 2447, 'display': 2448, 'women': 2449, 'cuisin': 2450, 'pine': 2451, 'bloom': 2452, 'crab': 2453, 'alert': 2454, 'fals': 2455, 'gym': 2456, 'biscotti': 2457, 'electrolyt': 2458, 'bathroom': 2459, 'applesauc': 2460, 'saut': 2461, 'trial': 2462, 'articl': 2463, 'versus': 2464, 'rind': 2465, 'beach': 2466, 'petco': 2467, 'hurri': 2468, 'rain': 2469, 'manuka': 2470, 'encount': 2471, 'jello': 2472, 'prove': 2473, 'squash': 2474, 'anybodi': 2475, 'cooler': 2476, 'environment': 2477, 'valentin': 2478, 'attack': 2479, 'creativ': 2480, 'justifi': 2481, 'immun': 2482, 'freak': 2483, 'pulp': 2484, 'code': 2485, 'decis': 2486, 'reli': 2487, 'divin': 2488, 'emeril': 2489, 'reliev': 2490, 'north': 2491, 'critic': 2492, 'fenc': 2493, 'speed': 2494, 'identifi': 2495, 'mere': 2496, 'rosemari': 2497, 'remedi': 2498, 'teriyaki': 2499, 'bless': 2500, 'peac': 2501, 'donat': 2502, 'parsley': 2503, 'exchang': 2504, 'nugget': 2505, 'cowork': 2506, 'expos': 2507, 'land': 2508, 'stage': 2509, 'ultra': 2510, 'transfer': 2511, 'issimo': 2512, 'facil': 2513, 'nacho': 2514, 'puck': 2515, 'towel': 2516, 'view': 2517, 'coff': 2518, 'cheer': 2519, 'clog': 2520, 'friski': 2521, 'pesticid': 2522, 'region': 2523, 'gatorad': 2524, 'pale': 2525, 'mad': 2526, 'metabol': 2527, 'ala': 2528, 'genuin': 2529, 'minus': 2530, 'caff': 2531, 'unopen': 2532, 'mayonnais': 2533, 'patient': 2534, 'cayenn': 2535, 'roland': 2536, 'border': 2537, 'squirrel': 2538, 'worm': 2539, 'scrambl': 2540, 'miniatur': 2541, 'satisfact': 2542, 'tone': 2543, 'poodl': 2544, 'bun': 2545, 'pregnant': 2546, 'flow': 2547, 'horseradish': 2548, 'lecithin': 2549, 'meow': 2550, 'pit': 2551, 'largest': 2552, 'million': 2553, 'suitabl': 2554, 'bark': 2555, 'smash': 2556, 'yield': 2557, 'wire': 2558, 'cardamom': 2559, 'pellet': 2560, 'blame': 2561, 'colombian': 2562, 'chex': 2563, 'inner': 2564, 'macadamia': 2565, 'korean': 2566, 'fraction': 2567, 'dunkin': 2568, 'nabisco': 2569, 'industri': 2570, 'unsalt': 2571, 'belgian': 2572, 'grand': 2573, 'acai': 2574, 'cleaner': 2575, 'pace': 2576, 'necessarili': 2577, 'estim': 2578, 'crocker': 2579, 'venison': 2580, 'saffron': 2581, 'obtain': 2582, 'fulfil': 2583, 'enter': 2584, 'grit': 2585, 'prep': 2586, 'react': 2587, 'taffi': 2588, 'contribut': 2589, 'voila': 2590, 'divid': 2591, 'score': 2592, 'stem': 2593, 'mexico': 2594, 'jolli': 2595, 'lowest': 2596, 'teenag': 2597, 'yrs': 2598, 'expresso': 2599, 'repli': 2600, 'liquor': 2601, 'boston': 2602, 'theme': 2603, 'whos': 2604, 'surviv': 2605, 'approach': 2606, 'cultur': 2607, 'frontier': 2608, 'ant': 2609, 'float': 2610, 'dill': 2611, 'rank': 2612, 'neighborhood': 2613, 'cheesecak': 2614, 'snow': 2615, 'prune': 2616, 'bedtim': 2617, 'march': 2618, 'primari': 2619, 'martini': 2620, 'itchi': 2621, 'unus': 2622, 'bucket': 2623, 'heavili': 2624, 'cumin': 2625, 'letter': 2626, 'sole': 2627, 'film': 2628, 'compromis': 2629, 'stinki': 2630, 'urg': 2631, 'maid': 2632, 'delish': 2633, 'blown': 2634, 'ocean': 2635, 'window': 2636, 'tape': 2637, 'imit': 2638, 'ghee': 2639, 'growth': 2640, 'silver': 2641, 'buckwheat': 2642, 'flip': 2643, 'cotton': 2644, 'fold': 2645, 'januari': 2646, 'himalayan': 2647, 'saute': 2648, 'repres': 2649, 'nervous': 2650, 'draw': 2651, 'buttermilk': 2652, 'energ': 2653, 'bamboo': 2654, 'inhal': 2655, 'avid': 2656, 'nobodi': 2657, 'sinus': 2658, 'muesli': 2659, 'former': 2660, 'impact': 2661, 'yorki': 2662, 'sourdough': 2663, 'wolf': 2664, 'public': 2665, 'poultri': 2666, 'hfcs': 2667, 'random': 2668, 'resort': 2669, 'row': 2670, 'hill': 2671, 'hors': 2672, 'max': 2673, 'alter': 2674, 'favourit': 2675, 'percent': 2676, 'canida': 2677, 'barri': 2678, 'wax': 2679, 'chile': 2680, 'wolfgang': 2681, 'weaker': 2682, 'bank': 2683, 'chalki': 2684, 'popchip': 2685, 'strain': 2686, 'electr': 2687, 'applic': 2688, 'slide': 2689, 'easter': 2690, 'rule': 2691, 'lite': 2692, 'intestin': 2693, 'funki': 2694, 'tartar': 2695, 'pro': 2696, 'reput': 2697, 'shave': 2698, 'urin': 2699, 'profit': 2700, 'attribut': 2701, 'fyi': 2702, 'walden': 2703, 'strainer': 2704, 'generat': 2705, 'arthriti': 2706, 'yorkshir': 2707, 'sand': 2708, 'vend': 2709, 'turkish': 2710, 'benefici': 2711, 'accident': 2712, 'tho': 2713, 'meati': 2714, 'yay': 2715, 'pungent': 2716, 'enfamil': 2717, 'lindt': 2718, 'mccann': 2719, 'august': 2720, 'formul': 2721, 'unhappi': 2722, 'twenti': 2723, 'sooooo': 2724, 'transport': 2725, 'avocado': 2726, 'velveeta': 2727, 'model': 2728, 'stone': 2729, 'essenc': 2730, 'surround': 2731, 'reminisc': 2732, 'heavier': 2733, 'convent': 2734, 'slip': 2735, 'brick': 2736, 'commit': 2737, 'suffici': 2738, 'infant': 2739, 'deriv': 2740, 'cilantro': 2741, 'charm': 2742, 'project': 2743, 'gusto': 2744, 'forest': 2745, 'jitter': 2746, 'aluminum': 2747, 'marvel': 2748, 'michael': 2749, 'fav': 2750, 'dove': 2751, 'fork': 2752, 'ghirardelli': 2753, 'disagre': 2754, 'anis': 2755, 'morsel': 2756, 'grove': 2757, 'strict': 2758, 'qualifi': 2759, 'reheat': 2760, 'explod': 2761, 'unnecessari': 2762, 'airtight': 2763, 'tangerin': 2764, 'drinkabl': 2765, 'sneak': 2766, 'lifesav': 2767, 'mid': 2768, 'krispi': 2769, 'element': 2770, 'emerald': 2771, 'agent': 2772, 'cart': 2773, 'sniff': 2774, 'whose': 2775, 'elder': 2776, 'accompani': 2777, 'tool': 2778, 'cleans': 2779, 'defect': 2780, 'neck': 2781, 'tab': 2782, 'hottest': 2783, 'compon': 2784, 'messag': 2785, 'ceylon': 2786, 'genet': 2787, 'imo': 2788, 'incorpor': 2789, 'heinz': 2790, 'nine': 2791, 'gopher': 2792, 'spanish': 2793, 'recogn': 2794, 'nake': 2795, 'allergen': 2796, 'jerk': 2797, 'instanc': 2798, 'flavorless': 2799, 'clay': 2800, 'whisk': 2801, 'delay': 2802, 'glow': 2803, 'sunbutt': 2804, 'fortifi': 2805, 'supris': 2806, 'pile': 2807, 'david': 2808, 'gin': 2809, 'intent': 2810, 'hidden': 2811, 'street': 2812, 'vagu': 2813, 'stabl': 2814, 'ziplock': 2815, 'hed': 2816, 'basmati': 2817, 'resolv': 2818, 'woman': 2819, 'truvia': 2820, 'insert': 2821, 'expand': 2822, 'loav': 2823, 'froth': 2824, 'string': 2825, 'nail': 2826, 'pesto': 2827, 'wipe': 2828, 'pepperi': 2829, 'strike': 2830, 'java': 2831, 'pate': 2832, 'baggi': 2833, 'reus': 2834, 'regul': 2835, 'thrive': 2836, 'twizzler': 2837, 'jaw': 2838, 'wall': 2839, 'movement': 2840, 'thirst': 2841, 'grassi': 2842, 'darjeel': 2843, 'aunt': 2844, 'statement': 2845, 'relish': 2846, 'inspect': 2847, 'compost': 2848, 'signatur': 2849, 'cloy': 2850, 'april': 2851, 'led': 2852, 'hawaiian': 2853, 'toaster': 2854, 'wound': 2855, 'index': 2856, 'hull': 2857, 'intrigu': 2858, 'tapioca': 2859, 'stupid': 2860, 'comput': 2861, 'june': 2862, 'petsmart': 2863, 'connect': 2864, 'ghost': 2865, 'northern': 2866, 'dear': 2867, 'asleep': 2868, 'bouillon': 2869, 'curb': 2870, 'gradual': 2871, 'unexpect': 2872, 'charact': 2873, 'pacif': 2874, 'silli': 2875, 'scissor': 2876, 'pepsi': 2877, 'invent': 2878, 'deodor': 2879, 'masala': 2880, 'fourth': 2881, 'buzz': 2882, 'larabar': 2883, 'nib': 2884, 'lasagna': 2885, 'fizz': 2886, 'kefir': 2887, 'african': 2888, 'bloodi': 2889, 'bin': 2890, 'shoulder': 2891, 'race': 2892, 'costa': 2893, 'bomb': 2894, 'soo': 2895, 'approx': 2896, 'univers': 2897, 'tastiest': 2898, 'advanc': 2899, 'prais': 2900, 'sub': 2901, 'accustom': 2902, 'achiev': 2903, 'physic': 2904, 'transact': 2905, 'petit': 2906, 'domin': 2907, 'gather': 2908, 'join': 2909, 'thousand': 2910, 'insect': 2911, 'aliv': 2912, 'overweight': 2913, 'easiest': 2914, 'sriracha': 2915, 'action': 2916, 'heartburn': 2917, 'discern': 2918, 'humid': 2919, 'dunk': 2920, 'mojito': 2921, 'bang': 2922, 'par': 2923, 'dramat': 2924, 'burrito': 2925, 'dew': 2926, 'proven': 2927, 'ziploc': 2928, 'arizona': 2929, 'ahoy': 2930, 'merchant': 2931, 'marzipan': 2932, 'rubberi': 2933, 'sunday': 2934, 'gulp': 2935, 'rash': 2936, 'failur': 2937, 'rapid': 2938, 'cucumb': 2939, 'outdoor': 2940, 'ach': 2941, 'safeway': 2942, 'foot': 2943, 'friday': 2944, 'jim': 2945, 'flaki': 2946, 'equip': 2947, 'park': 2948, 'condens': 2949, 'button': 2950, 'gari': 2951, 'oregon': 2952, 'bolder': 2953, 'tremend': 2954, 'nonetheless': 2955, 'cuppa': 2956, 'grandkid': 2957, 'boneless': 2958, 'opposit': 2959, 'dare': 2960, 'orient': 2961, 'chowder': 2962, 'field': 2963, 'glutam': 2964, 'stimul': 2965, 'rishi': 2966, 'dread': 2967, 'escap': 2968, 'mccormick': 2969, 'zest': 2970, 'shelter': 2971, 'aisl': 2972, 'celebr': 2973, 'fave': 2974, 'orlean': 2975, 'dave': 2976, 'flea': 2977, 'pint': 2978, 'rack': 2979, 'tastebud': 2980, 'carousel': 2981, 'vermont': 2982, 'anxious': 2983, 'usda': 2984, 'innova': 2985, 'aka': 2986, 'suprem': 2987, 'barbequ': 2988, 'harden': 2989, 'mysteri': 2990, 'synthet': 2991, 'merrick': 2992, 'roaster': 2993, 'blah': 2994, 'nausea': 2995, 'boxer': 2996, 'lesson': 2997, 'orgain': 2998, 'starv': 2999, 'beet': 3000, 'kroger': 3001, 'peterson': 3002, 'lemongrass': 3003, 'powderi': 3004, 'saturday': 3005, 'latest': 3006, 'greater': 3007, 'thailand': 3008, 'adequ': 3009, 'fragil': 3010, 'distributor': 3011, 'spectacular': 3012, 'splurg': 3013, 'eleg': 3014, 'convers': 3015, 'lump': 3016, 'slimi': 3017, 'beagl': 3018, 'diamet': 3019, 'mighti': 3020, 'reccomend': 3021, 'delect': 3022, 'quest': 3023, 'thaw': 3024, 'breakag': 3025, 'conclus': 3026, 'smelli': 3027, 'fee': 3028, 'waxi': 3029, 'smallest': 3030, 'belov': 3031, 'holist': 3032, 'chilli': 3033, 'duplic': 3034, 'twelv': 3035, 'cadburi': 3036, 'perfum': 3037, 'princ': 3038, 'stiff': 3039, 'nyc': 3040, 'puzzl': 3041, 'bacteria': 3042, 'dull': 3043, 'trigger': 3044, 'devic': 3045, 'helper': 3046, 'quench': 3047, 'choc': 3048, 'wind': 3049, 'puf': 3050, 'peet': 3051, 'fenugreek': 3052, 'yucki': 3053, 'turmer': 3054, 'loud': 3055, 'brazil': 3056, 'risotto': 3057, 'instinct': 3058, 'cheat': 3059, 'uniform': 3060, 'wouldv': 3061, 'soul': 3062, 'junki': 3063, 'nespresso': 3064, 'oyster': 3065, 'stix': 3066, 'discard': 3067, 'bike': 3068, 'fuss': 3069, 'mama': 3070, 'loyal': 3071, 'refri': 3072, 'sweat': 3073, 'calor': 3074, 'jitteri': 3075, 'oper': 3076, 'reveal': 3077, 'scovill': 3078, 'specifi': 3079, 'prici': 3080, 'perk': 3081, 'proud': 3082, 'spout': 3083, 'effici': 3084, 'granddaught': 3085, 'nescaf': 3086, 'object': 3087, 'insist': 3088, 'entic': 3089, 'lettuc': 3090, 'grandchildren': 3091, 'tail': 3092, 'luxuri': 3093, 'percentag': 3094, 'insulin': 3095, 'unavail': 3096, 'phenomen': 3097, 'adventur': 3098, 'hazard': 3099, 'hormon': 3100, 'freshen': 3101, 'smokehous': 3102, 'nom': 3103, 'reluct': 3104, 'reconstitut': 3105, 'decept': 3106, 'proceed': 3107, 'proof': 3108, 'taster': 3109, 'oxid': 3110, 'cell': 3111, 'nope': 3112, 'meatbal': 3113, 'author': 3114, 'lather': 3115, 'fizzi': 3116, 'polici': 3117, 'art': 3118, 'bulb': 3119, 'fanat': 3120, 'octob': 3121, 'septemb': 3122, 'cajun': 3123, 'trident': 3124, 'dha': 3125, 'economi': 3126, 'dutch': 3127, 'bisquick': 3128, 'caviar': 3129, 'fog': 3130, 'temptat': 3131, 'bulldog': 3132, 'cousin': 3133, 'foul': 3134, 'crowd': 3135, 'chase': 3136, 'cookbook': 3137, 'minc': 3138, 'bunni': 3139, 'seri': 3140, 'magazin': 3141, 'enzym': 3142, 'assam': 3143, 'tract': 3144, 'perman': 3145, 'fondant': 3146, 'tootsi': 3147, 'snif': 3148, 'chest': 3149, 'fruitcak': 3150, 'compact': 3151, 'task': 3152, 'truck': 3153, 'prone': 3154, 'haha': 3155, 'sight': 3156, 'trim': 3157, 'gripe': 3158, 'maltodextrin': 3159, 'chronic': 3160, 'bust': 3161, 'impart': 3162, 'competitor': 3163, 'carmel': 3164, 'employe': 3165, 'observ': 3166, 'corpor': 3167, 'vibrant': 3168, 'artif': 3169, 'swirl': 3170, 'remot': 3171, 'safer': 3172, 'shift': 3173, 'stuffer': 3174, 'proport': 3175, 'shih': 3176, 'coca': 3177, 'jolt': 3178, 'curl': 3179, 'culinari': 3180, 'quiet': 3181, 'brandi': 3182, 'sin': 3183, 'nevertheless': 3184, 'clue': 3185, 'processor': 3186, 'coffeemak': 3187, 'dachshund': 3188, 'nephew': 3189, 'whoever': 3190, 'obsess': 3191, 'fillet': 3192, 'snicker': 3193, 'gem': 3194, 'fade': 3195, 'oversea': 3196, 'nois': 3197, 'pat': 3198, 'thirsti': 3199, 'influenst': 3200, 'probiot': 3201, 'torn': 3202, 'germin': 3203, 'zuke': 3204, 'sum': 3205, 'scrape': 3206, 'pyramid': 3207, 'veterinarian': 3208, 'imho': 3209, 'skinni': 3210, 'bundl': 3211, 'bliss': 3212, 'fusion': 3213, 'jamaica': 3214, 'spicier': 3215, 'pkg': 3216, 'embarrass': 3217, 'spectrum': 3218, 'central': 3219, 'colli': 3220, 'curios': 3221, 'deli': 3222, 'mediocr': 3223, 'doorstep': 3224, 'monitor': 3225, 'somebodi': 3226, 'stainless': 3227, 'distanc': 3228, 'marathon': 3229, 'gorgeous': 3230, 'rancher': 3231, 'alright': 3232, 'upsid': 3233, 'sophist': 3234, 'antibiot': 3235, 'team': 3236, 'retir': 3237, 'styrofoam': 3238, 'blossom': 3239, 'oldest': 3240, 'extens': 3241, 'shipper': 3242, 'crown': 3243, 'excus': 3244, 'plaqu': 3245, 'apolog': 3246, 'vital': 3247, 'pita': 3248, 'underton': 3249, 'alaska': 3250, 'carnivor': 3251, 'rehydr': 3252, 'uncl': 3253, 'scrumptious': 3254, 'promin': 3255, 'behavior': 3256, 'virginia': 3257, 'altogeth': 3258, 'arabica': 3259, 'flush': 3260, 'lake': 3261, 'dab': 3262, 'wherev': 3263, 'hormel': 3264, 'sake': 3265, 'ration': 3266, 'duti': 3267, 'fellow': 3268, 'inconveni': 3269, 'mcdougal': 3270, 'bush': 3271, 'dioxid': 3272, 'weruva': 3273, 'damn': 3274, 'vast': 3275, 'crop': 3276, 'scream': 3277, 'carob': 3278, 'bouquet': 3279, 'offici': 3280, 'ripe': 3281, 'quicker': 3282, 'scari': 3283, 'teapot': 3284, 'guid': 3285, 'zealand': 3286, 'plug': 3287, 'scrap': 3288, 'tomorrow': 3289, 'meatloaf': 3290, 'custard': 3291, 'www': 3292, 'snappl': 3293, 'forth': 3294, 'tinkyada': 3295, 'syrupi': 3296, 'circl': 3297, 'ban': 3298, 'tricki': 3299, 'walker': 3300, 'scarf': 3301, 'spain': 3302, 'chicago': 3303, 'neutral': 3304, 'rainforest': 3305, 'louisiana': 3306, 'disapoint': 3307, 'paul': 3308, 'lesser': 3309, 'session': 3310, 'endors': 3311, 'creamier': 3312, 'distinguish': 3313, 'arsenic': 3314, 'contrast': 3315, 'overcook': 3316, 'outlet': 3317, 'reusabl': 3318, 'biodegrad': 3319, 'pregnanc': 3320, 'novemb': 3321, 'knowledg': 3322, 'chaser': 3323, 'western': 3324, 'goo': 3325, 'shade': 3326, 'marinara': 3327, 'tim': 3328, 'krave': 3329, 'discuss': 3330, 'rural': 3331, 'smore': 3332, 'blade': 3333, 'modern': 3334, 'shut': 3335, 'keeper': 3336, 'gastric': 3337, 'membership': 3338, 'yuban': 3339, 'remaind': 3340, 'london': 3341, 'reflect': 3342, 'techniqu': 3343, 'therapi': 3344, 'repel': 3345, 'burk': 3346, 'tunnel': 3347, 'dingo': 3348, 'freshest': 3349, 'recoveri': 3350, 'athlet': 3351, 'hype': 3352, 'gray': 3353, 'copi': 3354, 'munchi': 3355, 'speci': 3356, 'chocohol': 3357, 'mental': 3358, 'antler': 3359, 'inspir': 3360, 'background': 3361, 'useless': 3362, 'critter': 3363, 'killer': 3364, 'hat': 3365, 'kahlua': 3366, 'pricier': 3367, 'mesh': 3368, 'rda': 3369, 'tahini': 3370, 'higgin': 3371, 'shirataki': 3372, 'pero': 3373, 'sift': 3374, 'frapp': 3375, 'picnic': 3376, 'strongest': 3377, 'foodi': 3378, 'breastfeed': 3379, 'overbear': 3380, 'sticker': 3381, 'sachet': 3382, 'herring': 3383, 'math': 3384, 'laxat': 3385, 'def': 3386, 'ohio': 3387, 'bum': 3388, 'worthi': 3389, 'teavana': 3390, 'rout': 3391, 'acn': 3392, 'hickori': 3393, 'caveat': 3394, 'barista': 3395, 'dreamfield': 3396, 'scientif': 3397, 'nutritionist': 3398, 'horizon': 3399, 'reject': 3400, 'arrang': 3401, 'begun': 3402, 'glucosamin': 3403, 'utter': 3404, 'skippi': 3405, 'quot': 3406, 'leather': 3407, 'drier': 3408, 'worthwhil': 3409, 'dolc': 3410, 'captur': 3411, 'halo': 3412, 'clever': 3413, 'screen': 3414, 'replenish': 3415, 'sicken': 3416, 'mandarin': 3417, 'australia': 3418, 'closet': 3419, 'instal': 3420, 'shoot': 3421, 'vote': 3422, 'menu': 3423, 'horrid': 3424, 'cigarett': 3425, 'visibl': 3426, 'unflavor': 3427, 'rotten': 3428, 'moldi': 3429, 'branch': 3430, 'wholesal': 3431, 'dedic': 3432, 'latter': 3433, 'dieter': 3434, 'avoderm': 3435, 'dumpl': 3436, 'explor': 3437, 'deeper': 3438, 'river': 3439, 'adapt': 3440, 'obes': 3441, 'exquisit': 3442, 'crouton': 3443, 'teeccino': 3444, 'craft': 3445, 'endless': 3446, 'ritz': 3447, 'flu': 3448, 'shove': 3449, 'spin': 3450, 'glycerin': 3451, 'ugh': 3452, 'bump': 3453, 'dentist': 3454, 'glue': 3455, 'schnauzer': 3456, 'client': 3457, 'enclos': 3458, 'pepperoni': 3459, 'liner': 3460, 'sawdust': 3461, 'hound': 3462, 'worker': 3463, 'whiska': 3464, 'revolut': 3465, 'distract': 3466, 'holi': 3467, 'edamam': 3468, 'gnaw': 3469, 'tequila': 3470, 'gunpowd': 3471, 'toothpick': 3472, 'paint': 3473, 'patch': 3474, 'overton': 3475, 'satisfactori': 3476, 'scrub': 3477, 'yerba': 3478, 'midnight': 3479, 'publix': 3480, 'danc': 3481, 'whiff': 3482, 'teacher': 3483, 'salami': 3484, 'ireland': 3485, 'niec': 3486, 'finer': 3487, 'jamaican': 3488, 'atkin': 3489, 'aggress': 3490, 'underneath': 3491, 'pin': 3492, 'damp': 3493, 'filet': 3494, 'breez': 3495, 'devil': 3496, 'flimsi': 3497, 'kiss': 3498, 'mistaken': 3499, 'crude': 3500, 'deceiv': 3501, 'maximum': 3502, 'africa': 3503, 'confess': 3504, 'investig': 3505, 'polish': 3506, 'camper': 3507, 'marzano': 3508, 'shoe': 3509, 'mouss': 3510, 'supper': 3511, 'ravioli': 3512, 'shall': 3513, 'vinaigrett': 3514, 'barbara': 3515, 'motiv': 3516, 'inventori': 3517, 'lemoni': 3518, 'youngest': 3519, 'australian': 3520, 'accent': 3521, 'couch': 3522, 'airport': 3523, 'amber': 3524, 'tank': 3525, 'oral': 3526, 'behold': 3527, 'invit': 3528, 'zinc': 3529, 'poo': 3530, 'dilmah': 3531, 'characterist': 3532, 'wean': 3533, 'legal': 3534, 'tbs': 3535, 'papaya': 3536, 'butterscotch': 3537, 'hostess': 3538, 'wari': 3539, 'orvill': 3540, 'knorr': 3541, 'carnat': 3542, 'rival': 3543, 'chun': 3544, 'seltzer': 3545, 'undrink': 3546, 'hodgson': 3547, 'zesti': 3548, 'pee': 3549, 'pug': 3550, 'mainstream': 3551, 'bat': 3552, 'inclin': 3553, 'wilder': 3554, 'forgotten': 3555, 'moroccan': 3556, 'alkalin': 3557, 'teen': 3558, 'sencha': 3559, 'fare': 3560, 'monkey': 3561, 'maca': 3562, 'presum': 3563, 'wee': 3564, 'cuisinart': 3565, 'abund': 3566, 'particl': 3567, 'lend': 3568, 'deer': 3569, 'sliver': 3570, 'ginseng': 3571, 'manual': 3572, 'urinari': 3573, 'godiva': 3574, 'currant': 3575, 'porch': 3576, 'albacor': 3577, 'taylor': 3578, 'mmm': 3579, 'elig': 3580, 'unsur': 3581, 'fennel': 3582, 'taurin': 3583, 'dissappoint': 3584, 'accomplish': 3585, 'garnish': 3586, 'clif': 3587, 'bittersweet': 3588, 'uncook': 3589, 'ventur': 3590, 'upgrad': 3591, 'bichon': 3592, 'stamp': 3593, 'flexibl': 3594, 'incid': 3595, 'caviti': 3596, 'swim': 3597, 'indigest': 3598, 'rebecca': 3599, 'airi': 3600, 'dextros': 3601, 'mozzarella': 3602, 'halv': 3603, 'needl': 3604, 'stray': 3605, 'xanthan': 3606, 'maltes': 3607, 'fuller': 3608, 'limp': 3609, 'albeit': 3610, 'knead': 3611, 'nantucket': 3612, 'nativ': 3613, 'unknown': 3614, 'nicer': 3615, 'discomfort': 3616, 'navita': 3617, 'pho': 3618, 'kirkland': 3619, 'lung': 3620, 'phosphat': 3621, 'bullet': 3622, 'shea': 3623, 'domest': 3624, 'chestnut': 3625, 'margin': 3626, 'drunk': 3627, 'barrel': 3628, 'germ': 3629, 'elev': 3630, 'steamer': 3631, 'pirat': 3632, 'aint': 3633, 'gassi': 3634, 'februari': 3635, 'verifi': 3636, 'blind': 3637, 'ancient': 3638, 'sumatran': 3639, 'brine': 3640, 'built': 3641, 'chair': 3642, 'presenc': 3643, 'santa': 3644, 'fatten': 3645, 'lil': 3646, 'gmos': 3647, 'labrador': 3648, 'eggnog': 3649, 'poster': 3650, 'cash': 3651, 'protien': 3652, 'steer': 3653, 'michigan': 3654, 'entre': 3655, 'saltin': 3656, 'tamal': 3657, 'spirit': 3658, 'crispbread': 3659, 'supervis': 3660, 'pedigre': 3661, 'tendenc': 3662, 'amino': 3663, 'polit': 3664, 'republ': 3665, 'realiti': 3666, 'roach': 3667, 'veg': 3668, 'rica': 3669, 'blast': 3670, 'yep': 3671, 'muir': 3672, 'definet': 3673, 'endur': 3674, 'stream': 3675, 'chomp': 3676, 'unwrap': 3677, 'gut': 3678, 'climat': 3679, 'nana': 3680, 'consequ': 3681, 'sincer': 3682, 'artichok': 3683, 'cincinnati': 3684, 'tetley': 3685, 'marmit': 3686, 'margarin': 3687, 'pasti': 3688, 'mallomar': 3689, 'cloud': 3690, 'aerogarden': 3691, 'nuke': 3692, 'companion': 3693, 'wallet': 3694, 'disast': 3695, 'van': 3696, 'distress': 3697, 'pretend': 3698, 'milki': 3699, 'carolina': 3700, 'baronet': 3701, 'feeder': 3702, 'tout': 3703, 'kale': 3704, 'newer': 3705, 'cheeto': 3706, 'tzu': 3707, 'ritual': 3708, 'caffien': 3709, 'prohibit': 3710, 'bait': 3711, 'harmoni': 3712, 'firmer': 3713, 'unbeat': 3714, 'gumbal': 3715, 'fertil': 3716, 'balm': 3717, 'establish': 3718, 'halfway': 3719, 'offens': 3720, 'mmmm': 3721, 'oregano': 3722, 'seam': 3723, 'notifi': 3724, 'shi': 3725, 'assembl': 3726, 'energet': 3727, 'optim': 3728, 'lawn': 3729, 'spelt': 3730, 'glen': 3731, 'recov': 3732, 'ribbon': 3733, 'flight': 3734, 'upper': 3735, 'millet': 3736, 'itd': 3737, 'host': 3738, 'surpass': 3739, 'spicey': 3740, 'disk': 3741, 'award': 3742, 'kudo': 3743, 'stovetop': 3744, 'libbi': 3745, 'exterior': 3746, 'exagger': 3747, 'dang': 3748, 'brilliant': 3749, 'explan': 3750, 'moon': 3751, 'huski': 3752, 'pest': 3753, 'russel': 3754, 'ethic': 3755, 'tissu': 3756, 'earn': 3757, 'melon': 3758, 'log': 3759, 'attest': 3760, 'appletini': 3761, 'cur': 3762, 'mall': 3763, 'fifti': 3764, 'cod': 3765, 'asham': 3766, 'linda': 3767, 'vigor': 3768, 'lifetim': 3769, 'teeni': 3770, 'pipe': 3771, 'anyhow': 3772, 'faith': 3773, 'shorter': 3774, 'wheatgrass': 3775, 'repackag': 3776, 'multigrain': 3777, 'fallen': 3778, 'smoothest': 3779, 'everlast': 3780, 'church': 3781, 'husk': 3782, 'kelp': 3783, 'spaniel': 3784, 'spam': 3785, 'flop': 3786, 'ahmad': 3787, 'militari': 3788, 'clip': 3789, 'depriv': 3790, 'spoke': 3791, 'spell': 3792, 'douw': 3793, 'egbert': 3794, 'xmas': 3795, 'pike': 3796, 'inflat': 3797, 'amaranth': 3798, 'mound': 3799, 'lookout': 3800, 'bleach': 3801, 'hello': 3802, 'warmer': 3803, 'sprite': 3804, 'bjs': 3805, 'belong': 3806, 'stare': 3807, 'insul': 3808, 'monday': 3809, 'matur': 3810, 'battl': 3811, 'cautious': 3812, 'labor': 3813, 'music': 3814, 'knee': 3815, 'vermicelli': 3816, 'unaccept': 3817, 'eczema': 3818, 'evil': 3819, 'centuri': 3820, 'flap': 3821, 'reduct': 3822, 'erythritol': 3823, 'youth': 3824, 'mart': 3825, 'kombucha': 3826, 'frog': 3827, 'receipt': 3828, 'amoretti': 3829, 'realist': 3830, 'uncomfort': 3831, 'summari': 3832, 'dine': 3833, 'confect': 3834, 'distil': 3835, 'predomin': 3836, 'chosen': 3837, 'nong': 3838, 'bout': 3839, 'repair': 3840, 'skinless': 3841, 'noon': 3842, 'usp': 3843, 'goal': 3844, 'colour': 3845, 'attend': 3846, 'privat': 3847, 'debat': 3848, 'spark': 3849, 'social': 3850, 'scottish': 3851, 'jumbo': 3852, 'drastic': 3853, 'lightweight': 3854, 'harney': 3855, 'visual': 3856, 'vienna': 3857, 'subsequ': 3858, 'fountain': 3859, 'gal': 3860, 'rim': 3861, 'regist': 3862, 'trainer': 3863, 'coin': 3864, 'communic': 3865, 'advers': 3866, 'immens': 3867, 'purifi': 3868, 'john': 3869, 'frothi': 3870, 'util': 3871, 'fluctuat': 3872, 'cornstarch': 3873, 'integr': 3874, 'laden': 3875, 'nowaday': 3876, 'perspect': 3877, 'kipper': 3878, 'spite': 3879, 'unnatur': 3880, 'smear': 3881, 'shim': 3882, 'mmmmm': 3883, 'milkshak': 3884, 'dosag': 3885, 'stood': 3886, 'crate': 3887, 'defeat': 3888, 'necess': 3889, 'render': 3890, 'dollop': 3891, 'leeri': 3892, 'partner': 3893, 'whiskey': 3894, 'grace': 3895, 'scotch': 3896, 'sack': 3897, 'sock': 3898, 'alarm': 3899, 'incorrect': 3900, 'dot': 3901, 'superfood': 3902, 'butt': 3903, 'furnitur': 3904, 'breeder': 3905, 'caffin': 3906, 'height': 3907, 'arctic': 3908, 'dismay': 3909, 'zinger': 3910, 'shopper': 3911, 'rep': 3912, 'kenya': 3913, 'wisconsin': 3914, 'sulfat': 3915, 'niacin': 3916, 'kava': 3917, 'wave': 3918, 'garag': 3919, 'progress': 3920, 'diner': 3921, 'walgreen': 3922, 'champagn': 3923, 'los': 3924, 'educ': 3925, 'exhaust': 3926, 'slightest': 3927, 'steadi': 3928, 'pros': 3929, 'drag': 3930, 'anxieti': 3931, 'goya': 3932, 'frame': 3933, 'alik': 3934, 'malti': 3935, 'cappucino': 3936, 'shrink': 3937, 'meantim': 3938, 'cfh': 3939, 'crepe': 3940, 'aloha': 3941, 'blog': 3942, 'phase': 3943, 'creation': 3944, 'inconsist': 3945, 'backyard': 3946, 'thyroid': 3947, 'aussi': 3948, 'pillow': 3949, 'bummer': 3950, 'chick': 3951, 'soymilk': 3952, 'technic': 3953, 'hotdog': 3954, 'chock': 3955, 'jazz': 3956, 'tingl': 3957, 'shinier': 3958, 'boat': 3959, 'sacrific': 3960, 'ceram': 3961, 'enorm': 3962, 'luscious': 3963, 'usag': 3964, 'byproduct': 3965, 'curd': 3966, 'massiv': 3967, 'disclaim': 3968, 'vera': 3969, 'sugarfre': 3970, 'elbow': 3971, 'scout': 3972, 'compound': 3973, 'luv': 3974, 'flash': 3975, 'dissatisfi': 3976, 'argu': 3977, 'udon': 3978, 'marri': 3979, 'butternut': 3980, 'canadian': 3981, 'glutino': 3982, 'liber': 3983, 'lili': 3984, 'brezza': 3985, 'attitud': 3986, 'depress': 3987, 'swell': 3988, 'booti': 3989, 'reccommend': 3990, 'solidifi': 3991, 'birth': 3992, 'deduct': 3993, 'shook': 3994, 'greet': 3995, 'georgia': 3996, 'vega': 3997, 'bladder': 3998, 'akin': 3999, 'precious': 4000, 'replic': 4001, 'neuro': 4002, 'evoo': 4003, 'contrari': 4004, 'chive': 4005, 'buri': 4006, 'beaba': 4007, 'yea': 4008, 'bravo': 4009, 'lug': 4010, 'cocker': 4011, 'insur': 4012, 'prescrib': 4013, 'impli': 4014, 'nutro': 4015, 'cauliflow': 4016, 'countless': 4017, 'deploy': 4018, 'harri': 4019, 'wanna': 4020, 'berger': 4021, 'mediterranean': 4022, 'sodastream': 4023, 'greyhound': 4024, 'afghanistan': 4025, 'treasur': 4026, 'crock': 4027, 'glove': 4028, 'ascorb': 4029, 'sucros': 4030, 'saltier': 4031, 'washington': 4032, 'wheel': 4033, 'buffet': 4034, 'sky': 4035, 'nearest': 4036, 'pralin': 4037, 'gingeri': 4038, 'explos': 4039, 'annual': 4040, 'postag': 4041, 'tot': 4042, 'pool': 4043, 'paneer': 4044, 'spri': 4045, 'format': 4046, 'puke': 4047, 'flaw': 4048, 'saccharin': 4049, 'toothpast': 4050, 'brazilian': 4051, 'fajita': 4052, 'chlorid': 4053, 'infest': 4054, 'asia': 4055, 'vietnames': 4056, 'omaha': 4057, 'hefti': 4058, 'puroast': 4059, 'casein': 4060, 'motion': 4061, 'nerv': 4062, 'offset': 4063, 'usabl': 4064, 'alfalfa': 4065, 'eastern': 4066, 'bound': 4067, 'logo': 4068, 'transform': 4069, 'foundat': 4070, 'flame': 4071, 'massag': 4072, 'mechan': 4073, 'brussel': 4074, 'furthermor': 4075, 'shorten': 4076, 'highlight': 4077, 'ecstat': 4078, 'whop': 4079, 'lure': 4080, 'nougat': 4081, 'nostalgia': 4082, 'assist': 4083, 'ib': 4084, 'roof': 4085, 'vase': 4086, 'mommi': 4087, 'mocktail': 4088, 'william': 4089, 'cuz': 4090, 'ovaltin': 4091, 'furri': 4092, 'flavonoid': 4093, 'yuk': 4094, 'lousi': 4095, 'tastey': 4096, 'spous': 4097, 'illustr': 4098, 'prioriti': 4099, 'punctur': 4100, 'delux': 4101, 'declin': 4102, 'eggplant': 4103, 'frig': 4104, 'migrain': 4105, 'zucchini': 4106, 'pomeranian': 4107, 'icki': 4108, 'pasteur': 4109, 'clarifi': 4110, 'chug': 4111, 'examin': 4112, 'crappi': 4113, 'dorm': 4114, 'enchilada': 4115, 'novelti': 4116, 'tuesday': 4117, 'idiot': 4118, 'belgium': 4119, 'independ': 4120, 'bing': 4121, 'cast': 4122, 'buildup': 4123, 'sing': 4124, 'war': 4125, 'sediment': 4126, 'lessen': 4127, 'foster': 4128, 'woke': 4129, 'poke': 4130, 'peter': 4131, 'suffic': 4132, 'speedi': 4133, 'thread': 4134, 'extraordinari': 4135, 'popul': 4136, 'chalk': 4137, 'booster': 4138, 'lee': 4139, 'tiki': 4140, 'sirloin': 4141, 'sprouter': 4142, 'capac': 4143, 'teach': 4144, 'cottag': 4145, 'toxin': 4146, 'primal': 4147, 'paleo': 4148, 'til': 4149, 'macchiato': 4150, 'bon': 4151, 'bunn': 4152, 'broil': 4153, 'beetlejuic': 4154, 'undamag': 4155, 'weed': 4156, 'violet': 4157, 'bounc': 4158, 'complic': 4159, 'fever': 4160, 'aerat': 4161, 'bourbon': 4162, 'brows': 4163, 'sacrif': 4164, 'chutney': 4165, 'skylin': 4166, 'canning': 4167, 'angri': 4168, 'genius': 4169, 'evalu': 4170, 'precis': 4171, 'godsend': 4172, 'fart': 4173, 'soooooo': 4174, 'grip': 4175, 'yam': 4176, 'youtub': 4177, 'foreign': 4178, 'slather': 4179, 'tour': 4180, 'pic': 4181, 'roommat': 4182, 'revers': 4183, 'autoship': 4184, 'boss': 4185, 'role': 4186, 'grower': 4187, 'petal': 4188, 'thirti': 4189, 'forgiv': 4190, 'rat': 4191, 'clinic': 4192, 'nonfat': 4193, 'velvet': 4194, 'tuck': 4195, 'episod': 4196, 'cobbler': 4197, 'pre': 4198, 'hop': 4199, 'tom': 4200, 'nirvana': 4201, 'russian': 4202, 'sunshin': 4203, 'orchid': 4204, 'defrost': 4205, 'colorado': 4206, 'classifi': 4207, 'penn': 4208, 'countertop': 4209, 'disturb': 4210, 'wegman': 4211, 'festiv': 4212, 'scotland': 4213, 'irresist': 4214, 'horror': 4215, 'submit': 4216, 'stun': 4217, 'froze': 4218, 'escargot': 4219, 'engin': 4220, 'downright': 4221, 'tower': 4222, 'discoveri': 4223, 'hollow': 4224, 'kuerig': 4225, 'mega': 4226, 'kool': 4227, 'tupperwar': 4228, 'smith': 4229, 'oak': 4230, 'floweri': 4231, 'pant': 4232, 'dragon': 4233, 'roller': 4234, 'slap': 4235, 'introduct': 4236, 'stalk': 4237, 'palett': 4238, 'newli': 4239, 'amongst': 4240, 'fluff': 4241, 'overflow': 4242, 'manna': 4243, 'jewel': 4244, 'port': 4245, 'skill': 4246, 'feral': 4247, 'taint': 4248, 'counterpart': 4249, 'safflow': 4250, 'jersey': 4251, 'cornmeal': 4252, 'exposur': 4253, 'vinegari': 4254, 'reformul': 4255, 'knot': 4256, 'maltitol': 4257, 'sulfur': 4258, 'pediatrician': 4259, 'enabl': 4260, 'ethiopian': 4261, 'clover': 4262, 'smucker': 4263, 'hmmm': 4264, 'ugli': 4265, 'ethnic': 4266, 'casual': 4267, 'creek': 4268, 'aficionado': 4269, 'lawri': 4270, 'waist': 4271, 'outcom': 4272, 'patienc': 4273, 'queen': 4274, 'calcul': 4275, 'tvp': 4276, 'squish': 4277, 'owe': 4278, 'mum': 4279, 'rectangular': 4280, 'steroid': 4281, 'downfal': 4282, 'piti': 4283, 'yolk': 4284, 'inject': 4285, 'musti': 4286, 'arthur': 4287, 'moreov': 4288, 'visitor': 4289, 'boutiqu': 4290, 'detox': 4291, 'unrefin': 4292, 'enrich': 4293, 'thier': 4294, 'staff': 4295, 'sugarless': 4296, 'silicon': 4297, 'peak': 4298, 'scallop': 4299, 'gnat': 4300, 'wintergreen': 4301, 'toilet': 4302, 'comb': 4303, 'groom': 4304, 'organix': 4305, 'chewier': 4306, 'mutt': 4307, 'krusteaz': 4308, 'fluke': 4309, 'ticket': 4310, 'guar': 4311, 'restock': 4312, 'nerd': 4313, 'fong': 4314, 'swedish': 4315, 'progresso': 4316, 'boba': 4317, 'withdraw': 4318, 'pam': 4319, 'fianc': 4320, 'mercuri': 4321, 'nip': 4322, 'alfredo': 4323, 'band': 4324, 'amaretto': 4325, 'sandi': 4326, 'narrow': 4327, 'taught': 4328, 'graduat': 4329, 'unbear': 4330, 'cloudi': 4331, 'brule': 4332, 'chore': 4333, 'burner': 4334, 'abus': 4335, 'caribbean': 4336, 'granular': 4337, 'monin': 4338, 'patak': 4339, 'compens': 4340, 'rot': 4341, 'hrs': 4342, 'pooch': 4343, 'zone': 4344, 'toni': 4345, 'teddi': 4346, 'pari': 4347, 'dropper': 4348, 'boast': 4349, 'orbit': 4350, 'prepackag': 4351, 'bustelo': 4352, 'construct': 4353, 'velveti': 4354, 'horrend': 4355, 'compel': 4356, 'hunter': 4357, 'flesh': 4358, 'lunchbox': 4359, 'esp': 4360, 'mcdonald': 4361, 'patent': 4362, 'breastmilk': 4363, 'rican': 4364, 'sorbitol': 4365, 'scharffen': 4366, 'porridg': 4367, 'ruth': 4368, 'autumn': 4369, 'smack': 4370, 'sloppi': 4371, 'journey': 4372, 'consult': 4373, 'bast': 4374, 'madagascar': 4375, 'panel': 4376, 'sigh': 4377, 'maui': 4378, 'honeybush': 4379, 'vouch': 4380, 'potti': 4381, 'bragg': 4382, 'dec': 4383, 'placebo': 4384, 'namast': 4385, 'salmonella': 4386, 'repurchas': 4387, 'blew': 4388, 'justin': 4389, 'candl': 4390, 'macaroon': 4391, 'flatten': 4392, 'goldfish': 4393, 'cellophan': 4394, 'verona': 4395, 'artisan': 4396, 'hextra': 4397, 'barilla': 4398, 'clementin': 4399, 'particip': 4400, 'chewabl': 4401, 'birch': 4402, 'pak': 4403, 'slot': 4404, 'pliabl': 4405, 'felida': 4406, 'deepli': 4407, 'dishwash': 4408, 'tame': 4409, 'lap': 4410, 'hammer': 4411, 'tenderloin': 4412, 'mainten': 4413, 'naan': 4414, 'overdo': 4415, 'glossi': 4416, 'upload': 4417, 'picant': 4418, 'unfamiliar': 4419, 'await': 4420, 'zen': 4421, 'poppi': 4422, 'wedg': 4423, 'houtt': 4424, 'bypass': 4425, 'milo': 4426, 'coomb': 4427, 'blond': 4428, 'structur': 4429, 'counti': 4430, 'compart': 4431, 'sherri': 4432, 'cave': 4433, 'unbleach': 4434, 'pebbl': 4435, 'thigh': 4436, 'sleev': 4437, 'hygien': 4438, 'dane': 4439, 'stabil': 4440, 'noir': 4441, 'basebal': 4442, 'absurd': 4443, 'contest': 4444, 'preschool': 4445, 'reader': 4446, 'cutter': 4447, 'execut': 4448, 'fiji': 4449, 'cet': 4450, 'flatbread': 4451, 'suspici': 4452, 'translat': 4453, 'sue': 4454, 'pectin': 4455, 'cameron': 4456, 'stik': 4457, 'analysi': 4458, 'mar': 4459, 'tore': 4460, 'humbl': 4461, 'ferret': 4462, 'essentia': 4463, 'clark': 4464, 'pete': 4465, 'spiral': 4466, 'arrowhead': 4467, 'polar': 4468, 'asap': 4469, 'lingonberri': 4470, 'flavacol': 4471, 'discrimin': 4472, 'burr': 4473, 'trueli': 4474, 'ole': 4475, 'spong': 4476, 'kernal': 4477, 'isl': 4478, 'thermo': 4479, 'demonstr': 4480, 'applianc': 4481, 'longest': 4482, 'prize': 4483, 'delicaci': 4484, 'bisqu': 4485, 'radic': 4486, 'slept': 4487, 'las': 4488, 'vegi': 4489, 'dogswel': 4490, 'merchandis': 4491, 'spreadabl': 4492, 'brainer': 4493, 'tide': 4494, 'tenni': 4495, 'millston': 4496, 'corgi': 4497, 'climb': 4498, 'horrifi': 4499, 'overload': 4500, 'dijon': 4501, 'chlorin': 4502, 'command': 4503, 'justic': 4504, 'thursday': 4505, 'saucepan': 4506, 'midwest': 4507, 'travers': 4508, 'tweak': 4509, 'starchi': 4510, 'seper': 4511, 'boullion': 4512, 'mason': 4513, 'strengthen': 4514, 'rapunzel': 4515, 'recur': 4516, 'chickpea': 4517, 'bengal': 4518, 'notori': 4519, 'mat': 4520, 'gopicn': 4521, 'wag': 4522, 'fifth': 4523, 'govern': 4524, 'tarter': 4525, 'disguis': 4526, 'induc': 4527, 'parchment': 4528, 'hash': 4529, 'experiment': 4530, 'pen': 4531, 'lundberg': 4532, 'satiat': 4533, 'allot': 4534, 'deter': 4535, 'plane': 4536, 'fromm': 4537, 'gosh': 4538, 'brian': 4539, 'colleagu': 4540, 'inflamm': 4541, 'tac': 4542, 'dude': 4543, 'caper': 4544, 'brevill': 4545, 'thyme': 4546, 'semolina': 4547, 'jif': 4548, 'devot': 4549, 'manhattan': 4550, 'chariti': 4551, 'offend': 4552, 'nostalg': 4553, 'caraf': 4554, 'isol': 4555, 'raven': 4556, 'transfat': 4557, 'simpler': 4558, 'princess': 4559, 'drawn': 4560, 'dive': 4561, 'siames': 4562, 'tripe': 4563, 'lieu': 4564, 'saeco': 4565, 'pattern': 4566, 'salba': 4567, 'solubl': 4568, 'feb': 4569, 'mortar': 4570, 'garbanzo': 4571, 'autism': 4572, 'bridg': 4573, 'stevita': 4574, 'tug': 4575, 'heartili': 4576, 'marley': 4577, 'breakdown': 4578, 'bicarbon': 4579, 'diminish': 4580, 'puerh': 4581, 'crunchier': 4582, 'stellar': 4583, 'relationship': 4584, 'luci': 4585, 'server': 4586, 'udi': 4587, 'seldom': 4588, 'brief': 4589, 'scour': 4590, 'crusti': 4591, 'charcoal': 4592, 'postum': 4593, 'jacob': 4594, 'persian': 4595, 'worcestershir': 4596, 'staci': 4597, 'jan': 4598, 'equat': 4599, 'nap': 4600, 'thiamin': 4601, 'pun': 4602, 'tan': 4603, 'certif': 4604, 'clearanc': 4605, 'cheapli': 4606, 'blech': 4607, 'snail': 4608, 'oscar': 4609, 'trivedi': 4610, 'unwant': 4611, 'tact': 4612, 'cattl': 4613, 'vitacoco': 4614, 'zhena': 4615, 'roasteri': 4616, 'slab': 4617, 'hunk': 4618, 'fluorid': 4619, 'nov': 4620, 'injuri': 4621, 'eagl': 4622, 'rockstar': 4623, 'gingersnap': 4624, 'inclus': 4625, 'mai': 4626, 'lotus': 4627, 'dime': 4628, 'regimen': 4629, 'tic': 4630, 'heartland': 4631, 'barn': 4632, 'mmmmmm': 4633, 'pom': 4634, 'bizarr': 4635, 'purist': 4636, 'circul': 4637, 'highland': 4638, 'inc': 4639, 'wooden': 4640, 'memor': 4641, 'wick': 4642, 'yike': 4643, 'suitcas': 4644, 'dryer': 4645, 'channel': 4646, 'bison': 4647, 'inquir': 4648, 'stripe': 4649, 'spider': 4650, 'heartbeat': 4651, 'mission': 4652, 'dryness': 4653, 'korea': 4654, 'drown': 4655, 'speck': 4656, 'fuzzi': 4657, 'breadstick': 4658, 'thoma': 4659, 'golean': 4660, 'sear': 4661, 'pinto': 4662, 'astound': 4663, 'shatter': 4664, 'blob': 4665, 'pilaf': 4666, 'astring': 4667, 'kamut': 4668, 'sublim': 4669, 'possess': 4670, 'iodin': 4671, 'permeat': 4672, 'gun': 4673, 'tortur': 4674, 'sorta': 4675, 'char': 4676, 'suppress': 4677, 'ralph': 4678, 'persist': 4679, 'greec': 4680, 'ghiradelli': 4681, 'meanwhil': 4682, 'unapp': 4683, 'folic': 4684, 'colavita': 4685, 'ulcer': 4686, 'driver': 4687, 'theatr': 4688, 'rocki': 4689, 'amish': 4690, 'intox': 4691, 'sleek': 4692, 'rasberri': 4693, 'dusti': 4694, 'swanson': 4695, 'resourc': 4696, 'modest': 4697, 'miser': 4698, 'baja': 4699, 'wilton': 4700, 'vile': 4701, 'down': 4702, 'carrageenan': 4703, 'chuck': 4704, 'alittl': 4705, 'soba': 4706, 'chemistri': 4707, 'proflow': 4708, 'controversi': 4709, 'prima': 4710, 'conduct': 4711, 'copper': 4712, 'rubi': 4713, 'footbal': 4714, 'vintag': 4715, 'perish': 4716, 'percol': 4717, 'fatigu': 4718, 'fudgi': 4719, 'zipper': 4720, 'granni': 4721, 'cleanup': 4722, 'twig': 4723, 'runner': 4724, 'ting': 4725, 'magnific': 4726, 'toasti': 4727, 'disclos': 4728, 'orchard': 4729, 'larri': 4730, 'inhibit': 4731, 'cosmet': 4732, 'interior': 4733, 'colada': 4734, 'frequenc': 4735, 'aesthet': 4736, 'brace': 4737, 'compat': 4738, 'benecol': 4739, 'pallet': 4740, 'tetra': 4741, 'scatter': 4742, 'overlook': 4743, 'switzerland': 4744, 'topper': 4745, 'estat': 4746, 'timer': 4747, 'panda': 4748, 'nutrasweet': 4749, 'congest': 4750, 'micro': 4751, 'gambl': 4752, 'trunk': 4753, 'stringi': 4754, 'rug': 4755, 'guidelin': 4756, 'cvs': 4757, 'tuscan': 4758, 'triglycerid': 4759, 'sec': 4760, 'ebay': 4761, 'sneez': 4762, 'adam': 4763, 'allevi': 4764, 'inevit': 4765, 'wabash': 4766, 'whirl': 4767, 'expel': 4768, 'riboflavin': 4769, 'eukanuba': 4770, 'fifteen': 4771, 'colon': 4772, 'facebook': 4773, 'monosodium': 4774, 'sensibl': 4775, 'cruis': 4776, 'wit': 4777, 'mochi': 4778, 'shin': 4779, 'burp': 4780, 'tjs': 4781, 'shirt': 4782, 'acana': 4783, 'feta': 4784, 'jolokia': 4785, 'advert': 4786, 'languag': 4787, 'shark': 4788, 'eclips': 4789, 'cactus': 4790, 'pucker': 4791, 'necco': 4792, 'rendang': 4793, 'lion': 4794, 'lansinoh': 4795, 'dentastix': 4796, 'heartier': 4797, 'bleed': 4798, 'asthma': 4799, 'austin': 4800, 'tulsi': 4801, 'beaten': 4802, 'criteria': 4803, 'crockpot': 4804, 'combat': 4805, 'muddi': 4806, 'belt': 4807, 'wierd': 4808, 'predict': 4809, 'rectangl': 4810, 'rosehip': 4811, 'ray': 4812, 'gear': 4813, 'decay': 4814, 'gumbo': 4815, 'hooray': 4816, 'nitrat': 4817, 'falafel': 4818, 'degrad': 4819, 'wider': 4820, 'interfer': 4821, 'detract': 4822, 'schar': 4823, 'napkin': 4824, 'huckleberri': 4825, 'celsius': 4826, 'pitch': 4827, 'puffi': 4828, 'alzheim': 4829, 'circumst': 4830, 'dealer': 4831, 'ploy': 4832, 'astonish': 4833, 'boyarde': 4834, 'honor': 4835, 'capabl': 4836, 'norm': 4837, 'mice': 4838, 'resid': 4839, 'siberian': 4840, 'nauseat': 4841, 'sunni': 4842, 'sleepi': 4843, 'reinforc': 4844, 'leaven': 4845, 'recogniz': 4846, 'jiffi': 4847, 'cring': 4848, 'plung': 4849, 'hcg': 4850, 'tobasco': 4851, 'disabl': 4852, 'amus': 4853, 'emot': 4854, 'complimentari': 4855, 'fungus': 4856, 'fox': 4857, 'brave': 4858, 'foami': 4859, 'valerian': 4860, 'dorito': 4861, 'jeremiah': 4862, 'lace': 4863, 'influenc': 4864, 'wednesday': 4865, 'leakag': 4866, 'mist': 4867, 'dvd': 4868, 'motor': 4869, 'nectress': 4870, 'expiri': 4871, 'molecul': 4872, 'wimpi': 4873, 'mount': 4874, 'polenta': 4875, 'junip': 4876, 'disintegr': 4877, 'amp': 4878, 'pickiest': 4879, 'notabl': 4880, 'sojo': 4881, 'warmth': 4882, 'strand': 4883, 'loop': 4884, 'basement': 4885, 'marshal': 4886, 'tobacco': 4887, 'apprehens': 4888, 'recom': 4889, 'voic': 4890, 'uneven': 4891, 'sorbat': 4892, 'sting': 4893, 'bye': 4894, 'seizur': 4895, 'bent': 4896, 'marshmellow': 4897, 'shelti': 4898, 'anniversari': 4899, 'gunk': 4900, 'lightn': 4901, 'avers': 4902, 'logic': 4903, 'conclud': 4904, 'splinter': 4905, 'americano': 4906, 'diego': 4907, 'religi': 4908, 'coon': 4909, 'lowfat': 4910, 'hangov': 4911, 'victor': 4912, 'topic': 4913, 'halvah': 4914, 'overdos': 4915, 'yup': 4916, 'awe': 4917, 'woodi': 4918, 'voxbox': 4919, 'hyper': 4920, 'lumpi': 4921, 'unappet': 4922, 'culprit': 4923, 'guava': 4924, 'insult': 4925, 'paragon': 4926, 'happybabi': 4927, 'collaps': 4928, 'hmm': 4929, 'destruct': 4930, 'marker': 4931, 'song': 4932, 'ritter': 4933, 'disolv': 4934, 'bulki': 4935, 'henri': 4936, 'nog': 4937, 'dole': 4938, 'salon': 4939, 'slurp': 4940, 'file': 4941, 'kinder': 4942, 'drugstor': 4943, 'unprocess': 4944, 'provenc': 4945, 'leap': 4946, 'hansen': 4947, 'hurrican': 4948, 'kikkoman': 4949, 'doberman': 4950, 'ridder': 4951, 'checkout': 4952, 'caesar': 4953, 'choco': 4954, 'cellulos': 4955, 'conjunct': 4956, 'peruvian': 4957, 'setup': 4958, 'hose': 4959, 'temporari': 4960, 'data': 4961, 'grandpar': 4962, 'nippl': 4963, 'lindor': 4964, 'southwest': 4965, 'glu': 4966, 'prairi': 4967, 'improp': 4968, 'numb': 4969, 'vegemit': 4970, 'sorghum': 4971, 'transpar': 4972, 'kombu': 4973, 'dashi': 4974, 'minestron': 4975, 'enthusiasm': 4976, 'meringu': 4977, 'preval': 4978, 'standbi': 4979, 'tikka': 4980, 'couldv': 4981, 'disord': 4982, 'novel': 4983, 'unpop': 4984, 'blackcurr': 4985, 'plagu': 4986, 'preheat': 4987, 'coincid': 4988, 'eve': 4989, 'scam': 4990, 'ink': 4991, 'densiti': 4992, 'lighten': 4993, 'minnesota': 4994, 'glori': 4995, 'ella': 4996, 'oblig': 4997, 'restor': 4998, 'fedex': 4999, 'gerd': 5000}\n"
     ]
    }
   ],
   "source": [
    "    print(f'Most Common Words :-\\n{vocab.most_common(10)}')\n",
    "    print(f'\\nWord Ranks :-\\n{word_idx}')"
   ]
  },
  {
   "cell_type": "code",
   "execution_count": 0,
   "metadata": {
    "colab": {
     "base_uri": "https://localhost:8080/",
     "height": 34
    },
    "colab_type": "code",
    "executionInfo": {
     "elapsed": 1496,
     "status": "ok",
     "timestamp": 1566631019656,
     "user": {
      "displayName": "Rajeev Kumar",
      "photoUrl": "https://lh3.googleusercontent.com/a-/AAuE7mD1577_cBp9rcrzqGd-HgOgnI9b90b4sZJizE-xjg=s64",
      "userId": "01808597093748562717"
     },
     "user_tz": -330
    },
    "id": "Qy3e9QHM_LLx",
    "outputId": "824dd6ca-30ce-4d27-ea88-00ab1bf7c0a1"
   },
   "outputs": [
    {
     "name": "stdout",
     "output_type": "stream",
     "text": [
      "(67000, 824) (33000, 824)\n"
     ]
    }
   ],
   "source": [
    "max_review_length = 824\n",
    "x_train = sequence.pad_sequences(x_train, maxlen=max_review_length)\n",
    "x_test = sequence.pad_sequences(x_test, maxlen=max_review_length)\n",
    "\n",
    "print(x_train.shape, x_test.shape)"
   ]
  },
  {
   "cell_type": "markdown",
   "metadata": {
    "colab_type": "text",
    "id": "dRbcMvFvDcr8"
   },
   "source": [
    "**4.0 Plot Function**"
   ]
  },
  {
   "cell_type": "code",
   "execution_count": 0,
   "metadata": {
    "colab": {},
    "colab_type": "code",
    "id": "lIRGhAAeDfyn"
   },
   "outputs": [],
   "source": [
    "def plot_loss(x, vy, ty, xlabel='Epoch', ylabel='Binary Crossentropy Loss'):\n",
    "    _, = plt.plot(x, vy, 'b', label=\"Validation Loss\")\n",
    "    _, = plt.plot(x, ty, 'r', label=\"Train Loss\")\n",
    "    plt.xlabel(xlabel)\n",
    "    plt.ylabel(ylabel)\n",
    "\n",
    "    plt.grid()\n",
    "    plt.legend()\n",
    "    plt.grid()\n",
    "    plt.show()"
   ]
  },
  {
   "cell_type": "code",
   "execution_count": 0,
   "metadata": {
    "colab": {},
    "colab_type": "code",
    "id": "HXb2qrmLnL_F"
   },
   "outputs": [],
   "source": [
    "pt = PrettyTable()\n",
    "pt.field_names = ['RNN Architecture', 'Mean Train Accuracy', 'Mean Validation Accuracy', 'Test Accuracy']"
   ]
  },
  {
   "cell_type": "markdown",
   "metadata": {
    "colab_type": "text",
    "id": "ugwDD6B1CncD"
   },
   "source": [
    "**5.0 Model**"
   ]
  },
  {
   "cell_type": "code",
   "execution_count": 0,
   "metadata": {
    "colab": {
     "base_uri": "https://localhost:8080/",
     "height": 946
    },
    "colab_type": "code",
    "executionInfo": {
     "elapsed": 4287775,
     "status": "ok",
     "timestamp": 1566640034256,
     "user": {
      "displayName": "Rajeev Kumar",
      "photoUrl": "https://lh3.googleusercontent.com/a-/AAuE7mD1577_cBp9rcrzqGd-HgOgnI9b90b4sZJizE-xjg=s64",
      "userId": "01808597093748562717"
     },
     "user_tz": -330
    },
    "id": "O5H4FtrdB7Yz",
    "outputId": "df119bec-0693-4cf4-f184-75554e1cfb01"
   },
   "outputs": [
    {
     "name": "stdout",
     "output_type": "stream",
     "text": [
      "_________________________________________________________________\n",
      "Layer (type)                 Output Shape              Param #   \n",
      "=================================================================\n",
      "embedding_2 (Embedding)      (None, 824, 32)           160032    \n",
      "_________________________________________________________________\n",
      "lstm_2 (LSTM)                (None, 10)                1720      \n",
      "_________________________________________________________________\n",
      "dense_2 (Dense)              (None, 1)                 11        \n",
      "=================================================================\n",
      "Total params: 161,763\n",
      "Trainable params: 161,763\n",
      "Non-trainable params: 0\n",
      "_________________________________________________________________\n",
      "None\n",
      "Train on 46900 samples, validate on 20100 samples\n",
      "Epoch 1/10\n",
      "46900/46900 [==============================] - 424s 9ms/step - loss: 0.6153 - acc: 0.7331 - val_loss: 0.4339 - val_acc: 0.8407\n",
      "Epoch 2/10\n",
      "46900/46900 [==============================] - 423s 9ms/step - loss: 0.4282 - acc: 0.8585 - val_loss: 0.4062 - val_acc: 0.8735\n",
      "Epoch 3/10\n",
      "46900/46900 [==============================] - 422s 9ms/step - loss: 0.4445 - acc: 0.8150 - val_loss: 0.4057 - val_acc: 0.8641\n",
      "Epoch 4/10\n",
      "46900/46900 [==============================] - 423s 9ms/step - loss: 0.3973 - acc: 0.8705 - val_loss: 0.4177 - val_acc: 0.8669\n",
      "Epoch 5/10\n",
      "46900/46900 [==============================] - 420s 9ms/step - loss: 0.3655 - acc: 0.8765 - val_loss: 0.3881 - val_acc: 0.8690\n",
      "Epoch 6/10\n",
      "46900/46900 [==============================] - 420s 9ms/step - loss: 0.3486 - acc: 0.8806 - val_loss: 0.4529 - val_acc: 0.8725\n",
      "Epoch 7/10\n",
      "46900/46900 [==============================] - 424s 9ms/step - loss: 0.3199 - acc: 0.8842 - val_loss: 0.4524 - val_acc: 0.8762\n",
      "Epoch 8/10\n",
      "46900/46900 [==============================] - 420s 9ms/step - loss: 0.3497 - acc: 0.8696 - val_loss: 0.3902 - val_acc: 0.8767\n",
      "Epoch 9/10\n",
      "46900/46900 [==============================] - 418s 9ms/step - loss: 0.3035 - acc: 0.8904 - val_loss: 0.4394 - val_acc: 0.8800\n",
      "Epoch 10/10\n",
      "46900/46900 [==============================] - 424s 9ms/step - loss: 0.3302 - acc: 0.8771 - val_loss: 0.4879 - val_acc: 0.8741\n",
      "Test loss: 0.46329158995368264\n",
      "Test accuracy: 0.8739393939393939\n"
     ]
    },
    {
     "data": {
      "image/png": "[encoded data removed]",
      "text/plain": [
       "<Figure size 432x288 with 1 Axes>"
      ]
     },
     "metadata": {
      "tags": []
     },
     "output_type": "display_data"
    },
    {
     "name": "stdout",
     "output_type": "stream",
     "text": [
      "CPU times: user 2h 3min 4s, sys: 5min 51s, total: 2h 8min 56s\n",
      "Wall time: 1h 11min 16s\n"
     ]
    }
   ],
   "source": [
    "%%time\n",
    "# create the model\n",
    "def get_LSTM(embedding_vector_length = 32):\n",
    "    model = Sequential()\n",
    "    model.add(Embedding(num_words+1, embedding_vector_length, input_length=max_review_length))\n",
    "\n",
    "    model.add(LSTM(10, dropout=0.25, recurrent_dropout=0.25))\n",
    "\n",
    "    model.add(Dense(1, activation='relu', kernel_initializer='he_normal'))\n",
    "    model.compile(loss='binary_crossentropy', optimizer='adam', metrics=['accuracy'])\n",
    "    print(model.summary())\n",
    "    \n",
    "    return model\n",
    "\n",
    "\n",
    "model = get_LSTM()\n",
    "epochs = 10\n",
    "history = model.fit(x_train, Y_train, epochs=epochs, batch_size=64, validation_split=0.3)\n",
    "\n",
    "# Final evaluation of the model\n",
    "score = model.evaluate(x_test, Y_test, verbose=0)\n",
    "print('Test loss:', score[0])\n",
    "print('Test accuracy:', score[1])\n",
    "\n",
    "x = list(range(1, epochs+1))\n",
    "vy = history.history['val_loss']\n",
    "ty = history.history['loss']\n",
    "plot_loss(x, vy, ty)\n",
    "\n",
    "pt.add_row(['1-layered LSTM+Dropouts', sum(history.history['acc'])/len(history.history['acc']), \\\n",
    "            sum(history.history['val_acc'])/len(history.history['val_acc']), score[1]]) "
   ]
  },
  {
   "cell_type": "markdown",
   "metadata": {
    "colab_type": "text",
    "id": "CAQr6mUJDtPV"
   },
   "source": [
    "**5.1  2-Layered LSTM Architecture**"
   ]
  },
  {
   "cell_type": "code",
   "execution_count": 0,
   "metadata": {
    "colab": {
     "base_uri": "https://localhost:8080/",
     "height": 912
    },
    "colab_type": "code",
    "executionInfo": {
     "elapsed": 15465754,
     "status": "ok",
     "timestamp": 1566074170969,
     "user": {
      "displayName": "Rajeev Kumar",
      "photoUrl": "https://lh4.googleusercontent.com/-zxMD23mD6uY/AAAAAAAAAAI/AAAAAAAABs8/lMVQeTGuVm8/s64/photo.jpg",
      "userId": "01808597093748562717"
     },
     "user_tz": -330
    },
    "id": "3n8u_jAxCvz5",
    "outputId": "c7bfc7d6-1431-4f2d-dddc-2a86ed5148b3"
   },
   "outputs": [
    {
     "name": "stdout",
     "output_type": "stream",
     "text": [
      "_________________________________________________________________\n",
      "Layer (type)                 Output Shape              Param #   \n",
      "=================================================================\n",
      "embedding_2 (Embedding)      (None, 824, 32)           160032    \n",
      "_________________________________________________________________\n",
      "lstm_3 (LSTM)                (None, 824, 10)           1720      \n",
      "_________________________________________________________________\n",
      "lstm_4 (LSTM)                (None, 2)                 104       \n",
      "_________________________________________________________________\n",
      "dense_2 (Dense)              (None, 1)                 3         \n",
      "=================================================================\n",
      "Total params: 161,859\n",
      "Trainable params: 161,859\n",
      "Non-trainable params: 0\n",
      "_________________________________________________________________\n",
      "None\n",
      "Train on 170795 samples, validate on 73199 samples\n",
      "Epoch 1/5\n",
      "170795/170795 [==============================] - 2965s 17ms/step - loss: 0.3636 - acc: 0.8663 - val_loss: 0.3011 - val_acc: 0.8963\n",
      "Epoch 2/5\n",
      "170795/170795 [==============================] - 3009s 18ms/step - loss: 0.2726 - acc: 0.9061 - val_loss: 0.2483 - val_acc: 0.9094\n",
      "Epoch 3/5\n",
      "170795/170795 [==============================] - 2981s 17ms/step - loss: 0.2586 - acc: 0.9103 - val_loss: 0.2504 - val_acc: 0.9098\n",
      "Epoch 4/5\n",
      "170795/170795 [==============================] - 3013s 18ms/step - loss: 0.2446 - acc: 0.9169 - val_loss: 0.2556 - val_acc: 0.9153\n",
      "Epoch 5/5\n",
      "170795/170795 [==============================] - 3006s 18ms/step - loss: 0.2236 - acc: 0.9217 - val_loss: 0.2441 - val_acc: 0.9178\n",
      "Test loss: 0.24738389199455993\n",
      "Test accuracy: 0.917912745368242\n"
     ]
    },
    {
     "data": {
      "image/png": "[encoded data removed]",
      "text/plain": [
       "<Figure size 432x288 with 1 Axes>"
      ]
     },
     "metadata": {
      "tags": []
     },
     "output_type": "display_data"
    },
    {
     "name": "stdout",
     "output_type": "stream",
     "text": [
      "+-------------------------+---------------------+--------------------------+--------------------+\n",
      "|     RNN Architecture    | Mean Train Accuracy | Mean Validation Accuracy |   Test Accuracy    |\n",
      "+-------------------------+---------------------+--------------------------+--------------------+\n",
      "| 2-layered LSTM+Dropouts |  0.8862976082448479 |    0.898837415818857     | 0.9099162069291064 |\n",
      "| 2-layered LSTM+Dropouts |   0.90428174126961  |    0.9097091490376276    | 0.917912745368242  |\n",
      "+-------------------------+---------------------+--------------------------+--------------------+\n",
      "CPU times: user 7h 40min 7s, sys: 25min 23s, total: 8h 5min 31s\n",
      "Wall time: 4h 17min 44s\n"
     ]
    }
   ],
   "source": [
    "%%time\n",
    "# create the model\n",
    "def get_LSTM(embedding_vector_length = 32):\n",
    "    model = Sequential()\n",
    "    model.add(Embedding(num_words+1, embedding_vector_length, input_length=max_review_length))\n",
    "\n",
    "    model.add(LSTM(10, return_sequences=True, dropout=0.3, recurrent_dropout=0.3))\n",
    "    model.add(LSTM(2, dropout=0.25, recurrent_dropout=0.25))\n",
    "\n",
    "    model.add(Dense(1, activation='relu', kernel_initializer='he_normal'))\n",
    "    model.compile(loss='binary_crossentropy', optimizer='adam', metrics=['accuracy'])\n",
    "    print(model.summary())\n",
    "    \n",
    "    return model\n",
    "\n",
    "\n",
    "model = get_LSTM()\n",
    "epochs = 5\n",
    "history = model.fit(x_train, Y_train, epochs=epochs, batch_size=64, validation_split=0.3)\n",
    "\n",
    "# Final evaluation of the model\n",
    "score = model.evaluate(x_test, Y_test, verbose=0)\n",
    "print('Test loss:', score[0])\n",
    "print('Test accuracy:', score[1])\n",
    "\n",
    "x = list(range(1, epochs+1))\n",
    "vy = history.history['val_loss']\n",
    "ty = history.history['loss']\n",
    "plot_loss(x, vy, ty)\n",
    "\n",
    "pt.add_row(['2-layered LSTM+Dropouts', sum(history.history['acc'])/len(history.history['acc']), \\\n",
    "            sum(history.history['val_acc'])/len(history.history['val_acc']), score[1]])\n",
    "\n",
    "print(pt)"
   ]
  },
  {
   "cell_type": "markdown",
   "metadata": {
    "colab_type": "text",
    "id": "M-y6r4qEIJC8"
   },
   "source": [
    "**6.0 Conclusion**"
   ]
  },
  {
   "cell_type": "markdown",
   "metadata": {
    "colab_type": "text",
    "id": "h7jgYLj0IVVJ"
   },
   "source": [
    "1. I have used 243K data point for multi layered LSTM but for singled layered 100k data point is used.\n",
    "\n",
    "2. Single Layered Architecture is working well .\n",
    "\n",
    "3. Multi Layered Architecture is also working well ."
   ]
  }
 ],
 "metadata": {
  "colab": {
   "collapsed_sections": [],
   "name": "Assignment-15 : Apply LSTM On Amazon Fine Food Dataset.ipynb",
   "provenance": [],
   "version": "0.3.2"
  },
  "kernelspec": {
   "display_name": "Python 3",
   "language": "python",
   "name": "python3"
  },
  "language_info": {
   "codemirror_mode": {
    "name": "ipython",
    "version": 3
   },
   "file_extension": ".py",
   "mimetype": "text/x-python",
   "name": "python",
   "nbconvert_exporter": "python",
   "pygments_lexer": "ipython3",
   "version": "3.7.3"
  }
 },
 "nbformat": 4,
 "nbformat_minor": 1
}
