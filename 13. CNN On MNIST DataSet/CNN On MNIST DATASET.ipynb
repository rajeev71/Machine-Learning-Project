{
 "cells": [
  {
   "cell_type": "markdown",
   "metadata": {
    "colab_type": "text",
    "id": "eJdYPy9Xi4Hh"
   },
   "source": [
    "**1.0 Importing required library**"
   ]
  },
  {
   "cell_type": "code",
   "execution_count": 0,
   "metadata": {
    "colab": {},
    "colab_type": "code",
    "id": "sVIOoUb7iA4O"
   },
   "outputs": [],
   "source": [
    "from keras.datasets import mnist\n",
    "from keras.models import Sequential\n",
    "from keras.layers import Dense, Dropout, Flatten\n",
    "from keras.layers import Conv2D, MaxPooling2D, BatchNormalization\n",
    "from keras import backend as K\n",
    "from keras.utils import np_utils\n",
    "\n",
    "from matplotlib import pyplot as plt"
   ]
  },
  {
   "cell_type": "markdown",
   "metadata": {
    "colab_type": "text",
    "id": "5EHiMoNBjbS1"
   },
   "source": [
    "**2.0 Importing MNIST DataSet**"
   ]
  },
  {
   "cell_type": "code",
   "execution_count": 0,
   "metadata": {
    "colab": {},
    "colab_type": "code",
    "id": "ECxXplHUiVYa"
   },
   "outputs": [],
   "source": [
    "# input image dimensions\n",
    "img_rows, img_cols = 28, 28\n",
    "\n",
    "# the data, split between train and test sets\n",
    "(x_train, y_train), (x_test, y_test) = mnist.load_data()"
   ]
  },
  {
   "cell_type": "code",
   "execution_count": 0,
   "metadata": {
    "colab": {
     "base_uri": "https://localhost:8080/",
     "height": 34
    },
    "colab_type": "code",
    "executionInfo": {
     "elapsed": 772,
     "status": "ok",
     "timestamp": 1564387322757,
     "user": {
      "displayName": "Rajeev Kumar",
      "photoUrl": "https://lh4.googleusercontent.com/-zxMD23mD6uY/AAAAAAAAAAI/AAAAAAAABs8/lMVQeTGuVm8/s64/photo.jpg",
      "userId": "01808597093748562717"
     },
     "user_tz": -330
    },
    "id": "8EfxXQM-lJgk",
    "outputId": "65aa6ca2-d1e1-47aa-df01-2f1aadd6eafc"
   },
   "outputs": [
    {
     "data": {
      "text/plain": [
       "28"
      ]
     },
     "execution_count": 23,
     "metadata": {
      "tags": []
     },
     "output_type": "execute_result"
    }
   ],
   "source": [
    "x_train.shape[2]"
   ]
  },
  {
   "cell_type": "code",
   "execution_count": 0,
   "metadata": {
    "colab": {
     "base_uri": "https://localhost:8080/",
     "height": 286
    },
    "colab_type": "code",
    "executionInfo": {
     "elapsed": 1209,
     "status": "ok",
     "timestamp": 1564387324118,
     "user": {
      "displayName": "Rajeev Kumar",
      "photoUrl": "https://lh4.googleusercontent.com/-zxMD23mD6uY/AAAAAAAAAAI/AAAAAAAABs8/lMVQeTGuVm8/s64/photo.jpg",
      "userId": "01808597093748562717"
     },
     "user_tz": -330
    },
    "id": "HHSPlyjOibkh",
    "outputId": "c44fbcaf-9aff-4d01-b4a2-a68986e2255f"
   },
   "outputs": [
    {
     "data": {
      "text/plain": [
       "<matplotlib.image.AxesImage at 0x7f4d50f0a978>"
      ]
     },
     "execution_count": 24,
     "metadata": {
      "tags": []
     },
     "output_type": "execute_result"
    },
    {
     "data": {
      "image/png": "[encoded data removed]",
      "text/plain": [
       "<Figure size 432x288 with 1 Axes>"
      ]
     },
     "metadata": {
      "tags": []
     },
     "output_type": "display_data"
    }
   ],
   "source": [
    "\n",
    "plt.imshow(x_train[0])"
   ]
  },
  {
   "cell_type": "code",
   "execution_count": 0,
   "metadata": {
    "colab": {
     "base_uri": "https://localhost:8080/",
     "height": 68
    },
    "colab_type": "code",
    "executionInfo": {
     "elapsed": 1005,
     "status": "ok",
     "timestamp": 1564387326066,
     "user": {
      "displayName": "Rajeev Kumar",
      "photoUrl": "https://lh4.googleusercontent.com/-zxMD23mD6uY/AAAAAAAAAAI/AAAAAAAABs8/lMVQeTGuVm8/s64/photo.jpg",
      "userId": "01808597093748562717"
     },
     "user_tz": -330
    },
    "id": "JGnAjg7uj51n",
    "outputId": "87824f1d-f069-4be8-86fd-33c532edaf92"
   },
   "outputs": [
    {
     "name": "stdout",
     "output_type": "stream",
     "text": [
      "x_train shape: (60000, 28, 28, 1)\n",
      "60000 train samples\n",
      "10000 test samples\n"
     ]
    }
   ],
   "source": [
    "# Check for Theano vs Tensorflow Backend\n",
    "if K.image_data_format() == 'channels_first':\n",
    "    x_train = x_train.reshape(x_train.shape[0], 1, img_rows, img_cols)\n",
    "    x_test = x_test.reshape(x_test.shape[0], 1, img_rows, img_cols)\n",
    "    input_shape = (1, img_rows, img_cols)\n",
    "else:\n",
    "    x_train = x_train.reshape(x_train.shape[0], img_rows, img_cols, 1)\n",
    "    x_test = x_test.reshape(x_test.shape[0], img_rows, img_cols, 1)\n",
    "    input_shape = (img_rows, img_cols, 1)\n",
    "\n",
    "x_train = x_train.astype('float32')\n",
    "x_test = x_test.astype('float32')\n",
    "x_train /= 255\n",
    "x_test /= 255\n",
    "print('x_train shape:', x_train.shape)\n",
    "print(x_train.shape[0], 'train samples')\n",
    "print(x_test.shape[0], 'test samples')\n",
    "\n",
    "# convert class vectors to binary class matrices\n",
    "y_train = np_utils.to_categorical(y_train, num_classes)\n",
    "y_test = np_utils.to_categorical(y_test, num_classes)"
   ]
  },
  {
   "cell_type": "markdown",
   "metadata": {
    "colab_type": "text",
    "id": "Wm9uC0wdoyRI"
   },
   "source": [
    "**3.0 Define  Plot Function**"
   ]
  },
  {
   "cell_type": "code",
   "execution_count": 0,
   "metadata": {
    "colab": {},
    "colab_type": "code",
    "id": "dhbdVxDYj5-C"
   },
   "outputs": [],
   "source": [
    "def plot_loss(x, vy, ty, xlabel='Epoch', ylabel='Categorical Crossentropy Loss'):\n",
    "    _, = plt.plot(x, vy, 'b', label=\"Validation Loss\")\n",
    "    _, = plt.plot(x, ty, 'r', label=\"Train Loss\")\n",
    "    plt.xlabel(xlabel)\n",
    "    plt.ylabel(ylabel)\n",
    "\n",
    "    plt.grid()\n",
    "    plt.legend()\n",
    "    plt.grid()\n",
    "    plt.show()"
   ]
  },
  {
   "cell_type": "code",
   "execution_count": 0,
   "metadata": {
    "colab": {},
    "colab_type": "code",
    "id": "QOyaX991p_Aq"
   },
   "outputs": [],
   "source": [
    "batch_size = 128\n",
    "num_classes = 10\n",
    "epochs = 12"
   ]
  },
  {
   "cell_type": "code",
   "execution_count": 0,
   "metadata": {
    "colab": {},
    "colab_type": "code",
    "id": "l9BXsysxuoAO"
   },
   "outputs": [],
   "source": [
    "from prettytable import PrettyTable\n",
    "pt = PrettyTable()\n",
    "pt.field_names = ['CNN Architecture', 'Mean Train Accuracy', 'Mean Validation Accuracy', 'Test Accuracy']"
   ]
  },
  {
   "cell_type": "markdown",
   "metadata": {
    "colab_type": "text",
    "id": "C1VRpMg2o6nJ"
   },
   "source": [
    "**4.0 Architecture of 2*2 Kernel**"
   ]
  },
  {
   "cell_type": "markdown",
   "metadata": {
    "colab_type": "text",
    "id": "SI6d_7gbpWYV"
   },
   "source": [
    "**4.1 2-Conv+Dropout+Strides(1,1)**"
   ]
  },
  {
   "cell_type": "code",
   "execution_count": 0,
   "metadata": {
    "colab": {
     "base_uri": "https://localhost:8080/",
     "height": 776
    },
    "colab_type": "code",
    "executionInfo": {
     "elapsed": 656219,
     "status": "ok",
     "timestamp": 1564387993092,
     "user": {
      "displayName": "Rajeev Kumar",
      "photoUrl": "https://lh4.googleusercontent.com/-zxMD23mD6uY/AAAAAAAAAAI/AAAAAAAABs8/lMVQeTGuVm8/s64/photo.jpg",
      "userId": "01808597093748562717"
     },
     "user_tz": -330
    },
    "id": "9P4B07_gj6Ac",
    "outputId": "ecabc732-409f-47b5-a588-5c18da37fc9e"
   },
   "outputs": [
    {
     "name": "stdout",
     "output_type": "stream",
     "text": [
      "Train on 18000 samples, validate on 42000 samples\n",
      "Epoch 1/12\n",
      "18000/18000 [==============================] - 55s 3ms/step - loss: 0.4738 - acc: 0.8523 - val_loss: 0.1303 - val_acc: 0.9610\n",
      "Epoch 2/12\n",
      "18000/18000 [==============================] - 54s 3ms/step - loss: 0.1678 - acc: 0.9486 - val_loss: 0.0854 - val_acc: 0.9741\n",
      "Epoch 3/12\n",
      "18000/18000 [==============================] - 54s 3ms/step - loss: 0.1210 - acc: 0.9627 - val_loss: 0.0755 - val_acc: 0.9772\n",
      "Epoch 4/12\n",
      "18000/18000 [==============================] - 54s 3ms/step - loss: 0.0981 - acc: 0.9688 - val_loss: 0.0730 - val_acc: 0.9780\n",
      "Epoch 5/12\n",
      "18000/18000 [==============================] - 54s 3ms/step - loss: 0.0736 - acc: 0.9767 - val_loss: 0.0732 - val_acc: 0.9785\n",
      "Epoch 6/12\n",
      "18000/18000 [==============================] - 54s 3ms/step - loss: 0.0672 - acc: 0.9784 - val_loss: 0.0730 - val_acc: 0.9799\n",
      "Epoch 7/12\n",
      "18000/18000 [==============================] - 55s 3ms/step - loss: 0.0555 - acc: 0.9819 - val_loss: 0.0677 - val_acc: 0.9815\n",
      "Epoch 8/12\n",
      "18000/18000 [==============================] - 54s 3ms/step - loss: 0.0486 - acc: 0.9844 - val_loss: 0.0669 - val_acc: 0.9820\n",
      "Epoch 9/12\n",
      "18000/18000 [==============================] - 54s 3ms/step - loss: 0.0467 - acc: 0.9840 - val_loss: 0.0642 - val_acc: 0.9820\n",
      "Epoch 10/12\n",
      "18000/18000 [==============================] - 54s 3ms/step - loss: 0.0416 - acc: 0.9869 - val_loss: 0.0658 - val_acc: 0.9830\n",
      "Epoch 11/12\n",
      "18000/18000 [==============================] - 54s 3ms/step - loss: 0.0373 - acc: 0.9870 - val_loss: 0.0699 - val_acc: 0.9823\n",
      "Epoch 12/12\n",
      "18000/18000 [==============================] - 54s 3ms/step - loss: 0.0347 - acc: 0.9887 - val_loss: 0.0725 - val_acc: 0.9817\n",
      "Test loss: 0.05957801396536074\n",
      "Test accuracy: 0.983\n"
     ]
    },
    {
     "data": {
      "image/png": "[encoded data removed]",
      "text/plain": [
       "<Figure size 432x288 with 1 Axes>"
      ]
     },
     "metadata": {
      "tags": []
     },
     "output_type": "display_data"
    },
    {
     "name": "stdout",
     "output_type": "stream",
     "text": [
      "CPU times: user 20min 20s, sys: 20.8 s, total: 20min 41s\n",
      "Wall time: 10min 54s\n"
     ]
    }
   ],
   "source": [
    "%%time\n",
    "def get_cnn():\n",
    "    model = Sequential()\n",
    "    \n",
    "    model.add(Conv2D(filters=32, kernel_size=(2, 2), strides=(1, 1), padding='valid', \\\n",
    "                     activation='relu', kernel_initializer='he_normal', input_shape=input_shape))\n",
    "    \n",
    "    model.add(Conv2D(64, (2, 2), activation='relu', kernel_initializer='he_normal'))\n",
    "    model.add(MaxPooling2D(pool_size=(2, 2)))\n",
    "    model.add(Dropout(0.25))\n",
    "    \n",
    "    model.add(Flatten())\n",
    "    model.add(Dense(128, activation='relu', kernel_initializer='he_normal'))\n",
    "    model.add(Dropout(0.5))\n",
    "    model.add(Dense(num_classes, activation='softmax'))\n",
    "    \n",
    "    model.compile(loss='categorical_crossentropy', optimizer='Adam', metrics=['accuracy'])\n",
    "    \n",
    "    return model\n",
    "\n",
    "model = get_cnn()\n",
    "history = model.fit(x_train, y_train, batch_size=batch_size, epochs=epochs, verbose=1, validation_split=0.7)\n",
    "\n",
    "score = model.evaluate(x_test, y_test, verbose=0)\n",
    "print('Test loss:', score[0])\n",
    "print('Test accuracy:', score[1])\n",
    "\n",
    "x = list(range(1, epochs+1))\n",
    "vy = history.history['val_loss']\n",
    "ty = history.history['loss']\n",
    "plot_loss(x, vy, ty)\n",
    "\n"
   ]
  },
  {
   "cell_type": "code",
   "execution_count": 0,
   "metadata": {
    "colab": {},
    "colab_type": "code",
    "id": "1QZQOghyy27M"
   },
   "outputs": [],
   "source": [
    "pt.add_row(['2-Conv + Dropout + Kernel(2x2) + Strides(1x1)', sum(history.history['acc'])/len(history.history['acc']), \\\n",
    "            sum(history.history['val_acc'])/len(history.history['val_acc']), score[1]])"
   ]
  },
  {
   "cell_type": "markdown",
   "metadata": {
    "colab_type": "text",
    "id": "GXOcvJ8csMWC"
   },
   "source": [
    "**5.0 Architecture of 3*3 Kernel**"
   ]
  },
  {
   "cell_type": "markdown",
   "metadata": {
    "colab_type": "text",
    "id": "QOhuldMhsX-N"
   },
   "source": [
    "**5.1 2-Conv + Strides(1,1)**"
   ]
  },
  {
   "cell_type": "code",
   "execution_count": 0,
   "metadata": {
    "colab": {
     "base_uri": "https://localhost:8080/",
     "height": 776
    },
    "colab_type": "code",
    "executionInfo": {
     "elapsed": 814599,
     "status": "ok",
     "timestamp": 1564388955427,
     "user": {
      "displayName": "Rajeev Kumar",
      "photoUrl": "https://lh4.googleusercontent.com/-zxMD23mD6uY/AAAAAAAAAAI/AAAAAAAABs8/lMVQeTGuVm8/s64/photo.jpg",
      "userId": "01808597093748562717"
     },
     "user_tz": -330
    },
    "id": "P3QQf0mXiyoR",
    "outputId": "02d3ded0-e42e-4cd4-e713-5248d15542d4"
   },
   "outputs": [
    {
     "name": "stdout",
     "output_type": "stream",
     "text": [
      "Train on 18000 samples, validate on 42000 samples\n",
      "Epoch 1/12\n",
      "18000/18000 [==============================] - 67s 4ms/step - loss: 0.2649 - acc: 0.9190 - val_loss: 0.1022 - val_acc: 0.9683\n",
      "Epoch 2/12\n",
      "18000/18000 [==============================] - 67s 4ms/step - loss: 0.0595 - acc: 0.9808 - val_loss: 0.0812 - val_acc: 0.9757\n",
      "Epoch 3/12\n",
      "18000/18000 [==============================] - 67s 4ms/step - loss: 0.0252 - acc: 0.9929 - val_loss: 0.0672 - val_acc: 0.9808\n",
      "Epoch 4/12\n",
      "18000/18000 [==============================] - 67s 4ms/step - loss: 0.0196 - acc: 0.9939 - val_loss: 0.0701 - val_acc: 0.9800\n",
      "Epoch 5/12\n",
      "18000/18000 [==============================] - 67s 4ms/step - loss: 0.0095 - acc: 0.9971 - val_loss: 0.0682 - val_acc: 0.9828\n",
      "Epoch 6/12\n",
      "18000/18000 [==============================] - 67s 4ms/step - loss: 0.0029 - acc: 0.9995 - val_loss: 0.0699 - val_acc: 0.9822\n",
      "Epoch 7/12\n",
      "18000/18000 [==============================] - 67s 4ms/step - loss: 0.0054 - acc: 0.9984 - val_loss: 0.0662 - val_acc: 0.9835\n",
      "Epoch 8/12\n",
      "18000/18000 [==============================] - 67s 4ms/step - loss: 0.0029 - acc: 0.9992 - val_loss: 0.0907 - val_acc: 0.9797\n",
      "Epoch 9/12\n",
      "18000/18000 [==============================] - 67s 4ms/step - loss: 0.0076 - acc: 0.9977 - val_loss: 0.0754 - val_acc: 0.9826\n",
      "Epoch 10/12\n",
      "18000/18000 [==============================] - 67s 4ms/step - loss: 0.0036 - acc: 0.9989 - val_loss: 0.0827 - val_acc: 0.9821\n",
      "Epoch 11/12\n",
      "18000/18000 [==============================] - 67s 4ms/step - loss: 0.0022 - acc: 0.9994 - val_loss: 0.0854 - val_acc: 0.9812\n",
      "Epoch 12/12\n",
      "18000/18000 [==============================] - 67s 4ms/step - loss: 0.0061 - acc: 0.9976 - val_loss: 0.0995 - val_acc: 0.9788\n",
      "Test loss: 0.08380240587771241\n",
      "Test accuracy: 0.9802\n"
     ]
    },
    {
     "data": {
      "image/png": "[encoded data removed]",
      "text/plain": [
       "<Figure size 432x288 with 1 Axes>"
      ]
     },
     "metadata": {
      "tags": []
     },
     "output_type": "display_data"
    },
    {
     "name": "stdout",
     "output_type": "stream",
     "text": [
      "CPU times: user 25min 48s, sys: 22.1 s, total: 26min 10s\n",
      "Wall time: 13min 33s\n"
     ]
    }
   ],
   "source": [
    "%%time\n",
    "def get_cnn():\n",
    "    model = Sequential()\n",
    "    \n",
    "    model.add(Conv2D(filters=32, kernel_size=(3, 3), strides=(1, 1), padding='valid', \\\n",
    "                     activation='relu', kernel_initializer='he_normal', input_shape=input_shape))\n",
    "    \n",
    "    model.add(Conv2D(64, (3, 3), activation='relu', kernel_initializer='he_normal'))\n",
    "    model.add(MaxPooling2D(pool_size=(2, 2)))\n",
    "    \n",
    "    model.add(Flatten())\n",
    "    model.add(Dense(128, activation='relu', kernel_initializer='he_normal'))\n",
    "    model.add(Dense(num_classes, activation='softmax'))\n",
    "    \n",
    "    model.compile(loss='categorical_crossentropy', optimizer='Adam', metrics=['accuracy'])\n",
    "    \n",
    "    return model\n",
    "\n",
    "model = get_cnn()\n",
    "history = model.fit(x_train, y_train, batch_size=batch_size, epochs=epochs, verbose=1, validation_split=0.7)\n",
    "\n",
    "score = model.evaluate(x_test, y_test, verbose=0)\n",
    "print('Test loss:', score[0])\n",
    "print('Test accuracy:', score[1])\n",
    "\n",
    "x = list(range(1, epochs+1))\n",
    "vy = history.history['val_loss']\n",
    "ty = history.history['loss']\n",
    "plot_loss(x, vy, ty)\n",
    "\n",
    "pt.add_row(['2-Conv + Kernel(3x3) + Strides(1x1)', sum(history.history['acc'])/len(history.history['acc']), \\\n",
    "            sum(history.history['val_acc'])/len(history.history['val_acc']), score[1]])"
   ]
  },
  {
   "cell_type": "markdown",
   "metadata": {
    "colab_type": "text",
    "id": "ZknEALy_sw2Q"
   },
   "source": [
    "**5.2 2-Conv + Dropout + Strides(1,1)**"
   ]
  },
  {
   "cell_type": "code",
   "execution_count": 0,
   "metadata": {
    "colab": {
     "base_uri": "https://localhost:8080/",
     "height": 776
    },
    "colab_type": "code",
    "executionInfo": {
     "elapsed": 845272,
     "status": "ok",
     "timestamp": 1564390271536,
     "user": {
      "displayName": "Rajeev Kumar",
      "photoUrl": "https://lh4.googleusercontent.com/-zxMD23mD6uY/AAAAAAAAAAI/AAAAAAAABs8/lMVQeTGuVm8/s64/photo.jpg",
      "userId": "01808597093748562717"
     },
     "user_tz": -330
    },
    "id": "2AspPpELsj28",
    "outputId": "848419dd-17b0-402c-9595-e3c82c41ad4c"
   },
   "outputs": [
    {
     "name": "stdout",
     "output_type": "stream",
     "text": [
      "Train on 18000 samples, validate on 42000 samples\n",
      "Epoch 1/12\n",
      "18000/18000 [==============================] - 70s 4ms/step - loss: 0.4865 - acc: 0.8538 - val_loss: 0.1088 - val_acc: 0.9677\n",
      "Epoch 2/12\n",
      "18000/18000 [==============================] - 69s 4ms/step - loss: 0.1534 - acc: 0.9543 - val_loss: 0.0738 - val_acc: 0.9773\n",
      "Epoch 3/12\n",
      "18000/18000 [==============================] - 69s 4ms/step - loss: 0.1085 - acc: 0.9664 - val_loss: 0.0676 - val_acc: 0.9802\n",
      "Epoch 4/12\n",
      "18000/18000 [==============================] - 70s 4ms/step - loss: 0.0807 - acc: 0.9751 - val_loss: 0.0650 - val_acc: 0.9801\n",
      "Epoch 5/12\n",
      "18000/18000 [==============================] - 70s 4ms/step - loss: 0.0716 - acc: 0.9777 - val_loss: 0.0585 - val_acc: 0.9831\n",
      "Epoch 6/12\n",
      "18000/18000 [==============================] - 70s 4ms/step - loss: 0.0588 - acc: 0.9808 - val_loss: 0.0544 - val_acc: 0.9845\n",
      "Epoch 7/12\n",
      "18000/18000 [==============================] - 70s 4ms/step - loss: 0.0546 - acc: 0.9815 - val_loss: 0.0545 - val_acc: 0.9836\n",
      "Epoch 8/12\n",
      "18000/18000 [==============================] - 70s 4ms/step - loss: 0.0425 - acc: 0.9863 - val_loss: 0.0576 - val_acc: 0.9840\n",
      "Epoch 9/12\n",
      "18000/18000 [==============================] - 70s 4ms/step - loss: 0.0395 - acc: 0.9869 - val_loss: 0.0543 - val_acc: 0.9851\n",
      "Epoch 10/12\n",
      "18000/18000 [==============================] - 70s 4ms/step - loss: 0.0357 - acc: 0.9883 - val_loss: 0.0547 - val_acc: 0.9851\n",
      "Epoch 11/12\n",
      "18000/18000 [==============================] - 70s 4ms/step - loss: 0.0286 - acc: 0.9913 - val_loss: 0.0549 - val_acc: 0.9861\n",
      "Epoch 12/12\n",
      "18000/18000 [==============================] - 70s 4ms/step - loss: 0.0286 - acc: 0.9908 - val_loss: 0.0606 - val_acc: 0.9855\n",
      "Test loss: 0.053922702607593326\n",
      "Test accuracy: 0.9857\n"
     ]
    },
    {
     "data": {
      "image/png": "[encoded data removed]",
      "text/plain": [
       "<Figure size 432x288 with 1 Axes>"
      ]
     },
     "metadata": {
      "tags": []
     },
     "output_type": "display_data"
    },
    {
     "name": "stdout",
     "output_type": "stream",
     "text": [
      "CPU times: user 26min 46s, sys: 25.5 s, total: 27min 11s\n",
      "Wall time: 14min 3s\n"
     ]
    }
   ],
   "source": [
    "%%time\n",
    "def get_cnn():\n",
    "    model = Sequential()\n",
    "    \n",
    "    model.add(Conv2D(filters=32, kernel_size=(3, 3), strides=(1, 1), padding='valid', \\\n",
    "                     activation='relu', kernel_initializer='he_normal', input_shape=input_shape))\n",
    "    \n",
    "    model.add(Conv2D(64, (3, 3), activation='relu', kernel_initializer='he_normal'))\n",
    "    model.add(MaxPooling2D(pool_size=(2, 2)))\n",
    "    model.add(Dropout(0.25))\n",
    "    \n",
    "    model.add(Flatten())\n",
    "    model.add(Dense(128, activation='relu', kernel_initializer='he_normal'))\n",
    "    model.add(Dropout(0.5))\n",
    "    model.add(Dense(num_classes, activation='softmax'))\n",
    "    \n",
    "    model.compile(loss='categorical_crossentropy', optimizer='Adam', metrics=['accuracy'])\n",
    "    \n",
    "    return model\n",
    "\n",
    "model = get_cnn()\n",
    "history = model.fit(x_train, y_train, batch_size=batch_size, epochs=epochs, verbose=1, validation_split=0.7)\n",
    "\n",
    "score = model.evaluate(x_test, y_test, verbose=0)\n",
    "print('Test loss:', score[0])\n",
    "print('Test accuracy:', score[1])\n",
    "\n",
    "x = list(range(1, epochs+1))\n",
    "vy = history.history['val_loss']\n",
    "ty = history.history['loss']\n",
    "plot_loss(x, vy, ty)\n",
    "\n",
    "pt.add_row(['2-Conv + Dropout + Kernel(3x3) + Strides(1x1)', sum(history.history['acc'])/len(history.history['acc']), \\\n",
    "            sum(history.history['val_acc'])/len(history.history['val_acc']), score[1]])"
   ]
  },
  {
   "cell_type": "markdown",
   "metadata": {
    "colab_type": "text",
    "id": "cdkupwIOtcvs"
   },
   "source": [
    "**5.3 5-Conv + BN + Dropout + Strides(1,1)**"
   ]
  },
  {
   "cell_type": "code",
   "execution_count": 0,
   "metadata": {
    "colab": {
     "base_uri": "https://localhost:8080/",
     "height": 830
    },
    "colab_type": "code",
    "executionInfo": {
     "elapsed": 214611,
     "status": "ok",
     "timestamp": 1564393132699,
     "user": {
      "displayName": "Rajeev Kumar",
      "photoUrl": "https://lh4.googleusercontent.com/-zxMD23mD6uY/AAAAAAAAAAI/AAAAAAAABs8/lMVQeTGuVm8/s64/photo.jpg",
      "userId": "01808597093748562717"
     },
     "user_tz": -330
    },
    "id": "6_cCa3L1tezE",
    "outputId": "2d510695-2933-46b7-d657-671bb3cc0488"
   },
   "outputs": [
    {
     "name": "stderr",
     "output_type": "stream",
     "text": [
      "W0729 08:51:15.443840 139971163633536 deprecation_wrapper.py:119] From /usr/local/lib/python3.6/dist-packages/keras/backend/tensorflow_backend.py:1834: The name tf.nn.fused_batch_norm is deprecated. Please use tf.compat.v1.nn.fused_batch_norm instead.\n",
      "\n"
     ]
    },
    {
     "name": "stdout",
     "output_type": "stream",
     "text": [
      "Train on 18000 samples, validate on 42000 samples\n",
      "Epoch 1/12\n",
      "18000/18000 [==============================] - 238s 13ms/step - loss: 0.7398 - acc: 0.7699 - val_loss: 0.1357 - val_acc: 0.9587\n",
      "Epoch 2/12\n",
      "18000/18000 [==============================] - 237s 13ms/step - loss: 0.1929 - acc: 0.9399 - val_loss: 0.0895 - val_acc: 0.9722\n",
      "Epoch 3/12\n",
      "18000/18000 [==============================] - 236s 13ms/step - loss: 0.1351 - acc: 0.9589 - val_loss: 0.0737 - val_acc: 0.9764\n",
      "Epoch 4/12\n",
      "18000/18000 [==============================] - 236s 13ms/step - loss: 0.1117 - acc: 0.9666 - val_loss: 0.0576 - val_acc: 0.9821\n",
      "Epoch 5/12\n",
      "18000/18000 [==============================] - 236s 13ms/step - loss: 0.0976 - acc: 0.9704 - val_loss: 0.0892 - val_acc: 0.9737\n",
      "Epoch 6/12\n",
      "18000/18000 [==============================] - 236s 13ms/step - loss: 0.0886 - acc: 0.9724 - val_loss: 0.0482 - val_acc: 0.9851\n",
      "Epoch 7/12\n",
      "18000/18000 [==============================] - 236s 13ms/step - loss: 0.0740 - acc: 0.9767 - val_loss: 0.0485 - val_acc: 0.9858\n",
      "Epoch 8/12\n",
      "18000/18000 [==============================] - 237s 13ms/step - loss: 0.0676 - acc: 0.9784 - val_loss: 0.0463 - val_acc: 0.9862\n",
      "Epoch 9/12\n",
      "18000/18000 [==============================] - 236s 13ms/step - loss: 0.0616 - acc: 0.9801 - val_loss: 0.0537 - val_acc: 0.9848\n",
      "Epoch 10/12\n",
      "18000/18000 [==============================] - 237s 13ms/step - loss: 0.0563 - acc: 0.9824 - val_loss: 0.0575 - val_acc: 0.9840\n",
      "Epoch 11/12\n",
      "18000/18000 [==============================] - 237s 13ms/step - loss: 0.0505 - acc: 0.9843 - val_loss: 0.0443 - val_acc: 0.9878\n",
      "Epoch 12/12\n",
      "18000/18000 [==============================] - 237s 13ms/step - loss: 0.0439 - acc: 0.9858 - val_loss: 0.0525 - val_acc: 0.9851\n",
      "Test loss: 0.04645347844460921\n",
      "Test accuracy: 0.9854\n"
     ]
    },
    {
     "data": {
      "image/png": "[encoded data removed]",
      "text/plain": [
       "<Figure size 432x288 with 1 Axes>"
      ]
     },
     "metadata": {
      "tags": []
     },
     "output_type": "display_data"
    },
    {
     "name": "stdout",
     "output_type": "stream",
     "text": [
      "CPU times: user 1h 32min 54s, sys: 50.4 s, total: 1h 33min 44s\n",
      "Wall time: 47min 41s\n"
     ]
    }
   ],
   "source": [
    "%%time\n",
    "epochs = 12\n",
    "def get_cnn():\n",
    "    model = Sequential()\n",
    "    \n",
    "    model.add(Conv2D(filters=32, kernel_size=(3, 3), strides=(1, 1), padding='same', \\\n",
    "                     activation='relu', kernel_initializer='he_normal', input_shape=input_shape))\n",
    "    \n",
    "    model.add(Conv2D(64, (3, 3), activation='relu', padding='same', kernel_initializer='he_normal'))    \n",
    "    model.add(Conv2D(64, (3, 3), activation='relu', padding='same', kernel_initializer='he_normal'))\n",
    "    model.add(MaxPooling2D(pool_size=(2, 2)))\n",
    "    model.add(BatchNormalization())\n",
    "    model.add(Dropout(0.25))\n",
    "    \n",
    "    model.add(Conv2D(16, (3, 3), activation='relu', padding='same', kernel_initializer='he_normal'))    \n",
    "    model.add(Conv2D(16, (3, 3), activation='relu', padding='valid', kernel_initializer='he_normal'))\n",
    "    model.add(MaxPooling2D(pool_size=(2, 2)))\n",
    "    model.add(BatchNormalization())\n",
    "    model.add(Dropout(0.25))\n",
    "    \n",
    "    model.add(Flatten())\n",
    "    model.add(Dense(128, activation='relu', kernel_initializer='he_normal'))\n",
    "    model.add(Dropout(0.5))\n",
    "    model.add(Dense(num_classes, activation='softmax'))\n",
    "    \n",
    "    model.compile(loss='categorical_crossentropy', optimizer='Adam', metrics=['accuracy'])\n",
    "    \n",
    "    return model\n",
    "\n",
    "model = get_cnn()\n",
    "history = model.fit(x_train, y_train, batch_size=batch_size, epochs=epochs, verbose=1, validation_split=0.7)\n",
    "\n",
    "score = model.evaluate(x_test, y_test, verbose=0)\n",
    "print('Test loss:', score[0])\n",
    "print('Test accuracy:', score[1])\n",
    "\n",
    "x = list(range(1, epochs+1))\n",
    "vy = history.history['val_loss']\n",
    "ty = history.history['loss']\n",
    "plot_loss(x, vy, ty)\n",
    "\n",
    "pt.add_row(['5-Conv + BN + Dropout + Kernel(3x3) + Strides(1x1)', sum(history.history['acc'])/len(history.history['acc']), \\\n",
    "            sum(history.history['val_acc'])/len(history.history['val_acc']), score[1]])-"
   ]
  },
  {
   "cell_type": "markdown",
   "metadata": {
    "colab_type": "text",
    "id": "zug9MCzLwShL"
   },
   "source": [
    "**6.0 Architecture of 5*5  Kernel**"
   ]
  },
  {
   "cell_type": "markdown",
   "metadata": {
    "colab_type": "text",
    "id": "tXvwgTdowcwQ"
   },
   "source": [
    "**6.1 2-Conv + Dropout + Strides(2,2)**"
   ]
  },
  {
   "cell_type": "code",
   "execution_count": 0,
   "metadata": {
    "colab": {
     "base_uri": "https://localhost:8080/",
     "height": 776
    },
    "colab_type": "code",
    "executionInfo": {
     "elapsed": 1289333,
     "status": "ok",
     "timestamp": 1564394422481,
     "user": {
      "displayName": "Rajeev Kumar",
      "photoUrl": "https://lh4.googleusercontent.com/-zxMD23mD6uY/AAAAAAAAAAI/AAAAAAAABs8/lMVQeTGuVm8/s64/photo.jpg",
      "userId": "01808597093748562717"
     },
     "user_tz": -330
    },
    "id": "5dlMqNwHwbpV",
    "outputId": "a3806015-5c68-47ef-918a-37d6027e85c7"
   },
   "outputs": [
    {
     "name": "stdout",
     "output_type": "stream",
     "text": [
      "Train on 18000 samples, validate on 42000 samples\n",
      "Epoch 1/12\n",
      "18000/18000 [==============================] - 107s 6ms/step - loss: 0.3926 - acc: 0.8759 - val_loss: 0.0938 - val_acc: 0.9707\n",
      "Epoch 2/12\n",
      "18000/18000 [==============================] - 107s 6ms/step - loss: 0.1217 - acc: 0.9634 - val_loss: 0.0651 - val_acc: 0.9805\n",
      "Epoch 3/12\n",
      "18000/18000 [==============================] - 107s 6ms/step - loss: 0.0857 - acc: 0.9729 - val_loss: 0.0576 - val_acc: 0.9818\n",
      "Epoch 4/12\n",
      "18000/18000 [==============================] - 107s 6ms/step - loss: 0.0668 - acc: 0.9786 - val_loss: 0.0555 - val_acc: 0.9834\n",
      "Epoch 5/12\n",
      "18000/18000 [==============================] - 107s 6ms/step - loss: 0.0495 - acc: 0.9840 - val_loss: 0.0543 - val_acc: 0.9844\n",
      "Epoch 6/12\n",
      "18000/18000 [==============================] - 106s 6ms/step - loss: 0.0426 - acc: 0.9865 - val_loss: 0.0494 - val_acc: 0.9856\n",
      "Epoch 7/12\n",
      "18000/18000 [==============================] - 107s 6ms/step - loss: 0.0351 - acc: 0.9890 - val_loss: 0.0484 - val_acc: 0.9864\n",
      "Epoch 8/12\n",
      "18000/18000 [==============================] - 107s 6ms/step - loss: 0.0339 - acc: 0.9890 - val_loss: 0.0490 - val_acc: 0.9872\n",
      "Epoch 9/12\n",
      "18000/18000 [==============================] - 107s 6ms/step - loss: 0.0310 - acc: 0.9896 - val_loss: 0.0478 - val_acc: 0.9878\n",
      "Epoch 10/12\n",
      "18000/18000 [==============================] - 107s 6ms/step - loss: 0.0284 - acc: 0.9908 - val_loss: 0.0514 - val_acc: 0.9866\n",
      "Epoch 11/12\n",
      "18000/18000 [==============================] - 107s 6ms/step - loss: 0.0224 - acc: 0.9924 - val_loss: 0.0463 - val_acc: 0.9881\n",
      "Epoch 12/12\n",
      "18000/18000 [==============================] - 106s 6ms/step - loss: 0.0201 - acc: 0.9934 - val_loss: 0.0494 - val_acc: 0.9875\n",
      "Test loss: 0.04015570675753615\n",
      "Test accuracy: 0.9884\n"
     ]
    },
    {
     "data": {
      "image/png": "[encoded data removed]",
      "text/plain": [
       "<Figure size 432x288 with 1 Axes>"
      ]
     },
     "metadata": {
      "tags": []
     },
     "output_type": "display_data"
    },
    {
     "name": "stdout",
     "output_type": "stream",
     "text": [
      "CPU times: user 41min 13s, sys: 25.2 s, total: 41min 39s\n",
      "Wall time: 21min 29s\n"
     ]
    }
   ],
   "source": [
    "%%time\n",
    "def get_cnn():\n",
    "    model = Sequential()\n",
    "    \n",
    "    model.add(Conv2D(filters=32, kernel_size=(5,5), strides=(1, 1), padding='valid', \\\n",
    "                     activation='relu', kernel_initializer='he_normal', input_shape=input_shape))\n",
    "    \n",
    "    model.add(Conv2D(64, (5,5), activation='relu', kernel_initializer='he_normal'))\n",
    "    model.add(MaxPooling2D(pool_size=(2, 2)))\n",
    "    model.add(Dropout(0.25))\n",
    "    \n",
    "    model.add(Flatten())\n",
    "    model.add(Dense(128, activation='relu', kernel_initializer='he_normal'))\n",
    "    model.add(Dropout(0.5))\n",
    "    model.add(Dense(num_classes, activation='softmax'))\n",
    "    \n",
    "    model.compile(loss='categorical_crossentropy', optimizer='Adam', metrics=['accuracy'])\n",
    "    \n",
    "    return model\n",
    "\n",
    "model = get_cnn()\n",
    "history = model.fit(x_train, y_train, batch_size=batch_size, epochs=epochs, verbose=1, validation_split=0.7)\n",
    "\n",
    "score = model.evaluate(x_test, y_test, verbose=0)\n",
    "print('Test loss:', score[0])\n",
    "print('Test accuracy:', score[1])\n",
    "\n",
    "x = list(range(1, epochs+1))\n",
    "vy = history.history['val_loss']\n",
    "ty = history.history['loss']\n",
    "plot_loss(x, vy, ty)\n",
    "\n",
    "pt.add_row(['2-Conv + Dropout+Kernel(5x5) + Strides(2x2)', sum(history.history['acc'])/len(history.history['acc']), \\\n",
    "            sum(history.history['val_acc'])/len(history.history['val_acc']), score[1]])---"
   ]
  },
  {
   "cell_type": "markdown",
   "metadata": {
    "colab_type": "text",
    "id": "xSvP8iCbxhp1"
   },
   "source": [
    "**6.2 3-Conv+ BN + Dropout + Stride(2x2)**"
   ]
  },
  {
   "cell_type": "code",
   "execution_count": 0,
   "metadata": {
    "colab": {
     "base_uri": "https://localhost:8080/",
     "height": 1000
    },
    "colab_type": "code",
    "executionInfo": {
     "elapsed": 1593801,
     "status": "ok",
     "timestamp": 1564396016272,
     "user": {
      "displayName": "Rajeev Kumar",
      "photoUrl": "https://lh4.googleusercontent.com/-zxMD23mD6uY/AAAAAAAAAAI/AAAAAAAABs8/lMVQeTGuVm8/s64/photo.jpg",
      "userId": "01808597093748562717"
     },
     "user_tz": -330
    },
    "id": "UZ29psdWxiLj",
    "outputId": "4072d5ed-5570-49ad-e2b0-187f700afc72"
   },
   "outputs": [
    {
     "name": "stdout",
     "output_type": "stream",
     "text": [
      "Train on 18000 samples, validate on 42000 samples\n",
      "Epoch 1/20\n",
      "18000/18000 [==============================] - 80s 4ms/step - loss: 0.8281 - acc: 0.7315 - val_loss: 0.1593 - val_acc: 0.9516\n",
      "Epoch 2/20\n",
      "18000/18000 [==============================] - 80s 4ms/step - loss: 0.2032 - acc: 0.9375 - val_loss: 0.1204 - val_acc: 0.9626\n",
      "Epoch 3/20\n",
      "18000/18000 [==============================] - 79s 4ms/step - loss: 0.1385 - acc: 0.9586 - val_loss: 0.0822 - val_acc: 0.9748\n",
      "Epoch 4/20\n",
      "18000/18000 [==============================] - 80s 4ms/step - loss: 0.0938 - acc: 0.9712 - val_loss: 0.0661 - val_acc: 0.9800\n",
      "Epoch 5/20\n",
      "18000/18000 [==============================] - 79s 4ms/step - loss: 0.0805 - acc: 0.9754 - val_loss: 0.0540 - val_acc: 0.9840\n",
      "Epoch 6/20\n",
      "18000/18000 [==============================] - 80s 4ms/step - loss: 0.0681 - acc: 0.9783 - val_loss: 0.0483 - val_acc: 0.9856\n",
      "Epoch 7/20\n",
      "18000/18000 [==============================] - 79s 4ms/step - loss: 0.0564 - acc: 0.9822 - val_loss: 0.0503 - val_acc: 0.9859\n",
      "Epoch 8/20\n",
      "18000/18000 [==============================] - 79s 4ms/step - loss: 0.0472 - acc: 0.9847 - val_loss: 0.0494 - val_acc: 0.9859\n",
      "Epoch 9/20\n",
      "18000/18000 [==============================] - 79s 4ms/step - loss: 0.0383 - acc: 0.9872 - val_loss: 0.0484 - val_acc: 0.9861\n",
      "Epoch 10/20\n",
      "18000/18000 [==============================] - 79s 4ms/step - loss: 0.0387 - acc: 0.9878 - val_loss: 0.0555 - val_acc: 0.9850\n",
      "Epoch 11/20\n",
      "18000/18000 [==============================] - 79s 4ms/step - loss: 0.0330 - acc: 0.9892 - val_loss: 0.0568 - val_acc: 0.9852\n",
      "Epoch 12/20\n",
      "18000/18000 [==============================] - 79s 4ms/step - loss: 0.0280 - acc: 0.9911 - val_loss: 0.0485 - val_acc: 0.9871\n",
      "Epoch 13/20\n",
      "18000/18000 [==============================] - 79s 4ms/step - loss: 0.0298 - acc: 0.9908 - val_loss: 0.0499 - val_acc: 0.9866\n",
      "Epoch 14/20\n",
      "18000/18000 [==============================] - 79s 4ms/step - loss: 0.0225 - acc: 0.9919 - val_loss: 0.0498 - val_acc: 0.9874\n",
      "Epoch 15/20\n",
      "18000/18000 [==============================] - 79s 4ms/step - loss: 0.0175 - acc: 0.9944 - val_loss: 0.0484 - val_acc: 0.9878\n",
      "Epoch 16/20\n",
      "18000/18000 [==============================] - 79s 4ms/step - loss: 0.0210 - acc: 0.9927 - val_loss: 0.0513 - val_acc: 0.9878\n",
      "Epoch 17/20\n",
      "18000/18000 [==============================] - 79s 4ms/step - loss: 0.0211 - acc: 0.9928 - val_loss: 0.0559 - val_acc: 0.9862\n",
      "Epoch 18/20\n",
      "18000/18000 [==============================] - 80s 4ms/step - loss: 0.0182 - acc: 0.9941 - val_loss: 0.0535 - val_acc: 0.9877\n",
      "Epoch 19/20\n",
      "18000/18000 [==============================] - 79s 4ms/step - loss: 0.0195 - acc: 0.9940 - val_loss: 0.0503 - val_acc: 0.9876\n",
      "Epoch 20/20\n",
      "18000/18000 [==============================] - 79s 4ms/step - loss: 0.0158 - acc: 0.9948 - val_loss: 0.0562 - val_acc: 0.9869\n",
      "Test loss: 0.0471502487780233\n",
      "Test accuracy: 0.9885\n"
     ]
    },
    {
     "data": {
      "image/png": "[encoded data removed]",
      "text/plain": [
       "<Figure size 432x288 with 1 Axes>"
      ]
     },
     "metadata": {
      "tags": []
     },
     "output_type": "display_data"
    },
    {
     "name": "stdout",
     "output_type": "stream",
     "text": [
      "CPU times: user 49min 43s, sys: 1min 12s, total: 50min 56s\n",
      "Wall time: 26min 33s\n"
     ]
    }
   ],
   "source": [
    "%%time\n",
    "epochs = 20\n",
    "def get_cnn():\n",
    "    model = Sequential()\n",
    "    \n",
    "    model.add(Conv2D(filters=32, kernel_size=(5, 5), strides=(2, 2), padding='same', \\\n",
    "                     activation='relu', kernel_initializer='he_normal', input_shape=input_shape))\n",
    "    \n",
    "    model.add(Conv2D(64, (5, 5), activation='relu', padding='same', kernel_initializer='he_normal'))\n",
    "    model.add(MaxPooling2D(pool_size=(2, 2)))\n",
    "    model.add(Dropout(0.25))\n",
    "    \n",
    "    model.add(Conv2D(64, (5, 5), activation='relu', padding='same', kernel_initializer='he_normal'))\n",
    "    model.add(MaxPooling2D(pool_size=(2, 2)))\n",
    "    model.add(BatchNormalization())\n",
    "    model.add(Dropout(0.25))\n",
    "    \n",
    "    model.add(Flatten())\n",
    "    model.add(Dense(128, activation='relu', kernel_initializer='he_normal'))\n",
    "    model.add(Dropout(0.5))\n",
    "    model.add(Dense(num_classes, activation='softmax'))\n",
    "    \n",
    "    model.compile(loss='categorical_crossentropy', optimizer='Adam', metrics=['accuracy'])\n",
    "    \n",
    "    return model\n",
    "\n",
    "model = get_cnn()\n",
    "history = model.fit(x_train, y_train, batch_size=batch_size, epochs=epochs, verbose=1, validation_split=0.7)\n",
    "\n",
    "score = model.evaluate(x_test, y_test, verbose=0)\n",
    "print('Test loss:', score[0])\n",
    "print('Test accuracy:', score[1])\n",
    "\n",
    "x = list(range(1, epochs+1))\n",
    "vy = history.history['val_loss']\n",
    "ty = history.history['loss']\n",
    "plot_loss(x, vy, ty)\n",
    "\n"
   ]
  },
  {
   "cell_type": "code",
   "execution_count": 0,
   "metadata": {
    "colab": {},
    "colab_type": "code",
    "id": "7QJyO2waRV0v"
   },
   "outputs": [],
   "source": [
    "pt.add_row(['3-Conv + BN + Dropout + Kernel(5x5) + Stride(2x2)', sum(history.history['acc'])/len(history.history['acc']), \\\n",
    "            sum(history.history['val_acc'])/len(history.history['val_acc']), score[1]])"
   ]
  },
  {
   "cell_type": "markdown",
   "metadata": {
    "colab_type": "text",
    "id": "nmzYQbgCYltr"
   },
   "source": [
    "**7. Conclusion**"
   ]
  },
  {
   "cell_type": "markdown",
   "metadata": {
    "colab_type": "text",
    "id": "6WaO-QdBYpTr"
   },
   "source": [
    "1. Report on different Architecture"
   ]
  },
  {
   "cell_type": "code",
   "execution_count": 0,
   "metadata": {
    "colab": {
     "base_uri": "https://localhost:8080/",
     "height": 221
    },
    "colab_type": "code",
    "executionInfo": {
     "elapsed": 677,
     "status": "ok",
     "timestamp": 1564396069725,
     "user": {
      "displayName": "Rajeev Kumar",
      "photoUrl": "https://lh4.googleusercontent.com/-zxMD23mD6uY/AAAAAAAAAAI/AAAAAAAABs8/lMVQeTGuVm8/s64/photo.jpg",
      "userId": "01808597093748562717"
     },
     "user_tz": -330
    },
    "id": "Yjz1C2F28GT7",
    "outputId": "8ba54a5a-3dac-4755-cd11-3643f9f897f1"
   },
   "outputs": [
    {
     "name": "stdout",
     "output_type": "stream",
     "text": [
      "+----------------------------------------------------+---------------------+--------------------------+---------------+\n",
      "|                  CNN Architecture                  | Mean Train Accuracy | Mean Validation Accuracy | Test Accuracy |\n",
      "+----------------------------------------------------+---------------------+--------------------------+---------------+\n",
      "|             2-Conv+Dropout+Kernel(2x2)             |   0.96668981481923  |    0.9784464285714286    |     0.983     |\n",
      "|   2-Conv + Dropout + Kernel(2x2) + Strides(1x1)    |   0.96668981481923  |    0.9784464285714286    |     0.983     |\n",
      "|        2-Conv + Kernel(3x3) + Strides(1x1)         |  0.9895370370326221 |    0.9798194444444445    |     0.9802    |\n",
      "|   2-Conv + Dropout + Kernel(3x3) + Strides(1x1)    |  0.9694351852160913 |    0.9818730158730159    |     0.9857    |\n",
      "| 5-Conv + BN + Dropout + Kernel(3x3) + Strides(1x1) |  0.9554907407672317 |    0.9801507936507936    |     0.9854    |\n",
      "|    2-Conv + Dropout+Kernel(5x5) + Strides(2x2)     |  0.9754675925925925 |    0.9841666666666669    |     0.9884    |\n",
      "| 3-Conv + BN + Dropout + Kernel(5x5) + -Stride(2x2) |  0.971011111140251  |    0.9825928571428573    |     0.9885    |\n",
      "| 3-Conv + BN + Dropout + Kernel(5x5) + Stride(2x2)  |  0.971011111140251  |    0.9825928571428573    |     0.9885    |\n",
      "+----------------------------------------------------+---------------------+--------------------------+---------------+\n"
     ]
    }
   ],
   "source": [
    "print(pt)"
   ]
  },
  {
   "cell_type": "markdown",
   "metadata": {
    "colab_type": "text",
    "id": "4fmJOxSEZge2"
   },
   "source": [
    "3. MNIST Dataset has been used in this assignment."
   ]
  },
  {
   "cell_type": "markdown",
   "metadata": {
    "colab_type": "text",
    "id": "BRmcKw-xYfe4"
   },
   "source": [
    "3. In case of 5x5 Kernel with Batch Normalization and Droupout getting best result ."
   ]
  },
  {
   "cell_type": "markdown",
   "metadata": {
    "colab_type": "text",
    "id": "WGuAjRW1ZgjU"
   },
   "source": [
    "4. Accuracy seems to increase in case of Droupout and Batch Normalization."
   ]
  },
  {
   "cell_type": "markdown",
   "metadata": {
    "colab_type": "text",
    "id": "LZw7iqIna_IK"
   },
   "source": [
    "5. In case of 5-Conv , Batch Normalization and Droupout with 3x3 kernel network is overfit."
   ]
  }
 ],
 "metadata": {
  "colab": {
   "collapsed_sections": [],
   "name": "CNN On MNIST DATASET.ipynb",
   "provenance": [],
   "version": "0.3.2"
  },
  "kernelspec": {
   "display_name": "Python 3",
   "language": "python",
   "name": "python3"
  },
  "language_info": {
   "codemirror_mode": {
    "name": "ipython",
    "version": 3
   },
   "file_extension": ".py",
   "mimetype": "text/x-python",
   "name": "python",
   "nbconvert_exporter": "python",
   "pygments_lexer": "ipython3",
   "version": "3.7.3"
  }
 },
 "nbformat": 4,
 "nbformat_minor": 1
}
