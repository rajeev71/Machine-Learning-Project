{
 "cells": [
  {
   "cell_type": "markdown",
   "metadata": {},
   "source": [
    "\n",
    "# Assignment-5: Apply Logistic Regression On Amazon Fine Food Reviews DataSet "
   ]
  },
  {
   "cell_type": "markdown",
   "metadata": {},
   "source": [
    "## Introduction "
   ]
  },
  {
   "cell_type": "markdown",
   "metadata": {},
   "source": [
    "(i).Logistic regression is used to describe data and to explain the relationship between one dependent binary variable and one or more nominal, ordinal, interval or ratio-level independent variables.\n",
    "\n",
    "(ii).It's name is Regression but actually it is classification algorithm."
   ]
  },
  {
   "cell_type": "markdown",
   "metadata": {},
   "source": [
    "## Objective"
   ]
  },
  {
   "cell_type": "markdown",
   "metadata": {},
   "source": [
    "To Predict the Polarity of Amazon Fine Food Review Using Logistic Regression Algorithm."
   ]
  },
  {
   "cell_type": "markdown",
   "metadata": {},
   "source": [
    "## Importing All Required Library"
   ]
  },
  {
   "cell_type": "code",
   "execution_count": 1,
   "metadata": {},
   "outputs": [
    {
     "name": "stderr",
     "output_type": "stream",
     "text": [
      "C:\\Users\\User\\Anaconda3\\lib\\site-packages\\gensim\\utils.py:1197: UserWarning: detected Windows; aliasing chunkize to chunkize_serial\n",
      "  warnings.warn(\"detected Windows; aliasing chunkize to chunkize_serial\")\n"
     ]
    }
   ],
   "source": [
    "%matplotlib inline\n",
    "import sqlite3\n",
    "import pandas as pd\n",
    "import numpy as np\n",
    "import nltk\n",
    "import string\n",
    "import matplotlib.pyplot as plt\n",
    "import seaborn as sns\n",
    "import math\n",
    "\n",
    "from sklearn.model_selection import GridSearchCV\n",
    "from sklearn.feature_extraction.text import CountVectorizer\n",
    "from sklearn.linear_model import LogisticRegression \n",
    "\n",
    "\n",
    "from sklearn.metrics import classification_report\n",
    "from sklearn.feature_extraction.text import TfidfTransformer\n",
    "from sklearn.feature_extraction.text import TfidfVectorizer\n",
    "from sklearn.model_selection import TimeSeriesSplit\n",
    "\n",
    "from sklearn.metrics import confusion_matrix\n",
    "from sklearn import metrics\n",
    "from sklearn.metrics import roc_curve, auc\n",
    "from sklearn.model_selection import cross_val_score\n",
    "from sklearn import preprocessing\n",
    "from sklearn.metrics import accuracy_score\n",
    "from sklearn.metrics import f1_score\n",
    "\n",
    "from gensim.models import Word2Vec\n",
    "from gensim.models import KeyedVectors\n",
    "\n",
    "import pickle\n",
    "\n",
    "from tqdm import tqdm\n",
    "import os\n",
    "import warnings\n",
    "warnings.filterwarnings(\"ignore\")"
   ]
  },
  {
   "cell_type": "markdown",
   "metadata": {},
   "source": [
    "## Importing Amazon Fine Food Review  Dataset"
   ]
  },
  {
   "cell_type": "code",
   "execution_count": 2,
   "metadata": {
    "collapsed": true
   },
   "outputs": [],
   "source": [
    "if os.path.isfile(\"final.sqlite\"):\n",
    "    conn=sqlite3.connect(\"final.sqlite\")\n",
    "    Data=pd.read_sql_query(\"select * from Logistic_Regression_Data where Score!=3\",conn)\n",
    "    conn.close()\n",
    "else :\n",
    "    print(\"Error Importing the file\")"
   ]
  },
  {
   "cell_type": "markdown",
   "metadata": {},
   "source": [
    "## Taking 150K Random Points"
   ]
  },
  {
   "cell_type": "code",
   "execution_count": 3,
   "metadata": {
    "collapsed": true
   },
   "outputs": [],
   "source": [
    "Data=Data.sample(n=150000)"
   ]
  },
  {
   "cell_type": "code",
   "execution_count": 3,
   "metadata": {},
   "outputs": [
    {
     "data": {
      "text/plain": [
       "1    126413\n",
       "0     23587\n",
       "Name: Score, dtype: int64"
      ]
     },
     "execution_count": 3,
     "metadata": {},
     "output_type": "execute_result"
    }
   ],
   "source": [
    "# Printing some data of DataFrame\n",
    "\n",
    "Data['Score'].value_counts()"
   ]
  },
  {
   "cell_type": "markdown",
   "metadata": {},
   "source": [
    "## Information About DataSet"
   ]
  },
  {
   "cell_type": "code",
   "execution_count": 4,
   "metadata": {},
   "outputs": [
    {
     "name": "stdout",
     "output_type": "stream",
     "text": [
      "\n",
      "Number of Reviews:  150000\n",
      "\n",
      "Number of Users:  115887\n",
      "\n",
      "Number of Products:  42869\n",
      "\n",
      "Shape of Data:  (150000, 13)\n",
      "\n",
      "Column Name of DataSet :  Index(['level_0', 'index', 'Id', 'ProductId', 'UserId', 'ProfileName',\n",
      "       'HelpfulnessNumerator', 'HelpfulnessDenominator', 'Score', 'Time',\n",
      "       'Summary', 'Text', 'CleanedText'],\n",
      "      dtype='object')\n",
      "\n",
      "\n",
      "Number of Attributes/Columns in data: 12\n",
      "\n",
      "Number of Positive Reviews :  126413\n",
      "\n",
      "Number of Negative Reviews :  23587\n"
     ]
    }
   ],
   "source": [
    "print(\"\\nNumber of Reviews: \",Data[\"Text\"].count())\n",
    "print(\"\\nNumber of Users: \",len(Data[\"UserId\"].unique())) # Unique returns 1-D array of unique values of DataFrame.\n",
    "print(\"\\nNumber of Products: \",len(Data[\"ProductId\"].unique()))\n",
    "print(\"\\nShape of Data: \", Data.shape)\n",
    "print(\"\\nColumn Name of DataSet : \",Data.columns)\n",
    "print(\"\\n\\nNumber of Attributes/Columns in data: 12\") \n",
    "print(\"\\nNumber of Positive Reviews : \", Data['Score'].value_counts()[1])\n",
    "print(\"\\nNumber of Negative Reviews : \", Data['Score'].value_counts()[0])"
   ]
  },
  {
   "cell_type": "code",
   "execution_count": 5,
   "metadata": {},
   "outputs": [
    {
     "name": "stdout",
     "output_type": "stream",
     "text": [
      "\n",
      "Number of Reviews:  150000\n"
     ]
    }
   ],
   "source": [
    "print(\"\\nNumber of Reviews: \",Data[\"Text\"].count())"
   ]
  },
  {
   "cell_type": "markdown",
   "metadata": {},
   "source": [
    "## Attribute Information About DataSet"
   ]
  },
  {
   "cell_type": "markdown",
   "metadata": {},
   "source": [
    "1.Id - A unique value starts from 1\n",
    "\n",
    "\n",
    "\n",
    "2.ProductId - A unique identifier for the product\n",
    "\n",
    "\n",
    "\n",
    "3.UserId - A unqiue identifier for the user\n",
    "\n",
    "\n",
    "\n",
    "4.ProfileName - Name of user profile \n",
    "\n",
    "\n",
    "\n",
    "5.HelpfulnessNumerator - Number of users who found the review helpful\n",
    "\n",
    "\n",
    "\n",
    "6.HelpfulnessDenominator - Number of users who indicated whether they found the review helpful or not\n",
    "\n",
    "\n",
    "\n",
    "7.Score - Rating 0 or 1\n",
    "\n",
    "\n",
    "\n",
    "8.Time - Timestamp for the review\n",
    "\n",
    "\n",
    "\n",
    "9.Summary - Brief summary of the review\n",
    "\n",
    "\n",
    "\n",
    "10.Text - Text of the review\n",
    "\n",
    "\n",
    "\n",
    "11.Cleaned Text - Text that only alphabets"
   ]
  },
  {
   "cell_type": "code",
   "execution_count": 6,
   "metadata": {
    "collapsed": true
   },
   "outputs": [],
   "source": [
    "# Sorting on the basis of Time Parameter\n",
    "Data.sort_values('Time',inplace=True)"
   ]
  },
  {
   "cell_type": "code",
   "execution_count": 7,
   "metadata": {
    "collapsed": true
   },
   "outputs": [],
   "source": [
    "Y = Data['Score'].values\n",
    "X = Data['CleanedText'].values"
   ]
  },
  {
   "cell_type": "markdown",
   "metadata": {},
   "source": [
    "## Splitting DataSet into Train and Test Data"
   ]
  },
  {
   "cell_type": "code",
   "execution_count": 8,
   "metadata": {},
   "outputs": [
    {
     "name": "stdout",
     "output_type": "stream",
     "text": [
      "Shape of Train and Test Dataset for 50k points\n",
      "(100500,) (100500,)\n",
      "(49500,) (49500,)\n"
     ]
    }
   ],
   "source": [
    "from sklearn.model_selection import train_test_split\n",
    "# X_train, X_test, y_train, y_test = train_test_split(X, Y, test_size=0.33, shuffle=Flase): this is for time series split\n",
    "X_train, X_test, Y_train, Y_test = train_test_split(X, Y, test_size=0.33) # this is random splitting\n",
    "\n",
    "print(\"Shape of Train and Test Dataset for 50k points\")\n",
    "print(X_train.shape, Y_train.shape)\n",
    "print(X_test.shape, Y_test.shape)"
   ]
  },
  {
   "cell_type": "markdown",
   "metadata": {},
   "source": [
    "## Defining Some Function"
   ]
  },
  {
   "cell_type": "markdown",
   "metadata": {},
   "source": [
    "###  Train Data Confusion Matrix Plot"
   ]
  },
  {
   "cell_type": "code",
   "execution_count": 9,
   "metadata": {
    "collapsed": true
   },
   "outputs": [],
   "source": [
    "def trainconfusionmatrix(model,X_train,y_train):\n",
    "    print(\"Confusion Matrix for Train set\")\n",
    "    cm=confusion_matrix(y_train, model.predict(X_train))\n",
    "    class_label = [\"negative\", \"positive\"]\n",
    "    df_cm = pd.DataFrame(cm, index = class_label, columns = class_label)\n",
    "    sns.heatmap(df_cm, annot = True, fmt = \"d\")\n",
    "    plt.title(\"Train Confusiion Matrix\")\n",
    "    plt.xlabel(\"Predicted Label\")\n",
    "    plt.ylabel(\"True Label\")\n",
    "    plt.show()"
   ]
  },
  {
   "cell_type": "markdown",
   "metadata": {},
   "source": [
    "### Test Data Confusion Matrix Plot"
   ]
  },
  {
   "cell_type": "code",
   "execution_count": 10,
   "metadata": {
    "collapsed": true
   },
   "outputs": [],
   "source": [
    "def testconfusionmatrix(model,X_test,y_test):\n",
    "    print(\"Confusion Matrix for Test set\")\n",
    "    cm=confusion_matrix(y_test, model.predict(X_test))\n",
    "    class_label = [\"negative\", \"positive\"]\n",
    "    df_cm = pd.DataFrame(cm, index = class_label, columns = class_label)\n",
    "    sns.heatmap(df_cm, annot = True, fmt = \"d\")\n",
    "    plt.title(\"Test Confusiion Matrix\")\n",
    "    plt.xlabel(\"Predicted Label\")\n",
    "    plt.ylabel(\"True Label\")\n",
    "    plt.show()"
   ]
  },
  {
   "cell_type": "markdown",
   "metadata": {},
   "source": [
    "### ROC-AUC Curve Plot"
   ]
  },
  {
   "cell_type": "code",
   "execution_count": 11,
   "metadata": {
    "collapsed": true
   },
   "outputs": [],
   "source": [
    "def plot_auc_roc(model,X_train,X_test,y_train,y_test):\n",
    "    train_fpr, train_tpr, thresholds = roc_curve(y_train, model.predict_proba(X_train)[:,1])\n",
    "    test_fpr, test_tpr, thresholds = roc_curve(y_test, model.predict_proba(X_test)[:,1])\n",
    "\n",
    "    plt.plot(train_fpr, train_tpr, label=\"train AUC =\"+str(auc(train_fpr, train_tpr)))\n",
    "    plt.plot(test_fpr, test_tpr, label=\"test AUC =\"+str(auc(test_fpr, test_tpr)))\n",
    "    plt.legend()\n",
    "    plt.xlabel(\"Hyperameter (C)\")\n",
    "    plt.ylabel(\"AUC\")\n",
    "    plt.title(\"ROC CURVE PLOTS\")\n",
    "    plt.show()"
   ]
  },
  {
   "cell_type": "markdown",
   "metadata": {},
   "source": [
    "### Error Plot"
   ]
  },
  {
   "cell_type": "code",
   "execution_count": 12,
   "metadata": {
    "collapsed": true
   },
   "outputs": [],
   "source": [
    "def plot(gsv):\n",
    "    \n",
    "    Res=gsv.cv_results_\n",
    "    cv_auc=Res['mean_test_score']\n",
    "    \n",
    "    x1=[]\n",
    "    y1=[]\n",
    "    x2=[]\n",
    "    y2=[]\n",
    "    \n",
    "    for x in range(0,30):\n",
    "        if(x%2==0) :\n",
    "            y1.append(1-cv_auc[x])\n",
    "        else :\n",
    "            y2.append(1-cv_auc[x])\n",
    "            \n",
    "    x1=x2=[1000,500,100,50,10,5,1,0.5,0.1,0.05,0.01,0.005,0.001,0.0005,0.0001]       \n",
    "            \n",
    "    \n",
    "    plt.xlim(-10,1010)\n",
    "    plt.ylim(0,0.2)\n",
    "    plt.xlabel(\"Hyperparameter (C)\",fontsize=15)\n",
    "    plt.ylabel(\"Misclassification Error\")\n",
    "    plt.title('Misclassification Error v/s C')\n",
    "    plt.plot(x1,y1,'b',label=\"L1\")\n",
    "    plt.plot(x2,y2,'r',label=\"L2\")\n",
    "    plt.legend()\n",
    "    plt.show()\n",
    "    "
   ]
  },
  {
   "cell_type": "markdown",
   "metadata": {},
   "source": [
    "### GridSearchCV"
   ]
  },
  {
   "cell_type": "code",
   "execution_count": 13,
   "metadata": {
    "collapsed": true
   },
   "outputs": [],
   "source": [
    "def Grid_SearchCV(X_train,Y_train):\n",
    "    \n",
    "    param_grid = {'C':[1000,500,100,50,10,5,1,0.5,0.1,0.05,0.01,0.005,0.001,0.0005,0.0001],\n",
    "             'penalty':['l1','l2']} \n",
    "    tscv = TimeSeriesSplit(n_splits=10)\n",
    "    LR = LogisticRegression()\n",
    "    \n",
    "    gsv=GridSearchCV(LR,param_grid,cv=tscv,verbose=1,scoring='roc_auc')\n",
    "    gsv.fit(X_train,Y_train)\n",
    "    \n",
    "    return gsv"
   ]
  },
  {
   "cell_type": "markdown",
   "metadata": {},
   "source": [
    "### 30 Informative Feature"
   ]
  },
  {
   "cell_type": "code",
   "execution_count": 14,
   "metadata": {
    "collapsed": true
   },
   "outputs": [],
   "source": [
    " def show_30_informative_feature(vectorizer,model,n=30):\n",
    "        \n",
    "        \n",
    "    Weights_Index = model.coef_[0].argsort()\n",
    "    length = len(Weights_Index)\n",
    "    # For Negative Class\n",
    "    neg_class=Weights_Index[:30]\n",
    "    \n",
    "    neg_feat=[vectorizer.get_feature_names()[x] for x in neg_class]\n",
    "    neg_prob=[model.coef_[0][x] for x in neg_class]\n",
    "    \n",
    "    neg_zip=list(zip(neg_feat,neg_prob))\n",
    "    neg_zip.sort()\n",
    "    \n",
    "    # For Positive Class \n",
    "    pos_class =  Weights_Index[-30:]\n",
    "    \n",
    "    pos_feat=[vectorizer.get_feature_names()[x] for x in pos_class]\n",
    "    pos_prob=[model.coef_[0][x] for x in pos_class]\n",
    "    pos_zip=list(zip(pos_feat,pos_prob))\n",
    "    pos_zip.sort()\n",
    "    \n",
    "    top=zip(pos_zip,neg_zip)\n",
    "    \n",
    "    print(\"{0:20}{1:55}{2:20}\".format(\"S.N\",\"Positive\",\"Negative\"))\n",
    "    print(\"_\"*90)\n",
    "    i=1\n",
    "    for (fn_1,coef_1), (fn_2,coef_2) in top:\n",
    "        print(\"%d.\\t\\t%.3f\\t%-30s\\t\\t%.3f\\t%s\" % (i,coef_1, fn_1, coef_2, fn_2))\n",
    "        i+=1\n",
    "    \n",
    "    "
   ]
  },
  {
   "cell_type": "markdown",
   "metadata": {},
   "source": [
    "## Bags of Words Vectorizer"
   ]
  },
  {
   "cell_type": "code",
   "execution_count": 15,
   "metadata": {},
   "outputs": [
    {
     "name": "stdout",
     "output_type": "stream",
     "text": [
      "Shape of Train and Test Data After vectorizations\n",
      "(100500, 38316) (100500,)\n",
      "(49500, 38316) (49500,)\n"
     ]
    }
   ],
   "source": [
    "vectorizer = CountVectorizer()\n",
    "vectorizer.fit(X_train) # fit has to happen only on train data\n",
    "\n",
    "# we use the fitted CountVectorizer to convert the text to vector\n",
    "X_train_bow = vectorizer.transform(X_train)\n",
    "X_train_bow=preprocessing.normalize(X_train_bow)\n",
    "\n",
    "X_test_bow = vectorizer.transform(X_test)\n",
    "X_test_bow=preprocessing.normalize(X_test_bow)\n",
    "\n",
    "print(\"Shape of Train and Test Data After vectorizations\")\n",
    "print(X_train_bow.shape, Y_train.shape)\n",
    "print(X_test_bow.shape, Y_test.shape)"
   ]
  },
  {
   "cell_type": "markdown",
   "metadata": {},
   "source": [
    "### Finding the best value Of hyperparameter (C or 1/lambda) and using Regularizer(L1 And L2)"
   ]
  },
  {
   "cell_type": "code",
   "execution_count": 39,
   "metadata": {},
   "outputs": [
    {
     "name": "stdout",
     "output_type": "stream",
     "text": [
      "Fitting 10 folds for each of 30 candidates, totalling 300 fits\n"
     ]
    },
    {
     "name": "stderr",
     "output_type": "stream",
     "text": [
      "[Parallel(n_jobs=1)]: Using backend SequentialBackend with 1 concurrent workers.\n",
      "[Parallel(n_jobs=1)]: Done 300 out of 300 | elapsed: 13.8min finished\n"
     ]
    },
    {
     "name": "stdout",
     "output_type": "stream",
     "text": [
      "Best HyperParameter:  {'C': 5, 'penalty': 'l2'}\n",
      "Best Accuracy: 94.08%\n"
     ]
    }
   ],
   "source": [
    "gsv=Grid_SearchCV(X_train_bow,Y_train)\n",
    "\n",
    "print(\"Best HyperParameter: \",gsv.best_params_)\n",
    "print(\"Best Accuracy: %.2f%%\"%(gsv.best_score_*100))"
   ]
  },
  {
   "cell_type": "markdown",
   "metadata": {},
   "source": [
    "### Error-Plot"
   ]
  },
  {
   "cell_type": "code",
   "execution_count": 40,
   "metadata": {},
   "outputs": [
    {
     "data": {
      "image/png": "[encoded data removed]",
      "text/plain": [
       "<Figure size 432x288 with 1 Axes>"
      ]
     },
     "metadata": {
      "needs_background": "light"
     },
     "output_type": "display_data"
    }
   ],
   "source": [
    "plot(gsv)"
   ]
  },
  {
   "cell_type": "markdown",
   "metadata": {},
   "source": [
    "### Training the model"
   ]
  },
  {
   "cell_type": "code",
   "execution_count": 41,
   "metadata": {},
   "outputs": [
    {
     "data": {
      "text/plain": [
       "LogisticRegression(C=5, class_weight=None, dual=False, fit_intercept=True,\n",
       "          intercept_scaling=1, max_iter=100, multi_class='warn',\n",
       "          n_jobs=None, penalty='l2', random_state=None, solver='warn',\n",
       "          tol=0.0001, verbose=0, warm_start=False)"
      ]
     },
     "execution_count": 41,
     "metadata": {},
     "output_type": "execute_result"
    }
   ],
   "source": [
    "Best_Param=gsv.best_params_\n",
    "C=Best_Param['C']\n",
    "Penalty = Best_Param['penalty']\n",
    "\n",
    "Model_Bow=LogisticRegression(C=C,penalty=Penalty)\n",
    "Model_Bow.fit(X_train_bow,Y_train)"
   ]
  },
  {
   "cell_type": "markdown",
   "metadata": {},
   "source": [
    "### Evaluating the performance of model"
   ]
  },
  {
   "cell_type": "code",
   "execution_count": 42,
   "metadata": {},
   "outputs": [
    {
     "name": "stdout",
     "output_type": "stream",
     "text": [
      "Confusion Matrix for Train set\n"
     ]
    },
    {
     "data": {
      "image/png": "[encoded data removed]",
      "text/plain": [
       "<Figure size 432x288 with 2 Axes>"
      ]
     },
     "metadata": {
      "needs_background": "light"
     },
     "output_type": "display_data"
    }
   ],
   "source": [
    "trainconfusionmatrix(Model_Bow,X_train_bow,Y_train)"
   ]
  },
  {
   "cell_type": "code",
   "execution_count": 43,
   "metadata": {},
   "outputs": [
    {
     "name": "stdout",
     "output_type": "stream",
     "text": [
      "Confusion Matrix for Test set\n"
     ]
    },
    {
     "data": {
      "image/png": "[encoded data removed]",
      "text/plain": [
       "<Figure size 432x288 with 2 Axes>"
      ]
     },
     "metadata": {
      "needs_background": "light"
     },
     "output_type": "display_data"
    }
   ],
   "source": [
    "testconfusionmatrix(Model_Bow,X_test_bow,Y_test)"
   ]
  },
  {
   "cell_type": "code",
   "execution_count": 44,
   "metadata": {},
   "outputs": [
    {
     "data": {
      "image/png": "[encoded data removed]",
      "text/plain": [
       "<Figure size 432x288 with 1 Axes>"
      ]
     },
     "metadata": {
      "needs_background": "light"
     },
     "output_type": "display_data"
    }
   ],
   "source": [
    "plot_auc_roc(Model_Bow,X_train_bow,X_test_bow,Y_train,Y_test)"
   ]
  },
  {
   "cell_type": "code",
   "execution_count": 45,
   "metadata": {},
   "outputs": [
    {
     "name": "stdout",
     "output_type": "stream",
     "text": [
      "Classification Report: \n",
      "\n",
      "              precision    recall  f1-score   support\n",
      "\n",
      "           0       0.82      0.65      0.73      7833\n",
      "           1       0.94      0.97      0.95     41667\n",
      "\n",
      "   micro avg       0.92      0.92      0.92     49500\n",
      "   macro avg       0.88      0.81      0.84     49500\n",
      "weighted avg       0.92      0.92      0.92     49500\n",
      "\n"
     ]
    }
   ],
   "source": [
    "print(\"Classification Report: \\n\")\n",
    "y_pred=Model_Bow.predict(X_test_bow)\n",
    "\n",
    "print(classification_report(Y_test, y_pred))\n"
   ]
  },
  {
   "cell_type": "markdown",
   "metadata": {},
   "source": [
    "### Displaying 30 most informative features"
   ]
  },
  {
   "cell_type": "code",
   "execution_count": 46,
   "metadata": {},
   "outputs": [
    {
     "name": "stdout",
     "output_type": "stream",
     "text": [
      "S.N                 Positive                                               Negative            \n",
      "__________________________________________________________________________________________\n",
      "1.\t\t8.396\taddict                        \t\t-10.836\taw\n",
      "2.\t\t7.702\tamaz                          \t\t-6.314\tbare\n",
      "3.\t\t8.245\tawesom                        \t\t-6.344\tbewar\n",
      "4.\t\t6.691\tbeat                          \t\t-7.513\tbland\n",
      "5.\t\t5.158\tbeauti                        \t\t-6.634\tcancel\n",
      "6.\t\t8.108\tbest                          \t\t-8.894\tdisappoint\n",
      "7.\t\t6.294\tcomplaint                     \t\t-8.127\tdisgust\n",
      "8.\t\t9.725\tdelici                        \t\t-6.198\tearth\n",
      "9.\t\t5.244\tdelight                       \t\t-6.204\tfail\n",
      "10.\t\t5.368\tdownsid                       \t\t-6.435\tflavorless\n",
      "11.\t\t5.154\teasi                          \t\t-6.325\tgarbag\n",
      "12.\t\t8.895\texcel                         \t\t-6.665\tgross\n",
      "13.\t\t6.564\tfantast                       \t\t-9.953\thorribl\n",
      "14.\t\t5.561\tfavorit                       \t\t-6.931\trefund\n",
      "15.\t\t5.938\tglad                          \t\t-7.797\treturn\n",
      "16.\t\t6.918\tgreat                         \t\t-7.227\truin\n",
      "17.\t\t5.139\thappier                       \t\t-6.822\tsad\n",
      "18.\t\t5.411\thesit                         \t\t-7.235\tshame\n",
      "19.\t\t6.988\thook                          \t\t-7.861\tstale\n",
      "20.\t\t5.227\tlove                          \t\t-9.773\ttasteless\n",
      "21.\t\t5.691\tnice                          \t\t-10.253\tterribl\n",
      "22.\t\t9.304\tperfect                       \t\t-8.740\tthrew\n",
      "23.\t\t7.546\trefresh                       \t\t-6.618\tunaccept\n",
      "24.\t\t6.339\tsatisfi                       \t\t-7.168\tundrink\n",
      "25.\t\t7.653\tskeptic                       \t\t-8.037\tunfortun\n",
      "26.\t\t6.288\tsmooth                        \t\t-8.839\tunpleas\n",
      "27.\t\t5.630\tterrif                        \t\t-8.084\tweak\n",
      "28.\t\t7.847\tworri                         \t\t-7.096\twors\n",
      "29.\t\t5.796\tyum                           \t\t-13.427\tworst\n",
      "30.\t\t7.504\tyummi                         \t\t-7.780\tyuck\n"
     ]
    }
   ],
   "source": [
    "show_30_informative_feature(vectorizer,Model_Bow)"
   ]
  },
  {
   "cell_type": "markdown",
   "metadata": {},
   "source": [
    "## TF-IDF Vectorizer"
   ]
  },
  {
   "cell_type": "code",
   "execution_count": 70,
   "metadata": {},
   "outputs": [
    {
     "data": {
      "text/plain": [
       "TfidfVectorizer(analyzer='word', binary=False, decode_error='strict',\n",
       "        dtype=<class 'numpy.float64'>, encoding='utf-8', input='content',\n",
       "        lowercase=True, max_df=1.0, max_features=None, min_df=1,\n",
       "        ngram_range=(1, 1), norm='l2', preprocessor=None, smooth_idf=True,\n",
       "        stop_words=None, strip_accents=None, sublinear_tf=False,\n",
       "        token_pattern='(?u)\\\\b\\\\w\\\\w+\\\\b', tokenizer=None, use_idf=True,\n",
       "        vocabulary=None)"
      ]
     },
     "execution_count": 70,
     "metadata": {},
     "output_type": "execute_result"
    }
   ],
   "source": [
    "vectorizer_tfidf=TfidfVectorizer()\n",
    "vectorizer_tfidf.fit(X_train)"
   ]
  },
  {
   "cell_type": "code",
   "execution_count": 71,
   "metadata": {
    "collapsed": true
   },
   "outputs": [],
   "source": [
    "X_Train_Tfidf=vectorizer_tfidf.transform(X_train)\n",
    "X_Train_Tfidf=preprocessing.normalize(X_Train_Tfidf)\n",
    "\n",
    "X_Test_Tfidf=vectorizer_tfidf.transform(X_test)\n",
    "X_Test_Tfidf=preprocessing.normalize(X_Test_Tfidf)"
   ]
  },
  {
   "cell_type": "code",
   "execution_count": 72,
   "metadata": {},
   "outputs": [
    {
     "name": "stdout",
     "output_type": "stream",
     "text": [
      "Shape of Train and Test Data After vectorizations\n",
      "(100500, 38316) (100500,)\n",
      "(49500, 38316) (49500,)\n"
     ]
    }
   ],
   "source": [
    "print(\"Shape of Train and Test Data After vectorizations\")\n",
    "print(X_Train_Tfidf.shape, Y_train.shape)\n",
    "print(X_Test_Tfidf.shape, Y_test.shape)"
   ]
  },
  {
   "cell_type": "markdown",
   "metadata": {},
   "source": [
    "### Finding the best value Of hyperparameter (C or 1/lambda) and using Regularizer(L1 And L2)"
   ]
  },
  {
   "cell_type": "code",
   "execution_count": 29,
   "metadata": {},
   "outputs": [
    {
     "name": "stdout",
     "output_type": "stream",
     "text": [
      "Fitting 10 folds for each of 30 candidates, totalling 300 fits\n"
     ]
    },
    {
     "name": "stderr",
     "output_type": "stream",
     "text": [
      "[Parallel(n_jobs=1)]: Using backend SequentialBackend with 1 concurrent workers.\n",
      "[Parallel(n_jobs=1)]: Done 300 out of 300 | elapsed:  9.2min finished\n"
     ]
    },
    {
     "name": "stdout",
     "output_type": "stream",
     "text": [
      "Best HyperParameter:  {'C': 1, 'penalty': 'l2'}\n",
      "Best Accuracy: 94.27%\n"
     ]
    }
   ],
   "source": [
    "gsv=Grid_SearchCV(X_Train_Tfidf,Y_train)\n",
    "\n",
    "print(\"Best HyperParameter: \",gsv.best_params_)\n",
    "print(\"Best Accuracy: %.2f%%\"%(gsv.best_score_*100))"
   ]
  },
  {
   "cell_type": "markdown",
   "metadata": {},
   "source": [
    "### Error Plot"
   ]
  },
  {
   "cell_type": "code",
   "execution_count": 30,
   "metadata": {},
   "outputs": [
    {
     "data": {
      "image/png": "[encoded data removed]",
      "text/plain": [
       "<Figure size 432x288 with 1 Axes>"
      ]
     },
     "metadata": {
      "needs_background": "light"
     },
     "output_type": "display_data"
    }
   ],
   "source": [
    "plot(gsv)"
   ]
  },
  {
   "cell_type": "markdown",
   "metadata": {},
   "source": [
    "### Training the model"
   ]
  },
  {
   "cell_type": "code",
   "execution_count": 31,
   "metadata": {},
   "outputs": [
    {
     "data": {
      "text/plain": [
       "LogisticRegression(C=1, class_weight=None, dual=False, fit_intercept=True,\n",
       "          intercept_scaling=1, max_iter=100, multi_class='warn',\n",
       "          n_jobs=None, penalty='l2', random_state=None, solver='warn',\n",
       "          tol=0.0001, verbose=0, warm_start=False)"
      ]
     },
     "execution_count": 31,
     "metadata": {},
     "output_type": "execute_result"
    }
   ],
   "source": [
    "Best_Param=gsv.best_params_\n",
    "C=Best_Param['C']\n",
    "Penalty = Best_Param['penalty']\n",
    "\n",
    "Model_Tfidf=LogisticRegression(C=C,penalty=Penalty)\n",
    "Model_Tfidf.fit(X_train_bow,Y_train)"
   ]
  },
  {
   "cell_type": "markdown",
   "metadata": {},
   "source": [
    "### Evaluating the performance of model"
   ]
  },
  {
   "cell_type": "code",
   "execution_count": 32,
   "metadata": {},
   "outputs": [
    {
     "name": "stdout",
     "output_type": "stream",
     "text": [
      "Confusion Matrix for Train set\n"
     ]
    },
    {
     "data": {
      "image/png": "[encoded data removed]",
      "text/plain": [
       "<Figure size 432x288 with 2 Axes>"
      ]
     },
     "metadata": {
      "needs_background": "light"
     },
     "output_type": "display_data"
    }
   ],
   "source": [
    "trainconfusionmatrix(Model_Tfidf,X_Train_Tfidf,Y_train)"
   ]
  },
  {
   "cell_type": "code",
   "execution_count": 33,
   "metadata": {},
   "outputs": [
    {
     "name": "stdout",
     "output_type": "stream",
     "text": [
      "Confusion Matrix for Test set\n"
     ]
    },
    {
     "data": {
      "image/png": "[encoded data removed]",
      "text/plain": [
       "<Figure size 432x288 with 2 Axes>"
      ]
     },
     "metadata": {
      "needs_background": "light"
     },
     "output_type": "display_data"
    }
   ],
   "source": [
    "testconfusionmatrix(Model_Tfidf,X_Test_Tfidf,Y_test)"
   ]
  },
  {
   "cell_type": "code",
   "execution_count": 34,
   "metadata": {},
   "outputs": [
    {
     "data": {
      "image/png": "[encoded data removed]",
      "text/plain": [
       "<Figure size 432x288 with 1 Axes>"
      ]
     },
     "metadata": {
      "needs_background": "light"
     },
     "output_type": "display_data"
    }
   ],
   "source": [
    "plot_auc_roc(Model_Tfidf,X_Train_Tfidf,X_Test_Tfidf,Y_train,Y_test)"
   ]
  },
  {
   "cell_type": "code",
   "execution_count": 35,
   "metadata": {},
   "outputs": [
    {
     "name": "stdout",
     "output_type": "stream",
     "text": [
      "Classification Report: \n",
      "\n",
      "              precision    recall  f1-score   support\n",
      "\n",
      "           0       0.79      0.66      0.72      7797\n",
      "           1       0.94      0.97      0.95     41703\n",
      "\n",
      "   micro avg       0.92      0.92      0.92     49500\n",
      "   macro avg       0.86      0.81      0.84     49500\n",
      "weighted avg       0.91      0.92      0.92     49500\n",
      "\n"
     ]
    }
   ],
   "source": [
    "print(\"Classification Report: \\n\")\n",
    "y_pred=Model_Tfidf.predict(X_Test_Tfidf)\n",
    "\n",
    "print(classification_report(Y_test, y_pred))"
   ]
  },
  {
   "cell_type": "markdown",
   "metadata": {},
   "source": [
    "### Displaying 30 most informative features"
   ]
  },
  {
   "cell_type": "code",
   "execution_count": 36,
   "metadata": {},
   "outputs": [
    {
     "name": "stdout",
     "output_type": "stream",
     "text": [
      "S.N                 Positive                                               Negative            \n",
      "__________________________________________________________________________________________\n",
      "1.\t\t4.762\taddict                        \t\t-7.685\taw\n",
      "2.\t\t6.466\tamaz                          \t\t-3.865\tbewar\n",
      "3.\t\t5.661\tawesom                        \t\t-5.654\tbland\n",
      "4.\t\t4.524\tbeat                          \t\t-4.005\tcancel\n",
      "5.\t\t7.249\tbest                          \t\t-4.207\tchina\n",
      "6.\t\t3.601\tcarri                         \t\t-7.818\tdisappoint\n",
      "7.\t\t3.724\tcomplaint                     \t\t-5.591\tdisgust\n",
      "8.\t\t3.684\tdefinit                       \t\t-4.845\tgross\n",
      "9.\t\t8.167\tdelici                        \t\t-3.970\thope\n",
      "10.\t\t4.254\teasi                          \t\t-6.757\thorribl\n",
      "11.\t\t6.772\texcel                         \t\t-4.299\tmayb\n",
      "12.\t\t4.148\tfantast                       \t\t-4.210\tmoney\n",
      "13.\t\t4.999\tfavorit                       \t\t-3.989\tnasti\n",
      "14.\t\t4.253\tglad                          \t\t-3.988\tpoor\n",
      "15.\t\t6.684\tgreat                         \t\t-4.735\trefund\n",
      "16.\t\t3.913\thappi                         \t\t-6.999\treturn\n",
      "17.\t\t3.969\thook                          \t\t-4.454\truin\n",
      "18.\t\t3.754\tkeep                          \t\t-3.922\tsad\n",
      "19.\t\t5.055\tlove                          \t\t-4.163\tshame\n",
      "20.\t\t5.410\tnice                          \t\t-4.147\tsorri\n",
      "21.\t\t7.275\tperfect                       \t\t-5.877\tstale\n",
      "22.\t\t4.118\tquick                         \t\t-4.924\ttasteless\n",
      "23.\t\t4.283\trefresh                       \t\t-7.713\tterribl\n",
      "24.\t\t4.899\tsatisfi                       \t\t-5.468\tthrew\n",
      "25.\t\t4.740\tsmooth                        \t\t-6.606\tunfortun\n",
      "26.\t\t4.210\ttasti                         \t\t-4.836\tunpleas\n",
      "27.\t\t4.195\tthank                         \t\t-5.453\twast\n",
      "28.\t\t4.367\twonder                        \t\t-6.062\tweak\n",
      "29.\t\t4.150\tworri                         \t\t-4.130\twors\n",
      "30.\t\t5.543\tyummi                         \t\t-9.248\tworst\n"
     ]
    }
   ],
   "source": [
    "show_30_informative_feature(vectorizer_tfidf,Model_Tfidf)"
   ]
  },
  {
   "cell_type": "markdown",
   "metadata": {},
   "source": [
    "## Word To Vector"
   ]
  },
  {
   "cell_type": "code",
   "execution_count": 74,
   "metadata": {
    "collapsed": true
   },
   "outputs": [],
   "source": [
    "list_of_Train_sent=[]\n",
    "list_of_Test_sent=[]\n",
    "\n",
    "for sent in X_train:\n",
    "    list_of_Train_sent.append(sent.split())\n",
    "    \n",
    "for sent in X_test:\n",
    "    list_of_Test_sent.append(sent.split())"
   ]
  },
  {
   "cell_type": "code",
   "execution_count": 75,
   "metadata": {
    "collapsed": true
   },
   "outputs": [],
   "source": [
    "model=Word2Vec(list_of_Train_sent,min_count=5,size=50, workers=4)"
   ]
  },
  {
   "cell_type": "markdown",
   "metadata": {},
   "source": [
    "## Average Word To Vector"
   ]
  },
  {
   "cell_type": "code",
   "execution_count": 76,
   "metadata": {
    "collapsed": true
   },
   "outputs": [],
   "source": [
    "import numpy as np\n",
    "\n",
    "Train_vectors = []\n",
    "for sent in list_of_Train_sent:\n",
    "    sent_vec = np.zeros(50)\n",
    "    cnt_words = 0\n",
    "    for word in sent:\n",
    "        try:\n",
    "            vec = model.wv[word]\n",
    "            sent_vec += vec\n",
    "            cnt_words += 1\n",
    "        except:\n",
    "            pass\n",
    "    if cnt_words!=0:    \n",
    "        sent_vec /= cnt_words\n",
    "    Train_vectors.append(sent_vec)\n",
    "Train_vectors = np.nan_to_num(Train_vectors)"
   ]
  },
  {
   "cell_type": "code",
   "execution_count": 77,
   "metadata": {
    "collapsed": true
   },
   "outputs": [],
   "source": [
    "import numpy as np\n",
    "\n",
    "Test_vectors=[]\n",
    "for sent in list_of_Test_sent:\n",
    "    sent_vec=np.zeros(50)\n",
    "    cnt_words=0\n",
    "    for word in sent:\n",
    "        try:\n",
    "            vec=model.wv[word]\n",
    "            sent_vec+=vec\n",
    "            cnt_words+=1\n",
    "        except:\n",
    "            pass\n",
    "    if cnt_words!=0:\n",
    "        sent_vec/=cnt_words\n",
    "    Test_vectors.append(sent_vec)\n",
    "Test_vectors=np.nan_to_num(Test_vectors)    "
   ]
  },
  {
   "cell_type": "code",
   "execution_count": 78,
   "metadata": {},
   "outputs": [
    {
     "name": "stdout",
     "output_type": "stream",
     "text": [
      "Shape of Test Vectors :  (49500, 50)\n"
     ]
    }
   ],
   "source": [
    "print(\"Shape of Test Vectors : \",Test_vectors.shape)"
   ]
  },
  {
   "cell_type": "code",
   "execution_count": 79,
   "metadata": {
    "collapsed": true
   },
   "outputs": [],
   "source": [
    "X_Train_Awv=Train_vectors\n",
    "X_Test_Awv=Test_vectors"
   ]
  },
  {
   "cell_type": "code",
   "execution_count": 80,
   "metadata": {},
   "outputs": [
    {
     "name": "stdout",
     "output_type": "stream",
     "text": [
      "(100500, 50) (100500,)\n",
      "(49500, 50) (49500,)\n"
     ]
    }
   ],
   "source": [
    "print(X_Train_Awv.shape, Y_train.shape)\n",
    "print(X_Test_Awv.shape, Y_test.shape)"
   ]
  },
  {
   "cell_type": "markdown",
   "metadata": {},
   "source": [
    "### Finding the best value Of hyperparameter (C or 1/lambda) and using Regularizer(L1 And L2)¶"
   ]
  },
  {
   "cell_type": "code",
   "execution_count": 44,
   "metadata": {},
   "outputs": [
    {
     "name": "stdout",
     "output_type": "stream",
     "text": [
      "Fitting 10 folds for each of 30 candidates, totalling 300 fits\n"
     ]
    },
    {
     "name": "stderr",
     "output_type": "stream",
     "text": [
      "[Parallel(n_jobs=1)]: Using backend SequentialBackend with 1 concurrent workers.\n",
      "[Parallel(n_jobs=1)]: Done 300 out of 300 | elapsed: 21.5min finished\n"
     ]
    },
    {
     "name": "stdout",
     "output_type": "stream",
     "text": [
      "Best HyperParameter:  {'C': 100, 'penalty': 'l1'}\n",
      "Best Accuracy: 91.37%\n"
     ]
    }
   ],
   "source": [
    "gsv=Grid_SearchCV(X_Train_Awv,Y_train)\n",
    "\n",
    "print(\"Best HyperParameter: \",gsv.best_params_)\n",
    "print(\"Best Accuracy: %.2f%%\"%(gsv.best_score_*100))"
   ]
  },
  {
   "cell_type": "markdown",
   "metadata": {},
   "source": [
    "### Error Plot"
   ]
  },
  {
   "cell_type": "code",
   "execution_count": 45,
   "metadata": {},
   "outputs": [
    {
     "data": {
      "image/png": "[encoded data removed]",
      "text/plain": [
       "<Figure size 432x288 with 1 Axes>"
      ]
     },
     "metadata": {
      "needs_background": "light"
     },
     "output_type": "display_data"
    }
   ],
   "source": [
    "plot(gsv)"
   ]
  },
  {
   "cell_type": "markdown",
   "metadata": {},
   "source": [
    "### Training Model "
   ]
  },
  {
   "cell_type": "code",
   "execution_count": 46,
   "metadata": {},
   "outputs": [
    {
     "data": {
      "text/plain": [
       "LogisticRegression(C=100, class_weight=None, dual=False, fit_intercept=True,\n",
       "          intercept_scaling=1, max_iter=100, multi_class='warn',\n",
       "          n_jobs=None, penalty='l1', random_state=None, solver='warn',\n",
       "          tol=0.0001, verbose=0, warm_start=False)"
      ]
     },
     "execution_count": 46,
     "metadata": {},
     "output_type": "execute_result"
    }
   ],
   "source": [
    "Best_Param=gsv.best_params_\n",
    "C=Best_Param['C']\n",
    "Penalty = Best_Param['penalty']\n",
    "\n",
    "Model_Awv=LogisticRegression(C=C,penalty=Penalty)\n",
    "Model_Awv.fit(X_Train_Awv,Y_train)"
   ]
  },
  {
   "cell_type": "markdown",
   "metadata": {},
   "source": [
    "### Evaluating the performance of model"
   ]
  },
  {
   "cell_type": "code",
   "execution_count": 47,
   "metadata": {},
   "outputs": [
    {
     "name": "stdout",
     "output_type": "stream",
     "text": [
      "Confusion Matrix for Train set\n"
     ]
    },
    {
     "data": {
      "image/png": "[encoded data removed]",
      "text/plain": [
       "<Figure size 432x288 with 2 Axes>"
      ]
     },
     "metadata": {
      "needs_background": "light"
     },
     "output_type": "display_data"
    }
   ],
   "source": [
    "trainconfusionmatrix(Model_Awv,X_Train_Awv,Y_train)"
   ]
  },
  {
   "cell_type": "code",
   "execution_count": 48,
   "metadata": {},
   "outputs": [
    {
     "name": "stdout",
     "output_type": "stream",
     "text": [
      "Confusion Matrix for Train set\n"
     ]
    },
    {
     "data": {
      "image/png": "[encoded data removed]",
      "text/plain": [
       "<Figure size 432x288 with 2 Axes>"
      ]
     },
     "metadata": {
      "needs_background": "light"
     },
     "output_type": "display_data"
    }
   ],
   "source": [
    "trainconfusionmatrix(Model_Awv,X_Test_Awv,Y_test)"
   ]
  },
  {
   "cell_type": "code",
   "execution_count": 49,
   "metadata": {},
   "outputs": [
    {
     "data": {
      "image/png": "[encoded data removed]",
      "text/plain": [
       "<Figure size 432x288 with 1 Axes>"
      ]
     },
     "metadata": {
      "needs_background": "light"
     },
     "output_type": "display_data"
    }
   ],
   "source": [
    "plot_auc_roc(Model_Awv,X_Train_Awv,X_Test_Awv,Y_train,Y_test)"
   ]
  },
  {
   "cell_type": "code",
   "execution_count": 50,
   "metadata": {},
   "outputs": [
    {
     "name": "stdout",
     "output_type": "stream",
     "text": [
      "Classification Report: \n",
      "\n",
      "              precision    recall  f1-score   support\n",
      "\n",
      "           0       0.75      0.50      0.60      7797\n",
      "           1       0.91      0.97      0.94     41703\n",
      "\n",
      "   micro avg       0.89      0.89      0.89     49500\n",
      "   macro avg       0.83      0.74      0.77     49500\n",
      "weighted avg       0.89      0.89      0.89     49500\n",
      "\n"
     ]
    }
   ],
   "source": [
    "print(\"Classification Report: \\n\")\n",
    "y_pred=Model_Awv.predict(X_Test_Awv)\n",
    "\n",
    "print(classification_report(Y_test, y_pred))"
   ]
  },
  {
   "cell_type": "markdown",
   "metadata": {},
   "source": [
    "## TF-IDF Word To Vector"
   ]
  },
  {
   "cell_type": "code",
   "execution_count": 81,
   "metadata": {},
   "outputs": [
    {
     "name": "stdout",
     "output_type": "stream",
     "text": [
      "38316\n",
      "['aaa', 'aaaaaaaaaaaaaaaaaaaaaaaaaaaaaaaaaaaaaaaaaaaa', 'aaaaaaaaagghh', 'aaaaaaahhhhhh', 'aaaaaah', 'aaaaaahhhhhyaaaaaa', 'aaaaaawwwwwwwwww', 'aaaaah', 'aaaah', 'aaaahhhhhh', 'aaaand', 'aaah', 'aacur', 'aad', 'aadd', 'aadult', 'aaf', 'aafco', 'aah', 'aahh']\n"
     ]
    }
   ],
   "source": [
    "TFIDF_Feature=vectorizer_tfidf.get_feature_names()\n",
    "print(len(TFIDF_Feature))\n",
    "print(TFIDF_Feature[0:20])"
   ]
  },
  {
   "cell_type": "code",
   "execution_count": null,
   "metadata": {},
   "outputs": [
    {
     "name": "stderr",
     "output_type": "stream",
     "text": [
      " 17%|█████▋                           | 17422/100500 [10:15<1:01:19, 22.58it/s]"
     ]
    }
   ],
   "source": [
    "from tqdm import tqdm\n",
    "Train_TFIDF_W2V_Vectors=[]\n",
    "row=0\n",
    "for sent in tqdm(list_of_Train_sent):\n",
    "    sent_vec=np.zeros(50)\n",
    "    weight=0\n",
    "    for word in sent:\n",
    "        try :\n",
    "            w2v_vec=model.wv[word]\n",
    "            tfidf_vec=X_Train_Tfidf[row,TFIDF_Feature.index(word)]\n",
    "            sent_vec+=(w2v_vec*tfidf_vec)\n",
    "            weight+=tfidf_vec\n",
    "            \n",
    "        except :\n",
    "            pass\n",
    "    if weight!=0:\n",
    "        sent_vec/=weight\n",
    "    Train_TFIDF_W2V_Vectors.append(sent_vec) \n",
    "    row+=1"
   ]
  },
  {
   "cell_type": "code",
   "execution_count": null,
   "metadata": {
    "collapsed": true
   },
   "outputs": [],
   "source": [
    "Test_TFIDF_W2V_Vectors=[]\n",
    "row=0\n",
    "for sent in tqdm(list_of_Test_sent):\n",
    "    sent_vec=np.zeros(50)\n",
    "    weight=0\n",
    "    \n",
    "    for word in sent:\n",
    "        try:\n",
    "            w2v_vec=model.wv[word]\n",
    "            tfidf_vec=X_Test_Tfidf(row,TFIDF_Feature.index(word))\n",
    "            sent_vec+=(w2v_vec*tfidf_vec)\n",
    "            weight+=tfidf\n",
    "          \n",
    "        except :\n",
    "            pass\n",
    "    \n",
    "    if weight!=0:\n",
    "        sent_vec/=weight\n",
    "    Test_TFIDF_W2V_Vectors.append(sent_vec)    \n",
    "    row+=1"
   ]
  },
  {
   "cell_type": "code",
   "execution_count": 27,
   "metadata": {
    "collapsed": true
   },
   "outputs": [],
   "source": [
    "Train_TFIDF_W2V_Vectors = np.nan_to_num(Train_TFIDF_W2V_Vectors)\n",
    "Test_TFIDF_W2V_Vectors = np.nan_to_num(Test_TFIDF_W2V_Vectors)"
   ]
  },
  {
   "cell_type": "code",
   "execution_count": 28,
   "metadata": {
    "collapsed": true
   },
   "outputs": [],
   "source": [
    "X_Train_TfidfW2v=Train_TFIDF_W2V_Vectors\n",
    "X_Test_TfidfW2v=Test_TFIDF_W2V_Vectors"
   ]
  },
  {
   "cell_type": "code",
   "execution_count": 29,
   "metadata": {},
   "outputs": [
    {
     "name": "stdout",
     "output_type": "stream",
     "text": [
      "(100500, 50) (100500,)\n",
      "(49500, 50) (49500,)\n"
     ]
    }
   ],
   "source": [
    "print(X_Train_TfidfW2v.shape, Y_train.shape)\n",
    "print(X_Test_TfidfW2v.shape, Y_test.shape)"
   ]
  },
  {
   "cell_type": "markdown",
   "metadata": {},
   "source": [
    "### Finding the best value Of hyperparameter (C or 1/lambda) and using Regularizer(L1 And L2)"
   ]
  },
  {
   "cell_type": "code",
   "execution_count": 31,
   "metadata": {},
   "outputs": [
    {
     "name": "stdout",
     "output_type": "stream",
     "text": [
      "Fitting 10 folds for each of 30 candidates, totalling 300 fits\n"
     ]
    },
    {
     "name": "stderr",
     "output_type": "stream",
     "text": [
      "[Parallel(n_jobs=1)]: Using backend SequentialBackend with 1 concurrent workers.\n",
      "[Parallel(n_jobs=1)]: Done 300 out of 300 | elapsed: 11.0min finished\n"
     ]
    },
    {
     "name": "stdout",
     "output_type": "stream",
     "text": [
      "Best HyperParameter:  {'C': 0.1, 'penalty': 'l2'}\n",
      "Best Accuracy: 88.43%\n"
     ]
    }
   ],
   "source": [
    "gsv=Grid_SearchCV(X_Train_TfidfW2v,Y_train)\n",
    "\n",
    "print(\"Best HyperParameter: \",gsv.best_params_)\n",
    "print(\"Best Accuracy: %.2f%%\"%(gsv.best_score_*100))"
   ]
  },
  {
   "cell_type": "markdown",
   "metadata": {},
   "source": [
    "### Error Plot"
   ]
  },
  {
   "cell_type": "code",
   "execution_count": 32,
   "metadata": {},
   "outputs": [
    {
     "data": {
      "image/png": "[encoded data removed]",
      "text/plain": [
       "<Figure size 432x288 with 1 Axes>"
      ]
     },
     "metadata": {
      "needs_background": "light"
     },
     "output_type": "display_data"
    }
   ],
   "source": [
    "plot(gsv)"
   ]
  },
  {
   "cell_type": "markdown",
   "metadata": {},
   "source": [
    "### Training Model"
   ]
  },
  {
   "cell_type": "code",
   "execution_count": 33,
   "metadata": {},
   "outputs": [
    {
     "data": {
      "text/plain": [
       "LogisticRegression(C=0.1, class_weight=None, dual=False, fit_intercept=True,\n",
       "          intercept_scaling=1, max_iter=100, multi_class='warn',\n",
       "          n_jobs=None, penalty='l2', random_state=None, solver='warn',\n",
       "          tol=0.0001, verbose=0, warm_start=False)"
      ]
     },
     "execution_count": 33,
     "metadata": {},
     "output_type": "execute_result"
    }
   ],
   "source": [
    "Best_Param=gsv.best_params_\n",
    "C=Best_Param['C']\n",
    "Penalty = Best_Param['penalty']\n",
    "\n",
    "Model_TfidfW2v=LogisticRegression(C=C,penalty=Penalty)\n",
    "Model_TfidfW2v.fit(X_Train_TfidfW2v,Y_train)"
   ]
  },
  {
   "cell_type": "markdown",
   "metadata": {},
   "source": [
    "### Evaluating the performance of model"
   ]
  },
  {
   "cell_type": "code",
   "execution_count": 34,
   "metadata": {},
   "outputs": [
    {
     "name": "stdout",
     "output_type": "stream",
     "text": [
      "Confusion Matrix for Train set\n"
     ]
    },
    {
     "data": {
      "image/png": "[encoded data removed]",
      "text/plain": [
       "<Figure size 432x288 with 2 Axes>"
      ]
     },
     "metadata": {
      "needs_background": "light"
     },
     "output_type": "display_data"
    }
   ],
   "source": [
    "trainconfusionmatrix(Model_TfidfW2v,X_Train_TfidfW2v,Y_train)"
   ]
  },
  {
   "cell_type": "code",
   "execution_count": 35,
   "metadata": {},
   "outputs": [
    {
     "name": "stdout",
     "output_type": "stream",
     "text": [
      "Confusion Matrix for Test set\n"
     ]
    },
    {
     "data": {
      "image/png": "[encoded data removed]",
      "text/plain": [
       "<Figure size 432x288 with 2 Axes>"
      ]
     },
     "metadata": {
      "needs_background": "light"
     },
     "output_type": "display_data"
    }
   ],
   "source": [
    "testconfusionmatrix(Model_TfidfW2v,X_Train_TfidfW2v,Y_train)"
   ]
  },
  {
   "cell_type": "code",
   "execution_count": 37,
   "metadata": {},
   "outputs": [
    {
     "data": {
      "image/png": "[encoded data removed]",
      "text/plain": [
       "<Figure size 432x288 with 1 Axes>"
      ]
     },
     "metadata": {
      "needs_background": "light"
     },
     "output_type": "display_data"
    }
   ],
   "source": [
    "plot_auc_roc(Model_TfidfW2v,X_Train_TfidfW2v,X_Test_TfidfW2v,Y_train,Y_test)"
   ]
  },
  {
   "cell_type": "code",
   "execution_count": 38,
   "metadata": {},
   "outputs": [
    {
     "name": "stdout",
     "output_type": "stream",
     "text": [
      "Classification Report: \n",
      "\n",
      "              precision    recall  f1-score   support\n",
      "\n",
      "           0       0.00      0.00      0.00      7771\n",
      "           1       0.84      1.00      0.91     41729\n",
      "\n",
      "   micro avg       0.84      0.84      0.84     49500\n",
      "   macro avg       0.42      0.50      0.46     49500\n",
      "weighted avg       0.71      0.84      0.77     49500\n",
      "\n"
     ]
    }
   ],
   "source": [
    "print(\"Classification Report: \\n\")\n",
    "y_pred=Model_TfidfW2v.predict(X_Test_TfidfW2v)\n",
    "\n",
    "print(classification_report(Y_test, y_pred))"
   ]
  },
  {
   "cell_type": "markdown",
   "metadata": {},
   "source": [
    "## Pertubation Test On BOW Vectorizer "
   ]
  },
  {
   "cell_type": "code",
   "execution_count": 48,
   "metadata": {},
   "outputs": [
    {
     "name": "stdout",
     "output_type": "stream",
     "text": [
      "[ 5.55310755e-01  1.77197724e-02  2.16010507e-02  9.61648210e-03\n",
      "  1.33402367e-03 -2.63847189e-02  9.61648210e-03  1.24041273e-01\n",
      "  2.78623929e-03  5.56478690e-02  1.29658396e-02 -4.76944767e-01\n",
      "  8.29279011e-03  2.14282475e-03  7.79371061e-03  2.38471244e-02\n",
      "  2.18588836e-01 -1.72227150e-01  8.79560289e-02  2.12914710e-02\n",
      "  7.07215206e-03  2.94582637e-02  8.53123993e-02  6.89901422e-03\n",
      "  2.41513769e-01 -6.84084471e-02  8.88847453e-03 -6.70146624e-01\n",
      "  7.42810554e-02 -2.94673454e-01  4.05825351e-03 -1.34033000e+00\n",
      "  4.31355642e-01  3.91723659e-02  1.25092962e-01  8.47502649e-02\n",
      "  2.08641130e-01  2.67784936e-03  2.02700881e-01  3.79285114e-01\n",
      " -7.55321403e-01  1.00676998e-01  4.67573385e-01 -2.32503904e-01\n",
      " -4.62231389e-01  4.26804220e-02 -1.38734363e-01  8.39374973e-02\n",
      "  9.53743797e-03  3.65989638e-04]\n"
     ]
    }
   ],
   "source": [
    "from scipy.sparse import find\n",
    "#Weights before adding random noise\n",
    "weights1 = find(Model_Bow.coef_[0])[2]\n",
    "print(weights1[:50])"
   ]
  },
  {
   "cell_type": "code",
   "execution_count": 49,
   "metadata": {
    "collapsed": true
   },
   "outputs": [],
   "source": [
    "X_train_t = X_train_bow\n",
    "#Random noise\n",
    "epsilon = np.random.uniform(low=-0.0001, high=0.0001, size=(find(X_train_t)[0].size,))\n",
    "#Getting the postions(row and column) and value of non-zero datapoints \n",
    "a,b,c = find(X_train_t)\n",
    "\n",
    "#Introducing random noise to non-zero datapoints\n",
    "X_train_t[a,b] = epsilon + X_train_t[a,b]"
   ]
  },
  {
   "cell_type": "code",
   "execution_count": 50,
   "metadata": {},
   "outputs": [
    {
     "name": "stdout",
     "output_type": "stream",
     "text": [
      "Accuracy on test set: 92.242%\n",
      "Non Zero weights: 38316\n"
     ]
    }
   ],
   "source": [
    "Model_Pert= LogisticRegression(C=C, penalty= 'l2')\n",
    "Model_Pert.fit(X_train_t,Y_train)\n",
    "y_pred = Model_Pert.predict(X_test_bow)\n",
    "print(\"Accuracy on test set: %0.3f%%\"%(accuracy_score(Y_test, y_pred)*100))\n",
    "print(\"Non Zero weights:\",np.count_nonzero(Model_Pert.coef_))"
   ]
  },
  {
   "cell_type": "code",
   "execution_count": 51,
   "metadata": {},
   "outputs": [
    {
     "name": "stdout",
     "output_type": "stream",
     "text": [
      "[ 5.55272574e-01  1.77092431e-02  2.15865167e-02  9.63955955e-03\n",
      "  1.33704649e-03 -2.63363795e-02  9.64735067e-03  1.24132765e-01\n",
      "  2.77782513e-03  5.56882133e-02  1.29665644e-02 -4.76871903e-01\n",
      "  8.29642741e-03  2.13994250e-03  7.78147649e-03  2.38427705e-02\n",
      "  2.18452388e-01 -1.72010087e-01  8.79076299e-02  2.12789421e-02\n",
      "  7.07451860e-03  2.94623705e-02  8.52894759e-02  6.90434843e-03\n",
      "  2.41241644e-01 -6.83790736e-02  8.88544131e-03 -6.69490327e-01\n",
      "  7.42800531e-02 -2.94817840e-01  4.03652447e-03 -1.33971317e+00\n",
      "  4.31271928e-01  3.91230950e-02  1.25031350e-01  8.47245967e-02\n",
      "  2.08504395e-01  2.68004218e-03  2.02423820e-01  3.79015544e-01\n",
      " -7.55578659e-01  1.00627121e-01  4.67478867e-01 -2.32483070e-01\n",
      " -4.62326433e-01  4.26192437e-02 -1.38481295e-01  8.39221613e-02\n",
      "  9.55250114e-03  3.67287666e-04]\n"
     ]
    }
   ],
   "source": [
    "#Weights after adding random noise\n",
    "weights2 = find(Model_Pert.coef_[0])[2]\n",
    "print(weights2[:50])"
   ]
  },
  {
   "cell_type": "code",
   "execution_count": 52,
   "metadata": {
    "collapsed": true
   },
   "outputs": [],
   "source": [
    "weights_diff = (abs(weights1 - weights2)/weights1) * 100"
   ]
  },
  {
   "cell_type": "code",
   "execution_count": 53,
   "metadata": {},
   "outputs": [
    {
     "name": "stdout",
     "output_type": "stream",
     "text": [
      "8\n"
     ]
    }
   ],
   "source": [
    "print(weights_diff[np.where(weights_diff > 30)].size)"
   ]
  },
  {
   "cell_type": "markdown",
   "metadata": {},
   "source": [
    "### Showing How Sparsity increases as we decrease C or increase Lambada(1/C)  When L1 Regularisation is used"
   ]
  },
  {
   "cell_type": "code",
   "execution_count": 68,
   "metadata": {},
   "outputs": [
    {
     "name": "stdout",
     "output_type": "stream",
     "text": [
      "Accuracy on test set: 88.531%\n",
      "F1-Score on test set: 0.932\n",
      "Non Zero weights: 18792\n"
     ]
    }
   ],
   "source": [
    "Model_Sparse= LogisticRegression(C= 1000, penalty= 'l1')\n",
    "Model_Sparse.fit(X_train_bow,Y_train)\n",
    "y_pred = Model_Sparse.predict(X_test_bow)\n",
    "print(\"Accuracy on test set: %0.3f%%\"%(accuracy_score(Y_test, y_pred)*100))\n",
    "print(\"F1-Score on test set: %0.3f\"%(f1_score(Y_test, y_pred)))\n",
    "print(\"Non Zero weights:\",np.count_nonzero(Model_Sparse.coef_))"
   ]
  },
  {
   "cell_type": "code",
   "execution_count": 69,
   "metadata": {},
   "outputs": [
    {
     "name": "stdout",
     "output_type": "stream",
     "text": [
      "Accuracy on test set: 90.196%\n",
      "F1-Score on test set: 0.942\n",
      "Non Zero weights: 14204\n"
     ]
    }
   ],
   "source": [
    "Model_Sparse= LogisticRegression(C= 100, penalty= 'l1')\n",
    "Model_Sparse.fit(X_train_bow,Y_train)\n",
    "y_pred = Model_Sparse.predict(X_test_bow)\n",
    "print(\"Accuracy on test set: %0.3f%%\"%(accuracy_score(Y_test, y_pred)*100))\n",
    "print(\"F1-Score on test set: %0.3f\"%(f1_score(Y_test, y_pred)))\n",
    "print(\"Non Zero weights:\",np.count_nonzero(Model_Sparse.coef_))"
   ]
  },
  {
   "cell_type": "code",
   "execution_count": 70,
   "metadata": {},
   "outputs": [
    {
     "name": "stdout",
     "output_type": "stream",
     "text": [
      "Accuracy on test set: 91.937%\n",
      "F1-Score on test set: 0.953\n",
      "Non Zero weights: 6617\n"
     ]
    }
   ],
   "source": [
    "Model_Sparse= LogisticRegression(C= 10, penalty= 'l1')\n",
    "Model_Sparse.fit(X_train_bow,Y_train)\n",
    "y_pred = Model_Sparse.predict(X_test_bow)\n",
    "print(\"Accuracy on test set: %0.3f%%\"%(accuracy_score(Y_test, y_pred)*100))\n",
    "print(\"F1-Score on test set: %0.3f\"%(f1_score(Y_test, y_pred)))\n",
    "print(\"Non Zero weights:\",np.count_nonzero(Model_Sparse.coef_))"
   ]
  },
  {
   "cell_type": "code",
   "execution_count": 71,
   "metadata": {},
   "outputs": [
    {
     "name": "stdout",
     "output_type": "stream",
     "text": [
      "Accuracy on test set: 92.030%\n",
      "F1-Score on test set: 0.954\n",
      "Non Zero weights: 1371\n"
     ]
    }
   ],
   "source": [
    "Model_Sparse= LogisticRegression(C= 1, penalty= 'l1')\n",
    "Model_Sparse.fit(X_train_bow,Y_train)\n",
    "y_pred = Model_Sparse.predict(X_test_bow)\n",
    "print(\"Accuracy on test set: %0.3f%%\"%(accuracy_score(Y_test, y_pred)*100))\n",
    "print(\"F1-Score on test set: %0.3f\"%(f1_score(Y_test, y_pred)))\n",
    "print(\"Non Zero weights:\",np.count_nonzero(Model_Sparse.coef_))"
   ]
  },
  {
   "cell_type": "code",
   "execution_count": 72,
   "metadata": {},
   "outputs": [
    {
     "name": "stdout",
     "output_type": "stream",
     "text": [
      "Accuracy on test set: 89.933%\n",
      "F1-Score on test set: 0.943\n",
      "Non Zero weights: 271\n"
     ]
    }
   ],
   "source": [
    "Model_Sparse= LogisticRegression(C= 0.1, penalty= 'l1')\n",
    "Model_Sparse.fit(X_train_bow,Y_train)\n",
    "y_pred = Model_Sparse.predict(X_test_bow)\n",
    "print(\"Accuracy on test set: %0.3f%%\"%(accuracy_score(Y_test, y_pred)*100))\n",
    "print(\"F1-Score on test set: %0.3f\"%(f1_score(Y_test, y_pred)))\n",
    "print(\"Non Zero weights:\",np.count_nonzero(Model_Sparse.coef_))"
   ]
  },
  {
   "cell_type": "code",
   "execution_count": 73,
   "metadata": {},
   "outputs": [
    {
     "name": "stdout",
     "output_type": "stream",
     "text": [
      "Accuracy on test set: 84.749%\n",
      "F1-Score on test set: 0.917\n",
      "Non Zero weights: 22\n"
     ]
    }
   ],
   "source": [
    "Model_Sparse= LogisticRegression(C= 0.01, penalty= 'l1')\n",
    "Model_Sparse.fit(X_train_bow,Y_train)\n",
    "y_pred = Model_Sparse.predict(X_test_bow)\n",
    "print(\"Accuracy on test set: %0.3f%%\"%(accuracy_score(Y_test, y_pred)*100))\n",
    "print(\"F1-Score on test set: %0.3f\"%(f1_score(Y_test, y_pred)))\n",
    "print(\"Non Zero weights:\",np.count_nonzero(Model_Sparse.coef_))"
   ]
  },
  {
   "cell_type": "code",
   "execution_count": 74,
   "metadata": {},
   "outputs": [
    {
     "name": "stdout",
     "output_type": "stream",
     "text": [
      "Accuracy on test set: 84.299%\n",
      "F1-Score on test set: 0.915\n",
      "Non Zero weights: 0\n"
     ]
    }
   ],
   "source": [
    "Model_Sparse= LogisticRegression(C= 0.001, penalty= 'l1')\n",
    "Model_Sparse.fit(X_train_bow,Y_train)\n",
    "y_pred = Model_Sparse.predict(X_test_bow)\n",
    "print(\"Accuracy on test set: %0.3f%%\"%(accuracy_score(Y_test, y_pred)*100))\n",
    "print(\"F1-Score on test set: %0.3f\"%(f1_score(Y_test, y_pred)))\n",
    "print(\"Non Zero weights:\",np.count_nonzero(Model_Sparse.coef_))"
   ]
  },
  {
   "cell_type": "markdown",
   "metadata": {},
   "source": [
    "1. Decrease in value of C decrease the non of non zeros weight decrease , which means it is increasing the sparsity(No of Zeros) "
   ]
  },
  {
   "cell_type": "markdown",
   "metadata": {},
   "source": [
    "### Addition of another column length"
   ]
  },
  {
   "cell_type": "code",
   "execution_count": 18,
   "metadata": {
    "collapsed": true
   },
   "outputs": [],
   "source": [
    "Train_len=[]\n",
    "Test_len=[]\n",
    "for i in X_train:\n",
    "    Train_len.append(len(i))\n",
    "    \n",
    "for i in X_test:\n",
    "    Test_len.append(len(i))"
   ]
  },
  {
   "cell_type": "code",
   "execution_count": 19,
   "metadata": {
    "collapsed": true
   },
   "outputs": [],
   "source": [
    "Train_len=np.array(Train_len)\n",
    "Test_len=np.array(Test_len)"
   ]
  },
  {
   "cell_type": "code",
   "execution_count": 20,
   "metadata": {
    "collapsed": true
   },
   "outputs": [],
   "source": [
    "Train_len=Train_len[:,np.newaxis]\n",
    "Test_len=Test_len[:,np.newaxis]"
   ]
  },
  {
   "cell_type": "markdown",
   "metadata": {},
   "source": [
    "#### Bag Of Word Vectorizer"
   ]
  },
  {
   "cell_type": "code",
   "execution_count": 21,
   "metadata": {
    "collapsed": true
   },
   "outputs": [],
   "source": [
    "X_Train_BOW=X_train_bow.todense()"
   ]
  },
  {
   "cell_type": "code",
   "execution_count": 22,
   "metadata": {
    "collapsed": true
   },
   "outputs": [],
   "source": [
    "X_Train_New=np.append(X_Train_BOW,Train_len,axis=1)"
   ]
  },
  {
   "cell_type": "code",
   "execution_count": 23,
   "metadata": {
    "collapsed": true
   },
   "outputs": [],
   "source": [
    "from scipy.sparse import csr_matrix\n",
    "X_Train_New= csr_matrix(X_Train_New)"
   ]
  },
  {
   "cell_type": "code",
   "execution_count": 24,
   "metadata": {},
   "outputs": [
    {
     "name": "stdout",
     "output_type": "stream",
     "text": [
      "Shape of Train Data Before Adding length column \n",
      "(100500, 38316)\n",
      "\n",
      "Shape of Train Data After Adding length column \n",
      "(100500, 38317)\n"
     ]
    }
   ],
   "source": [
    "print(\"Shape of Train Data Before Adding length column \")\n",
    "print(X_train_bow.shape)\n",
    "\n",
    "print(\"\\nShape of Train Data After Adding length column \")\n",
    "print(X_Train_New.shape)"
   ]
  },
  {
   "cell_type": "markdown",
   "metadata": {},
   "source": [
    "#### Finding the best value Of hyperparameter (C or 1/lambda) and using Regularizer(L1 And L2)"
   ]
  },
  {
   "cell_type": "code",
   "execution_count": 28,
   "metadata": {},
   "outputs": [
    {
     "name": "stdout",
     "output_type": "stream",
     "text": [
      "Fitting 10 folds for each of 30 candidates, totalling 300 fits\n"
     ]
    },
    {
     "name": "stderr",
     "output_type": "stream",
     "text": [
      "[Parallel(n_jobs=1)]: Using backend SequentialBackend with 1 concurrent workers.\n",
      "[Parallel(n_jobs=1)]: Done 300 out of 300 | elapsed: 10.6min finished\n"
     ]
    },
    {
     "name": "stdout",
     "output_type": "stream",
     "text": [
      "Best HyperParameter:  {'C': 5, 'penalty': 'l2'}\n",
      "Best Accuracy: 94.01%\n"
     ]
    }
   ],
   "source": [
    "gsv=Grid_SearchCV(X_Train_New,Y_train)\n",
    "\n",
    "print(\"Best HyperParameter: \",gsv.best_params_)\n",
    "print(\"Best Accuracy: %.2f%%\"%(gsv.best_score_*100))"
   ]
  },
  {
   "cell_type": "markdown",
   "metadata": {},
   "source": [
    "#### Error Plot"
   ]
  },
  {
   "cell_type": "code",
   "execution_count": 29,
   "metadata": {},
   "outputs": [
    {
     "data": {
      "image/png": "[encoded data removed]",
      "text/plain": [
       "<Figure size 432x288 with 1 Axes>"
      ]
     },
     "metadata": {
      "needs_background": "light"
     },
     "output_type": "display_data"
    }
   ],
   "source": [
    "plot(gsv)"
   ]
  },
  {
   "cell_type": "markdown",
   "metadata": {},
   "source": [
    "#### Training the Model"
   ]
  },
  {
   "cell_type": "code",
   "execution_count": 25,
   "metadata": {
    "collapsed": true
   },
   "outputs": [],
   "source": [
    "X_Test_Bow=X_test_bow.todense()"
   ]
  },
  {
   "cell_type": "code",
   "execution_count": 26,
   "metadata": {
    "collapsed": true
   },
   "outputs": [],
   "source": [
    "X_Test_New=np.append(X_Test_Bow,Test_len,axis=1)"
   ]
  },
  {
   "cell_type": "code",
   "execution_count": 27,
   "metadata": {
    "collapsed": true
   },
   "outputs": [],
   "source": [
    "from scipy.sparse import csr_matrix\n",
    "X_Test_New= csr_matrix(X_Test_New)"
   ]
  },
  {
   "cell_type": "code",
   "execution_count": 30,
   "metadata": {
    "collapsed": true
   },
   "outputs": [],
   "source": [
    "Best_Param=gsv.best_params_\n",
    "C=Best_Param['C']\n",
    "Penalty = Best_Param['penalty']"
   ]
  },
  {
   "cell_type": "code",
   "execution_count": 31,
   "metadata": {},
   "outputs": [
    {
     "data": {
      "text/plain": [
       "LogisticRegression(C=5, class_weight=None, dual=False, fit_intercept=True,\n",
       "          intercept_scaling=1, max_iter=100, multi_class='warn',\n",
       "          n_jobs=None, penalty='l2', random_state=None, solver='warn',\n",
       "          tol=0.0001, verbose=0, warm_start=False)"
      ]
     },
     "execution_count": 31,
     "metadata": {},
     "output_type": "execute_result"
    }
   ],
   "source": [
    "Model_LBow = LogisticRegression(C=C,penalty = Penalty)\n",
    "Model_LBow.fit(X_Train_New,Y_train)"
   ]
  },
  {
   "cell_type": "markdown",
   "metadata": {},
   "source": [
    "#### Evaluating the performance of the model"
   ]
  },
  {
   "cell_type": "code",
   "execution_count": 32,
   "metadata": {},
   "outputs": [
    {
     "name": "stdout",
     "output_type": "stream",
     "text": [
      "Confusion Matrix for Train set\n"
     ]
    },
    {
     "data": {
      "image/png": "[encoded data removed]",
      "text/plain": [
       "<Figure size 432x288 with 2 Axes>"
      ]
     },
     "metadata": {
      "needs_background": "light"
     },
     "output_type": "display_data"
    }
   ],
   "source": [
    "trainconfusionmatrix(Model_LBow,X_Train_New,Y_train)"
   ]
  },
  {
   "cell_type": "code",
   "execution_count": 33,
   "metadata": {},
   "outputs": [
    {
     "name": "stdout",
     "output_type": "stream",
     "text": [
      "Confusion Matrix for Test set\n"
     ]
    },
    {
     "data": {
      "image/png": "[encoded data removed]",
      "text/plain": [
       "<Figure size 432x288 with 2 Axes>"
      ]
     },
     "metadata": {
      "needs_background": "light"
     },
     "output_type": "display_data"
    }
   ],
   "source": [
    "testconfusionmatrix(Model_LBow,X_Test_New,Y_test)"
   ]
  },
  {
   "cell_type": "code",
   "execution_count": 34,
   "metadata": {},
   "outputs": [
    {
     "data": {
      "image/png": "[encoded data removed]",
      "text/plain": [
       "<Figure size 432x288 with 1 Axes>"
      ]
     },
     "metadata": {
      "needs_background": "light"
     },
     "output_type": "display_data"
    }
   ],
   "source": [
    "plot_auc_roc(Model_LBow,X_Train_New,X_Test_New,Y_train,Y_test)"
   ]
  },
  {
   "cell_type": "code",
   "execution_count": 37,
   "metadata": {},
   "outputs": [
    {
     "name": "stdout",
     "output_type": "stream",
     "text": [
      "Classification Report: \n",
      "\n",
      "              precision    recall  f1-score   support\n",
      "\n",
      "           0       0.82      0.65      0.73      7833\n",
      "           1       0.94      0.97      0.95     41667\n",
      "\n",
      "   micro avg       0.92      0.92      0.92     49500\n",
      "   macro avg       0.88      0.81      0.84     49500\n",
      "weighted avg       0.92      0.92      0.92     49500\n",
      "\n"
     ]
    }
   ],
   "source": [
    "print(\"Classification Report: \\n\")\n",
    "y_pred=Model_LBow.predict(X_Test_New)\n",
    "\n",
    "print(classification_report(Y_test, y_pred))"
   ]
  },
  {
   "cell_type": "markdown",
   "metadata": {},
   "source": [
    "### Displaying 30 most informative features"
   ]
  },
  {
   "cell_type": "code",
   "execution_count": 38,
   "metadata": {},
   "outputs": [
    {
     "name": "stdout",
     "output_type": "stream",
     "text": [
      "S.N                 Positive                                               Negative            \n",
      "__________________________________________________________________________________________\n",
      "1.\t\t8.247\taddict                        \t\t-10.848\taw\n",
      "2.\t\t8.043\tamaz                          \t\t-6.006\tbare\n",
      "3.\t\t8.028\tawesom                        \t\t-6.076\tbewar\n",
      "4.\t\t6.611\tbeat                          \t\t-7.777\tbland\n",
      "5.\t\t5.083\tbeauti                        \t\t-6.771\tcancel\n",
      "6.\t\t8.139\tbest                          \t\t-8.650\tdisappoint\n",
      "7.\t\t5.129\tbonus                         \t\t-7.926\tdisgust\n",
      "8.\t\t6.071\tcomplaint                     \t\t-6.451\tfail\n",
      "9.\t\t9.499\tdelici                        \t\t-6.735\tflavorless\n",
      "10.\t\t5.221\tdelight                       \t\t-6.168\tgarbag\n",
      "11.\t\t5.260\tdownsid                       \t\t-6.404\tgross\n",
      "12.\t\t9.296\texcel                         \t\t-10.081\thorribl\n",
      "13.\t\t6.362\tfantast                       \t\t-6.752\trefund\n",
      "14.\t\t5.456\tfavorit                       \t\t-8.350\treturn\n",
      "15.\t\t6.028\tglad                          \t\t-6.995\truin\n",
      "16.\t\t6.882\tgreat                         \t\t-6.440\tsad\n",
      "17.\t\t5.211\thappier                       \t\t-6.938\tshame\n",
      "18.\t\t5.493\thesit                         \t\t-6.304\tskip\n",
      "19.\t\t7.138\thook                          \t\t-8.361\tstale\n",
      "20.\t\t5.803\tnice                          \t\t-9.825\ttasteless\n",
      "21.\t\t9.619\tperfect                       \t\t-10.588\tterribl\n",
      "22.\t\t7.603\trefresh                       \t\t-8.608\tthrew\n",
      "23.\t\t6.312\tsatisfi                       \t\t-6.186\tunaccept\n",
      "24.\t\t7.851\tskeptic                       \t\t-7.025\tundrink\n",
      "25.\t\t6.420\tsmooth                        \t\t-8.879\tunfortun\n",
      "26.\t\t5.772\tterrif                        \t\t-8.832\tunpleas\n",
      "27.\t\t5.170\tuniqu                         \t\t-8.683\tweak\n",
      "28.\t\t7.942\tworri                         \t\t-6.946\twors\n",
      "29.\t\t5.935\tyum                           \t\t-12.872\tworst\n",
      "30.\t\t7.357\tyummi                         \t\t-7.955\tyuck\n"
     ]
    }
   ],
   "source": [
    "show_30_informative_feature(vectorizer,Model_LBow)"
   ]
  },
  {
   "cell_type": "markdown",
   "metadata": {},
   "source": [
    "#### 1.Report On Different Vectorizer Method"
   ]
  },
  {
   "cell_type": "code",
   "execution_count": 1,
   "metadata": {},
   "outputs": [
    {
     "name": "stdout",
     "output_type": "stream",
     "text": [
      "+------------+-------------------------------+-----------------------------------+-----------+----------+----------+\n",
      "| Vectorizer | Hyperparameter(C or 1/Lambda) | Penalty(Regularisation Parameter) | Train AUC | Test AUC | F1-Score |\n",
      "+------------+-------------------------------+-----------------------------------+-----------+----------+----------+\n",
      "|    BOW     |               5               |                 L2                |    0.96   |   0.94   |   0.92   |\n",
      "|   TF-IDF   |               1               |                 L2                |    0.96   |   0.94   |   0.92   |\n",
      "|  Avg W2V   |              100              |                 L1                |    0.91   |   0.9    |   0.89   |\n",
      "| TF-IDF W2V |              0.1              |                 L2                |    0.88   |   0.5    |   0.77   |\n",
      "+------------+-------------------------------+-----------------------------------+-----------+----------+----------+\n"
     ]
    }
   ],
   "source": [
    "from prettytable import PrettyTable\n",
    "    \n",
    "x = PrettyTable()\n",
    "\n",
    "x.field_names = [\"Vectorizer\", \"Hyperparameter(C or 1/Lambda)\",\"Penalty(Regularisation Parameter)\",\"Train AUC\",\"Test AUC\",\"F1-Score\"]\n",
    "\n",
    "x.add_row([\"BOW\",5,\"L2\",0.96,0.94,0.92])\n",
    "x.add_row([\"TF-IDF\",1,\"L2\",0.96,0.94,0.92])\n",
    "x.add_row([\"Avg W2V\",100,\"L1\",0.91,0.90,0.89])\n",
    "x.add_row([\"TF-IDF W2V\",0.1,\"L2\",0.88,0.50,0.77])\n",
    "\n",
    "print(x)"
   ]
  },
  {
   "cell_type": "markdown",
   "metadata": {
    "collapsed": true
   },
   "source": [
    "#### 2.Report On Different Vectorizer Method After Addition Of Length as another Column"
   ]
  },
  {
   "cell_type": "code",
   "execution_count": 2,
   "metadata": {},
   "outputs": [
    {
     "name": "stdout",
     "output_type": "stream",
     "text": [
      "+------------+-------------------------------+-----------------------------------+-----------+----------+----------+\n",
      "| Vectorizer | Hyperparameter(C or 1/Lambda) | Penalty(Regularisation Parameter) | Train AUC | Test AUC | F1-Score |\n",
      "+------------+-------------------------------+-----------------------------------+-----------+----------+----------+\n",
      "|    BOW     |               5               |                 L2                |    0.96   |   0.94   |   0.92   |\n",
      "+------------+-------------------------------+-----------------------------------+-----------+----------+----------+\n"
     ]
    }
   ],
   "source": [
    "from prettytable import PrettyTable\n",
    "    \n",
    "x = PrettyTable()\n",
    "\n",
    "x.field_names = [\"Vectorizer\", \"Hyperparameter(C or 1/Lambda)\",\"Penalty(Regularisation Parameter)\",\"Train AUC\",\"Test AUC\",\"F1-Score\"]\n",
    "\n",
    "x.add_row([\"BOW\",5,\"L2\",0.96,0.94,0.92])\n",
    "\n",
    "\n",
    "print(x)"
   ]
  },
  {
   "cell_type": "markdown",
   "metadata": {},
   "source": [
    "#### 3. I have taken considerable amount of data but it did not take long time in execution .\n",
    "#### 4. Since data is unbalanced , i did time based splitting and used roc_auc metric as scoring parameter in GridsearchCV .\n",
    "#### 5. \n",
    "#### 5. After adding Length as another column , there is no any improvement."
   ]
  }
 ],
 "metadata": {
  "kernelspec": {
   "display_name": "Python 3",
   "language": "python",
   "name": "python3"
  },
  "language_info": {
   "codemirror_mode": {
    "name": "ipython",
    "version": 3
   },
   "file_extension": ".py",
   "mimetype": "text/x-python",
   "name": "python",
   "nbconvert_exporter": "python",
   "pygments_lexer": "ipython3",
   "version": "3.6.2"
  }
 },
 "nbformat": 4,
 "nbformat_minor": 2
}
