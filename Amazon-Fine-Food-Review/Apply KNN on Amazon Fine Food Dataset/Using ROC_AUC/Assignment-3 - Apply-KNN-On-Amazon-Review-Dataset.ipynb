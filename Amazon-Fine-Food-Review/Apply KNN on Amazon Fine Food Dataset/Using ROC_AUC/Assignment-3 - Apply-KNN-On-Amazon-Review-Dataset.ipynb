{
 "cells": [
  {
   "cell_type": "markdown",
   "metadata": {},
   "source": [
    "# Assignment-3: Apply K-NN on Amazon Fine Food Reviews DataSet "
   ]
  },
  {
   "cell_type": "markdown",
   "metadata": {},
   "source": [
    "# 1.0 Introduction "
   ]
  },
  {
   "cell_type": "markdown",
   "metadata": {},
   "source": [
    "(i).The k-nearest neighbors algorithm (k-NN) is a non-parametric method used for classification and regression predictive problem.\n",
    "\n",
    "(ii).It is more widely used in classification problems in the industry. "
   ]
  },
  {
   "cell_type": "markdown",
   "metadata": {},
   "source": [
    "# 2.0 Objective"
   ]
  },
  {
   "cell_type": "markdown",
   "metadata": {},
   "source": [
    "To Predict the Polarity of Amazon Fine Food Review Using K-Nearst Neighbour Algorithm."
   ]
  },
  {
   "cell_type": "markdown",
   "metadata": {},
   "source": [
    "# 3.0 Importing All Required Library"
   ]
  },
  {
   "cell_type": "code",
   "execution_count": 1,
   "metadata": {},
   "outputs": [
    {
     "name": "stderr",
     "output_type": "stream",
     "text": [
      "C:\\Users\\User\\Anaconda3\\lib\\site-packages\\gensim\\utils.py:1197: UserWarning: detected Windows; aliasing chunkize to chunkize_serial\n",
      "  warnings.warn(\"detected Windows; aliasing chunkize to chunkize_serial\")\n"
     ]
    }
   ],
   "source": [
    "%matplotlib inline\n",
    "import sqlite3\n",
    "import pandas as pd\n",
    "import numpy as np\n",
    "import nltk\n",
    "import string\n",
    "import matplotlib.pyplot as plt\n",
    "import seaborn as sns\n",
    "\n",
    "from sklearn.neighbors import KNeighborsClassifier\n",
    "from sklearn.model_selection import GridSearchCV\n",
    "from sklearn.feature_extraction.text import CountVectorizer\n",
    "from sklearn.metrics import accuracy_score\n",
    "from sklearn.metrics import precision_score\n",
    "from sklearn.metrics import f1_score\n",
    "from sklearn.metrics import recall_score\n",
    "\n",
    "from sklearn.metrics import classification_report\n",
    "from sklearn.feature_extraction.text import TfidfTransformer\n",
    "from sklearn.feature_extraction.text import TfidfVectorizer\n",
    "from sklearn.model_selection import TimeSeriesSplit\n",
    "\n",
    "from sklearn.metrics import confusion_matrix\n",
    "from sklearn import metrics\n",
    "from sklearn.metrics import roc_curve, auc\n",
    "from sklearn.model_selection import cross_val_score\n",
    "from sklearn import preprocessing\n",
    "\n",
    "from gensim.models import Word2Vec\n",
    "from gensim.models import KeyedVectors\n",
    "import pickle\n",
    "\n",
    "from tqdm import tqdm\n",
    "import os\n",
    "import warnings\n",
    "warnings.filterwarnings(\"ignore\")"
   ]
  },
  {
   "cell_type": "markdown",
   "metadata": {},
   "source": [
    "# 4.0 Importing Amazon Fine Food Review  Dataset"
   ]
  },
  {
   "cell_type": "code",
   "execution_count": 2,
   "metadata": {
    "collapsed": true
   },
   "outputs": [],
   "source": [
    "if os.path.isfile(\"final.sqlite\"):\n",
    "    conn=sqlite3.connect(\"final.sqlite\")\n",
    "    Data=pd.read_sql_query(\"select * from Reviews where Score!=3\",conn)\n",
    "    conn.close()\n",
    "else :\n",
    "    print(\"Error Importing the file\")"
   ]
  },
  {
   "cell_type": "code",
   "execution_count": 3,
   "metadata": {},
   "outputs": [
    {
     "data": {
      "text/plain": [
       "1    307061\n",
       "0     57110\n",
       "Name: Score, dtype: int64"
      ]
     },
     "execution_count": 3,
     "metadata": {},
     "output_type": "execute_result"
    }
   ],
   "source": [
    "# Printing some data of DataFrame\n",
    "\n",
    "Data['Score'].value_counts()"
   ]
  },
  {
   "cell_type": "markdown",
   "metadata": {},
   "source": [
    "# 5.0 Information About DataSet"
   ]
  },
  {
   "cell_type": "code",
   "execution_count": 4,
   "metadata": {},
   "outputs": [
    {
     "name": "stdout",
     "output_type": "stream",
     "text": [
      "\n",
      "Number of Reviews:  364171\n",
      "\n",
      "Number of Users:  243414\n",
      "\n",
      "Number of Products:  65442\n",
      "\n",
      "Shape of Data:  (364171, 12)\n",
      "\n",
      "Column Name of DataSet :  Index(['index', 'Id', 'ProductId', 'UserId', 'ProfileName',\n",
      "       'HelpfulnessNumerator', 'HelpfulnessDenominator', 'Score', 'Time',\n",
      "       'Summary', 'Text', 'CleanedText'],\n",
      "      dtype='object')\n",
      "\n",
      "\n",
      "Number of Attributes/Columns in data: 12\n",
      "\n",
      "Number of Positive Reviews :  307061\n",
      "\n",
      "Number of Negative Reviews :  57110\n"
     ]
    }
   ],
   "source": [
    "print(\"\\nNumber of Reviews: \",Data[\"Text\"].count())\n",
    "print(\"\\nNumber of Users: \",len(Data[\"UserId\"].unique())) # Unique returns 1-D array of unique values of DataFrame.\n",
    "print(\"\\nNumber of Products: \",len(Data[\"ProductId\"].unique()))\n",
    "print(\"\\nShape of Data: \", Data.shape)\n",
    "print(\"\\nColumn Name of DataSet : \",Data.columns)\n",
    "print(\"\\n\\nNumber of Attributes/Columns in data: 12\") \n",
    "print(\"\\nNumber of Positive Reviews : \", Data['Score'].value_counts()[1])\n",
    "print(\"\\nNumber of Negative Reviews : \", Data['Score'].value_counts()[0])"
   ]
  },
  {
   "cell_type": "code",
   "execution_count": 5,
   "metadata": {},
   "outputs": [
    {
     "name": "stdout",
     "output_type": "stream",
     "text": [
      "\n",
      "Number of Reviews:  364171\n"
     ]
    }
   ],
   "source": [
    "print(\"\\nNumber of Reviews: \",Data[\"Text\"].count())"
   ]
  },
  {
   "cell_type": "markdown",
   "metadata": {},
   "source": [
    "### 5.1  Attribute Information About DataSet"
   ]
  },
  {
   "cell_type": "markdown",
   "metadata": {},
   "source": [
    "1.Id - A unique value starts from 1\n",
    "\n",
    "\n",
    "\n",
    "2.ProductId - A unique identifier for the product\n",
    "\n",
    "\n",
    "\n",
    "3.UserId - A unqiue identifier for the user\n",
    "\n",
    "\n",
    "\n",
    "4.ProfileName - Name of user profile \n",
    "\n",
    "\n",
    "\n",
    "5.HelpfulnessNumerator - Number of users who found the review helpful\n",
    "\n",
    "\n",
    "\n",
    "6.HelpfulnessDenominator - Number of users who indicated whether they found the review helpful or not\n",
    "\n",
    "\n",
    "\n",
    "7.Score - Rating 0 or 1\n",
    "\n",
    "\n",
    "\n",
    "8.Time - Timestamp for the review\n",
    "\n",
    "\n",
    "\n",
    "9.Summary - Brief summary of the review\n",
    "\n",
    "\n",
    "\n",
    "10.Text - Text of the review\n",
    "\n",
    "\n",
    "\n",
    "11.Cleaned Text - Text that only alphabets"
   ]
  },
  {
   "cell_type": "markdown",
   "metadata": {},
   "source": [
    "## Taking  5K data for Brute Force and 2K data for KD Tree"
   ]
  },
  {
   "cell_type": "code",
   "execution_count": 6,
   "metadata": {
    "collapsed": true
   },
   "outputs": [],
   "source": [
    "# To randomly sample 10k points from both class\n",
    "data = Data.sample(n = 50000)\n",
    "data1= Data.sample(n=20000)\n"
   ]
  },
  {
   "cell_type": "code",
   "execution_count": 7,
   "metadata": {},
   "outputs": [
    {
     "name": "stdout",
     "output_type": "stream",
     "text": [
      "Number of positve and negative score in 50K Data Points\n",
      "1    42303\n",
      "0     7697\n",
      "Name: Score, dtype: int64\n",
      "\n",
      "Number of positve and negative score in 20K Data Points\n",
      "1    16883\n",
      "0     3117\n",
      "Name: Score, dtype: int64\n"
     ]
    }
   ],
   "source": [
    "print(\"Number of positve and negative score in 50K Data Points\")\n",
    "print(data['Score'].value_counts())\n",
    "\n",
    "print(\"\\nNumber of positve and negative score in 20K Data Points\")\n",
    "print(data1['Score'].value_counts())\n"
   ]
  },
  {
   "cell_type": "code",
   "execution_count": 8,
   "metadata": {
    "collapsed": true
   },
   "outputs": [],
   "source": [
    "# Sorting on the basis of Time Parameter\n",
    "data.sort_values('Time',inplace=True)\n",
    "data1.sort_values('Time',inplace=True)"
   ]
  },
  {
   "cell_type": "code",
   "execution_count": 9,
   "metadata": {
    "collapsed": true
   },
   "outputs": [],
   "source": [
    "data.to_csv(\"50K_Data.csv\",index=False)\n",
    "data1.to_csv(\"20K_Data.csv\",index=False)"
   ]
  },
  {
   "cell_type": "code",
   "execution_count": 9,
   "metadata": {
    "collapsed": true
   },
   "outputs": [],
   "source": [
    "Y = data['Score'].values\n",
    "X = data['CleanedText'].values\n",
    "\n",
    "Y1 = data1['Score'].values\n",
    "X1 = data1['CleanedText'].values"
   ]
  },
  {
   "cell_type": "markdown",
   "metadata": {},
   "source": [
    "###  7.0 Splitting DataSet into Train and Test Data"
   ]
  },
  {
   "cell_type": "code",
   "execution_count": 10,
   "metadata": {},
   "outputs": [
    {
     "name": "stdout",
     "output_type": "stream",
     "text": [
      "Shape of Train and Test Dataset for 50k points\n",
      "(33500,) (33500,)\n",
      "(16500,) (16500,)\n",
      "\n",
      "Shape of Train and Test Dataset for 20k points\n",
      "(13400,) (13400,)\n",
      "(6600,) (6600,)\n"
     ]
    }
   ],
   "source": [
    "from sklearn.model_selection import train_test_split\n",
    "# X_train, X_test, y_train, y_test = train_test_split(X, Y, test_size=0.33, shuffle=Flase): this is for time series split\n",
    "X_train, X_test, y_train, y_test = train_test_split(X, Y, test_size=0.33) # this is random splitting\n",
    "X1_train, X1_test, y1_train, y1_test = train_test_split(X1, Y1, test_size=0.33)\n",
    "\n",
    "print(\"Shape of Train and Test Dataset for 50k points\")\n",
    "print(X_train.shape, y_train.shape)\n",
    "print(X_test.shape, y_test.shape)\n",
    "\n",
    "print(\"\\nShape of Train and Test Dataset for 20k points\")\n",
    "print(X1_train.shape, y1_train.shape)\n",
    "print(X1_test.shape, y1_test.shape)"
   ]
  },
  {
   "cell_type": "markdown",
   "metadata": {},
   "source": [
    "# 8.0 Defining Some Function"
   ]
  },
  {
   "cell_type": "markdown",
   "metadata": {},
   "source": [
    "### 8.1 Train Data Confusion Matrix Plot"
   ]
  },
  {
   "cell_type": "code",
   "execution_count": 11,
   "metadata": {
    "collapsed": true
   },
   "outputs": [],
   "source": [
    "def trainconfusionmatrix(knn,X_train,y_train):\n",
    "    print(\"Confusion Matrix for Train set\")\n",
    "    cm=confusion_matrix(y_train, knn.predict(X_train))\n",
    "    class_label = [\"negative\", \"positive\"]\n",
    "    df_cm = pd.DataFrame(cm, index = class_label, columns = class_label)\n",
    "    sns.heatmap(df_cm, annot = True, fmt = \"d\")\n",
    "    plt.title(\"Train Confusiion Matrix\")\n",
    "    plt.xlabel(\"Predicted Label\")\n",
    "    plt.ylabel(\"True Label\")\n",
    "    plt.show()"
   ]
  },
  {
   "cell_type": "markdown",
   "metadata": {},
   "source": [
    "### 8.2 Test Data Confusion Matrix Plot"
   ]
  },
  {
   "cell_type": "code",
   "execution_count": 12,
   "metadata": {
    "collapsed": true
   },
   "outputs": [],
   "source": [
    "def testconfusionmatrix(knn,X_test,y_test):\n",
    "    print(\"Confusion Matrix for Test set\")\n",
    "    cm=confusion_matrix(y_test, knn.predict(X_test))\n",
    "    class_label = [\"negative\", \"positive\"]\n",
    "    df_cm = pd.DataFrame(cm, index = class_label, columns = class_label)\n",
    "    sns.heatmap(df_cm, annot = True, fmt = \"d\")\n",
    "    plt.title(\"Test Confusiion Matrix\")\n",
    "    plt.xlabel(\"Predicted Label\")\n",
    "    plt.ylabel(\"True Label\")\n",
    "    plt.show()"
   ]
  },
  {
   "cell_type": "markdown",
   "metadata": {},
   "source": [
    "### 8.3 ROC-AUC Curve Plot"
   ]
  },
  {
   "cell_type": "code",
   "execution_count": 13,
   "metadata": {
    "collapsed": true
   },
   "outputs": [],
   "source": [
    "def plot_auc_roc(knn,X_train,X_test,y_train,y_test):\n",
    "    train_fpr, train_tpr, thresholds = roc_curve(y_train, neigh.predict_proba(X_train)[:,1])\n",
    "    test_fpr, test_tpr, thresholds = roc_curve(y_test, neigh.predict_proba(X_test)[:,1])\n",
    "\n",
    "    plt.plot(train_fpr, train_tpr, label=\"train AUC =\"+str(auc(train_fpr, train_tpr)))\n",
    "    plt.plot(test_fpr, test_tpr, label=\"test AUC =\"+str(auc(test_fpr, test_tpr)))\n",
    "    plt.legend()\n",
    "    plt.xlabel(\"K: hyperparameter\")\n",
    "    plt.ylabel(\"AUC\")\n",
    "    plt.title(\"ROC CURVE PLOTS\")\n",
    "    plt.show()"
   ]
  },
  {
   "cell_type": "markdown",
   "metadata": {},
   "source": [
    "### 8.4 Error Plot"
   ]
  },
  {
   "cell_type": "code",
   "execution_count": 14,
   "metadata": {
    "collapsed": true
   },
   "outputs": [],
   "source": [
    "def error_plot(neighbours,mse):\n",
    "    plt.title('Error Plot')\n",
    "    plt.xlabel('K')\n",
    "    plt.ylabel('misscalssifiaction error')\n",
    "    plt.plot(neighbours,mse)"
   ]
  },
  {
   "cell_type": "markdown",
   "metadata": {},
   "source": [
    "### 8.5 Cross Validation Using Kd Tree Algorithm"
   ]
  },
  {
   "cell_type": "code",
   "execution_count": 15,
   "metadata": {
    "collapsed": true
   },
   "outputs": [],
   "source": [
    "def knn_cv_kd(X_train,y_train,neighbours):\n",
    "    \n",
    "    cv_scores=[]\n",
    "    tscv = TimeSeriesSplit(n_splits=10)\n",
    "    \n",
    "    for k in neighbours:\n",
    "        knn = KNeighborsClassifier(n_neighbors=k,algorithm='kd_tree')\n",
    "        scores = cross_val_score(knn, X_train, y_train, cv=tscv,scoring='roc_auc') # returns accuracy for each of 10 folds\n",
    "        cv_scores.append(scores.mean())\n",
    "        \n",
    "    mse = [1-x for x in cv_scores] # calculating misscalssification_error = 1 - accuracy for each K\n",
    "    \n",
    "    best_k = neighbours[mse.index(min(mse))] #returns k corresponding to minimum error\n",
    "    \n",
    "    return mse,best_k"
   ]
  },
  {
   "cell_type": "markdown",
   "metadata": {},
   "source": [
    "### 8.6 Cross Validation Using Brute Algorithm "
   ]
  },
  {
   "cell_type": "code",
   "execution_count": 26,
   "metadata": {
    "collapsed": true
   },
   "outputs": [],
   "source": [
    "def knn_cv_brute(X_train,y_train,neighbours):\n",
    "    \n",
    "    cv_scores=[]\n",
    "    tscv = TimeSeriesSplit(n_splits=10)\n",
    "    \n",
    "    for k in neighbours:\n",
    "        knn = KNeighborsClassifier(n_neighbors=k,algorithm='brute')\n",
    "        scores = cross_val_score(knn, X_train, y_train, cv=tscv,scoring='roc_auc') # returns accuracy for each of 10 folds\n",
    "        cv_scores.append(scores.mean())\n",
    "        \n",
    "    mse = [1-x for x in cv_scores] # calculating misscalssification_error = 1 - accuracy for each K\n",
    "    \n",
    "    best_k = neighbours[mse.index(min(mse))] #returns k corresponding to minimum error\n",
    "    \n",
    "    return mse,best_k"
   ]
  },
  {
   "cell_type": "markdown",
   "metadata": {},
   "source": [
    "# 9.0 Bags of Words"
   ]
  },
  {
   "cell_type": "code",
   "execution_count": 17,
   "metadata": {},
   "outputs": [
    {
     "name": "stdout",
     "output_type": "stream",
     "text": [
      "Shape of Train , Test and Cross Validation Data After vectorizations\n",
      "(33500, 22818) (33500,)\n",
      "(16500, 22818) (16500,)\n"
     ]
    }
   ],
   "source": [
    "vectorizer = CountVectorizer()\n",
    "vectorizer.fit(X_train) # fit has to happen only on train data\n",
    "\n",
    "# we use the fitted CountVectorizer to convert the text to vector\n",
    "X_train_bow = vectorizer.transform(X_train)\n",
    "X_train_bow=preprocessing.normalize(X_train_bow)\n",
    "\n",
    "X_test_bow = vectorizer.transform(X_test)\n",
    "X_test_bow=preprocessing.normalize(X_test_bow)\n",
    "\n",
    "print(\"Shape of Train , Test and Cross Validation Data After vectorizations\")\n",
    "print(X_train_bow.shape, y_train.shape)\n",
    "print(X_test_bow.shape, y_test.shape)"
   ]
  },
  {
   "cell_type": "code",
   "execution_count": 18,
   "metadata": {},
   "outputs": [
    {
     "data": {
      "text/plain": [
       "scipy.sparse.csr.csr_matrix"
      ]
     },
     "execution_count": 18,
     "metadata": {},
     "output_type": "execute_result"
    }
   ],
   "source": [
    "type(X_train_bow)"
   ]
  },
  {
   "cell_type": "markdown",
   "metadata": {},
   "source": [
    "### 9.1 Brute Force Algorithm"
   ]
  },
  {
   "cell_type": "markdown",
   "metadata": {},
   "source": [
    "#### 9.1.1  Finding Optimal Value of Hyperparameter(k) "
   ]
  },
  {
   "cell_type": "code",
   "execution_count": 27,
   "metadata": {
    "collapsed": true
   },
   "outputs": [],
   "source": [
    "import numpy as np \n",
    "\n",
    "neighbours=np.arange(1,100,2)\n",
    "mse,best_k = knn_cv_brute(X_train_bow,y_train,neighbours)"
   ]
  },
  {
   "cell_type": "code",
   "execution_count": 28,
   "metadata": {},
   "outputs": [
    {
     "name": "stdout",
     "output_type": "stream",
     "text": [
      "Best value of K found for Brute Force Algorithm Implementaion is :  95\n"
     ]
    },
    {
     "data": {
      "image/png": "[encoded data removed]",
      "text/plain": [
       "<Figure size 432x288 with 1 Axes>"
      ]
     },
     "metadata": {
      "needs_background": "light"
     },
     "output_type": "display_data"
    }
   ],
   "source": [
    "error_plot(neighbours,mse)\n",
    "print(\"Best value of K found for Brute Force Algorithm Implementaion is : \",best_k)"
   ]
  },
  {
   "cell_type": "markdown",
   "metadata": {},
   "source": [
    "#### 9.1.2 Training the model "
   ]
  },
  {
   "cell_type": "code",
   "execution_count": 29,
   "metadata": {},
   "outputs": [
    {
     "data": {
      "text/plain": [
       "KNeighborsClassifier(algorithm='brute', leaf_size=30, metric='minkowski',\n",
       "           metric_params=None, n_jobs=None, n_neighbors=95, p=2,\n",
       "           weights='uniform')"
      ]
     },
     "execution_count": 29,
     "metadata": {},
     "output_type": "execute_result"
    }
   ],
   "source": [
    "neigh = KNeighborsClassifier(n_neighbors = best_k,algorithm='brute')\n",
    "neigh.fit(X_train_bow, y_train)"
   ]
  },
  {
   "cell_type": "markdown",
   "metadata": {},
   "source": [
    "#### 9.1.3 Evaluting the performance of model"
   ]
  },
  {
   "cell_type": "markdown",
   "metadata": {},
   "source": [
    "##### (A). Roc-Auc Plot "
   ]
  },
  {
   "cell_type": "code",
   "execution_count": 30,
   "metadata": {},
   "outputs": [
    {
     "data": {
      "image/png": "[encoded data removed]",
      "text/plain": [
       "<Figure size 432x288 with 1 Axes>"
      ]
     },
     "metadata": {
      "needs_background": "light"
     },
     "output_type": "display_data"
    }
   ],
   "source": [
    "plot_auc_roc(neigh,X_train_bow,X_test_bow,y_train,y_test)"
   ]
  },
  {
   "cell_type": "markdown",
   "metadata": {},
   "source": [
    "##### (B). Confusion Matrix Plot on Train Data "
   ]
  },
  {
   "cell_type": "code",
   "execution_count": 31,
   "metadata": {},
   "outputs": [
    {
     "name": "stdout",
     "output_type": "stream",
     "text": [
      "Confusion Matrix for Train set\n"
     ]
    },
    {
     "data": {
      "image/png": "[encoded data removed]",
      "text/plain": [
       "<Figure size 432x288 with 2 Axes>"
      ]
     },
     "metadata": {
      "needs_background": "light"
     },
     "output_type": "display_data"
    }
   ],
   "source": [
    "trainconfusionmatrix(neigh,X_train_bow,y_train)"
   ]
  },
  {
   "cell_type": "markdown",
   "metadata": {},
   "source": [
    "##### (C). Confusion Matrix on Test Data "
   ]
  },
  {
   "cell_type": "code",
   "execution_count": 32,
   "metadata": {},
   "outputs": [
    {
     "name": "stdout",
     "output_type": "stream",
     "text": [
      "Confusion Matrix for Test set\n"
     ]
    },
    {
     "data": {
      "image/png": "[encoded data removed]",
      "text/plain": [
       "<Figure size 432x288 with 2 Axes>"
      ]
     },
     "metadata": {
      "needs_background": "light"
     },
     "output_type": "display_data"
    }
   ],
   "source": [
    "testconfusionmatrix(neigh,X_test_bow,y_test)"
   ]
  },
  {
   "cell_type": "markdown",
   "metadata": {},
   "source": [
    "##### (D). Classification Report"
   ]
  },
  {
   "cell_type": "code",
   "execution_count": 33,
   "metadata": {},
   "outputs": [
    {
     "name": "stdout",
     "output_type": "stream",
     "text": [
      "Classification Report: \n",
      "\n",
      "              precision    recall  f1-score   support\n",
      "\n",
      "           0       0.97      0.03      0.07      2525\n",
      "           1       0.85      1.00      0.92     13975\n",
      "\n",
      "   micro avg       0.85      0.85      0.85     16500\n",
      "   macro avg       0.91      0.52      0.49     16500\n",
      "weighted avg       0.87      0.85      0.79     16500\n",
      "\n"
     ]
    }
   ],
   "source": [
    "print(\"Classification Report: \\n\")\n",
    "y_pred=neigh.predict(X_test_bow)\n",
    "\n",
    "print(classification_report(y_test, y_pred))\n"
   ]
  },
  {
   "cell_type": "markdown",
   "metadata": {},
   "source": [
    "###  9.2 KD-Tree Algorithm"
   ]
  },
  {
   "cell_type": "markdown",
   "metadata": {},
   "source": [
    "#### 9.2.1 Finding Optimal Value of Hyperparameter(k)"
   ]
  },
  {
   "cell_type": "code",
   "execution_count": 34,
   "metadata": {},
   "outputs": [
    {
     "name": "stdout",
     "output_type": "stream",
     "text": [
      "Shape of Train , Test and Cross Validation Data After vectorizations\n",
      "(13400, 14993) (13400,)\n",
      "(6600, 14993) (6600,)\n"
     ]
    }
   ],
   "source": [
    "vectorizer = CountVectorizer()\n",
    "vectorizer.fit(X1_train) # fit has to happen only on train data\n",
    "\n",
    "# we use the fitted CountVectorizer to convert the text to vector\n",
    "X1_train_bow = vectorizer.transform(X1_train)\n",
    "X1_train_bow=preprocessing.normalize(X1_train_bow)\n",
    "\n",
    "X1_test_bow = vectorizer.transform(X1_test)\n",
    "X1_test_bow=preprocessing.normalize(X1_test_bow)\n",
    "\n",
    "print(\"Shape of Train , Test and Cross Validation Data After vectorizations\")\n",
    "print(X1_train_bow.shape, y1_train.shape)\n",
    "print(X1_test_bow.shape, y1_test.shape)"
   ]
  },
  {
   "cell_type": "code",
   "execution_count": 35,
   "metadata": {
    "collapsed": true
   },
   "outputs": [],
   "source": [
    "import numpy as np \n",
    "\n",
    "neighbours=np.arange(1,100,2)\n",
    "mse,best_k = knn_cv_kd(X1_train_bow,y1_train,neighbours)"
   ]
  },
  {
   "cell_type": "code",
   "execution_count": 36,
   "metadata": {},
   "outputs": [
    {
     "name": "stdout",
     "output_type": "stream",
     "text": [
      "Best value of K found for KD Tree Algorithm Implementaion is :  97\n"
     ]
    },
    {
     "data": {
      "image/png": "[encoded data removed]",
      "text/plain": [
       "<Figure size 432x288 with 1 Axes>"
      ]
     },
     "metadata": {
      "needs_background": "light"
     },
     "output_type": "display_data"
    }
   ],
   "source": [
    "error_plot(neighbours,mse)\n",
    "print(\"Best value of K found for KD Tree Algorithm Implementaion is : \",best_k)"
   ]
  },
  {
   "cell_type": "markdown",
   "metadata": {},
   "source": [
    "#### 9.2.2 Training the model"
   ]
  },
  {
   "cell_type": "code",
   "execution_count": 37,
   "metadata": {},
   "outputs": [
    {
     "data": {
      "text/plain": [
       "KNeighborsClassifier(algorithm='kd_tree', leaf_size=30, metric='minkowski',\n",
       "           metric_params=None, n_jobs=None, n_neighbors=97, p=2,\n",
       "           weights='uniform')"
      ]
     },
     "execution_count": 37,
     "metadata": {},
     "output_type": "execute_result"
    }
   ],
   "source": [
    "neigh = KNeighborsClassifier(n_neighbors = best_k,algorithm='kd_tree')\n",
    "neigh.fit(X1_train_bow, y1_train)"
   ]
  },
  {
   "cell_type": "markdown",
   "metadata": {},
   "source": [
    "#### 9.2.3 Evaluting the performance of model"
   ]
  },
  {
   "cell_type": "markdown",
   "metadata": {},
   "source": [
    "##### (A). Roc-Auc Plot"
   ]
  },
  {
   "cell_type": "code",
   "execution_count": 38,
   "metadata": {},
   "outputs": [
    {
     "data": {
      "image/png": "[encoded data removed]",
      "text/plain": [
       "<Figure size 432x288 with 1 Axes>"
      ]
     },
     "metadata": {
      "needs_background": "light"
     },
     "output_type": "display_data"
    }
   ],
   "source": [
    "plot_auc_roc(neigh,X1_train_bow,X1_test_bow,y1_train,y1_test)"
   ]
  },
  {
   "cell_type": "markdown",
   "metadata": {},
   "source": [
    "##### (B). Confusion Matrix Plot on Train Data"
   ]
  },
  {
   "cell_type": "code",
   "execution_count": 39,
   "metadata": {},
   "outputs": [
    {
     "name": "stdout",
     "output_type": "stream",
     "text": [
      "Confusion Matrix for Train set\n"
     ]
    },
    {
     "data": {
      "image/png": "[encoded data removed]",
      "text/plain": [
       "<Figure size 432x288 with 2 Axes>"
      ]
     },
     "metadata": {
      "needs_background": "light"
     },
     "output_type": "display_data"
    }
   ],
   "source": [
    "trainconfusionmatrix(neigh,X1_train_bow,y1_train)"
   ]
  },
  {
   "cell_type": "markdown",
   "metadata": {},
   "source": [
    "##### (C). Confusion Matrix Plot on Test Data"
   ]
  },
  {
   "cell_type": "code",
   "execution_count": 40,
   "metadata": {},
   "outputs": [
    {
     "name": "stdout",
     "output_type": "stream",
     "text": [
      "Confusion Matrix for Test set\n"
     ]
    },
    {
     "data": {
      "image/png": "[encoded data removed]",
      "text/plain": [
       "<Figure size 432x288 with 2 Axes>"
      ]
     },
     "metadata": {
      "needs_background": "light"
     },
     "output_type": "display_data"
    }
   ],
   "source": [
    "testconfusionmatrix(neigh,X1_test_bow,y1_test)"
   ]
  },
  {
   "cell_type": "markdown",
   "metadata": {},
   "source": [
    "##### (D). Classification Report"
   ]
  },
  {
   "cell_type": "code",
   "execution_count": 41,
   "metadata": {},
   "outputs": [
    {
     "name": "stdout",
     "output_type": "stream",
     "text": [
      "Classification Report: \n",
      "\n",
      "              precision    recall  f1-score   support\n",
      "\n",
      "           0       0.91      0.02      0.04      1027\n",
      "           1       0.85      1.00      0.92      5573\n",
      "\n",
      "   micro avg       0.85      0.85      0.85      6600\n",
      "   macro avg       0.88      0.51      0.48      6600\n",
      "weighted avg       0.86      0.85      0.78      6600\n",
      "\n"
     ]
    }
   ],
   "source": [
    "print(\"Classification Report: \\n\")\n",
    "prediction=neigh.predict(X1_test_bow)\n",
    "print(classification_report(y1_test, prediction))"
   ]
  },
  {
   "cell_type": "markdown",
   "metadata": {},
   "source": [
    "# 10.0 TF-IDF"
   ]
  },
  {
   "cell_type": "code",
   "execution_count": 42,
   "metadata": {
    "collapsed": true
   },
   "outputs": [],
   "source": [
    "vectorizer = TfidfVectorizer(ngram_range=(1,2))\n",
    "vectorizer.fit(X_train) # fit has to happen only on train data\n",
    "\n",
    "# we use the fitted CountVectorizer to convert the text to vector\n",
    "X_train_TF = vectorizer.transform(X_train)\n",
    "X_train_TF= preprocessing.normalize(X_train_TF)\n",
    "\n",
    "X_test_TF = vectorizer.transform(X_test)\n",
    "X_test_TF= preprocessing.normalize(X_test_TF)"
   ]
  },
  {
   "cell_type": "code",
   "execution_count": 43,
   "metadata": {},
   "outputs": [
    {
     "name": "stdout",
     "output_type": "stream",
     "text": [
      "After vectorizations\n",
      "(33500, 584692) (33500,)\n",
      "(16500, 584692) (16500,)\n"
     ]
    }
   ],
   "source": [
    "print(\"After vectorizations\")\n",
    "print(X_train_TF.shape, y_train.shape)\n",
    "print(X_test_TF.shape, y_test.shape)"
   ]
  },
  {
   "cell_type": "markdown",
   "metadata": {},
   "source": [
    "### 10.1 Brute Force Algorithm"
   ]
  },
  {
   "cell_type": "markdown",
   "metadata": {},
   "source": [
    "#### 10.1.1 Finding Optimal Value of Hyperparameter(k)"
   ]
  },
  {
   "cell_type": "code",
   "execution_count": 44,
   "metadata": {
    "collapsed": true
   },
   "outputs": [],
   "source": [
    "import numpy as np \n",
    "\n",
    "neighbours=np.arange(1,100,2)\n",
    "mse,best_k = knn_cv_brute(X_train_TF,y_train,neighbours)"
   ]
  },
  {
   "cell_type": "code",
   "execution_count": 45,
   "metadata": {},
   "outputs": [
    {
     "name": "stdout",
     "output_type": "stream",
     "text": [
      "Best value of K found for Brute Force Algorithm Implementaion is :  99\n"
     ]
    },
    {
     "data": {
      "image/png": "[encoded data removed]",
      "text/plain": [
       "<Figure size 432x288 with 1 Axes>"
      ]
     },
     "metadata": {
      "needs_background": "light"
     },
     "output_type": "display_data"
    }
   ],
   "source": [
    "error_plot(neighbours,mse)\n",
    "print(\"Best value of K found for Brute Force Algorithm Implementaion is : \",best_k)"
   ]
  },
  {
   "cell_type": "markdown",
   "metadata": {},
   "source": [
    "##### 10.1.2 Training the model "
   ]
  },
  {
   "cell_type": "code",
   "execution_count": 46,
   "metadata": {},
   "outputs": [
    {
     "data": {
      "text/plain": [
       "KNeighborsClassifier(algorithm='brute', leaf_size=30, metric='minkowski',\n",
       "           metric_params=None, n_jobs=None, n_neighbors=99, p=2,\n",
       "           weights='uniform')"
      ]
     },
     "execution_count": 46,
     "metadata": {},
     "output_type": "execute_result"
    }
   ],
   "source": [
    "neigh = KNeighborsClassifier(n_neighbors = best_k,algorithm='brute')\n",
    "neigh.fit(X_train_TF, y_train)"
   ]
  },
  {
   "cell_type": "markdown",
   "metadata": {},
   "source": [
    "#### 10.1.3 Evaluting the performance of model"
   ]
  },
  {
   "cell_type": "markdown",
   "metadata": {},
   "source": [
    "##### (A). Roc-Auc Plot"
   ]
  },
  {
   "cell_type": "code",
   "execution_count": 47,
   "metadata": {},
   "outputs": [
    {
     "data": {
      "image/png": "[encoded data removed]",
      "text/plain": [
       "<Figure size 432x288 with 1 Axes>"
      ]
     },
     "metadata": {
      "needs_background": "light"
     },
     "output_type": "display_data"
    }
   ],
   "source": [
    "plot_auc_roc(neigh,X_train_TF,X_test_TF,y_train,y_test)"
   ]
  },
  {
   "cell_type": "markdown",
   "metadata": {},
   "source": [
    "##### (B). Confusion Matrix Plot on Train Data"
   ]
  },
  {
   "cell_type": "code",
   "execution_count": 48,
   "metadata": {},
   "outputs": [
    {
     "name": "stdout",
     "output_type": "stream",
     "text": [
      "Confusion Matrix for Train set\n"
     ]
    },
    {
     "data": {
      "image/png": "[encoded data removed]",
      "text/plain": [
       "<Figure size 432x288 with 2 Axes>"
      ]
     },
     "metadata": {
      "needs_background": "light"
     },
     "output_type": "display_data"
    }
   ],
   "source": [
    "trainconfusionmatrix(neigh,X_train_TF,y_train)"
   ]
  },
  {
   "cell_type": "markdown",
   "metadata": {},
   "source": [
    "##### (C). Confusion Matrix Plot on Test Data"
   ]
  },
  {
   "cell_type": "code",
   "execution_count": 49,
   "metadata": {},
   "outputs": [
    {
     "name": "stdout",
     "output_type": "stream",
     "text": [
      "Confusion Matrix for Test set\n"
     ]
    },
    {
     "data": {
      "image/png": "[encoded data removed]",
      "text/plain": [
       "<Figure size 432x288 with 2 Axes>"
      ]
     },
     "metadata": {
      "needs_background": "light"
     },
     "output_type": "display_data"
    }
   ],
   "source": [
    "testconfusionmatrix(neigh,X_test_TF,y_test)"
   ]
  },
  {
   "cell_type": "markdown",
   "metadata": {},
   "source": [
    "##### (D). Classification Report"
   ]
  },
  {
   "cell_type": "code",
   "execution_count": 50,
   "metadata": {},
   "outputs": [
    {
     "name": "stdout",
     "output_type": "stream",
     "text": [
      "Classification Report: \n",
      "\n",
      "              precision    recall  f1-score   support\n",
      "\n",
      "           0       0.97      0.05      0.09      2525\n",
      "           1       0.85      1.00      0.92     13975\n",
      "\n",
      "   micro avg       0.85      0.85      0.85     16500\n",
      "   macro avg       0.91      0.52      0.50     16500\n",
      "weighted avg       0.87      0.85      0.79     16500\n",
      "\n"
     ]
    }
   ],
   "source": [
    "print(\"Classification Report: \\n\")\n",
    "prediction=neigh.predict(X_test_TF)\n",
    "print(classification_report(y_test, prediction))"
   ]
  },
  {
   "cell_type": "markdown",
   "metadata": {},
   "source": [
    "### 10.2 KD Tree Algorithm"
   ]
  },
  {
   "cell_type": "markdown",
   "metadata": {},
   "source": [
    "#### 10.2.1 Finding Optimal Value of Hyperparameter(k)"
   ]
  },
  {
   "cell_type": "code",
   "execution_count": 51,
   "metadata": {
    "collapsed": true
   },
   "outputs": [],
   "source": [
    "vectorizer = TfidfVectorizer(ngram_range=(1,2))\n",
    "vectorizer.fit(X1_train) # fit has to happen only on train data\n",
    "\n",
    "# we use the fitted CountVectorizer to convert the text to vector\n",
    "X1_train_TF = vectorizer.transform(X1_train)\n",
    "X1_train_TF= preprocessing.normalize(X1_train_TF)\n",
    "\n",
    "X1_test_TF = vectorizer.transform(X1_test)\n",
    "X1_test_TF= preprocessing.normalize(X1_test_TF)"
   ]
  },
  {
   "cell_type": "code",
   "execution_count": 52,
   "metadata": {
    "collapsed": true
   },
   "outputs": [],
   "source": [
    "import numpy as np \n",
    "\n",
    "neighbours=np.arange(1,100,2)\n",
    "mse,best_k = knn_cv_kd(X1_train_TF,y1_train,neighbours)"
   ]
  },
  {
   "cell_type": "code",
   "execution_count": 53,
   "metadata": {},
   "outputs": [
    {
     "name": "stdout",
     "output_type": "stream",
     "text": [
      "Best value of K found for KD Tree Algorithm Implementaion is :  99\n"
     ]
    },
    {
     "data": {
      "image/png": "[encoded data removed]",
      "text/plain": [
       "<Figure size 432x288 with 1 Axes>"
      ]
     },
     "metadata": {
      "needs_background": "light"
     },
     "output_type": "display_data"
    }
   ],
   "source": [
    "error_plot(neighbours,mse)\n",
    "print(\"Best value of K found for KD Tree Algorithm Implementaion is : \",best_k)"
   ]
  },
  {
   "cell_type": "markdown",
   "metadata": {},
   "source": [
    "##### 10.2.2 Training the model"
   ]
  },
  {
   "cell_type": "code",
   "execution_count": 54,
   "metadata": {},
   "outputs": [
    {
     "data": {
      "text/plain": [
       "KNeighborsClassifier(algorithm='kd_tree', leaf_size=30, metric='minkowski',\n",
       "           metric_params=None, n_jobs=None, n_neighbors=99, p=2,\n",
       "           weights='uniform')"
      ]
     },
     "execution_count": 54,
     "metadata": {},
     "output_type": "execute_result"
    }
   ],
   "source": [
    "neigh = KNeighborsClassifier(n_neighbors = best_k,algorithm='kd_tree')\n",
    "neigh.fit(X1_train_TF, y1_train)"
   ]
  },
  {
   "cell_type": "markdown",
   "metadata": {},
   "source": [
    "##### 10.2.3 Evaluting the performance of model"
   ]
  },
  {
   "cell_type": "markdown",
   "metadata": {},
   "source": [
    "##### (A). Roc-Auc Plot"
   ]
  },
  {
   "cell_type": "code",
   "execution_count": 55,
   "metadata": {},
   "outputs": [
    {
     "data": {
      "image/png": "[encoded data removed]",
      "text/plain": [
       "<Figure size 432x288 with 1 Axes>"
      ]
     },
     "metadata": {
      "needs_background": "light"
     },
     "output_type": "display_data"
    }
   ],
   "source": [
    "plot_auc_roc(neigh,X1_train_TF,X1_test_TF,y1_train,y1_test)"
   ]
  },
  {
   "cell_type": "markdown",
   "metadata": {},
   "source": [
    "###### (B). Confusion Matrix Plot on Train Data"
   ]
  },
  {
   "cell_type": "code",
   "execution_count": 56,
   "metadata": {},
   "outputs": [
    {
     "name": "stdout",
     "output_type": "stream",
     "text": [
      "Confusion Matrix for Train set\n"
     ]
    },
    {
     "data": {
      "image/png": "[encoded data removed]",
      "text/plain": [
       "<Figure size 432x288 with 2 Axes>"
      ]
     },
     "metadata": {
      "needs_background": "light"
     },
     "output_type": "display_data"
    }
   ],
   "source": [
    "trainconfusionmatrix(neigh,X1_train_TF,y1_train)"
   ]
  },
  {
   "cell_type": "markdown",
   "metadata": {},
   "source": [
    "##### (C). Confusion Matrix Plot on Test Data"
   ]
  },
  {
   "cell_type": "code",
   "execution_count": 57,
   "metadata": {},
   "outputs": [
    {
     "name": "stdout",
     "output_type": "stream",
     "text": [
      "Confusion Matrix for Test set\n"
     ]
    },
    {
     "data": {
      "image/png": "[encoded data removed]",
      "text/plain": [
       "<Figure size 432x288 with 2 Axes>"
      ]
     },
     "metadata": {
      "needs_background": "light"
     },
     "output_type": "display_data"
    }
   ],
   "source": [
    "testconfusionmatrix(neigh,X1_test_TF,y1_test)"
   ]
  },
  {
   "cell_type": "markdown",
   "metadata": {},
   "source": [
    "##### (D). Classification Report"
   ]
  },
  {
   "cell_type": "code",
   "execution_count": 58,
   "metadata": {},
   "outputs": [
    {
     "name": "stdout",
     "output_type": "stream",
     "text": [
      "Classification Report: \n",
      "\n",
      "              precision    recall  f1-score   support\n",
      "\n",
      "           0       0.97      0.03      0.05      1027\n",
      "           1       0.85      1.00      0.92      5573\n",
      "\n",
      "   micro avg       0.85      0.85      0.85      6600\n",
      "   macro avg       0.91      0.51      0.49      6600\n",
      "weighted avg       0.87      0.85      0.78      6600\n",
      "\n"
     ]
    }
   ],
   "source": [
    "print(\"Classification Report: \\n\")\n",
    "prediction=neigh.predict(X1_test_TF)\n",
    "print(classification_report(y1_test, prediction))"
   ]
  },
  {
   "cell_type": "markdown",
   "metadata": {},
   "source": [
    "# 11.0 Word To Vector"
   ]
  },
  {
   "cell_type": "code",
   "execution_count": 59,
   "metadata": {
    "collapsed": true
   },
   "outputs": [],
   "source": [
    "list_of_Train_sent=[]\n",
    "list_of_Test_sent=[]\n",
    "\n",
    "for sent in X_train:\n",
    "    list_of_Train_sent.append(sent.split())\n",
    "    \n",
    "for sent in X_test:\n",
    "    list_of_Test_sent.append(sent.split())"
   ]
  },
  {
   "cell_type": "code",
   "execution_count": 60,
   "metadata": {},
   "outputs": [
    {
     "data": {
      "text/plain": [
       "33500"
      ]
     },
     "execution_count": 60,
     "metadata": {},
     "output_type": "execute_result"
    }
   ],
   "source": [
    "len(list_of_Train_sent)"
   ]
  },
  {
   "cell_type": "code",
   "execution_count": 61,
   "metadata": {
    "collapsed": true
   },
   "outputs": [],
   "source": [
    "model=Word2Vec(list_of_Train_sent,min_count=5,size=50, workers=4)"
   ]
  },
  {
   "cell_type": "markdown",
   "metadata": {},
   "source": [
    "### 11.1 Avg Word2Vec\n"
   ]
  },
  {
   "cell_type": "code",
   "execution_count": 62,
   "metadata": {
    "collapsed": true
   },
   "outputs": [],
   "source": [
    "import numpy as np\n",
    "\n",
    "Train_vectors = []\n",
    "for sent in list_of_Train_sent:\n",
    "    sent_vec = np.zeros(50)\n",
    "    cnt_words = 0\n",
    "    for word in sent:\n",
    "        try:\n",
    "            vec = model.wv[word]\n",
    "            sent_vec += vec\n",
    "            cnt_words += 1\n",
    "        except:\n",
    "            pass\n",
    "    if cnt_words!=0:    \n",
    "        sent_vec /= cnt_words\n",
    "    Train_vectors.append(sent_vec)\n",
    "Train_vectors = np.nan_to_num(Train_vectors)"
   ]
  },
  {
   "cell_type": "code",
   "execution_count": 63,
   "metadata": {
    "collapsed": true
   },
   "outputs": [],
   "source": [
    "import numpy as np\n",
    "\n",
    "Test_vectors=[]\n",
    "for sent in list_of_Test_sent:\n",
    "    sent_vec=np.zeros(50)\n",
    "    cnt_words=0\n",
    "    for word in sent:\n",
    "        try:\n",
    "            vec=model.wv[word]\n",
    "            sent_vec+=vec\n",
    "            cnt_words+=1\n",
    "        except:\n",
    "            pass\n",
    "    if cnt_words!=0:\n",
    "        sent_vec/=cnt_words\n",
    "    Test_vectors.append(sent_vec)\n",
    "Test_vectors=np.nan_to_num(Test_vectors)    "
   ]
  },
  {
   "cell_type": "code",
   "execution_count": 64,
   "metadata": {},
   "outputs": [
    {
     "name": "stdout",
     "output_type": "stream",
     "text": [
      "Shape of Test Vectors :  (16500, 50)\n"
     ]
    }
   ],
   "source": [
    "print(\"Shape of Test Vectors : \",Test_vectors.shape)"
   ]
  },
  {
   "cell_type": "code",
   "execution_count": 65,
   "metadata": {
    "collapsed": true
   },
   "outputs": [],
   "source": [
    "X_train_AWV = Train_vectors\n",
    "X_test_AWV = Test_vectors"
   ]
  },
  {
   "cell_type": "code",
   "execution_count": 66,
   "metadata": {},
   "outputs": [
    {
     "name": "stdout",
     "output_type": "stream",
     "text": [
      "(33500, 50) (33500,)\n",
      "(16500, 50) (16500,)\n"
     ]
    }
   ],
   "source": [
    "print(X_train_AWV.shape, y_train.shape)\n",
    "print(X_test_AWV.shape, y_test.shape)"
   ]
  },
  {
   "cell_type": "markdown",
   "metadata": {},
   "source": [
    "### 10.2 Brute Force Algorithm"
   ]
  },
  {
   "cell_type": "markdown",
   "metadata": {},
   "source": [
    "#### 10.2.1 Finding Optimal Value of Hyperparameter(k)"
   ]
  },
  {
   "cell_type": "code",
   "execution_count": 67,
   "metadata": {
    "collapsed": true
   },
   "outputs": [],
   "source": [
    "import numpy as np \n",
    "\n",
    "neighbours=np.arange(1,100,2)\n",
    "mse,best_k = knn_cv_brute(X_train_AWV,y_train,neighbours)"
   ]
  },
  {
   "cell_type": "code",
   "execution_count": 68,
   "metadata": {},
   "outputs": [
    {
     "name": "stdout",
     "output_type": "stream",
     "text": [
      "Best value of K found for Brute Force Algorithm Implementaion is :  99\n"
     ]
    },
    {
     "data": {
      "image/png": "[encoded data removed]",
      "text/plain": [
       "<Figure size 432x288 with 1 Axes>"
      ]
     },
     "metadata": {
      "needs_background": "light"
     },
     "output_type": "display_data"
    }
   ],
   "source": [
    "error_plot(neighbours,mse)\n",
    "print(\"Best value of K found for Brute Force Algorithm Implementaion is : \",best_k)"
   ]
  },
  {
   "cell_type": "markdown",
   "metadata": {},
   "source": [
    "#### 10.2.2 Training the model"
   ]
  },
  {
   "cell_type": "code",
   "execution_count": 69,
   "metadata": {},
   "outputs": [
    {
     "data": {
      "text/plain": [
       "KNeighborsClassifier(algorithm='brute', leaf_size=30, metric='minkowski',\n",
       "           metric_params=None, n_jobs=None, n_neighbors=99, p=2,\n",
       "           weights='uniform')"
      ]
     },
     "execution_count": 69,
     "metadata": {},
     "output_type": "execute_result"
    }
   ],
   "source": [
    "neigh = KNeighborsClassifier(n_neighbors = best_k,algorithm='brute')\n",
    "neigh.fit(X_train_AWV, y_train)"
   ]
  },
  {
   "cell_type": "markdown",
   "metadata": {},
   "source": [
    "##### 10.2.3 Evaluting the performance of model"
   ]
  },
  {
   "cell_type": "markdown",
   "metadata": {},
   "source": [
    "##### (A). Roc-Auc Plot"
   ]
  },
  {
   "cell_type": "code",
   "execution_count": 70,
   "metadata": {},
   "outputs": [
    {
     "data": {
      "image/png": "[encoded data removed]",
      "text/plain": [
       "<Figure size 432x288 with 1 Axes>"
      ]
     },
     "metadata": {
      "needs_background": "light"
     },
     "output_type": "display_data"
    }
   ],
   "source": [
    "plot_auc_roc(neigh,X_train_AWV,X_test_AWV,y_train,y_test)"
   ]
  },
  {
   "cell_type": "markdown",
   "metadata": {},
   "source": [
    "##### (B). Confusion Matrix Plot on Train Data"
   ]
  },
  {
   "cell_type": "code",
   "execution_count": 71,
   "metadata": {},
   "outputs": [
    {
     "name": "stdout",
     "output_type": "stream",
     "text": [
      "Confusion Matrix for Train set\n"
     ]
    },
    {
     "data": {
      "image/png": "[encoded data removed]",
      "text/plain": [
       "<Figure size 432x288 with 2 Axes>"
      ]
     },
     "metadata": {
      "needs_background": "light"
     },
     "output_type": "display_data"
    }
   ],
   "source": [
    "trainconfusionmatrix(neigh,X_train_AWV,y_train)"
   ]
  },
  {
   "cell_type": "markdown",
   "metadata": {},
   "source": [
    "##### (C). Confusion Matrix Plot on Test Data"
   ]
  },
  {
   "cell_type": "code",
   "execution_count": 72,
   "metadata": {},
   "outputs": [
    {
     "name": "stdout",
     "output_type": "stream",
     "text": [
      "Confusion Matrix for Test set\n"
     ]
    },
    {
     "data": {
      "image/png": "[encoded data removed]",
      "text/plain": [
       "<Figure size 432x288 with 2 Axes>"
      ]
     },
     "metadata": {
      "needs_background": "light"
     },
     "output_type": "display_data"
    }
   ],
   "source": [
    "testconfusionmatrix(neigh,X_test_AWV,y_test)"
   ]
  },
  {
   "cell_type": "markdown",
   "metadata": {},
   "source": [
    "#### (D). Classification Report"
   ]
  },
  {
   "cell_type": "code",
   "execution_count": 73,
   "metadata": {},
   "outputs": [
    {
     "name": "stdout",
     "output_type": "stream",
     "text": [
      "Classification Report: \n",
      "\n",
      "              precision    recall  f1-score   support\n",
      "\n",
      "           0       0.83      0.16      0.27      2525\n",
      "           1       0.87      0.99      0.93     13975\n",
      "\n",
      "   micro avg       0.87      0.87      0.87     16500\n",
      "   macro avg       0.85      0.58      0.60     16500\n",
      "weighted avg       0.86      0.87      0.83     16500\n",
      "\n"
     ]
    }
   ],
   "source": [
    "print(\"Classification Report: \\n\")\n",
    "prediction=neigh.predict(X_test_AWV)\n",
    "print(classification_report(y_test, prediction))"
   ]
  },
  {
   "cell_type": "markdown",
   "metadata": {},
   "source": [
    "### 10.3 KD Tree Algorithm"
   ]
  },
  {
   "cell_type": "code",
   "execution_count": 74,
   "metadata": {
    "collapsed": true
   },
   "outputs": [],
   "source": [
    "list_of_Train_sent1=[]\n",
    "list_of_Test_sent1=[]\n",
    "\n",
    "for sent in X1_train:\n",
    "    list_of_Train_sent1.append(sent.split())\n",
    "    \n",
    "for sent in X1_test:\n",
    "    list_of_Test_sent1.append(sent.split())"
   ]
  },
  {
   "cell_type": "code",
   "execution_count": 75,
   "metadata": {
    "collapsed": true
   },
   "outputs": [],
   "source": [
    "Train_model1=Word2Vec(list_of_Train_sent1,min_count=5,size=50, workers=4)"
   ]
  },
  {
   "cell_type": "code",
   "execution_count": 76,
   "metadata": {
    "collapsed": true
   },
   "outputs": [],
   "source": [
    "import numpy as np\n",
    "\n",
    "Train_vectors1 = []\n",
    "for sent in list_of_Train_sent1:\n",
    "    sent_vec = np.zeros(50)\n",
    "    cnt_words = 0\n",
    "    for word in sent:\n",
    "        try:\n",
    "            vec = Train_model1.wv[word]\n",
    "            sent_vec += vec\n",
    "            cnt_words += 1\n",
    "        except:\n",
    "            pass\n",
    "    if cnt_words!=0:    \n",
    "        sent_vec /= cnt_words\n",
    "    Train_vectors1.append(sent_vec)\n",
    "Train_vectors1 = np.nan_to_num(Train_vectors1)"
   ]
  },
  {
   "cell_type": "code",
   "execution_count": 77,
   "metadata": {},
   "outputs": [
    {
     "data": {
      "text/plain": [
       "(13400, 50)"
      ]
     },
     "execution_count": 77,
     "metadata": {},
     "output_type": "execute_result"
    }
   ],
   "source": [
    "Train_vectors1.shape"
   ]
  },
  {
   "cell_type": "code",
   "execution_count": 78,
   "metadata": {
    "collapsed": true
   },
   "outputs": [],
   "source": [
    "import numpy as np\n",
    "\n",
    "Test_vectors1=[]\n",
    "for sent in list_of_Test_sent1:\n",
    "    sent_vec=np.zeros(50)\n",
    "    cnt_words=0\n",
    "    for word in sent:\n",
    "        try:\n",
    "            vec=Train_model1.wv[word]\n",
    "            sent_vec+=vec\n",
    "            cnt_words+=1\n",
    "        except:\n",
    "            pass\n",
    "    if cnt_words!=0:\n",
    "        sent_vec/=cnt_words\n",
    "    Test_vectors1.append(sent_vec)\n",
    "Test_vectors1=np.nan_to_num(Test_vectors1)    "
   ]
  },
  {
   "cell_type": "code",
   "execution_count": 79,
   "metadata": {},
   "outputs": [
    {
     "data": {
      "text/plain": [
       "(6600, 50)"
      ]
     },
     "execution_count": 79,
     "metadata": {},
     "output_type": "execute_result"
    }
   ],
   "source": [
    "Test_vectors1.shape"
   ]
  },
  {
   "cell_type": "code",
   "execution_count": 80,
   "metadata": {
    "collapsed": true
   },
   "outputs": [],
   "source": [
    "X_train_AWV1 = Train_vectors1\n",
    "X_test_AWV1 = Test_vectors1"
   ]
  },
  {
   "cell_type": "markdown",
   "metadata": {},
   "source": [
    "#### 10.3.1 Finding Optimal Value of Hyperparameter(k)"
   ]
  },
  {
   "cell_type": "code",
   "execution_count": 81,
   "metadata": {
    "collapsed": true
   },
   "outputs": [],
   "source": [
    "import numpy as np \n",
    "\n",
    "neighbours=np.arange(1,100,2)\n",
    "mse,best_k = knn_cv_kd(X_train_AWV1,y1_train,neighbours)"
   ]
  },
  {
   "cell_type": "code",
   "execution_count": 82,
   "metadata": {},
   "outputs": [
    {
     "name": "stdout",
     "output_type": "stream",
     "text": [
      "Best value of K found for KD Tree Algorithm Implementaion is :  95\n"
     ]
    },
    {
     "data": {
      "image/png": "[encoded data removed]",
      "text/plain": [
       "<Figure size 432x288 with 1 Axes>"
      ]
     },
     "metadata": {
      "needs_background": "light"
     },
     "output_type": "display_data"
    }
   ],
   "source": [
    "error_plot(neighbours,mse)\n",
    "print(\"Best value of K found for KD Tree Algorithm Implementaion is : \",best_k)"
   ]
  },
  {
   "cell_type": "markdown",
   "metadata": {},
   "source": [
    "#### 10.3.2 Training the model"
   ]
  },
  {
   "cell_type": "code",
   "execution_count": 83,
   "metadata": {},
   "outputs": [
    {
     "data": {
      "text/plain": [
       "KNeighborsClassifier(algorithm='kd_tree', leaf_size=30, metric='minkowski',\n",
       "           metric_params=None, n_jobs=None, n_neighbors=95, p=2,\n",
       "           weights='uniform')"
      ]
     },
     "execution_count": 83,
     "metadata": {},
     "output_type": "execute_result"
    }
   ],
   "source": [
    "neigh = KNeighborsClassifier(n_neighbors = best_k,algorithm='kd_tree')\n",
    "neigh.fit(X_train_AWV1, y1_train)"
   ]
  },
  {
   "cell_type": "markdown",
   "metadata": {},
   "source": [
    "#### 10.3.3 Evaluting the performance of model"
   ]
  },
  {
   "cell_type": "markdown",
   "metadata": {},
   "source": [
    "##### (A). Roc-Auc Plot"
   ]
  },
  {
   "cell_type": "code",
   "execution_count": 84,
   "metadata": {},
   "outputs": [
    {
     "data": {
      "image/png": "[encoded data removed]",
      "text/plain": [
       "<Figure size 432x288 with 1 Axes>"
      ]
     },
     "metadata": {
      "needs_background": "light"
     },
     "output_type": "display_data"
    }
   ],
   "source": [
    "plot_auc_roc(neigh,X_train_AWV1,X_test_AWV1,y1_train,y1_test)"
   ]
  },
  {
   "cell_type": "markdown",
   "metadata": {},
   "source": [
    "##### (B). Confusion Matrix Plot on Train Data"
   ]
  },
  {
   "cell_type": "code",
   "execution_count": 85,
   "metadata": {},
   "outputs": [
    {
     "name": "stdout",
     "output_type": "stream",
     "text": [
      "Confusion Matrix for Train set\n"
     ]
    },
    {
     "data": {
      "image/png": "[encoded data removed]",
      "text/plain": [
       "<Figure size 432x288 with 2 Axes>"
      ]
     },
     "metadata": {
      "needs_background": "light"
     },
     "output_type": "display_data"
    }
   ],
   "source": [
    "trainconfusionmatrix(neigh,X_train_AWV1,y1_train)"
   ]
  },
  {
   "cell_type": "markdown",
   "metadata": {},
   "source": [
    "##### (C). Confusion Matrix Plot on Test Data"
   ]
  },
  {
   "cell_type": "code",
   "execution_count": 86,
   "metadata": {},
   "outputs": [
    {
     "name": "stdout",
     "output_type": "stream",
     "text": [
      "Confusion Matrix for Test set\n"
     ]
    },
    {
     "data": {
      "image/png": "[encoded data removed]",
      "text/plain": [
       "<Figure size 432x288 with 2 Axes>"
      ]
     },
     "metadata": {
      "needs_background": "light"
     },
     "output_type": "display_data"
    }
   ],
   "source": [
    "testconfusionmatrix(neigh,X_test_AWV1,y1_test)"
   ]
  },
  {
   "cell_type": "markdown",
   "metadata": {},
   "source": [
    "##### (D). Classification Report"
   ]
  },
  {
   "cell_type": "code",
   "execution_count": 87,
   "metadata": {},
   "outputs": [
    {
     "name": "stdout",
     "output_type": "stream",
     "text": [
      "Classification Report: \n",
      "\n",
      "              precision    recall  f1-score   support\n",
      "\n",
      "           0       0.72      0.07      0.12      1027\n",
      "           1       0.85      1.00      0.92      5573\n",
      "\n",
      "   micro avg       0.85      0.85      0.85      6600\n",
      "   macro avg       0.79      0.53      0.52      6600\n",
      "weighted avg       0.83      0.85      0.79      6600\n",
      "\n"
     ]
    }
   ],
   "source": [
    "print(\"Classification Report: \\n\")\n",
    "prediction=neigh.predict(X_test_AWV1)\n",
    "print(classification_report(y1_test, prediction))"
   ]
  },
  {
   "cell_type": "markdown",
   "metadata": {},
   "source": [
    "# 11.0 TF-IDF Word To Vector"
   ]
  },
  {
   "cell_type": "code",
   "execution_count": 88,
   "metadata": {
    "collapsed": true
   },
   "outputs": [],
   "source": [
    "model_TF = TfidfVectorizer()\n",
    "model_TF.fit(X_train)\n",
    "X_Train_TF = model_TF.transform(X_train)\n",
    "X_Test_TF = model_TF.transform(X_test)"
   ]
  },
  {
   "cell_type": "code",
   "execution_count": 89,
   "metadata": {},
   "outputs": [
    {
     "name": "stdout",
     "output_type": "stream",
     "text": [
      "Shape of Train Data After TFIDF :  (33500, 22818)\n",
      "Shape of Test Data After TFIDF :  (16500, 22818)\n"
     ]
    }
   ],
   "source": [
    "print(\"Shape of Train Data After TFIDF : \",X_Train_TF.shape)\n",
    "print(\"Shape of Test Data After TFIDF : \",X_Test_TF.shape)"
   ]
  },
  {
   "cell_type": "code",
   "execution_count": 90,
   "metadata": {},
   "outputs": [
    {
     "name": "stdout",
     "output_type": "stream",
     "text": [
      "22818\n",
      "['aaaaaah', 'aaaaaahhhhhyaaaaaa', 'aaah', 'aaahhh', 'aadp', 'aadult', 'aafco', 'aahhh', 'aarp', 'ab', 'aback', 'abandon', 'abat', 'abbey', 'abbi', 'abbott', 'abbrevi', 'abc', 'abdomen', 'abdomin']\n"
     ]
    }
   ],
   "source": [
    "TFIDF_Feature=model_TF.get_feature_names()\n",
    "print(len(TFIDF_Feature))\n",
    "print(TFIDF_Feature[0:20])"
   ]
  },
  {
   "cell_type": "code",
   "execution_count": 91,
   "metadata": {},
   "outputs": [
    {
     "name": "stderr",
     "output_type": "stream",
     "text": [
      "100%|████████████████████████████████████| 33500/33500 [11:08<00:00, 50.09it/s]\n"
     ]
    }
   ],
   "source": [
    "from tqdm import tqdm\n",
    "Train_TFIDF_W2V_Vectors=[]\n",
    "row=0\n",
    "for sent in tqdm(list_of_Train_sent):\n",
    "    sent_vec=np.zeros(50)\n",
    "    weight=0\n",
    "    for word in sent:\n",
    "        try :\n",
    "            w2v_vec=model.wv[word]\n",
    "            tfidf_vec=X_Train_TF[row,TFIDF_Feature.index(word)]\n",
    "            sent_vec+=(w2v_vec*tfidf_vec)\n",
    "            weight+=tfidf_vec\n",
    "            \n",
    "        except :\n",
    "            pass\n",
    "    if weight!=0:\n",
    "        sent_vec/=weight\n",
    "    Train_TFIDF_W2V_Vectors.append(sent_vec) \n",
    "    row+=1"
   ]
  },
  {
   "cell_type": "code",
   "execution_count": 92,
   "metadata": {},
   "outputs": [
    {
     "name": "stderr",
     "output_type": "stream",
     "text": [
      "100%|████████████████████████████████████| 16500/16500 [04:12<00:00, 65.33it/s]\n"
     ]
    }
   ],
   "source": [
    "Test_TFIDF_W2V_Vectors=[]\n",
    "row=0\n",
    "for sent in tqdm(list_of_Test_sent):\n",
    "    sent_vec=np.zeros(50)\n",
    "    weight=0\n",
    "    \n",
    "    for word in sent:\n",
    "        try:\n",
    "            w2v_vec=model.wv[word]\n",
    "            tfidf_vec=X_Test_TF(row,TFIDF_Feature.index(word))\n",
    "            sent_vec+=(w2v_vec*tfidf_vec)\n",
    "            weight+=tfidf\n",
    "          \n",
    "        except :\n",
    "            pass\n",
    "    \n",
    "    if weight!=0:\n",
    "        sent_vec/=weight\n",
    "    Test_TFIDF_W2V_Vectors.append(sent_vec)    \n",
    "    row+=1"
   ]
  },
  {
   "cell_type": "code",
   "execution_count": 93,
   "metadata": {
    "collapsed": true
   },
   "outputs": [],
   "source": [
    "Test_tfidfw2v_vectors=np.nan_to_num(Test_TFIDF_W2V_Vectors)  \n",
    "Train_tfidfw2v_vectors=np.nan_to_num(Train_TFIDF_W2V_Vectors)  "
   ]
  },
  {
   "cell_type": "code",
   "execution_count": 94,
   "metadata": {
    "collapsed": true
   },
   "outputs": [],
   "source": [
    "X_train_TfIdfW2v=Train_tfidfw2v_vectors\n",
    "X_test_TfIdfW2v=Test_tfidfw2v_vectors"
   ]
  },
  {
   "cell_type": "markdown",
   "metadata": {},
   "source": [
    "### 11.1 Brute Force Algorithm"
   ]
  },
  {
   "cell_type": "markdown",
   "metadata": {},
   "source": [
    "#### 11.1.1 Finding Optimal Value of Hyperparameter(k) "
   ]
  },
  {
   "cell_type": "code",
   "execution_count": 95,
   "metadata": {
    "collapsed": true
   },
   "outputs": [],
   "source": [
    "import numpy as np \n",
    "\n",
    "neighbours=np.arange(1,100,2)\n",
    "mse,best_k = knn_cv_brute(X_train_TfIdfW2v,y_train,neighbours)"
   ]
  },
  {
   "cell_type": "code",
   "execution_count": 96,
   "metadata": {},
   "outputs": [
    {
     "name": "stdout",
     "output_type": "stream",
     "text": [
      "Best value of K found for Brute Force Algorithm Implementaion is :  99\n"
     ]
    },
    {
     "data": {
      "image/png": "[encoded data removed]",
      "text/plain": [
       "<Figure size 432x288 with 1 Axes>"
      ]
     },
     "metadata": {
      "needs_background": "light"
     },
     "output_type": "display_data"
    }
   ],
   "source": [
    "error_plot(neighbours,mse)\n",
    "print(\"Best value of K found for Brute Force Algorithm Implementaion is : \",best_k)"
   ]
  },
  {
   "cell_type": "markdown",
   "metadata": {},
   "source": [
    "#### 11.1.2 Training the model"
   ]
  },
  {
   "cell_type": "code",
   "execution_count": 97,
   "metadata": {},
   "outputs": [
    {
     "data": {
      "text/plain": [
       "KNeighborsClassifier(algorithm='brute', leaf_size=30, metric='minkowski',\n",
       "           metric_params=None, n_jobs=None, n_neighbors=99, p=2,\n",
       "           weights='uniform')"
      ]
     },
     "execution_count": 97,
     "metadata": {},
     "output_type": "execute_result"
    }
   ],
   "source": [
    "neigh = KNeighborsClassifier(n_neighbors = best_k,algorithm='brute')\n",
    "neigh.fit(X_train_TfIdfW2v, y_train)"
   ]
  },
  {
   "cell_type": "markdown",
   "metadata": {},
   "source": [
    "#### 11.1.3 Evaluting the performance of model"
   ]
  },
  {
   "cell_type": "markdown",
   "metadata": {},
   "source": [
    "##### (A). Roc-Auc Plot"
   ]
  },
  {
   "cell_type": "code",
   "execution_count": 98,
   "metadata": {},
   "outputs": [
    {
     "data": {
      "image/png": "[encoded data removed]",
      "text/plain": [
       "<Figure size 432x288 with 1 Axes>"
      ]
     },
     "metadata": {
      "needs_background": "light"
     },
     "output_type": "display_data"
    }
   ],
   "source": [
    "plot_auc_roc(neigh,X_train_TfIdfW2v,X_test_TfIdfW2v,y_train,y_test)"
   ]
  },
  {
   "cell_type": "markdown",
   "metadata": {},
   "source": [
    "##### (B). Confusion Matrix Plot on Train Data"
   ]
  },
  {
   "cell_type": "code",
   "execution_count": 99,
   "metadata": {},
   "outputs": [
    {
     "name": "stdout",
     "output_type": "stream",
     "text": [
      "Confusion Matrix for Train set\n"
     ]
    },
    {
     "data": {
      "image/png": "[encoded data removed]",
      "text/plain": [
       "<Figure size 432x288 with 2 Axes>"
      ]
     },
     "metadata": {
      "needs_background": "light"
     },
     "output_type": "display_data"
    }
   ],
   "source": [
    "trainconfusionmatrix(neigh,X_train_TfIdfW2v,y_train)"
   ]
  },
  {
   "cell_type": "markdown",
   "metadata": {},
   "source": [
    "##### (C). Confusion Matrix Plot on Test Data"
   ]
  },
  {
   "cell_type": "code",
   "execution_count": 100,
   "metadata": {},
   "outputs": [
    {
     "name": "stdout",
     "output_type": "stream",
     "text": [
      "Confusion Matrix for Test set\n"
     ]
    },
    {
     "data": {
      "image/png": "[encoded data removed]",
      "text/plain": [
       "<Figure size 432x288 with 2 Axes>"
      ]
     },
     "metadata": {
      "needs_background": "light"
     },
     "output_type": "display_data"
    }
   ],
   "source": [
    "testconfusionmatrix(neigh,X_test_TfIdfW2v,y_test)"
   ]
  },
  {
   "cell_type": "markdown",
   "metadata": {},
   "source": [
    "##### (D). Classification Report"
   ]
  },
  {
   "cell_type": "code",
   "execution_count": 101,
   "metadata": {},
   "outputs": [
    {
     "name": "stdout",
     "output_type": "stream",
     "text": [
      "Classification Report: \n",
      "\n",
      "              precision    recall  f1-score   support\n",
      "\n",
      "           0       0.00      0.00      0.00      2525\n",
      "           1       0.85      1.00      0.92     13975\n",
      "\n",
      "   micro avg       0.85      0.85      0.85     16500\n",
      "   macro avg       0.42      0.50      0.46     16500\n",
      "weighted avg       0.72      0.85      0.78     16500\n",
      "\n"
     ]
    }
   ],
   "source": [
    "print(\"Classification Report: \\n\")\n",
    "prediction=neigh.predict(X_test_TfIdfW2v)\n",
    "print(classification_report(y_test, prediction))"
   ]
  },
  {
   "cell_type": "markdown",
   "metadata": {},
   "source": [
    "### 11.2 KD Tree Algorithm"
   ]
  },
  {
   "cell_type": "code",
   "execution_count": 102,
   "metadata": {
    "collapsed": true
   },
   "outputs": [],
   "source": [
    "model_TF1 = TfidfVectorizer()\n",
    "model_TF1.fit(X_train)\n",
    "X_Train_TF1 = model_TF1.transform(X1_train)\n",
    "X_Test_TF1 = model_TF1.transform(X1_test)"
   ]
  },
  {
   "cell_type": "code",
   "execution_count": 103,
   "metadata": {},
   "outputs": [
    {
     "name": "stdout",
     "output_type": "stream",
     "text": [
      "Shape of Train Data After TFIDF :  (13400, 22818)\n",
      "Shape of Test Data After TFIDF :  (6600, 22818)\n"
     ]
    }
   ],
   "source": [
    "print(\"Shape of Train Data After TFIDF : \",X_Train_TF1.shape)\n",
    "print(\"Shape of Test Data After TFIDF : \",X_Test_TF1.shape)"
   ]
  },
  {
   "cell_type": "code",
   "execution_count": 104,
   "metadata": {},
   "outputs": [
    {
     "name": "stdout",
     "output_type": "stream",
     "text": [
      "22818\n",
      "['aaaaaah', 'aaaaaahhhhhyaaaaaa', 'aaah', 'aaahhh', 'aadp', 'aadult', 'aafco', 'aahhh', 'aarp', 'ab', 'aback', 'abandon', 'abat', 'abbey', 'abbi', 'abbott', 'abbrevi', 'abc', 'abdomen', 'abdomin']\n"
     ]
    }
   ],
   "source": [
    "TFIDF_Feature1=model_TF1.get_feature_names()\n",
    "print(len(TFIDF_Feature1))\n",
    "print(TFIDF_Feature1[0:20])"
   ]
  },
  {
   "cell_type": "code",
   "execution_count": 105,
   "metadata": {},
   "outputs": [
    {
     "name": "stderr",
     "output_type": "stream",
     "text": [
      "100%|████████████████████████████████████| 13400/13400 [04:14<00:00, 52.57it/s]\n"
     ]
    }
   ],
   "source": [
    "from tqdm import tqdm\n",
    "Train_TFIDF_W2V_Vectors1=[]\n",
    "row=0\n",
    "for sent in tqdm(list_of_Train_sent1):\n",
    "    sent_vec=np.zeros(50)\n",
    "    weight=0\n",
    "    for word in sent:\n",
    "        try :\n",
    "            w2v_vec=Train_model1.wv[word]\n",
    "            tfidf_vec=X_Train_TF1[row,TFIDF_Feature1.index(word)]\n",
    "            sent_vec+=(w2v_vec*tfidf_vec)\n",
    "            weight+=tfidf_vec\n",
    "            \n",
    "        except :\n",
    "            pass\n",
    "    if weight!=0:\n",
    "        sent_vec/=weight\n",
    "    Train_TFIDF_W2V_Vectors1.append(sent_vec) \n",
    "    row+=1"
   ]
  },
  {
   "cell_type": "code",
   "execution_count": 106,
   "metadata": {},
   "outputs": [
    {
     "name": "stderr",
     "output_type": "stream",
     "text": [
      "100%|██████████████████████████████████████| 6600/6600 [01:30<00:00, 73.22it/s]\n"
     ]
    }
   ],
   "source": [
    "Test_TFIDF_W2V_Vectors1=[]\n",
    "row=0\n",
    "for sent in tqdm(list_of_Test_sent1):\n",
    "    sent_vec=np.zeros(50)\n",
    "    weight=0\n",
    "    \n",
    "    for word in sent:\n",
    "        try:\n",
    "            w2v_vec=Train_model1.wv[word]\n",
    "            tfidf_vec=X_Test_TF1(row,TFIDF_Feature1.index(word))\n",
    "            sent_vec+=(w2v_vec*tfidf_vec)\n",
    "            weight+=tfidf\n",
    "          \n",
    "        except :\n",
    "            pass\n",
    "    \n",
    "    if weight!=0:\n",
    "        sent_vec/=weight\n",
    "    Test_TFIDF_W2V_Vectors1.append(sent_vec)    \n",
    "    row+=1"
   ]
  },
  {
   "cell_type": "code",
   "execution_count": 107,
   "metadata": {
    "collapsed": true
   },
   "outputs": [],
   "source": [
    "Test_tfidfw2v_vectors1=np.nan_to_num(Test_TFIDF_W2V_Vectors1)  \n",
    "Train_tfidfw2v_vectors1=np.nan_to_num(Train_TFIDF_W2V_Vectors1)  "
   ]
  },
  {
   "cell_type": "code",
   "execution_count": 108,
   "metadata": {
    "collapsed": true
   },
   "outputs": [],
   "source": [
    "X_train_TfIdfW2v1=Train_tfidfw2v_vectors1\n",
    "X_test_TfIdfW2v1=Test_tfidfw2v_vectors1"
   ]
  },
  {
   "cell_type": "markdown",
   "metadata": {},
   "source": [
    "#### 11.2.1 Finding Optimal Value of Hyperparameter(k)"
   ]
  },
  {
   "cell_type": "code",
   "execution_count": 109,
   "metadata": {
    "collapsed": true
   },
   "outputs": [],
   "source": [
    "import numpy as np \n",
    "\n",
    "neighbours=np.arange(1,100,2)\n",
    "mse,best_k = knn_cv_kd(X_train_TfIdfW2v1,y1_train,neighbours)"
   ]
  },
  {
   "cell_type": "code",
   "execution_count": 110,
   "metadata": {},
   "outputs": [
    {
     "name": "stdout",
     "output_type": "stream",
     "text": [
      "Best value of K found for KD Tree Algorithm Implementaion is :  97\n"
     ]
    },
    {
     "data": {
      "image/png": "[encoded data removed]",
      "text/plain": [
       "<Figure size 432x288 with 1 Axes>"
      ]
     },
     "metadata": {
      "needs_background": "light"
     },
     "output_type": "display_data"
    }
   ],
   "source": [
    "error_plot(neighbours,mse)\n",
    "print(\"Best value of K found for KD Tree Algorithm Implementaion is : \",best_k)"
   ]
  },
  {
   "cell_type": "markdown",
   "metadata": {},
   "source": [
    "#### 11.2.2 Training the model"
   ]
  },
  {
   "cell_type": "code",
   "execution_count": 111,
   "metadata": {},
   "outputs": [
    {
     "data": {
      "text/plain": [
       "KNeighborsClassifier(algorithm='kd_tree', leaf_size=30, metric='minkowski',\n",
       "           metric_params=None, n_jobs=None, n_neighbors=97, p=2,\n",
       "           weights='uniform')"
      ]
     },
     "execution_count": 111,
     "metadata": {},
     "output_type": "execute_result"
    }
   ],
   "source": [
    "neigh = KNeighborsClassifier(n_neighbors = best_k,algorithm='kd_tree')\n",
    "neigh.fit(X_train_TfIdfW2v1, y1_train)"
   ]
  },
  {
   "cell_type": "markdown",
   "metadata": {},
   "source": [
    "#### 11.2.3 Evaluting the performance of model"
   ]
  },
  {
   "cell_type": "markdown",
   "metadata": {},
   "source": [
    "##### (A). Roc-Auc Plot"
   ]
  },
  {
   "cell_type": "code",
   "execution_count": 112,
   "metadata": {},
   "outputs": [
    {
     "data": {
      "image/png": "[encoded data removed]",
      "text/plain": [
       "<Figure size 432x288 with 1 Axes>"
      ]
     },
     "metadata": {
      "needs_background": "light"
     },
     "output_type": "display_data"
    }
   ],
   "source": [
    "plot_auc_roc(neigh,X_train_TfIdfW2v1,X_test_TfIdfW2v1,y1_train,y1_test)"
   ]
  },
  {
   "cell_type": "markdown",
   "metadata": {},
   "source": [
    "##### (B). Confusion Matrix Plot on Train Data"
   ]
  },
  {
   "cell_type": "code",
   "execution_count": 113,
   "metadata": {},
   "outputs": [
    {
     "name": "stdout",
     "output_type": "stream",
     "text": [
      "Confusion Matrix for Train set\n"
     ]
    },
    {
     "data": {
      "image/png": "[encoded data removed]",
      "text/plain": [
       "<Figure size 432x288 with 2 Axes>"
      ]
     },
     "metadata": {
      "needs_background": "light"
     },
     "output_type": "display_data"
    }
   ],
   "source": [
    "trainconfusionmatrix(neigh,X_train_TfIdfW2v1,y1_train)"
   ]
  },
  {
   "cell_type": "markdown",
   "metadata": {},
   "source": [
    "##### (C). Confusion Matrix Plot on Test Data"
   ]
  },
  {
   "cell_type": "code",
   "execution_count": 114,
   "metadata": {},
   "outputs": [
    {
     "name": "stdout",
     "output_type": "stream",
     "text": [
      "Confusion Matrix for Test set\n"
     ]
    },
    {
     "data": {
      "image/png": "[encoded data removed]",
      "text/plain": [
       "<Figure size 432x288 with 2 Axes>"
      ]
     },
     "metadata": {
      "needs_background": "light"
     },
     "output_type": "display_data"
    }
   ],
   "source": [
    "testconfusionmatrix(neigh,X_test_TfIdfW2v1,y1_test)"
   ]
  },
  {
   "cell_type": "markdown",
   "metadata": {},
   "source": [
    "##### (D). Classification Report"
   ]
  },
  {
   "cell_type": "code",
   "execution_count": 115,
   "metadata": {},
   "outputs": [
    {
     "name": "stdout",
     "output_type": "stream",
     "text": [
      "Classification Report: \n",
      "\n",
      "              precision    recall  f1-score   support\n",
      "\n",
      "           0       0.00      0.00      0.00      1027\n",
      "           1       0.84      1.00      0.92      5573\n",
      "\n",
      "   micro avg       0.84      0.84      0.84      6600\n",
      "   macro avg       0.42      0.50      0.46      6600\n",
      "weighted avg       0.71      0.84      0.77      6600\n",
      "\n"
     ]
    }
   ],
   "source": [
    "print(\"Classification Report: \\n\")\n",
    "prediction=neigh.predict(X_test_TfIdfW2v1)\n",
    "print(classification_report(y1_test, prediction))"
   ]
  },
  {
   "cell_type": "markdown",
   "metadata": {},
   "source": [
    "# 12.0 Conclusion :"
   ]
  },
  {
   "cell_type": "markdown",
   "metadata": {},
   "source": [
    "#### 1. Report On Brute Force Algorithm"
   ]
  },
  {
   "cell_type": "code",
   "execution_count": 116,
   "metadata": {},
   "outputs": [
    {
     "name": "stdout",
     "output_type": "stream",
     "text": [
      "+------------+----------------+-----------+----------+----------+\n",
      "| Vectorizer | Hyperparameter | Train AUC | Test AUC | F1-Score |\n",
      "+------------+----------------+-----------+----------+----------+\n",
      "|    BOW     |       95       |    0.86   |   0.83   |   0.79   |\n",
      "|   TF-IDF   |       99       |    0.88   |   0.87   |   0.79   |\n",
      "|    W2V     |       99       |    0.88   |   0.87   |   0.83   |\n",
      "| TF-IDF W2V |       99       |    0.85   |   0.5    |   0.78   |\n",
      "+------------+----------------+-----------+----------+----------+\n"
     ]
    }
   ],
   "source": [
    "from prettytable import PrettyTable\n",
    "    \n",
    "x = PrettyTable()\n",
    "\n",
    "x.field_names = [\"Vectorizer\", \"Hyperparameter\",\"Train AUC\",\"Test AUC\",\"F1-Score\"]\n",
    "\n",
    "x.add_row([\"BOW\",95,0.86,0.83,0.79])\n",
    "x.add_row([\"TF-IDF\",99,0.88,0.87,0.79])\n",
    "x.add_row([\"W2V\",99,0.88,0.87,0.83])\n",
    "x.add_row([\"TF-IDF W2V\",99,0.85,0.50,0.78])\n",
    "print(x)"
   ]
  },
  {
   "cell_type": "markdown",
   "metadata": {
    "collapsed": true
   },
   "source": [
    "##### 2. Report on KD Tree Algorithm"
   ]
  },
  {
   "cell_type": "code",
   "execution_count": 117,
   "metadata": {},
   "outputs": [
    {
     "name": "stdout",
     "output_type": "stream",
     "text": [
      "+------------+----------------+-----------+----------+----------+\n",
      "| Vectorizer | Hyperparameter | Train AUC | Test AUC | F1-Score |\n",
      "+------------+----------------+-----------+----------+----------+\n",
      "|    BOW     |       97       |    0.85   |   0.82   |   0.78   |\n",
      "|   TF-IDF   |       99       |    0.89   |   0.86   |   0.78   |\n",
      "|    W2V     |       95       |    0.85   |   0.83   |   0.79   |\n",
      "| TF-IDF W2V |       97       |    0.81   |   0.5    |   0.75   |\n",
      "+------------+----------------+-----------+----------+----------+\n"
     ]
    }
   ],
   "source": [
    "x = PrettyTable()\n",
    "\n",
    "x.field_names = [\"Vectorizer\",\"Hyperparameter\",\"Train AUC\",\"Test AUC\",\"F1-Score\"]\n",
    "\n",
    "x.add_row([\"BOW\",97,0.85,0.82,0.78])\n",
    "x.add_row([\"TF-IDF\",99,0.89,0.86,0.78])\n",
    "x.add_row([\"W2V\",95,0.85,0.83,0.79])\n",
    "x.add_row([\"TF-IDF W2V\",97,0.81,0.50,0.75])\n",
    "print(x)"
   ]
  },
  {
   "cell_type": "markdown",
   "metadata": {},
   "source": [
    "#### 3. BOW and TF-IDF are giving same result of Hyperparameter,F1-Score,Train-AUC and Test-AUC.\n",
    "\n",
    "#### 4. The KD-Tree and Brute Force implementation of KNN gives relatively similar results.\n",
    "\n",
    "#### 5. Very small subset of Data is  taken but still it took more time due to large dimension and time complexity of KNN.\n",
    "\n",
    "#### 6. Model behaviour in TF-IDF W2V is lenint towards one class ."
   ]
  }
 ],
 "metadata": {
  "kernelspec": {
   "display_name": "Python 3",
   "language": "python",
   "name": "python3"
  },
  "language_info": {
   "codemirror_mode": {
    "name": "ipython",
    "version": 3
   },
   "file_extension": ".py",
   "mimetype": "text/x-python",
   "name": "python",
   "nbconvert_exporter": "python",
   "pygments_lexer": "ipython3",
   "version": "3.6.2"
  }
 },
 "nbformat": 4,
 "nbformat_minor": 2
}
