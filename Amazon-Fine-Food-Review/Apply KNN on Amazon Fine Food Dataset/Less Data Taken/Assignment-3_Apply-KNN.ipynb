{
 "cells": [
  {
   "cell_type": "markdown",
   "metadata": {},
   "source": [
    "# Assignment-3: Apply K-NN on Amazon Fine Food Reviews DataSet "
   ]
  },
  {
   "cell_type": "markdown",
   "metadata": {},
   "source": [
    "# 1.0 Introduction "
   ]
  },
  {
   "cell_type": "markdown",
   "metadata": {},
   "source": [
    "(i).The k-nearest neighbors algorithm (k-NN) is a non-parametric method used for classification and regression predictive problem.\n",
    "\n",
    "(ii).It is more widely used in classification problems in the industry. "
   ]
  },
  {
   "cell_type": "markdown",
   "metadata": {},
   "source": [
    "# 2.0 Objective"
   ]
  },
  {
   "cell_type": "markdown",
   "metadata": {},
   "source": [
    "To Predict the Polarity of Amazon Fine Food Review Using K-Nearst Neighbour Algorithm."
   ]
  },
  {
   "cell_type": "markdown",
   "metadata": {},
   "source": [
    "# 3.0 Importing All Required Library"
   ]
  },
  {
   "cell_type": "code",
   "execution_count": 1,
   "metadata": {},
   "outputs": [
    {
     "name": "stderr",
     "output_type": "stream",
     "text": [
      "C:\\Users\\User\\Anaconda3\\lib\\site-packages\\gensim\\utils.py:1197: UserWarning: detected Windows; aliasing chunkize to chunkize_serial\n",
      "  warnings.warn(\"detected Windows; aliasing chunkize to chunkize_serial\")\n"
     ]
    }
   ],
   "source": [
    "%matplotlib inline\n",
    "import sqlite3\n",
    "import pandas as pd\n",
    "import numpy as np\n",
    "import nltk\n",
    "import string\n",
    "import matplotlib.pyplot as plt\n",
    "import seaborn as sns\n",
    "\n",
    "from sklearn.neighbors import KNeighborsClassifier\n",
    "from sklearn.model_selection import GridSearchCV\n",
    "from sklearn.feature_extraction.text import CountVectorizer\n",
    "from sklearn.metrics import accuracy_score\n",
    "from sklearn.metrics import classification_report\n",
    "from sklearn.feature_extraction.text import TfidfTransformer\n",
    "from sklearn.feature_extraction.text import TfidfVectorizer\n",
    "\n",
    "from sklearn.metrics import confusion_matrix\n",
    "from sklearn import metrics\n",
    "from sklearn.metrics import roc_curve, auc\n",
    "from sklearn.model_selection import cross_val_score\n",
    "\n",
    "from gensim.models import Word2Vec\n",
    "from gensim.models import KeyedVectors\n",
    "import pickle\n",
    "\n",
    "from tqdm import tqdm\n",
    "import os\n",
    "import warnings\n",
    "warnings.filterwarnings(\"ignore\")"
   ]
  },
  {
   "cell_type": "markdown",
   "metadata": {},
   "source": [
    "# 4.0 Importing Amazon Fine Food Review  Dataset"
   ]
  },
  {
   "cell_type": "code",
   "execution_count": 2,
   "metadata": {},
   "outputs": [],
   "source": [
    "if os.path.isfile(\"final.sqlite\"):\n",
    "    conn=sqlite3.connect(\"final.sqlite\")\n",
    "    Data=pd.read_sql_query(\"select * from Reviews where Score!=3\",conn)\n",
    "    conn.close()\n",
    "else :\n",
    "    print(\"Error Importing the file\")"
   ]
  },
  {
   "cell_type": "code",
   "execution_count": 3,
   "metadata": {},
   "outputs": [
    {
     "data": {
      "text/html": [
       "<div>\n",
       "<style scoped>\n",
       "    .dataframe tbody tr th:only-of-type {\n",
       "        vertical-align: middle;\n",
       "    }\n",
       "\n",
       "    .dataframe tbody tr th {\n",
       "        vertical-align: top;\n",
       "    }\n",
       "\n",
       "    .dataframe thead th {\n",
       "        text-align: right;\n",
       "    }\n",
       "</style>\n",
       "<table border=\"1\" class=\"dataframe\">\n",
       "  <thead>\n",
       "    <tr style=\"text-align: right;\">\n",
       "      <th></th>\n",
       "      <th>index</th>\n",
       "      <th>Id</th>\n",
       "      <th>ProductId</th>\n",
       "      <th>UserId</th>\n",
       "      <th>ProfileName</th>\n",
       "      <th>HelpfulnessNumerator</th>\n",
       "      <th>HelpfulnessDenominator</th>\n",
       "      <th>Score</th>\n",
       "      <th>Time</th>\n",
       "      <th>Summary</th>\n",
       "      <th>Text</th>\n",
       "      <th>CleanedText</th>\n",
       "    </tr>\n",
       "  </thead>\n",
       "  <tbody>\n",
       "    <tr>\n",
       "      <th>0</th>\n",
       "      <td>138706</td>\n",
       "      <td>150524</td>\n",
       "      <td>0006641040</td>\n",
       "      <td>ACITT7DI6IDDL</td>\n",
       "      <td>shari zychinski</td>\n",
       "      <td>0</td>\n",
       "      <td>0</td>\n",
       "      <td>1</td>\n",
       "      <td>939340800</td>\n",
       "      <td>EVERY book is educational</td>\n",
       "      <td>this witty little book makes my son laugh at l...</td>\n",
       "      <td>witti littl book make son laugh loud recit car...</td>\n",
       "    </tr>\n",
       "    <tr>\n",
       "      <th>1</th>\n",
       "      <td>138688</td>\n",
       "      <td>150506</td>\n",
       "      <td>0006641040</td>\n",
       "      <td>A2IW4PEEKO2R0U</td>\n",
       "      <td>Tracy</td>\n",
       "      <td>1</td>\n",
       "      <td>1</td>\n",
       "      <td>1</td>\n",
       "      <td>1194739200</td>\n",
       "      <td>Love the book, miss the hard cover version</td>\n",
       "      <td>I grew up reading these Sendak books, and watc...</td>\n",
       "      <td>grew read sendak book watch realli rosi movi i...</td>\n",
       "    </tr>\n",
       "  </tbody>\n",
       "</table>\n",
       "</div>"
      ],
      "text/plain": [
       "    index      Id   ProductId          UserId      ProfileName  \\\n",
       "0  138706  150524  0006641040   ACITT7DI6IDDL  shari zychinski   \n",
       "1  138688  150506  0006641040  A2IW4PEEKO2R0U            Tracy   \n",
       "\n",
       "   HelpfulnessNumerator  HelpfulnessDenominator  Score        Time  \\\n",
       "0                     0                       0      1   939340800   \n",
       "1                     1                       1      1  1194739200   \n",
       "\n",
       "                                      Summary  \\\n",
       "0                   EVERY book is educational   \n",
       "1  Love the book, miss the hard cover version   \n",
       "\n",
       "                                                Text  \\\n",
       "0  this witty little book makes my son laugh at l...   \n",
       "1  I grew up reading these Sendak books, and watc...   \n",
       "\n",
       "                                         CleanedText  \n",
       "0  witti littl book make son laugh loud recit car...  \n",
       "1  grew read sendak book watch realli rosi movi i...  "
      ]
     },
     "execution_count": 3,
     "metadata": {},
     "output_type": "execute_result"
    }
   ],
   "source": [
    "# Printing some data of DataFrame\n",
    "\n",
    "Data.head(2)"
   ]
  },
  {
   "cell_type": "markdown",
   "metadata": {},
   "source": [
    "# 5.0 Information About DataSet"
   ]
  },
  {
   "cell_type": "code",
   "execution_count": 4,
   "metadata": {},
   "outputs": [
    {
     "name": "stdout",
     "output_type": "stream",
     "text": [
      "\n",
      "Number of Reviews:  364171\n",
      "\n",
      "Number of Users:  243414\n",
      "\n",
      "Number of Products:  65442\n",
      "\n",
      "Shape of Data:  (364171, 12)\n",
      "\n",
      "Column Name of DataSet :  Index(['index', 'Id', 'ProductId', 'UserId', 'ProfileName',\n",
      "       'HelpfulnessNumerator', 'HelpfulnessDenominator', 'Score', 'Time',\n",
      "       'Summary', 'Text', 'CleanedText'],\n",
      "      dtype='object')\n",
      "\n",
      "\n",
      "Number of Attributes/Columns in data: 12\n",
      "\n",
      "Number of Positive Reviews :  307061\n",
      "\n",
      "Number of Negative Reviews :  57110\n"
     ]
    }
   ],
   "source": [
    "print(\"\\nNumber of Reviews: \",Data[\"Text\"].count())\n",
    "print(\"\\nNumber of Users: \",len(Data[\"UserId\"].unique())) # Unique returns 1-D array of unique values of DataFrame.\n",
    "print(\"\\nNumber of Products: \",len(Data[\"ProductId\"].unique()))\n",
    "print(\"\\nShape of Data: \", Data.shape)\n",
    "print(\"\\nColumn Name of DataSet : \",Data.columns)\n",
    "print(\"\\n\\nNumber of Attributes/Columns in data: 12\") \n",
    "print(\"\\nNumber of Positive Reviews : \", Data['Score'].value_counts()[1])\n",
    "print(\"\\nNumber of Negative Reviews : \", Data['Score'].value_counts()[0])"
   ]
  },
  {
   "cell_type": "code",
   "execution_count": 5,
   "metadata": {},
   "outputs": [
    {
     "name": "stdout",
     "output_type": "stream",
     "text": [
      "\n",
      "Number of Reviews:  364171\n"
     ]
    }
   ],
   "source": [
    "print(\"\\nNumber of Reviews: \",Data[\"Text\"].count())"
   ]
  },
  {
   "cell_type": "markdown",
   "metadata": {},
   "source": [
    "### 5.1  Attribute Information About DataSet"
   ]
  },
  {
   "cell_type": "markdown",
   "metadata": {},
   "source": [
    "1.Id - A unique value starts from 1\n",
    "\n",
    "\n",
    "\n",
    "2.ProductId - A unique identifier for the product\n",
    "\n",
    "\n",
    "\n",
    "3.UserId - A unqiue identifier for the user\n",
    "\n",
    "\n",
    "\n",
    "4.ProfileName - Name of user profile \n",
    "\n",
    "\n",
    "\n",
    "5.HelpfulnessNumerator - Number of users who found the review helpful\n",
    "\n",
    "\n",
    "\n",
    "6.HelpfulnessDenominator - Number of users who indicated whether they found the review helpful or not\n",
    "\n",
    "\n",
    "\n",
    "7.Score - Rating 0 or 1\n",
    "\n",
    "\n",
    "\n",
    "8.Time - Timestamp for the review\n",
    "\n",
    "\n",
    "\n",
    "9.Summary - Brief summary of the review\n",
    "\n",
    "\n",
    "\n",
    "10.Text - Text of the review\n",
    "\n",
    "\n",
    "\n",
    "11.Cleaned Text - Text that only alphabets"
   ]
  },
  {
   "cell_type": "markdown",
   "metadata": {},
   "source": [
    "## 6.0 Due to Limited Hardware Resource we will limit our analysis on 20000 data     points only."
   ]
  },
  {
   "cell_type": "code",
   "execution_count": 6,
   "metadata": {},
   "outputs": [
    {
     "data": {
      "text/plain": [
       "(20000, 12)"
      ]
     },
     "execution_count": 6,
     "metadata": {},
     "output_type": "execute_result"
    }
   ],
   "source": [
    "# To randomly sample 10k points from both class\n",
    "\n",
    "data_pos = Data[Data[\"Score\"] == 1].sample(n = 10000)\n",
    "data_neg = Data[Data[\"Score\"] == 0].sample(n = 10000)\n",
    "final_20k = pd.concat([data_pos, data_neg])\n",
    "final_20k.shape"
   ]
  },
  {
   "cell_type": "code",
   "execution_count": 7,
   "metadata": {},
   "outputs": [],
   "source": [
    "Y = final_20k['Score'].values\n",
    "X = final_20k['CleanedText'].values"
   ]
  },
  {
   "cell_type": "markdown",
   "metadata": {},
   "source": [
    "###  7.0 Splitting DataSet into Train and Test Data"
   ]
  },
  {
   "cell_type": "code",
   "execution_count": 8,
   "metadata": {},
   "outputs": [
    {
     "name": "stdout",
     "output_type": "stream",
     "text": [
      "Shape of Train and Test Dataset\n",
      "(13400,) (13400,)\n",
      "(6600,) (6600,)\n"
     ]
    }
   ],
   "source": [
    "from sklearn.model_selection import train_test_split\n",
    "# X_train, X_test, y_train, y_test = train_test_split(X, Y, test_size=0.33, shuffle=Flase): this is for time series split\n",
    "X_train, X_test, y_train, y_test = train_test_split(X, Y, test_size=0.33) # this is random splitting\n",
    "\n",
    "print(\"Shape of Train and Test Dataset\")\n",
    "print(X_train.shape, y_train.shape)\n",
    "print(X_test.shape, y_test.shape)\n"
   ]
  },
  {
   "cell_type": "markdown",
   "metadata": {},
   "source": [
    "# 8.0 Defining Some Function"
   ]
  },
  {
   "cell_type": "markdown",
   "metadata": {},
   "source": [
    "### 8.1 Train Data Confusion Matrix Plot"
   ]
  },
  {
   "cell_type": "code",
   "execution_count": 9,
   "metadata": {},
   "outputs": [],
   "source": [
    "def trainconfusionmatrix(knn,X_train,y_train):\n",
    "    print(\"Confusion Matrix for Train set\")\n",
    "    cm=confusion_matrix(y_train, knn.predict(X_train))\n",
    "    class_label = [\"negative\", \"positive\"]\n",
    "    df_cm = pd.DataFrame(cm, index = class_label, columns = class_label)\n",
    "    sns.heatmap(df_cm, annot = True, fmt = \"d\")\n",
    "    plt.title(\"Train Confusiion Matrix\")\n",
    "    plt.xlabel(\"Predicted Label\")\n",
    "    plt.ylabel(\"True Label\")\n",
    "    plt.show()"
   ]
  },
  {
   "cell_type": "markdown",
   "metadata": {},
   "source": [
    "### 8.2 Test Data Confusion Matrix Plot"
   ]
  },
  {
   "cell_type": "code",
   "execution_count": 10,
   "metadata": {},
   "outputs": [],
   "source": [
    "def testconfusionmatrix(knn,X_test,y_test):\n",
    "    print(\"Confusion Matrix for Test set\")\n",
    "    cm=confusion_matrix(y_test, knn.predict(X_test))\n",
    "    class_label = [\"negative\", \"positive\"]\n",
    "    df_cm = pd.DataFrame(cm, index = class_label, columns = class_label)\n",
    "    sns.heatmap(df_cm, annot = True, fmt = \"d\")\n",
    "    plt.title(\"Test Confusiion Matrix\")\n",
    "    plt.xlabel(\"Predicted Label\")\n",
    "    plt.ylabel(\"True Label\")\n",
    "    plt.show()"
   ]
  },
  {
   "cell_type": "markdown",
   "metadata": {},
   "source": [
    "### 8.3 ROC-AUC Curve Plot"
   ]
  },
  {
   "cell_type": "code",
   "execution_count": 11,
   "metadata": {},
   "outputs": [],
   "source": [
    "def plot_auc_roc(knn,X_train,X_test,y_train,y_test):\n",
    "    train_fpr, train_tpr, thresholds = roc_curve(y_train, neigh.predict_proba(X_train)[:,1])\n",
    "    test_fpr, test_tpr, thresholds = roc_curve(y_test, neigh.predict_proba(X_test)[:,1])\n",
    "\n",
    "    plt.plot(train_fpr, train_tpr, label=\"train AUC =\"+str(auc(train_fpr, train_tpr)))\n",
    "    plt.plot(test_fpr, test_tpr, label=\"test AUC =\"+str(auc(test_fpr, test_tpr)))\n",
    "    plt.legend()\n",
    "    plt.xlabel(\"K: hyperparameter\")\n",
    "    plt.ylabel(\"AUC\")\n",
    "    plt.title(\"ROC CURVE PLOTS\")\n",
    "    plt.show()"
   ]
  },
  {
   "cell_type": "markdown",
   "metadata": {},
   "source": [
    "### 8.4 Error Plot"
   ]
  },
  {
   "cell_type": "code",
   "execution_count": 12,
   "metadata": {},
   "outputs": [],
   "source": [
    "def error_plot(neighbours,mse):\n",
    "    plt.title('Error Plot')\n",
    "    plt.xlabel('K')\n",
    "    plt.ylabel('misscalssifiaction error')\n",
    "    plt.plot(neighbours,mse)"
   ]
  },
  {
   "cell_type": "markdown",
   "metadata": {},
   "source": [
    "### 8.5 Cross Validation Using Kd Tree Algorithm"
   ]
  },
  {
   "cell_type": "code",
   "execution_count": 13,
   "metadata": {},
   "outputs": [],
   "source": [
    "def knn_cv_kd(X_train,y_train,neighbours):\n",
    "    \n",
    "    cv_scores=[]\n",
    "    \n",
    "    for k in neighbours:\n",
    "        knn = KNeighborsClassifier(n_neighbors=k,algorithm='kd_tree')\n",
    "        scores = cross_val_score(knn, X_train, y_train, cv=10, scoring='accuracy') # returns accuracy for each of 10 folds\n",
    "        cv_scores.append(scores.mean())\n",
    "        \n",
    "    mse = [1-x for x in cv_scores] # calculating misscalssification_error = 1 - accuracy for each K\n",
    "    \n",
    "    best_k = neighbours[mse.index(min(mse))] #returns k corresponding to minimum error\n",
    "    \n",
    "    return mse,best_k"
   ]
  },
  {
   "cell_type": "markdown",
   "metadata": {},
   "source": [
    "### 8.6 Cross Validation Using Brute Algorithm "
   ]
  },
  {
   "cell_type": "code",
   "execution_count": 14,
   "metadata": {},
   "outputs": [],
   "source": [
    "def knn_cv_brute(X_train,y_train,neighbours):\n",
    "    \n",
    "    cv_scores=[]\n",
    "    \n",
    "    for k in neighbours:\n",
    "        knn = KNeighborsClassifier(n_neighbors=k,algorithm='brute')\n",
    "        scores = cross_val_score(knn, X_train, y_train, cv=10, scoring='accuracy') # returns accuracy for each of 10 folds\n",
    "        cv_scores.append(scores.mean())\n",
    "        \n",
    "    mse = [1-x for x in cv_scores] # calculating misscalssification_error = 1 - accuracy for each K\n",
    "    \n",
    "    best_k = neighbours[mse.index(min(mse))] #returns k corresponding to minimum error\n",
    "    \n",
    "    return mse,best_k"
   ]
  },
  {
   "cell_type": "markdown",
   "metadata": {},
   "source": [
    "### 8.7 Accuracy "
   ]
  },
  {
   "cell_type": "code",
   "execution_count": 15,
   "metadata": {},
   "outputs": [],
   "source": [
    "def accuracy(model,X_train,Y_train,X_test,Y_test):\n",
    "    prediction=model.predict(X_test)\n",
    "    \n",
    "    training_accuracy=model.score(X_train,Y_train)  # accuracy_score(y_train ,neigh.predict(X_train))\n",
    "    training_error=1-training_accuracy\n",
    "    \n",
    "    test_accuracy=accuracy_score(Y_test,prediction)\n",
    "    test_error=1-test_accuracy\n",
    "    return training_accuracy,training_error,test_accuracy,test_error"
   ]
  },
  {
   "cell_type": "markdown",
   "metadata": {},
   "source": [
    "# 9.0 Bags of Words"
   ]
  },
  {
   "cell_type": "code",
   "execution_count": 16,
   "metadata": {},
   "outputs": [
    {
     "name": "stdout",
     "output_type": "stream",
     "text": [
      "Shape of Train , Test and Cross Validation Data After vectorizations\n",
      "(13400, 15042) (13400,)\n",
      "(6600, 15042) (6600,)\n"
     ]
    }
   ],
   "source": [
    "vectorizer = CountVectorizer()\n",
    "vectorizer.fit(X_train) # fit has to happen only on train data\n",
    "\n",
    "# we use the fitted CountVectorizer to convert the text to vector\n",
    "X_train_bow = vectorizer.transform(X_train)\n",
    "X_test_bow = vectorizer.transform(X_test)\n",
    "\n",
    "print(\"Shape of Train , Test and Cross Validation Data After vectorizations\")\n",
    "print(X_train_bow.shape, y_train.shape)\n",
    "print(X_test_bow.shape, y_test.shape)"
   ]
  },
  {
   "cell_type": "code",
   "execution_count": 17,
   "metadata": {},
   "outputs": [
    {
     "data": {
      "text/plain": [
       "scipy.sparse.csr.csr_matrix"
      ]
     },
     "execution_count": 17,
     "metadata": {},
     "output_type": "execute_result"
    }
   ],
   "source": [
    "type(X_train_bow)"
   ]
  },
  {
   "cell_type": "markdown",
   "metadata": {},
   "source": [
    "### 9.1 Brute Force Algorithm"
   ]
  },
  {
   "cell_type": "markdown",
   "metadata": {},
   "source": [
    "#### 9.1.1  Finding Optimal Value of Hyperparameter(k) "
   ]
  },
  {
   "cell_type": "code",
   "execution_count": 18,
   "metadata": {},
   "outputs": [],
   "source": [
    "import numpy as np \n",
    "\n",
    "neighbours=np.arange(1,100,2)\n",
    "mse,best_k = knn_cv_brute(X_train_bow,y_train,neighbours)"
   ]
  },
  {
   "cell_type": "code",
   "execution_count": 19,
   "metadata": {},
   "outputs": [
    {
     "name": "stdout",
     "output_type": "stream",
     "text": [
      "Best value of K found for Brute Force Algorithm Implementaion is :  55\n"
     ]
    },
    {
     "data": {
      "image/png": "[encoded data removed]",
      "text/plain": [
       "<Figure size 432x288 with 1 Axes>"
      ]
     },
     "metadata": {
      "needs_background": "light"
     },
     "output_type": "display_data"
    }
   ],
   "source": [
    "error_plot(neighbours,mse)\n",
    "print(\"Best value of K found for Brute Force Algorithm Implementaion is : \",best_k)"
   ]
  },
  {
   "cell_type": "markdown",
   "metadata": {},
   "source": [
    "#### 9.1.2 Training the model "
   ]
  },
  {
   "cell_type": "code",
   "execution_count": 20,
   "metadata": {},
   "outputs": [
    {
     "data": {
      "text/plain": [
       "KNeighborsClassifier(algorithm='brute', leaf_size=30, metric='minkowski',\n",
       "           metric_params=None, n_jobs=None, n_neighbors=55, p=2,\n",
       "           weights='uniform')"
      ]
     },
     "execution_count": 20,
     "metadata": {},
     "output_type": "execute_result"
    }
   ],
   "source": [
    "neigh = KNeighborsClassifier(n_neighbors = best_k,algorithm='brute')\n",
    "neigh.fit(X_train_bow, y_train)"
   ]
  },
  {
   "cell_type": "markdown",
   "metadata": {},
   "source": [
    "#### 9.1.3 Evaluting the performance of model"
   ]
  },
  {
   "cell_type": "markdown",
   "metadata": {},
   "source": [
    "##### (A). Roc-Auc Plot "
   ]
  },
  {
   "cell_type": "code",
   "execution_count": 21,
   "metadata": {},
   "outputs": [
    {
     "data": {
      "image/png": "[encoded data removed]",
      "text/plain": [
       "<Figure size 432x288 with 1 Axes>"
      ]
     },
     "metadata": {
      "needs_background": "light"
     },
     "output_type": "display_data"
    }
   ],
   "source": [
    "plot_auc_roc(neigh,X_train_bow,X_test_bow,y_train,y_test)"
   ]
  },
  {
   "cell_type": "markdown",
   "metadata": {},
   "source": [
    "##### (B). Confusion Matrix Plot on Train Data "
   ]
  },
  {
   "cell_type": "code",
   "execution_count": 22,
   "metadata": {},
   "outputs": [
    {
     "name": "stdout",
     "output_type": "stream",
     "text": [
      "Confusion Matrix for Train set\n"
     ]
    },
    {
     "data": {
      "image/png": "[encoded data removed]",
      "text/plain": [
       "<Figure size 432x288 with 2 Axes>"
      ]
     },
     "metadata": {
      "needs_background": "light"
     },
     "output_type": "display_data"
    }
   ],
   "source": [
    "trainconfusionmatrix(neigh,X_train_bow,y_train)"
   ]
  },
  {
   "cell_type": "markdown",
   "metadata": {},
   "source": [
    "##### (C). Confusion Matrix on Test Data "
   ]
  },
  {
   "cell_type": "code",
   "execution_count": 23,
   "metadata": {},
   "outputs": [
    {
     "name": "stdout",
     "output_type": "stream",
     "text": [
      "Confusion Matrix for Test set\n"
     ]
    },
    {
     "data": {
      "image/png": "[encoded data removed]",
      "text/plain": [
       "<Figure size 432x288 with 2 Axes>"
      ]
     },
     "metadata": {
      "needs_background": "light"
     },
     "output_type": "display_data"
    }
   ],
   "source": [
    "testconfusionmatrix(neigh,X_test_bow,y_test)"
   ]
  },
  {
   "cell_type": "markdown",
   "metadata": {},
   "source": [
    "##### (D). Accuracy and Error"
   ]
  },
  {
   "cell_type": "code",
   "execution_count": 24,
   "metadata": {},
   "outputs": [
    {
     "name": "stdout",
     "output_type": "stream",
     "text": [
      "Training Accuracy in %:  74.0\n",
      "\n",
      "Train Error in %:  26.0\n",
      "\n",
      "Test Accuracy in %:  71.0\n",
      "\n",
      "Test Error in % :  28.999999999999996\n"
     ]
    }
   ],
   "source": [
    "training_accuracy,training_error,test_accuracy,test_error = accuracy(neigh,X_train_bow,y_train,X_test_bow,y_test)\n",
    "print(\"Training Accuracy in %: \", round(training_accuracy,2)*100)\n",
    "print(\"\\nTrain Error in %: \", round(training_error,2)*100)\n",
    "print(\"\\nTest Accuracy in %: \", round(test_accuracy,2)*100)\n",
    "print(\"\\nTest Error in % : \", round(test_error,2)*100)"
   ]
  },
  {
   "cell_type": "markdown",
   "metadata": {},
   "source": [
    "##### (E). Classification Report"
   ]
  },
  {
   "cell_type": "code",
   "execution_count": 25,
   "metadata": {},
   "outputs": [
    {
     "name": "stdout",
     "output_type": "stream",
     "text": [
      "Classification Report: \n",
      "\n",
      "              precision    recall  f1-score   support\n",
      "\n",
      "           0       0.78      0.60      0.68      3333\n",
      "           1       0.67      0.83      0.74      3267\n",
      "\n",
      "   micro avg       0.71      0.71      0.71      6600\n",
      "   macro avg       0.72      0.71      0.71      6600\n",
      "weighted avg       0.72      0.71      0.71      6600\n",
      "\n"
     ]
    }
   ],
   "source": [
    "print(\"Classification Report: \\n\")\n",
    "prediction=neigh.predict(X_test_bow)\n",
    "print(classification_report(y_test, prediction))"
   ]
  },
  {
   "cell_type": "markdown",
   "metadata": {},
   "source": [
    "###  9.2 KD-Tree Algorithm"
   ]
  },
  {
   "cell_type": "markdown",
   "metadata": {},
   "source": [
    "#### 9.2.1 Finding Optimal Value of Hyperparameter(k)"
   ]
  },
  {
   "cell_type": "code",
   "execution_count": 26,
   "metadata": {},
   "outputs": [],
   "source": [
    "import numpy as np \n",
    "\n",
    "neighbours=np.arange(1,100,2)\n",
    "mse,best_k = knn_cv_kd(X_train_bow,y_train,neighbours)"
   ]
  },
  {
   "cell_type": "code",
   "execution_count": 27,
   "metadata": {},
   "outputs": [
    {
     "name": "stdout",
     "output_type": "stream",
     "text": [
      "Best value of K found for KD Tree Algorithm Implementaion is :  55\n"
     ]
    },
    {
     "data": {
      "image/png": "[encoded data removed]",
      "text/plain": [
       "<Figure size 432x288 with 1 Axes>"
      ]
     },
     "metadata": {
      "needs_background": "light"
     },
     "output_type": "display_data"
    }
   ],
   "source": [
    "error_plot(neighbours,mse)\n",
    "print(\"Best value of K found for KD Tree Algorithm Implementaion is : \",best_k)"
   ]
  },
  {
   "cell_type": "markdown",
   "metadata": {},
   "source": [
    "#### 9.2.2 Training the model"
   ]
  },
  {
   "cell_type": "code",
   "execution_count": 28,
   "metadata": {},
   "outputs": [
    {
     "data": {
      "text/plain": [
       "KNeighborsClassifier(algorithm='kd_tree', leaf_size=30, metric='minkowski',\n",
       "           metric_params=None, n_jobs=None, n_neighbors=55, p=2,\n",
       "           weights='uniform')"
      ]
     },
     "execution_count": 28,
     "metadata": {},
     "output_type": "execute_result"
    }
   ],
   "source": [
    "neigh = KNeighborsClassifier(n_neighbors = best_k,algorithm='kd_tree')\n",
    "neigh.fit(X_train_bow, y_train)"
   ]
  },
  {
   "cell_type": "markdown",
   "metadata": {},
   "source": [
    "#### 9.2.3 Evaluting the performance of model"
   ]
  },
  {
   "cell_type": "markdown",
   "metadata": {},
   "source": [
    "##### (A). Roc-Auc Plot"
   ]
  },
  {
   "cell_type": "code",
   "execution_count": 29,
   "metadata": {},
   "outputs": [
    {
     "data": {
      "image/png": "[encoded data removed]",
      "text/plain": [
       "<Figure size 432x288 with 1 Axes>"
      ]
     },
     "metadata": {
      "needs_background": "light"
     },
     "output_type": "display_data"
    }
   ],
   "source": [
    "plot_auc_roc(neigh,X_train_bow,X_test_bow,y_train,y_test)"
   ]
  },
  {
   "cell_type": "markdown",
   "metadata": {},
   "source": [
    "##### (B). Confusion Matrix Plot on Train Data"
   ]
  },
  {
   "cell_type": "code",
   "execution_count": 30,
   "metadata": {},
   "outputs": [
    {
     "name": "stdout",
     "output_type": "stream",
     "text": [
      "Confusion Matrix for Train set\n"
     ]
    },
    {
     "data": {
      "image/png": "[encoded data removed]",
      "text/plain": [
       "<Figure size 432x288 with 2 Axes>"
      ]
     },
     "metadata": {
      "needs_background": "light"
     },
     "output_type": "display_data"
    }
   ],
   "source": [
    "trainconfusionmatrix(neigh,X_train_bow,y_train)"
   ]
  },
  {
   "cell_type": "markdown",
   "metadata": {},
   "source": [
    "##### (C). Confusion Matrix Plot on Test Data"
   ]
  },
  {
   "cell_type": "code",
   "execution_count": 31,
   "metadata": {},
   "outputs": [
    {
     "name": "stdout",
     "output_type": "stream",
     "text": [
      "Confusion Matrix for Test set\n"
     ]
    },
    {
     "data": {
      "image/png": "[encoded data removed]",
      "text/plain": [
       "<Figure size 432x288 with 2 Axes>"
      ]
     },
     "metadata": {
      "needs_background": "light"
     },
     "output_type": "display_data"
    }
   ],
   "source": [
    "testconfusionmatrix(neigh,X_test_bow,y_test)"
   ]
  },
  {
   "cell_type": "markdown",
   "metadata": {},
   "source": [
    "##### (D). Accuracy and Error "
   ]
  },
  {
   "cell_type": "code",
   "execution_count": 32,
   "metadata": {},
   "outputs": [
    {
     "name": "stdout",
     "output_type": "stream",
     "text": [
      "Training Accuracy in %:  74.0\n",
      "\n",
      "Train Error in %:  26.0\n",
      "\n",
      "Test Accuracy in %:  71.0\n",
      "\n",
      "Test Error in % :  28.999999999999996\n"
     ]
    }
   ],
   "source": [
    "training_accuracy,training_error,test_accuracy,test_error = accuracy(neigh,X_train_bow,y_train,X_test_bow,y_test)\n",
    "print(\"Training Accuracy in %: \", round(training_accuracy,2)*100)\n",
    "print(\"\\nTrain Error in %: \", round(training_error,2)*100)\n",
    "print(\"\\nTest Accuracy in %: \", round(test_accuracy,2)*100)\n",
    "print(\"\\nTest Error in % : \", round(test_error,2)*100)"
   ]
  },
  {
   "cell_type": "markdown",
   "metadata": {},
   "source": [
    "##### (E). Classification Report"
   ]
  },
  {
   "cell_type": "code",
   "execution_count": 33,
   "metadata": {},
   "outputs": [
    {
     "name": "stdout",
     "output_type": "stream",
     "text": [
      "Classification Report: \n",
      "\n",
      "              precision    recall  f1-score   support\n",
      "\n",
      "           0       0.78      0.60      0.68      3333\n",
      "           1       0.67      0.83      0.74      3267\n",
      "\n",
      "   micro avg       0.71      0.71      0.71      6600\n",
      "   macro avg       0.72      0.71      0.71      6600\n",
      "weighted avg       0.72      0.71      0.71      6600\n",
      "\n"
     ]
    }
   ],
   "source": [
    "print(\"Classification Report: \\n\")\n",
    "prediction=neigh.predict(X_test_bow)\n",
    "print(classification_report(y_test, prediction))"
   ]
  },
  {
   "cell_type": "markdown",
   "metadata": {},
   "source": [
    "# 10.0 TF-IDF"
   ]
  },
  {
   "cell_type": "code",
   "execution_count": 34,
   "metadata": {},
   "outputs": [],
   "source": [
    "vectorizer = TfidfVectorizer(ngram_range=(1,2))\n",
    "vectorizer.fit(X_train) # fit has to happen only on train data\n",
    "\n",
    "# we use the fitted CountVectorizer to convert the text to vector\n",
    "X_train_TF = vectorizer.transform(X_train)\n",
    "X_test_TF = vectorizer.transform(X_test)"
   ]
  },
  {
   "cell_type": "code",
   "execution_count": 35,
   "metadata": {},
   "outputs": [
    {
     "name": "stdout",
     "output_type": "stream",
     "text": [
      "After vectorizations\n",
      "(13400, 304884) (13400,)\n",
      "(6600, 304884) (6600,)\n"
     ]
    }
   ],
   "source": [
    "print(\"After vectorizations\")\n",
    "print(X_train_TF.shape, y_train.shape)\n",
    "print(X_test_TF.shape, y_test.shape)"
   ]
  },
  {
   "cell_type": "markdown",
   "metadata": {},
   "source": [
    "### 10.1 Brute Force Algorithm"
   ]
  },
  {
   "cell_type": "markdown",
   "metadata": {},
   "source": [
    "#### 10.1.1 Finding Optimal Value of Hyperparameter(k)"
   ]
  },
  {
   "cell_type": "code",
   "execution_count": 36,
   "metadata": {},
   "outputs": [],
   "source": [
    "import numpy as np \n",
    "\n",
    "neighbours=np.arange(1,100,2)\n",
    "mse,best_k = knn_cv_brute(X_train_TF,y_train,neighbours)"
   ]
  },
  {
   "cell_type": "code",
   "execution_count": 37,
   "metadata": {},
   "outputs": [
    {
     "name": "stdout",
     "output_type": "stream",
     "text": [
      "Best value of K found for Brute Force Algorithm Implementaion is :  97\n"
     ]
    },
    {
     "data": {
      "image/png": "[encoded data removed]",
      "text/plain": [
       "<Figure size 432x288 with 1 Axes>"
      ]
     },
     "metadata": {
      "needs_background": "light"
     },
     "output_type": "display_data"
    }
   ],
   "source": [
    "error_plot(neighbours,mse)\n",
    "print(\"Best value of K found for Brute Force Algorithm Implementaion is : \",best_k)"
   ]
  },
  {
   "cell_type": "markdown",
   "metadata": {},
   "source": [
    "##### 10.1.2 Training the model "
   ]
  },
  {
   "cell_type": "code",
   "execution_count": 38,
   "metadata": {},
   "outputs": [
    {
     "data": {
      "text/plain": [
       "KNeighborsClassifier(algorithm='brute', leaf_size=30, metric='minkowski',\n",
       "           metric_params=None, n_jobs=None, n_neighbors=97, p=2,\n",
       "           weights='uniform')"
      ]
     },
     "execution_count": 38,
     "metadata": {},
     "output_type": "execute_result"
    }
   ],
   "source": [
    "neigh = KNeighborsClassifier(n_neighbors = best_k,algorithm='brute')\n",
    "neigh.fit(X_train_TF, y_train)"
   ]
  },
  {
   "cell_type": "markdown",
   "metadata": {},
   "source": [
    "#### 10.1.3 Evaluting the performance of model"
   ]
  },
  {
   "cell_type": "markdown",
   "metadata": {},
   "source": [
    "##### (A). Roc-Auc Plot"
   ]
  },
  {
   "cell_type": "code",
   "execution_count": 39,
   "metadata": {},
   "outputs": [
    {
     "data": {
      "image/png": "[encoded data removed]",
      "text/plain": [
       "<Figure size 432x288 with 1 Axes>"
      ]
     },
     "metadata": {
      "needs_background": "light"
     },
     "output_type": "display_data"
    }
   ],
   "source": [
    "plot_auc_roc(neigh,X_train_TF,X_test_TF,y_train,y_test)"
   ]
  },
  {
   "cell_type": "markdown",
   "metadata": {},
   "source": [
    "##### (B). Confusion Matrix Plot on Train Data"
   ]
  },
  {
   "cell_type": "code",
   "execution_count": 40,
   "metadata": {},
   "outputs": [
    {
     "name": "stdout",
     "output_type": "stream",
     "text": [
      "Confusion Matrix for Train set\n"
     ]
    },
    {
     "data": {
      "image/png": "[encoded data removed]",
      "text/plain": [
       "<Figure size 432x288 with 2 Axes>"
      ]
     },
     "metadata": {
      "needs_background": "light"
     },
     "output_type": "display_data"
    }
   ],
   "source": [
    "trainconfusionmatrix(neigh,X_train_TF,y_train)"
   ]
  },
  {
   "cell_type": "markdown",
   "metadata": {},
   "source": [
    "##### (C). Confusion Matrix Plot on Test Data"
   ]
  },
  {
   "cell_type": "code",
   "execution_count": 41,
   "metadata": {},
   "outputs": [
    {
     "name": "stdout",
     "output_type": "stream",
     "text": [
      "Confusion Matrix for Test set\n"
     ]
    },
    {
     "data": {
      "image/png": "[encoded data removed]",
      "text/plain": [
       "<Figure size 432x288 with 2 Axes>"
      ]
     },
     "metadata": {
      "needs_background": "light"
     },
     "output_type": "display_data"
    }
   ],
   "source": [
    "testconfusionmatrix(neigh,X_test_TF,y_test)"
   ]
  },
  {
   "cell_type": "markdown",
   "metadata": {},
   "source": [
    "##### (D). Accuracy and Error"
   ]
  },
  {
   "cell_type": "code",
   "execution_count": 42,
   "metadata": {},
   "outputs": [
    {
     "name": "stdout",
     "output_type": "stream",
     "text": [
      "Training Accuracy in %:  80.0\n",
      "\n",
      "Train Error in %:  20.0\n",
      "\n",
      "Test Accuracy in %:  80.0\n",
      "\n",
      "Test Error in % :  20.0\n"
     ]
    }
   ],
   "source": [
    "training_accuracy,training_error,test_accuracy,test_error = accuracy(neigh,X_train_TF,y_train,X_test_TF,y_test)\n",
    "print(\"Training Accuracy in %: \", round(training_accuracy,2)*100)\n",
    "print(\"\\nTrain Error in %: \", round(training_error,2)*100)\n",
    "print(\"\\nTest Accuracy in %: \", round(test_accuracy,2)*100)\n",
    "print(\"\\nTest Error in % : \", round(test_error,2)*100)"
   ]
  },
  {
   "cell_type": "markdown",
   "metadata": {},
   "source": [
    "##### (E). Classification Report"
   ]
  },
  {
   "cell_type": "code",
   "execution_count": 43,
   "metadata": {},
   "outputs": [
    {
     "name": "stdout",
     "output_type": "stream",
     "text": [
      "Classification Report: \n",
      "\n",
      "              precision    recall  f1-score   support\n",
      "\n",
      "           0       0.82      0.76      0.79      3333\n",
      "           1       0.78      0.83      0.80      3267\n",
      "\n",
      "   micro avg       0.80      0.80      0.80      6600\n",
      "   macro avg       0.80      0.80      0.80      6600\n",
      "weighted avg       0.80      0.80      0.80      6600\n",
      "\n"
     ]
    }
   ],
   "source": [
    "print(\"Classification Report: \\n\")\n",
    "prediction=neigh.predict(X_test_TF)\n",
    "print(classification_report(y_test, prediction))"
   ]
  },
  {
   "cell_type": "markdown",
   "metadata": {},
   "source": [
    "### 10.2 KD Tree Algorithm"
   ]
  },
  {
   "cell_type": "markdown",
   "metadata": {},
   "source": [
    "#### 10.2.1 Finding Optimal Value of Hyperparameter(k)"
   ]
  },
  {
   "cell_type": "code",
   "execution_count": 44,
   "metadata": {},
   "outputs": [],
   "source": [
    "import numpy as np \n",
    "\n",
    "neighbours=np.arange(1,100,2)\n",
    "mse,best_k = knn_cv_kd(X_train_TF,y_train,neighbours)"
   ]
  },
  {
   "cell_type": "code",
   "execution_count": 45,
   "metadata": {},
   "outputs": [
    {
     "name": "stdout",
     "output_type": "stream",
     "text": [
      "Best value of K found for KD Tree Algorithm Implementaion is :  97\n"
     ]
    },
    {
     "data": {
      "image/png": "[encoded data removed]",
      "text/plain": [
       "<Figure size 432x288 with 1 Axes>"
      ]
     },
     "metadata": {
      "needs_background": "light"
     },
     "output_type": "display_data"
    }
   ],
   "source": [
    "error_plot(neighbours,mse)\n",
    "print(\"Best value of K found for KD Tree Algorithm Implementaion is : \",best_k)"
   ]
  },
  {
   "cell_type": "markdown",
   "metadata": {},
   "source": [
    "##### 10.2.2 Training the model"
   ]
  },
  {
   "cell_type": "code",
   "execution_count": 46,
   "metadata": {},
   "outputs": [
    {
     "data": {
      "text/plain": [
       "KNeighborsClassifier(algorithm='kd_tree', leaf_size=30, metric='minkowski',\n",
       "           metric_params=None, n_jobs=None, n_neighbors=97, p=2,\n",
       "           weights='uniform')"
      ]
     },
     "execution_count": 46,
     "metadata": {},
     "output_type": "execute_result"
    }
   ],
   "source": [
    "neigh = KNeighborsClassifier(n_neighbors = best_k,algorithm='kd_tree')\n",
    "neigh.fit(X_train_TF, y_train)"
   ]
  },
  {
   "cell_type": "markdown",
   "metadata": {},
   "source": [
    "##### 10.2.3 Evaluting the performance of model"
   ]
  },
  {
   "cell_type": "markdown",
   "metadata": {},
   "source": [
    "##### (A). Roc-Auc Plot"
   ]
  },
  {
   "cell_type": "code",
   "execution_count": 47,
   "metadata": {},
   "outputs": [
    {
     "data": {
      "image/png": "[encoded data removed]",
      "text/plain": [
       "<Figure size 432x288 with 1 Axes>"
      ]
     },
     "metadata": {
      "needs_background": "light"
     },
     "output_type": "display_data"
    }
   ],
   "source": [
    "plot_auc_roc(neigh,X_train_TF,X_test_TF,y_train,y_test)"
   ]
  },
  {
   "cell_type": "markdown",
   "metadata": {},
   "source": [
    "###### (B). Confusion Matrix Plot on Train Data"
   ]
  },
  {
   "cell_type": "code",
   "execution_count": 48,
   "metadata": {},
   "outputs": [
    {
     "name": "stdout",
     "output_type": "stream",
     "text": [
      "Confusion Matrix for Train set\n"
     ]
    },
    {
     "data": {
      "image/png": "[encoded data removed]",
      "text/plain": [
       "<Figure size 432x288 with 2 Axes>"
      ]
     },
     "metadata": {
      "needs_background": "light"
     },
     "output_type": "display_data"
    }
   ],
   "source": [
    "trainconfusionmatrix(neigh,X_train_TF,y_train)"
   ]
  },
  {
   "cell_type": "markdown",
   "metadata": {},
   "source": [
    "##### (C). Confusion Matrix Plot on Test Data"
   ]
  },
  {
   "cell_type": "code",
   "execution_count": 49,
   "metadata": {},
   "outputs": [
    {
     "name": "stdout",
     "output_type": "stream",
     "text": [
      "Confusion Matrix for Test set\n"
     ]
    },
    {
     "data": {
      "image/png": "[encoded data removed]",
      "text/plain": [
       "<Figure size 432x288 with 2 Axes>"
      ]
     },
     "metadata": {
      "needs_background": "light"
     },
     "output_type": "display_data"
    }
   ],
   "source": [
    "testconfusionmatrix(neigh,X_test_TF,y_test)"
   ]
  },
  {
   "cell_type": "markdown",
   "metadata": {},
   "source": [
    "##### (D). Accuracy and Error"
   ]
  },
  {
   "cell_type": "code",
   "execution_count": 50,
   "metadata": {},
   "outputs": [
    {
     "name": "stdout",
     "output_type": "stream",
     "text": [
      "Training Accuracy in %:  80.0\n",
      "\n",
      "Train Error in %:  20.0\n",
      "\n",
      "Test Accuracy in %:  80.0\n",
      "\n",
      "Test Error in % :  20.0\n"
     ]
    }
   ],
   "source": [
    "training_accuracy,training_error,test_accuracy,test_error = accuracy(neigh,X_train_TF,y_train,X_test_TF,y_test)\n",
    "print(\"Training Accuracy in %: \", round(training_accuracy,2)*100)\n",
    "print(\"\\nTrain Error in %: \", round(training_error,2)*100)\n",
    "print(\"\\nTest Accuracy in %: \", round(test_accuracy,2)*100)\n",
    "print(\"\\nTest Error in % : \", round(test_error,2)*100)"
   ]
  },
  {
   "cell_type": "markdown",
   "metadata": {},
   "source": [
    "##### (E). Classification Report"
   ]
  },
  {
   "cell_type": "code",
   "execution_count": 51,
   "metadata": {},
   "outputs": [
    {
     "name": "stdout",
     "output_type": "stream",
     "text": [
      "Classification Report: \n",
      "\n",
      "              precision    recall  f1-score   support\n",
      "\n",
      "           0       0.82      0.76      0.79      3333\n",
      "           1       0.78      0.83      0.80      3267\n",
      "\n",
      "   micro avg       0.80      0.80      0.80      6600\n",
      "   macro avg       0.80      0.80      0.80      6600\n",
      "weighted avg       0.80      0.80      0.80      6600\n",
      "\n"
     ]
    }
   ],
   "source": [
    "print(\"Classification Report: \\n\")\n",
    "prediction=neigh.predict(X_test_TF)\n",
    "print(classification_report(y_test, prediction))"
   ]
  },
  {
   "cell_type": "markdown",
   "metadata": {},
   "source": [
    "# 11.0 Word To Vector"
   ]
  },
  {
   "cell_type": "code",
   "execution_count": 16,
   "metadata": {},
   "outputs": [],
   "source": [
    "list_of_Train_sent=[]\n",
    "list_of_Test_sent=[]\n",
    "\n",
    "for sent in X_train:\n",
    "    list_of_Train_sent.append(sent.split())\n",
    "    \n",
    "for sent in X_test:\n",
    "    list_of_Test_sent.append(sent.split())"
   ]
  },
  {
   "cell_type": "code",
   "execution_count": 17,
   "metadata": {},
   "outputs": [
    {
     "data": {
      "text/plain": [
       "13400"
      ]
     },
     "execution_count": 17,
     "metadata": {},
     "output_type": "execute_result"
    }
   ],
   "source": [
    "len(list_of_Train_sent)"
   ]
  },
  {
   "cell_type": "code",
   "execution_count": 18,
   "metadata": {},
   "outputs": [],
   "source": [
    "Train_model=Word2Vec(list_of_Train_sent,min_count=5,size=50, workers=4)\n",
    "Test_model=Word2Vec(list_of_Test_sent,min_count=5,size=50, workers=4)"
   ]
  },
  {
   "cell_type": "markdown",
   "metadata": {},
   "source": [
    "### 11.1 Avg Word2Vec\n"
   ]
  },
  {
   "cell_type": "code",
   "execution_count": 55,
   "metadata": {},
   "outputs": [],
   "source": [
    "import numpy as np\n",
    "\n",
    "Train_vectors = []\n",
    "for sent in list_of_Train_sent:\n",
    "    sent_vec = np.zeros(50)\n",
    "    cnt_words = 0\n",
    "    for word in sent:\n",
    "        try:\n",
    "            vec = Train_model.wv[word]\n",
    "            sent_vec += vec\n",
    "            cnt_words += 1\n",
    "        except:\n",
    "            pass\n",
    "    if cnt_words!=0:    \n",
    "        sent_vec /= cnt_words\n",
    "    Train_vectors.append(sent_vec)\n",
    "Train_vectors = np.nan_to_num(Train_vectors)"
   ]
  },
  {
   "cell_type": "code",
   "execution_count": 56,
   "metadata": {},
   "outputs": [],
   "source": [
    "import numpy as np\n",
    "\n",
    "Test_vectors=[]\n",
    "for sent in list_of_Test_sent:\n",
    "    sent_vec=np.zeros(50)\n",
    "    cnt_words=0\n",
    "    for word in sent:\n",
    "        try:\n",
    "            vec=Test_model.wv[word]\n",
    "            sent_vec+=vec\n",
    "            cnt_words+=1\n",
    "        except:\n",
    "            pass\n",
    "    if cnt_words!=0:\n",
    "        sent_vec/=cnt_words\n",
    "    Test_vectors.append(sent_vec)\n",
    "Test_vectors=np.nan_to_num(Test_vectors)    "
   ]
  },
  {
   "cell_type": "code",
   "execution_count": 57,
   "metadata": {},
   "outputs": [
    {
     "name": "stdout",
     "output_type": "stream",
     "text": [
      "Shape of Test Vectors :  (6600, 50)\n"
     ]
    }
   ],
   "source": [
    "print(\"Shape of Test Vectors : \",Test_vectors.shape)"
   ]
  },
  {
   "cell_type": "code",
   "execution_count": 58,
   "metadata": {},
   "outputs": [],
   "source": [
    "X_train_AWV = Train_vectors\n",
    "X_test_AWV = Test_vectors"
   ]
  },
  {
   "cell_type": "code",
   "execution_count": 59,
   "metadata": {},
   "outputs": [
    {
     "name": "stdout",
     "output_type": "stream",
     "text": [
      "(13400, 50) (13400,)\n",
      "(6600, 50) (6600,)\n"
     ]
    }
   ],
   "source": [
    "print(X_train_AWV.shape, y_train.shape)\n",
    "print(X_test_AWV.shape, y_test.shape)"
   ]
  },
  {
   "cell_type": "markdown",
   "metadata": {},
   "source": [
    "### 10.2 Brute Force Algorithm"
   ]
  },
  {
   "cell_type": "markdown",
   "metadata": {},
   "source": [
    "#### 10.2.1 Finding Optimal Value of Hyperparameter(k)"
   ]
  },
  {
   "cell_type": "code",
   "execution_count": 60,
   "metadata": {},
   "outputs": [],
   "source": [
    "import numpy as np \n",
    "\n",
    "neighbours=np.arange(1,100,2)\n",
    "mse,best_k = knn_cv_brute(X_train_AWV,y_train,neighbours)"
   ]
  },
  {
   "cell_type": "code",
   "execution_count": 61,
   "metadata": {},
   "outputs": [
    {
     "name": "stdout",
     "output_type": "stream",
     "text": [
      "Best value of K found for Brute Force Algorithm Implementaion is :  37\n"
     ]
    },
    {
     "data": {
      "image/png": "[encoded data removed]",
      "text/plain": [
       "<Figure size 432x288 with 1 Axes>"
      ]
     },
     "metadata": {
      "needs_background": "light"
     },
     "output_type": "display_data"
    }
   ],
   "source": [
    "error_plot(neighbours,mse)\n",
    "print(\"Best value of K found for Brute Force Algorithm Implementaion is : \",best_k)"
   ]
  },
  {
   "cell_type": "markdown",
   "metadata": {},
   "source": [
    "#### 10.2.2 Training the model"
   ]
  },
  {
   "cell_type": "code",
   "execution_count": 62,
   "metadata": {},
   "outputs": [
    {
     "data": {
      "text/plain": [
       "KNeighborsClassifier(algorithm='brute', leaf_size=30, metric='minkowski',\n",
       "           metric_params=None, n_jobs=None, n_neighbors=37, p=2,\n",
       "           weights='uniform')"
      ]
     },
     "execution_count": 62,
     "metadata": {},
     "output_type": "execute_result"
    }
   ],
   "source": [
    "neigh = KNeighborsClassifier(n_neighbors = best_k,algorithm='brute')\n",
    "neigh.fit(X_train_AWV, y_train)"
   ]
  },
  {
   "cell_type": "markdown",
   "metadata": {},
   "source": [
    "##### 10.2.3 Evaluting the performance of model"
   ]
  },
  {
   "cell_type": "markdown",
   "metadata": {},
   "source": [
    "##### (A). Roc-Auc Plot"
   ]
  },
  {
   "cell_type": "code",
   "execution_count": 63,
   "metadata": {},
   "outputs": [
    {
     "data": {
      "image/png": "[encoded data removed]",
      "text/plain": [
       "<Figure size 432x288 with 1 Axes>"
      ]
     },
     "metadata": {
      "needs_background": "light"
     },
     "output_type": "display_data"
    }
   ],
   "source": [
    "plot_auc_roc(neigh,X_train_AWV,X_test_AWV,y_train,y_test)"
   ]
  },
  {
   "cell_type": "markdown",
   "metadata": {},
   "source": [
    "##### (B). Confusion Matrix Plot on Train Data"
   ]
  },
  {
   "cell_type": "code",
   "execution_count": 64,
   "metadata": {},
   "outputs": [
    {
     "name": "stdout",
     "output_type": "stream",
     "text": [
      "Confusion Matrix for Train set\n"
     ]
    },
    {
     "data": {
      "image/png": "[encoded data removed]",
      "text/plain": [
       "<Figure size 432x288 with 2 Axes>"
      ]
     },
     "metadata": {
      "needs_background": "light"
     },
     "output_type": "display_data"
    }
   ],
   "source": [
    "trainconfusionmatrix(neigh,X_train_AWV,y_train)"
   ]
  },
  {
   "cell_type": "markdown",
   "metadata": {},
   "source": [
    "##### (C). Confusion Matrix Plot on Test Data"
   ]
  },
  {
   "cell_type": "code",
   "execution_count": 65,
   "metadata": {},
   "outputs": [
    {
     "name": "stdout",
     "output_type": "stream",
     "text": [
      "Confusion Matrix for Test set\n"
     ]
    },
    {
     "data": {
      "image/png": "[encoded data removed]",
      "text/plain": [
       "<Figure size 432x288 with 2 Axes>"
      ]
     },
     "metadata": {
      "needs_background": "light"
     },
     "output_type": "display_data"
    }
   ],
   "source": [
    "testconfusionmatrix(neigh,X_test_AWV,y_test)"
   ]
  },
  {
   "cell_type": "markdown",
   "metadata": {},
   "source": [
    "##### (D). Accuracy and Error"
   ]
  },
  {
   "cell_type": "code",
   "execution_count": 66,
   "metadata": {},
   "outputs": [
    {
     "name": "stdout",
     "output_type": "stream",
     "text": [
      "Training Accuracy in %:  78.0\n",
      "\n",
      "Train Error in %:  22.0\n",
      "\n",
      "Test Accuracy in %:  57.99999999999999\n",
      "\n",
      "Test Error in % :  42.0\n"
     ]
    }
   ],
   "source": [
    "training_accuracy,training_error,test_accuracy,test_error = accuracy(neigh,X_train_AWV,y_train,X_test_AWV,y_test)\n",
    "print(\"Training Accuracy in %: \", round(training_accuracy,2)*100)\n",
    "print(\"\\nTrain Error in %: \", round(training_error,2)*100)\n",
    "print(\"\\nTest Accuracy in %: \", round(test_accuracy,2)*100)\n",
    "print(\"\\nTest Error in % : \", round(test_error,2)*100)"
   ]
  },
  {
   "cell_type": "markdown",
   "metadata": {},
   "source": [
    "#### (E). Classification Report"
   ]
  },
  {
   "cell_type": "code",
   "execution_count": 67,
   "metadata": {},
   "outputs": [
    {
     "name": "stdout",
     "output_type": "stream",
     "text": [
      "Classification Report: \n",
      "\n",
      "              precision    recall  f1-score   support\n",
      "\n",
      "           0       0.68      0.33      0.44      3333\n",
      "           1       0.55      0.84      0.66      3267\n",
      "\n",
      "   micro avg       0.58      0.58      0.58      6600\n",
      "   macro avg       0.61      0.58      0.55      6600\n",
      "weighted avg       0.61      0.58      0.55      6600\n",
      "\n"
     ]
    }
   ],
   "source": [
    "print(\"Classification Report: \\n\")\n",
    "prediction=neigh.predict(X_test_AWV)\n",
    "print(classification_report(y_test, prediction))"
   ]
  },
  {
   "cell_type": "markdown",
   "metadata": {},
   "source": [
    "### 10.3 KD Tree Algorithm"
   ]
  },
  {
   "cell_type": "markdown",
   "metadata": {},
   "source": [
    "#### 10.3.1 Finding Optimal Value of Hyperparameter(k)"
   ]
  },
  {
   "cell_type": "code",
   "execution_count": 68,
   "metadata": {},
   "outputs": [],
   "source": [
    "import numpy as np \n",
    "\n",
    "neighbours=np.arange(1,100,2)\n",
    "mse,best_k = knn_cv_kd(X_train_AWV,y_train,neighbours)"
   ]
  },
  {
   "cell_type": "code",
   "execution_count": 69,
   "metadata": {},
   "outputs": [
    {
     "name": "stdout",
     "output_type": "stream",
     "text": [
      "Best value of K found for KD Tree Algorithm Implementaion is :  37\n"
     ]
    },
    {
     "data": {
      "image/png": "[encoded data removed]",
      "text/plain": [
       "<Figure size 432x288 with 1 Axes>"
      ]
     },
     "metadata": {
      "needs_background": "light"
     },
     "output_type": "display_data"
    }
   ],
   "source": [
    "error_plot(neighbours,mse)\n",
    "print(\"Best value of K found for KD Tree Algorithm Implementaion is : \",best_k)"
   ]
  },
  {
   "cell_type": "markdown",
   "metadata": {},
   "source": [
    "#### 10.3.2 Training the model"
   ]
  },
  {
   "cell_type": "code",
   "execution_count": 70,
   "metadata": {},
   "outputs": [
    {
     "data": {
      "text/plain": [
       "KNeighborsClassifier(algorithm='kd_tree', leaf_size=30, metric='minkowski',\n",
       "           metric_params=None, n_jobs=None, n_neighbors=37, p=2,\n",
       "           weights='uniform')"
      ]
     },
     "execution_count": 70,
     "metadata": {},
     "output_type": "execute_result"
    }
   ],
   "source": [
    "neigh = KNeighborsClassifier(n_neighbors = best_k,algorithm='kd_tree')\n",
    "neigh.fit(X_train_AWV, y_train)"
   ]
  },
  {
   "cell_type": "markdown",
   "metadata": {},
   "source": [
    "#### 10.3.3 Evaluting the performance of model"
   ]
  },
  {
   "cell_type": "markdown",
   "metadata": {},
   "source": [
    "##### (A). Roc-Auc Plot"
   ]
  },
  {
   "cell_type": "code",
   "execution_count": 71,
   "metadata": {},
   "outputs": [
    {
     "data": {
      "image/png": "[encoded data removed]",
      "text/plain": [
       "<Figure size 432x288 with 1 Axes>"
      ]
     },
     "metadata": {
      "needs_background": "light"
     },
     "output_type": "display_data"
    }
   ],
   "source": [
    "plot_auc_roc(neigh,X_train_AWV,X_test_AWV,y_train,y_test)"
   ]
  },
  {
   "cell_type": "markdown",
   "metadata": {},
   "source": [
    "##### (B). Confusion Matrix Plot on Train Data"
   ]
  },
  {
   "cell_type": "code",
   "execution_count": 72,
   "metadata": {},
   "outputs": [
    {
     "name": "stdout",
     "output_type": "stream",
     "text": [
      "Confusion Matrix for Train set\n"
     ]
    },
    {
     "data": {
      "image/png": "[encoded data removed]",
      "text/plain": [
       "<Figure size 432x288 with 2 Axes>"
      ]
     },
     "metadata": {
      "needs_background": "light"
     },
     "output_type": "display_data"
    }
   ],
   "source": [
    "trainconfusionmatrix(neigh,X_train_AWV,y_train)"
   ]
  },
  {
   "cell_type": "markdown",
   "metadata": {},
   "source": [
    "##### (C). Confusion Matrix Plot on Test Data"
   ]
  },
  {
   "cell_type": "code",
   "execution_count": 73,
   "metadata": {},
   "outputs": [
    {
     "name": "stdout",
     "output_type": "stream",
     "text": [
      "Confusion Matrix for Test set\n"
     ]
    },
    {
     "data": {
      "image/png": "[encoded data removed]",
      "text/plain": [
       "<Figure size 432x288 with 2 Axes>"
      ]
     },
     "metadata": {
      "needs_background": "light"
     },
     "output_type": "display_data"
    }
   ],
   "source": [
    "testconfusionmatrix(neigh,X_test_AWV,y_test)"
   ]
  },
  {
   "cell_type": "markdown",
   "metadata": {},
   "source": [
    "##### (D). Accuracy and Error"
   ]
  },
  {
   "cell_type": "code",
   "execution_count": 74,
   "metadata": {},
   "outputs": [
    {
     "name": "stdout",
     "output_type": "stream",
     "text": [
      "Training Accuracy in %:  78.0\n",
      "\n",
      "Train Error in %:  22.0\n",
      "\n",
      "Test Accuracy in %:  57.99999999999999\n",
      "\n",
      "Test Error in % :  42.0\n"
     ]
    }
   ],
   "source": [
    "training_accuracy,training_error,test_accuracy,test_error = accuracy(neigh,X_train_AWV,y_train,X_test_AWV,y_test)\n",
    "print(\"Training Accuracy in %: \", round(training_accuracy,2)*100)\n",
    "print(\"\\nTrain Error in %: \", round(training_error,2)*100)\n",
    "print(\"\\nTest Accuracy in %: \", round(test_accuracy,2)*100)\n",
    "print(\"\\nTest Error in % : \", round(test_error,2)*100)"
   ]
  },
  {
   "cell_type": "markdown",
   "metadata": {},
   "source": [
    "##### (E). Classification Report"
   ]
  },
  {
   "cell_type": "code",
   "execution_count": 75,
   "metadata": {},
   "outputs": [
    {
     "name": "stdout",
     "output_type": "stream",
     "text": [
      "Classification Report: \n",
      "\n",
      "              precision    recall  f1-score   support\n",
      "\n",
      "           0       0.68      0.33      0.44      3333\n",
      "           1       0.55      0.84      0.66      3267\n",
      "\n",
      "   micro avg       0.58      0.58      0.58      6600\n",
      "   macro avg       0.61      0.58      0.55      6600\n",
      "weighted avg       0.61      0.58      0.55      6600\n",
      "\n"
     ]
    }
   ],
   "source": [
    "print(\"Classification Report: \\n\")\n",
    "prediction=neigh.predict(X_test_AWV)\n",
    "print(classification_report(y_test, prediction))"
   ]
  },
  {
   "cell_type": "markdown",
   "metadata": {},
   "source": [
    "# 11.0 TF-IDF Word To Vector"
   ]
  },
  {
   "cell_type": "code",
   "execution_count": 19,
   "metadata": {},
   "outputs": [],
   "source": [
    "model = TfidfVectorizer()\n",
    "model.fit(X_train)\n",
    "X_Train_TF = model.transform(X_train)\n",
    "X_Test_TF = model.transform(X_test)"
   ]
  },
  {
   "cell_type": "code",
   "execution_count": 20,
   "metadata": {},
   "outputs": [
    {
     "name": "stdout",
     "output_type": "stream",
     "text": [
      "Shape of Train Data After TFIDF :  (13400, 15367)\n",
      "Shape of Test Data After TFIDF :  (6600, 15367)\n"
     ]
    }
   ],
   "source": [
    "print(\"Shape of Train Data After TFIDF : \",X_Train_TF.shape)\n",
    "print(\"Shape of Test Data After TFIDF : \",X_Test_TF.shape)"
   ]
  },
  {
   "cell_type": "code",
   "execution_count": 21,
   "metadata": {},
   "outputs": [
    {
     "name": "stdout",
     "output_type": "stream",
     "text": [
      "15367\n",
      "['aaaaaaaaaaaaaaaaaaaaaaaaaaaaaaaaaaaaaaaaaaaa', 'aaaaaaaaagghh', 'aaaaahhhhhhhhhhhhhhhh', 'aaah', 'aafco', 'aah', 'aamazon', 'aback', 'abandon', 'abat', 'abc', 'abdomin', 'aberr', 'abhorr', 'abil', 'abl', 'abnorm', 'abod', 'abomin', 'abouit']\n"
     ]
    }
   ],
   "source": [
    "TFIDF_Feature=model.get_feature_names()\n",
    "print(len(TFIDF_Feature))\n",
    "print(TFIDF_Feature[0:20])"
   ]
  },
  {
   "cell_type": "code",
   "execution_count": 22,
   "metadata": {},
   "outputs": [
    {
     "name": "stderr",
     "output_type": "stream",
     "text": [
      "100%|████████████████████████████████████| 13400/13400 [02:56<00:00, 75.98it/s]\n"
     ]
    }
   ],
   "source": [
    "from tqdm import tqdm\n",
    "Train_TFIDF_W2V_Vectors=[]\n",
    "row=0\n",
    "for sent in tqdm(list_of_Train_sent):\n",
    "    sent_vec=np.zeros(50)\n",
    "    weight=0\n",
    "    for word in sent:\n",
    "        try :\n",
    "            w2v_vec=Train_model.wv[word]\n",
    "            tfidf_vec=X_Train_TF[row,TFIDF_Feature.index(word)]\n",
    "            sent_vec+=(w2v_vec*tfidf_vec)\n",
    "            weight+=tfidf_vec\n",
    "            \n",
    "        except :\n",
    "            pass\n",
    "    if weight!=0:\n",
    "        sent_vec/=weight\n",
    "    Train_TFIDF_W2V_Vectors.append(sent_vec) \n",
    "    row+=1"
   ]
  },
  {
   "cell_type": "code",
   "execution_count": 23,
   "metadata": {},
   "outputs": [
    {
     "name": "stderr",
     "output_type": "stream",
     "text": [
      "100%|█████████████████████████████████████| 6600/6600 [01:03<00:00, 103.35it/s]\n"
     ]
    }
   ],
   "source": [
    "Test_TFIDF_W2V_Vectors=[]\n",
    "row=0\n",
    "for sent in tqdm(list_of_Test_sent):\n",
    "    sent_vec=np.zeros(50)\n",
    "    weight=0\n",
    "    \n",
    "    for word in sent:\n",
    "        try:\n",
    "            w2v_vec=Test_model.wv[word]\n",
    "            tfidf_vec=X_Test_TF(row,TFIDF_Feature.index(word))\n",
    "            sent_vec+=(w2v_vec*tfidf_vec)\n",
    "            weight+=tfidf\n",
    "          \n",
    "        except :\n",
    "            pass\n",
    "    \n",
    "    if weight!=0:\n",
    "        sent_vec/=weight\n",
    "    Test_TFIDF_W2V_Vectors.append(sent_vec)    \n",
    "    row+=1"
   ]
  },
  {
   "cell_type": "code",
   "execution_count": 25,
   "metadata": {},
   "outputs": [],
   "source": [
    "Test_tfidfw2v_vectors=np.nan_to_num(Test_TFIDF_W2V_Vectors)  \n",
    "Train_tfidfw2v_vectors=np.nan_to_num(Train_TFIDF_W2V_Vectors)  "
   ]
  },
  {
   "cell_type": "code",
   "execution_count": 28,
   "metadata": {},
   "outputs": [],
   "source": [
    "X_train_TfIdfW2v=Train_tfidfw2v_vectors\n",
    "X_test_TfIdfW2v=Test_tfidfw2v_vectors"
   ]
  },
  {
   "cell_type": "markdown",
   "metadata": {},
   "source": [
    "### 11.1 Brute Force Algorithm"
   ]
  },
  {
   "cell_type": "markdown",
   "metadata": {},
   "source": [
    "#### 11.1.1 Finding Optimal Value of Hyperparameter(k) "
   ]
  },
  {
   "cell_type": "code",
   "execution_count": 29,
   "metadata": {},
   "outputs": [],
   "source": [
    "import numpy as np \n",
    "\n",
    "neighbours=np.arange(1,100,2)\n",
    "mse,best_k = knn_cv_brute(X_train_TfIdfW2v,y_train,neighbours)"
   ]
  },
  {
   "cell_type": "code",
   "execution_count": 30,
   "metadata": {},
   "outputs": [
    {
     "name": "stdout",
     "output_type": "stream",
     "text": [
      "Best value of K found for Brute Force Algorithm Implementaion is :  95\n"
     ]
    },
    {
     "data": {
      "image/png": "[encoded data removed]",
      "text/plain": [
       "<Figure size 432x288 with 1 Axes>"
      ]
     },
     "metadata": {
      "needs_background": "light"
     },
     "output_type": "display_data"
    }
   ],
   "source": [
    "error_plot(neighbours,mse)\n",
    "print(\"Best value of K found for Brute Force Algorithm Implementaion is : \",best_k)"
   ]
  },
  {
   "cell_type": "markdown",
   "metadata": {},
   "source": [
    "#### 11.1.2 Training the model"
   ]
  },
  {
   "cell_type": "code",
   "execution_count": 33,
   "metadata": {},
   "outputs": [
    {
     "data": {
      "text/plain": [
       "KNeighborsClassifier(algorithm='brute', leaf_size=30, metric='minkowski',\n",
       "           metric_params=None, n_jobs=None, n_neighbors=95, p=2,\n",
       "           weights='uniform')"
      ]
     },
     "execution_count": 33,
     "metadata": {},
     "output_type": "execute_result"
    }
   ],
   "source": [
    "neigh = KNeighborsClassifier(n_neighbors = best_k,algorithm='brute')\n",
    "neigh.fit(X_train_TfIdfW2v, y_train)"
   ]
  },
  {
   "cell_type": "markdown",
   "metadata": {},
   "source": [
    "#### 11.1.3 Evaluting the performance of model"
   ]
  },
  {
   "cell_type": "markdown",
   "metadata": {},
   "source": [
    "##### (A). Roc-Auc Plot"
   ]
  },
  {
   "cell_type": "code",
   "execution_count": 34,
   "metadata": {},
   "outputs": [
    {
     "data": {
      "image/png": "[encoded data removed]",
      "text/plain": [
       "<Figure size 432x288 with 1 Axes>"
      ]
     },
     "metadata": {
      "needs_background": "light"
     },
     "output_type": "display_data"
    }
   ],
   "source": [
    "plot_auc_roc(neigh,X_train_TfIdfW2v,X_test_TfIdfW2v,y_train,y_test)"
   ]
  },
  {
   "cell_type": "markdown",
   "metadata": {},
   "source": [
    "##### (B). Confusion Matrix Plot on Train Data"
   ]
  },
  {
   "cell_type": "code",
   "execution_count": 35,
   "metadata": {},
   "outputs": [
    {
     "name": "stdout",
     "output_type": "stream",
     "text": [
      "Confusion Matrix for Train set\n"
     ]
    },
    {
     "data": {
      "image/png": "[encoded data removed]",
      "text/plain": [
       "<Figure size 432x288 with 2 Axes>"
      ]
     },
     "metadata": {
      "needs_background": "light"
     },
     "output_type": "display_data"
    }
   ],
   "source": [
    "trainconfusionmatrix(neigh,X_train_TfIdfW2v,y_train)"
   ]
  },
  {
   "cell_type": "markdown",
   "metadata": {},
   "source": [
    "##### (C). Confusion Matrix Plot on Test Data"
   ]
  },
  {
   "cell_type": "code",
   "execution_count": 36,
   "metadata": {},
   "outputs": [
    {
     "name": "stdout",
     "output_type": "stream",
     "text": [
      "Confusion Matrix for Test set\n"
     ]
    },
    {
     "data": {
      "image/png": "[encoded data removed]",
      "text/plain": [
       "<Figure size 432x288 with 2 Axes>"
      ]
     },
     "metadata": {
      "needs_background": "light"
     },
     "output_type": "display_data"
    }
   ],
   "source": [
    "testconfusionmatrix(neigh,X_test_TfIdfW2v,y_test)"
   ]
  },
  {
   "cell_type": "markdown",
   "metadata": {},
   "source": [
    "##### (D). Accuracy and Error"
   ]
  },
  {
   "cell_type": "code",
   "execution_count": 37,
   "metadata": {},
   "outputs": [
    {
     "name": "stdout",
     "output_type": "stream",
     "text": [
      "Training Accuracy in %:  75.0\n",
      "\n",
      "Train Error in %:  25.0\n",
      "\n",
      "Test Accuracy in %:  50.0\n",
      "\n",
      "Test Error in % :  50.0\n"
     ]
    }
   ],
   "source": [
    "training_accuracy,training_error,test_accuracy,test_error = accuracy(neigh,X_train_TfIdfW2v,y_train,X_test_TfIdfW2v,y_test)\n",
    "print(\"Training Accuracy in %: \", round(training_accuracy,2)*100)\n",
    "print(\"\\nTrain Error in %: \", round(training_error,2)*100)\n",
    "print(\"\\nTest Accuracy in %: \", round(test_accuracy,2)*100)\n",
    "print(\"\\nTest Error in % : \", round(test_error,2)*100)"
   ]
  },
  {
   "cell_type": "markdown",
   "metadata": {},
   "source": [
    "##### (E). Classification Report"
   ]
  },
  {
   "cell_type": "code",
   "execution_count": 38,
   "metadata": {},
   "outputs": [
    {
     "name": "stdout",
     "output_type": "stream",
     "text": [
      "Classification Report: \n",
      "\n",
      "              precision    recall  f1-score   support\n",
      "\n",
      "           0       0.50      1.00      0.66      3282\n",
      "           1       0.00      0.00      0.00      3318\n",
      "\n",
      "   micro avg       0.50      0.50      0.50      6600\n",
      "   macro avg       0.25      0.50      0.33      6600\n",
      "weighted avg       0.25      0.50      0.33      6600\n",
      "\n"
     ]
    }
   ],
   "source": [
    "print(\"Classification Report: \\n\")\n",
    "prediction=neigh.predict(X_test_TfIdfW2v)\n",
    "print(classification_report(y_test, prediction))"
   ]
  },
  {
   "cell_type": "markdown",
   "metadata": {},
   "source": [
    "### 11.2 KD Tree Algorithm"
   ]
  },
  {
   "cell_type": "markdown",
   "metadata": {},
   "source": [
    "#### 11.2.1 Finding Optimal Value of Hyperparameter(k)"
   ]
  },
  {
   "cell_type": "code",
   "execution_count": 39,
   "metadata": {},
   "outputs": [],
   "source": [
    "import numpy as np \n",
    "\n",
    "neighbours=np.arange(1,100,2)\n",
    "mse,best_k = knn_cv_kd(X_train_TfIdfW2v,y_train,neighbours)"
   ]
  },
  {
   "cell_type": "code",
   "execution_count": 40,
   "metadata": {},
   "outputs": [
    {
     "name": "stdout",
     "output_type": "stream",
     "text": [
      "Best value of K found for KD Tree Algorithm Implementaion is :  95\n"
     ]
    },
    {
     "data": {
      "image/png": "[encoded data removed]",
      "text/plain": [
       "<Figure size 432x288 with 1 Axes>"
      ]
     },
     "metadata": {
      "needs_background": "light"
     },
     "output_type": "display_data"
    }
   ],
   "source": [
    "error_plot(neighbours,mse)\n",
    "print(\"Best value of K found for KD Tree Algorithm Implementaion is : \",best_k)"
   ]
  },
  {
   "cell_type": "markdown",
   "metadata": {},
   "source": [
    "#### 11.2.2 Training the model"
   ]
  },
  {
   "cell_type": "code",
   "execution_count": 41,
   "metadata": {},
   "outputs": [
    {
     "data": {
      "text/plain": [
       "KNeighborsClassifier(algorithm='kd_tree', leaf_size=30, metric='minkowski',\n",
       "           metric_params=None, n_jobs=None, n_neighbors=95, p=2,\n",
       "           weights='uniform')"
      ]
     },
     "execution_count": 41,
     "metadata": {},
     "output_type": "execute_result"
    }
   ],
   "source": [
    "neigh = KNeighborsClassifier(n_neighbors = best_k,algorithm='kd_tree')\n",
    "neigh.fit(X_train_TfIdfW2v, y_train)"
   ]
  },
  {
   "cell_type": "markdown",
   "metadata": {},
   "source": [
    "#### 11.2.3 Evaluting the performance of model"
   ]
  },
  {
   "cell_type": "markdown",
   "metadata": {},
   "source": [
    "##### (A). Roc-Auc Plot"
   ]
  },
  {
   "cell_type": "code",
   "execution_count": 42,
   "metadata": {},
   "outputs": [
    {
     "data": {
      "image/png": "[encoded data removed]",
      "text/plain": [
       "<Figure size 432x288 with 1 Axes>"
      ]
     },
     "metadata": {
      "needs_background": "light"
     },
     "output_type": "display_data"
    }
   ],
   "source": [
    "plot_auc_roc(neigh,X_train_TfIdfW2v,X_test_TfIdfW2v,y_train,y_test)"
   ]
  },
  {
   "cell_type": "markdown",
   "metadata": {},
   "source": [
    "##### (B). Confusion Matrix Plot on Train Data"
   ]
  },
  {
   "cell_type": "code",
   "execution_count": 43,
   "metadata": {},
   "outputs": [
    {
     "name": "stdout",
     "output_type": "stream",
     "text": [
      "Confusion Matrix for Train set\n"
     ]
    },
    {
     "data": {
      "image/png": "[encoded data removed]",
      "text/plain": [
       "<Figure size 432x288 with 2 Axes>"
      ]
     },
     "metadata": {
      "needs_background": "light"
     },
     "output_type": "display_data"
    }
   ],
   "source": [
    "trainconfusionmatrix(neigh,X_train_TfIdfW2v,y_train)"
   ]
  },
  {
   "cell_type": "markdown",
   "metadata": {},
   "source": [
    "##### (C). Confusion Matrix Plot on Test Data"
   ]
  },
  {
   "cell_type": "code",
   "execution_count": 44,
   "metadata": {},
   "outputs": [
    {
     "name": "stdout",
     "output_type": "stream",
     "text": [
      "Confusion Matrix for Test set\n"
     ]
    },
    {
     "data": {
      "image/png": "[encoded data removed]",
      "text/plain": [
       "<Figure size 432x288 with 2 Axes>"
      ]
     },
     "metadata": {
      "needs_background": "light"
     },
     "output_type": "display_data"
    }
   ],
   "source": [
    "testconfusionmatrix(neigh,X_test_TfIdfW2v,y_test)"
   ]
  },
  {
   "cell_type": "markdown",
   "metadata": {},
   "source": [
    "##### (D). Accuracy and Error"
   ]
  },
  {
   "cell_type": "code",
   "execution_count": 45,
   "metadata": {},
   "outputs": [
    {
     "name": "stdout",
     "output_type": "stream",
     "text": [
      "Training Accuracy in %:  75.0\n",
      "\n",
      "Train Error in %:  25.0\n",
      "\n",
      "Test Accuracy in %:  50.0\n",
      "\n",
      "Test Error in % :  50.0\n"
     ]
    }
   ],
   "source": [
    "training_accuracy,training_error,test_accuracy,test_error = accuracy(neigh,X_train_TfIdfW2v,y_train,X_test_TfIdfW2v,y_test)\n",
    "print(\"Training Accuracy in %: \", round(training_accuracy,2)*100)\n",
    "print(\"\\nTrain Error in %: \", round(training_error,2)*100)\n",
    "print(\"\\nTest Accuracy in %: \", round(test_accuracy,2)*100)\n",
    "print(\"\\nTest Error in % : \", round(test_error,2)*100)"
   ]
  },
  {
   "cell_type": "markdown",
   "metadata": {},
   "source": [
    "##### (E). Classification Report"
   ]
  },
  {
   "cell_type": "code",
   "execution_count": 46,
   "metadata": {},
   "outputs": [
    {
     "name": "stdout",
     "output_type": "stream",
     "text": [
      "Classification Report: \n",
      "\n",
      "              precision    recall  f1-score   support\n",
      "\n",
      "           0       0.50      1.00      0.66      3282\n",
      "           1       0.00      0.00      0.00      3318\n",
      "\n",
      "   micro avg       0.50      0.50      0.50      6600\n",
      "   macro avg       0.25      0.50      0.33      6600\n",
      "weighted avg       0.25      0.50      0.33      6600\n",
      "\n"
     ]
    }
   ],
   "source": [
    "print(\"Classification Report: \\n\")\n",
    "prediction=neigh.predict(X_test_TfIdfW2v)\n",
    "print(classification_report(y_test, prediction))"
   ]
  },
  {
   "cell_type": "markdown",
   "metadata": {},
   "source": [
    "# 12.0 Conclusion :"
   ]
  },
  {
   "cell_type": "markdown",
   "metadata": {},
   "source": [
    "#### 1. Report On Brute Force Algorithm"
   ]
  },
  {
   "cell_type": "code",
   "execution_count": 51,
   "metadata": {},
   "outputs": [
    {
     "name": "stdout",
     "output_type": "stream",
     "text": [
      "+------------+----------------+------+--------------------+-------------------+\n",
      "| Vectorizer | Hyperparameter | AUC  | Train Accuracy (%) | Test Accuracy (%) |\n",
      "+------------+----------------+------+--------------------+-------------------+\n",
      "|    BOW     |       55       | 0.79 |         74         |         71        |\n",
      "|   TF-IDF   |       97       | 0.88 |         80         |         80        |\n",
      "|    W2V     |       37       | 0.64 |         78         |         57        |\n",
      "| TF-IDF W2V |       95       | 0.5  |         75         |         50        |\n",
      "+------------+----------------+------+--------------------+-------------------+\n"
     ]
    }
   ],
   "source": [
    "from prettytable import PrettyTable\n",
    "    \n",
    "x = PrettyTable()\n",
    "\n",
    "x.field_names = [\"Vectorizer\", \"Hyperparameter\", \"AUC\",\"Train Accuracy (%)\",\"Test Accuracy (%)\"]\n",
    "\n",
    "x.add_row([\"BOW\",55,0.79,74,71])\n",
    "x.add_row([\"TF-IDF\", 97,0.88,80,80])\n",
    "x.add_row([\"W2V\",37,0.64,78,57 ])\n",
    "x.add_row([\"TF-IDF W2V\",95,0.50,75,50])\n",
    "print(x)"
   ]
  },
  {
   "cell_type": "markdown",
   "metadata": {
    "collapsed": true
   },
   "source": [
    "##### 2. Report on KD Tree Algorithm"
   ]
  },
  {
   "cell_type": "code",
   "execution_count": 52,
   "metadata": {},
   "outputs": [
    {
     "name": "stdout",
     "output_type": "stream",
     "text": [
      "+------------+----------------+------+--------------------+-------------------+\n",
      "| Vectorizer | Hyperparameter | AUC  | Train Accuracy (%) | Test Accuracy (%) |\n",
      "+------------+----------------+------+--------------------+-------------------+\n",
      "|    BOW     |       55       | 0.79 |         74         |         71        |\n",
      "|   TF-IDF   |       97       | 0.88 |         80         |         80        |\n",
      "|    W2V     |       37       | 0.64 |         78         |         57        |\n",
      "| TF-IDF W2V |       95       | 0.5  |         75         |         50        |\n",
      "+------------+----------------+------+--------------------+-------------------+\n"
     ]
    }
   ],
   "source": [
    "x = PrettyTable()\n",
    "\n",
    "x.field_names = [\"Vectorizer\",\"Hyperparameter\", \"AUC\",\"Train Accuracy (%)\",\"Test Accuracy (%)\"]\n",
    "\n",
    "x.add_row([\"BOW\",55,0.79,74,71])\n",
    "x.add_row([\"TF-IDF\",97,0.88,80,80])\n",
    "x.add_row([\"W2V\",37,0.64,78,57 ])\n",
    "x.add_row([\"TF-IDF W2V\",95,0.50,75,50])\n",
    "print(x)"
   ]
  },
  {
   "cell_type": "markdown",
   "metadata": {},
   "source": [
    "#### 3.  71 % Of Accuracy is achieved by the model in case of Bag of Words.\n",
    "\n",
    "#### 4. 80 % Of Accuracy is achieved by the model in case of TF-IDF Vectorizer.\n",
    "\n",
    "#### 5. Model is overfit in case of Average Word to vector. \n",
    "\n",
    "#### 6. Very small subset of Data is  taken but still it took more time due to large dimension and time complexity of KNN."
   ]
  },
  {
   "cell_type": "markdown",
   "metadata": {},
   "source": [
    "#### 7. Model behaviour in TF-IDF W2V is lenint towards one class ."
   ]
  }
 ],
 "metadata": {
  "kernelspec": {
   "display_name": "Python 3",
   "language": "python",
   "name": "python3"
  },
  "language_info": {
   "codemirror_mode": {
    "name": "ipython",
    "version": 3
   },
   "file_extension": ".py",
   "mimetype": "text/x-python",
   "name": "python",
   "nbconvert_exporter": "python",
   "pygments_lexer": "ipython3",
   "version": "3.7.0"
  }
 },
 "nbformat": 4,
 "nbformat_minor": 2
}
