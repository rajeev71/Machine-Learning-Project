{
 "cells": [
  {
   "cell_type": "markdown",
   "metadata": {},
   "source": [
    "\n",
    "# Assignment-8: Apply Decision Tree On Amazon Fine Food Reviews DataSet "
   ]
  },
  {
   "cell_type": "markdown",
   "metadata": {},
   "source": [
    "## Introduction "
   ]
  },
  {
   "cell_type": "markdown",
   "metadata": {},
   "source": [
    "(i).A decision tree is a flowchart-like structure in which each internal node represents a “test” on an attribute (e.g. whether a coin flip comes up heads or tails), each branch represents the outcome of the test, and each leaf node represents a class label (decision taken after computing all attributes). The paths from root to leaf represent classification rules."
   ]
  },
  {
   "cell_type": "markdown",
   "metadata": {},
   "source": [
    "## Objective"
   ]
  },
  {
   "cell_type": "markdown",
   "metadata": {},
   "source": [
    "To Predict the Polarity of Amazon Fine Food Review Using Decision Tree Algorithm."
   ]
  },
  {
   "cell_type": "markdown",
   "metadata": {},
   "source": [
    "## Importing All Required Library"
   ]
  },
  {
   "cell_type": "code",
   "execution_count": 38,
   "metadata": {},
   "outputs": [],
   "source": [
    "%matplotlib inline\n",
    "import sqlite3\n",
    "import pandas as pd\n",
    "import numpy as np\n",
    "import nltk\n",
    "import string\n",
    "import matplotlib.pyplot as plt\n",
    "import seaborn as sns\n",
    "import math\n",
    "\n",
    "from sklearn.model_selection import GridSearchCV\n",
    "from sklearn.feature_extraction.text import CountVectorizer\n",
    "from sklearn.tree import DecisionTreeClassifier\n",
    "\n",
    "from sklearn.metrics import classification_report\n",
    "from sklearn.feature_extraction.text import TfidfTransformer\n",
    "from sklearn.feature_extraction.text import TfidfVectorizer\n",
    "from sklearn.model_selection import TimeSeriesSplit\n",
    "\n",
    "from sklearn.metrics import confusion_matrix\n",
    "from sklearn import metrics\n",
    "from sklearn.metrics import roc_curve, auc\n",
    "from sklearn.model_selection import cross_val_score\n",
    "from sklearn import preprocessing\n",
    "from sklearn.metrics import accuracy_score\n",
    "from sklearn.metrics import f1_score\n",
    "\n",
    "from gensim.models import Word2Vec\n",
    "from gensim.models import KeyedVectors\n",
    "\n",
    "\n",
    "import pickle\n",
    "\n",
    "\n",
    "from tqdm import tqdm\n",
    "import os\n",
    "import warnings\n",
    "warnings.filterwarnings(\"ignore\")"
   ]
  },
  {
   "cell_type": "markdown",
   "metadata": {},
   "source": [
    "## Importing Amazon Fine Food Review  Dataset"
   ]
  },
  {
   "cell_type": "code",
   "execution_count": 39,
   "metadata": {},
   "outputs": [],
   "source": [
    "if os.path.isfile(\"final.sqlite\"):\n",
    "    conn=sqlite3.connect(\"final.sqlite\")\n",
    "    Data=pd.read_sql_query(\"select * from Reviews where Score!=3\",conn)\n",
    "    conn.close()\n",
    "else :\n",
    "    print(\"Error Importing the file\")"
   ]
  },
  {
   "cell_type": "code",
   "execution_count": 40,
   "metadata": {},
   "outputs": [
    {
     "data": {
      "text/plain": [
       "1    307061\n",
       "0     57110\n",
       "Name: Score, dtype: int64"
      ]
     },
     "execution_count": 40,
     "metadata": {},
     "output_type": "execute_result"
    }
   ],
   "source": [
    "# Printing some data of DataFrame\n",
    "\n",
    "Data['Score'].value_counts()"
   ]
  },
  {
   "cell_type": "markdown",
   "metadata": {},
   "source": [
    "## Information About DataSet"
   ]
  },
  {
   "cell_type": "code",
   "execution_count": 41,
   "metadata": {},
   "outputs": [
    {
     "name": "stdout",
     "output_type": "stream",
     "text": [
      "\n",
      "Number of Reviews:  364171\n",
      "\n",
      "Number of Users:  243414\n",
      "\n",
      "Number of Products:  65442\n",
      "\n",
      "Shape of Data:  (364171, 12)\n",
      "\n",
      "Column Name of DataSet :  Index(['index', 'Id', 'ProductId', 'UserId', 'ProfileName',\n",
      "       'HelpfulnessNumerator', 'HelpfulnessDenominator', 'Score', 'Time',\n",
      "       'Summary', 'Text', 'CleanedText'],\n",
      "      dtype='object')\n",
      "\n",
      "\n",
      "Number of Attributes/Columns in data: 12\n",
      "\n",
      "Number of Positive Reviews :  307061\n",
      "\n",
      "Number of Negative Reviews :  57110\n"
     ]
    }
   ],
   "source": [
    "print(\"\\nNumber of Reviews: \",Data[\"Text\"].count())\n",
    "print(\"\\nNumber of Users: \",len(Data[\"UserId\"].unique())) # Unique returns 1-D array of unique values of DataFrame.\n",
    "print(\"\\nNumber of Products: \",len(Data[\"ProductId\"].unique()))\n",
    "print(\"\\nShape of Data: \", Data.shape)\n",
    "print(\"\\nColumn Name of DataSet : \",Data.columns)\n",
    "print(\"\\n\\nNumber of Attributes/Columns in data: 12\") \n",
    "print(\"\\nNumber of Positive Reviews : \", Data['Score'].value_counts()[1])\n",
    "print(\"\\nNumber of Negative Reviews : \", Data['Score'].value_counts()[0])"
   ]
  },
  {
   "cell_type": "code",
   "execution_count": 42,
   "metadata": {},
   "outputs": [
    {
     "name": "stdout",
     "output_type": "stream",
     "text": [
      "\n",
      "Number of Reviews:  364171\n"
     ]
    }
   ],
   "source": [
    "print(\"\\nNumber of Reviews: \",Data[\"Text\"].count())"
   ]
  },
  {
   "cell_type": "markdown",
   "metadata": {},
   "source": [
    "## Attribute Information About DataSet"
   ]
  },
  {
   "cell_type": "markdown",
   "metadata": {},
   "source": [
    "1.Id - A unique value starts from 1\n",
    "\n",
    "\n",
    "\n",
    "2.ProductId - A unique identifier for the product\n",
    "\n",
    "\n",
    "\n",
    "3.UserId - A unqiue identifier for the user\n",
    "\n",
    "\n",
    "\n",
    "4.ProfileName - Name of user profile \n",
    "\n",
    "\n",
    "\n",
    "5.HelpfulnessNumerator - Number of users who found the review helpful\n",
    "\n",
    "\n",
    "\n",
    "6.HelpfulnessDenominator - Number of users who indicated whether they found the review helpful or not\n",
    "\n",
    "\n",
    "\n",
    "7.Score - Rating 0 or 1\n",
    "\n",
    "\n",
    "\n",
    "8.Time - Timestamp for the review\n",
    "\n",
    "\n",
    "\n",
    "9.Summary - Brief summary of the review\n",
    "\n",
    "\n",
    "\n",
    "10.Text - Text of the review\n",
    "\n",
    "\n",
    "\n",
    "11.Cleaned Text - Text that only alphabets"
   ]
  },
  {
   "cell_type": "code",
   "execution_count": 43,
   "metadata": {},
   "outputs": [],
   "source": [
    "# Sorting on the basis of Time Parameter\n",
    "Data.sort_values('Time',inplace=True)"
   ]
  },
  {
   "cell_type": "code",
   "execution_count": 44,
   "metadata": {},
   "outputs": [],
   "source": [
    "Data=Data.head(100000)"
   ]
  },
  {
   "cell_type": "code",
   "execution_count": 45,
   "metadata": {},
   "outputs": [],
   "source": [
    "Y = Data['Score']\n",
    "X = Data['CleanedText']"
   ]
  },
  {
   "cell_type": "markdown",
   "metadata": {},
   "source": [
    "## Splitting DataSet into Train and Test Data"
   ]
  },
  {
   "cell_type": "code",
   "execution_count": 46,
   "metadata": {},
   "outputs": [
    {
     "name": "stdout",
     "output_type": "stream",
     "text": [
      "Shape of Train and Test Dataset for 100k points\n",
      "(67000,) (67000,)\n",
      "(33000,) (33000,)\n"
     ]
    }
   ],
   "source": [
    "from sklearn.model_selection import train_test_split\n",
    "# X_train, X_test, y_train, y_test = train_test_split(X, Y, test_size=0.33, shuffle=Flase): this is for time series split\n",
    "X_train, X_test, Y_train, Y_test = train_test_split(X, Y, test_size=0.33,shuffle=False) # this is random splitting\n",
    "\n",
    "print(\"Shape of Train and Test Dataset for 100k points\")\n",
    "print(X_train.shape, Y_train.shape)\n",
    "print(X_test.shape, Y_test.shape)"
   ]
  },
  {
   "cell_type": "markdown",
   "metadata": {},
   "source": [
    "## Defining Some Function"
   ]
  },
  {
   "cell_type": "markdown",
   "metadata": {},
   "source": [
    "###  Train Data Confusion Matrix Plot"
   ]
  },
  {
   "cell_type": "code",
   "execution_count": 47,
   "metadata": {},
   "outputs": [],
   "source": [
    "def trainconfusionmatrix(model,X_train,y_train):\n",
    "    print(\"Confusion Matrix for Train set\")\n",
    "    cm=confusion_matrix(y_train, model.predict(X_train))\n",
    "    class_label = [\"negative\", \"positive\"]\n",
    "    df_cm = pd.DataFrame(cm, index = class_label, columns = class_label)\n",
    "    sns.heatmap(df_cm, annot = True, fmt = \"d\")\n",
    "    plt.title(\"Train Confusiion Matrix\")\n",
    "    plt.xlabel(\"Predicted Label\")\n",
    "    plt.ylabel(\"True Label\")\n",
    "    plt.show()"
   ]
  },
  {
   "cell_type": "markdown",
   "metadata": {},
   "source": [
    "### Test Data Confusion Matrix Plot"
   ]
  },
  {
   "cell_type": "code",
   "execution_count": 48,
   "metadata": {},
   "outputs": [],
   "source": [
    "def testconfusionmatrix(model,X_test,y_test):\n",
    "    print(\"Confusion Matrix for Test set\")\n",
    "    cm=confusion_matrix(y_test, model.predict(X_test))\n",
    "    class_label = [\"negative\", \"positive\"]\n",
    "    df_cm = pd.DataFrame(cm, index = class_label, columns = class_label)\n",
    "    sns.heatmap(df_cm, annot = True, fmt = \"d\")\n",
    "    plt.title(\"Test Confusiion Matrix\")\n",
    "    plt.xlabel(\"Predicted Label\")\n",
    "    plt.ylabel(\"True Label\")\n",
    "    plt.show()"
   ]
  },
  {
   "cell_type": "markdown",
   "metadata": {},
   "source": [
    "### ROC-AUC Curve "
   ]
  },
  {
   "cell_type": "code",
   "execution_count": 49,
   "metadata": {},
   "outputs": [],
   "source": [
    "def plot_auc_roc(model,X_train,X_test,y_train,y_test):\n",
    "    train_fpr, train_tpr, thresholds = roc_curve(y_train,model.predict_proba(X_train)[:,1])\n",
    "    test_fpr, test_tpr, thresholds = roc_curve(y_test,model.predict_proba(X_test)[:,1])\n",
    "\n",
    "    plt.plot(train_fpr, train_tpr, label=\"train AUC =\"+str(auc(train_fpr, train_tpr)))\n",
    "    plt.plot(test_fpr, test_tpr, label=\"test AUC =\"+str(auc(test_fpr, test_tpr)))\n",
    "    plt.legend()\n",
    "    plt.xlabel(\"Hyperameter (C)\")\n",
    "    plt.ylabel(\"AUC\")\n",
    "    plt.title(\"ROC CURVE PLOTS\")\n",
    "    plt.show()"
   ]
  },
  {
   "cell_type": "markdown",
   "metadata": {},
   "source": [
    "### Plot "
   ]
  },
  {
   "cell_type": "code",
   "execution_count": 50,
   "metadata": {},
   "outputs": [],
   "source": [
    "def plot(gsv):\n",
    "    res=gsv.cv_results_\n",
    "    cv_data=res['mean_test_score']\n",
    "    train_data=res['mean_train_score']\n",
    "    depth=[1, 1, 1, 1, 5, 5, 5, 5, 10, 10, 10, 10, 50, 50, 50, 50,\n",
    "                    100, 100, 100, 100, 500, 500, 500, 500, 1000, 1000,\n",
    "                    1000, 1000]     \n",
    "    \n",
    "   \n",
    "    plt.xlabel(\"Hyperparameter (Max_Depth)\",fontsize=15)\n",
    "    plt.ylabel(\"Mean_Score\",fontsize=15)\n",
    "    plt.title('Mean Score v/s Max_Depth',fontsize=15)\n",
    "    plt.plot(depth,cv_data,label=\"Cross-Validation\")\n",
    "    plt.plot(depth,train_data,label=\"Train\")\n",
    "    plt.legend()\n",
    "    plt.show()"
   ]
  },
  {
   "cell_type": "markdown",
   "metadata": {},
   "source": [
    "### GridSearchCV"
   ]
  },
  {
   "cell_type": "code",
   "execution_count": 51,
   "metadata": {},
   "outputs": [],
   "source": [
    "def Grid_SearchCV(X_train,Y_train):\n",
    "    \n",
    "    param_grid= {'max_depth':[1,5,10,50,100,500,1000],\n",
    "                  'min_samples_split':[5,10,100,500]\n",
    "                } \n",
    "    tscv = TimeSeriesSplit(n_splits=10)\n",
    "    clf = DecisionTreeClassifier(class_weight='balanced')\n",
    "    gsv=GridSearchCV(clf,param_grid, scoring = 'roc_auc', cv=tscv,n_jobs=-1,pre_dispatch=2)\n",
    "    gsv.fit(X_train,Y_train)\n",
    "    \n",
    "    return gsv"
   ]
  },
  {
   "cell_type": "markdown",
   "metadata": {},
   "source": [
    "### 30 Informative Feature"
   ]
  },
  {
   "cell_type": "code",
   "execution_count": 52,
   "metadata": {},
   "outputs": [],
   "source": [
    " def show_30_informative_feature(vectorizer,model,n=30):\n",
    "        \n",
    "        \n",
    "    Weights_Index = model.feature_importances_.argsort()\n",
    "    length = len(Weights_Index)\n",
    "    # For Negative Class\n",
    "    neg_class=Weights_Index[:n]\n",
    "    \n",
    "    neg_feat=[vectorizer.get_feature_names()[x] for x in neg_class]\n",
    "    neg_prob=[Weights_Index[x] for x in neg_class]\n",
    "    \n",
    "    neg_zip=list(zip(neg_feat,neg_prob))\n",
    "    neg_zip.sort()\n",
    "    \n",
    "    # For Positive Class \n",
    "    pos_class =  Weights_Index[-30:]\n",
    "    \n",
    "    pos_feat=[vectorizer.get_feature_names()[x] for x in pos_class]\n",
    "    pos_prob=[Weights_Index[x] for x in pos_class]\n",
    "    pos_zip=list(zip(pos_feat,pos_prob))\n",
    "    pos_zip.sort()\n",
    "    \n",
    "    top=zip(pos_zip,neg_zip)\n",
    "    \n",
    "    print(\"{0:20}{1:55}{2:20}\".format(\"S.N\",\"Positive\",\"Negative\"))\n",
    "    print(\"_\"*90)\n",
    "    i=1\n",
    "    for (fn_1,coef_1), (fn_2,coef_2) in top:\n",
    "        print(\"%d.\\t\\t%.3f\\t%-30s\\t\\t%.3f\\t%s\" % (i,coef_1, fn_1, coef_2, fn_2))\n",
    "        i+=1\n",
    "    \n",
    "    "
   ]
  },
  {
   "cell_type": "markdown",
   "metadata": {},
   "source": [
    "## Bags of Words Vectorizer"
   ]
  },
  {
   "cell_type": "code",
   "execution_count": 17,
   "metadata": {},
   "outputs": [
    {
     "name": "stdout",
     "output_type": "stream",
     "text": [
      "Shape of Train and Test Data After vectorizations\n",
      "(67000, 30737) (67000,)\n",
      "(33000, 30737) (33000,)\n"
     ]
    }
   ],
   "source": [
    "vectorizer = CountVectorizer()\n",
    "vectorizer.fit(X_train) # fit has to happen only on train data\n",
    "\n",
    "# we use the fitted CountVectorizer to convert the text to vector\n",
    "X_train_bow = vectorizer.transform(X_train)\n",
    "X_train_bow=preprocessing.normalize(X_train_bow)\n",
    "\n",
    "X_test_bow = vectorizer.transform(X_test)\n",
    "X_test_bow=preprocessing.normalize(X_test_bow)\n",
    "\n",
    "print(\"Shape of Train and Test Data After vectorizations\")\n",
    "print(X_train_bow.shape, Y_train.shape)\n",
    "print(X_test_bow.shape, Y_test.shape)"
   ]
  },
  {
   "cell_type": "markdown",
   "metadata": {},
   "source": [
    "### Finding the best value Of hyperparameter (Alpha)"
   ]
  },
  {
   "cell_type": "code",
   "execution_count": 18,
   "metadata": {},
   "outputs": [
    {
     "name": "stdout",
     "output_type": "stream",
     "text": [
      "Best HyperParameter:  {'max_depth': 50, 'min_samples_split': 500}\n",
      "Best Accuracy: 77.10%\n"
     ]
    }
   ],
   "source": [
    "gsv=Grid_SearchCV(X_train_bow,Y_train)\n",
    "\n",
    "print(\"Best HyperParameter: \",gsv.best_params_)\n",
    "print(\"Best Accuracy: %.2f%%\"%(gsv.best_score_*100))"
   ]
  },
  {
   "cell_type": "markdown",
   "metadata": {},
   "source": [
    "### Plot"
   ]
  },
  {
   "cell_type": "code",
   "execution_count": 19,
   "metadata": {},
   "outputs": [
    {
     "data": {
      "image/png": "[encoded data removed]",
      "text/plain": [
       "<Figure size 432x288 with 1 Axes>"
      ]
     },
     "metadata": {
      "needs_background": "light"
     },
     "output_type": "display_data"
    }
   ],
   "source": [
    "plot(gsv)"
   ]
  },
  {
   "cell_type": "markdown",
   "metadata": {},
   "source": [
    "### Training the model"
   ]
  },
  {
   "cell_type": "code",
   "execution_count": 60,
   "metadata": {},
   "outputs": [
    {
     "data": {
      "text/plain": [
       "DecisionTreeClassifier(class_weight='balanced', criterion='gini',\n",
       "            max_depth=10, max_features=None, max_leaf_nodes=None,\n",
       "            min_impurity_decrease=0.0, min_impurity_split=None,\n",
       "            min_samples_leaf=1, min_samples_split=500,\n",
       "            min_weight_fraction_leaf=0.0, presort=False, random_state=None,\n",
       "            splitter='best')"
      ]
     },
     "execution_count": 60,
     "metadata": {},
     "output_type": "execute_result"
    }
   ],
   "source": [
    "Best_Param=gsv.best_params_\n",
    "depth=Best_Param['max_depth']\n",
    "min_sample_split = Best_Param['min_samples_split']\n",
    "\n",
    "Model_Bow=DecisionTreeClassifier(max_depth=depth,min_samples_split=min_sample_split,class_weight=\"balanced\")\n",
    "Model_Bow.fit(X_train_bow,Y_train)"
   ]
  },
  {
   "cell_type": "code",
   "execution_count": 44,
   "metadata": {},
   "outputs": [
    {
     "data": {
      "text/plain": [
       "['BOW_Model.pkl']"
      ]
     },
     "execution_count": 44,
     "metadata": {},
     "output_type": "execute_result"
    }
   ],
   "source": [
    "from sklearn.externals import joblib \n",
    "joblib.dump(Model_Bow,\"BOW_Model.pkl\")"
   ]
  },
  {
   "cell_type": "code",
   "execution_count": 18,
   "metadata": {},
   "outputs": [],
   "source": [
    "from sklearn.externals import joblib\n",
    "Model_Bow=joblib.load(\"BOW_Model.pkl\")"
   ]
  },
  {
   "cell_type": "markdown",
   "metadata": {},
   "source": [
    "### Evaluating the performance of model"
   ]
  },
  {
   "cell_type": "code",
   "execution_count": 19,
   "metadata": {},
   "outputs": [
    {
     "name": "stdout",
     "output_type": "stream",
     "text": [
      "Confusion Matrix for Train set\n"
     ]
    },
    {
     "data": {
      "image/png": "[encoded data removed]",
      "text/plain": [
       "<Figure size 432x288 with 2 Axes>"
      ]
     },
     "metadata": {
      "needs_background": "light"
     },
     "output_type": "display_data"
    }
   ],
   "source": [
    "trainconfusionmatrix(Model_Bow,X_train_bow,Y_train)"
   ]
  },
  {
   "cell_type": "code",
   "execution_count": 20,
   "metadata": {},
   "outputs": [
    {
     "name": "stdout",
     "output_type": "stream",
     "text": [
      "Confusion Matrix for Test set\n"
     ]
    },
    {
     "data": {
      "image/png": "[encoded data removed]",
      "text/plain": [
       "<Figure size 432x288 with 2 Axes>"
      ]
     },
     "metadata": {
      "needs_background": "light"
     },
     "output_type": "display_data"
    }
   ],
   "source": [
    "testconfusionmatrix(Model_Bow,X_test_bow,Y_test)"
   ]
  },
  {
   "cell_type": "code",
   "execution_count": 21,
   "metadata": {},
   "outputs": [
    {
     "data": {
      "image/png": "[encoded data removed]",
      "text/plain": [
       "<Figure size 432x288 with 1 Axes>"
      ]
     },
     "metadata": {
      "needs_background": "light"
     },
     "output_type": "display_data"
    }
   ],
   "source": [
    "plot_auc_roc_L(Model_Bow,X_train_bow,X_test_bow,Y_train,Y_test)"
   ]
  },
  {
   "cell_type": "code",
   "execution_count": 24,
   "metadata": {},
   "outputs": [
    {
     "name": "stdout",
     "output_type": "stream",
     "text": [
      "Classification Report: \n",
      "\n",
      "              precision    recall  f1-score   support\n",
      "\n",
      "           0       0.31      0.72      0.43      4478\n",
      "           1       0.94      0.75      0.83     28522\n",
      "\n",
      "   micro avg       0.74      0.74      0.74     33000\n",
      "   macro avg       0.63      0.73      0.63     33000\n",
      "weighted avg       0.86      0.74      0.78     33000\n",
      "\n"
     ]
    }
   ],
   "source": [
    "print(\"Classification Report: \\n\")\n",
    "y_pred=Model_Bow.predict(X_test_bow)\n",
    "\n",
    "print(classification_report(Y_test, y_pred))\n"
   ]
  },
  {
   "cell_type": "markdown",
   "metadata": {},
   "source": [
    "### Displaying 30 most informative features"
   ]
  },
  {
   "cell_type": "code",
   "execution_count": 31,
   "metadata": {},
   "outputs": [
    {
     "name": "stdout",
     "output_type": "stream",
     "text": [
      "S.N                 Positive                                               Negative            \n",
      "__________________________________________________________________________________________\n",
      "1.\t\t19621.000\taw                            \t\t0.000\taaa\n",
      "2.\t\t19612.000\taway                          \t\t190.000\tpkgs\n",
      "3.\t\t19738.000\tbad                           \t\t189.000\tpkirk\n",
      "4.\t\t22766.000\tbest                          \t\t188.000\tpks\n",
      "5.\t\t17382.000\tdelici                        \t\t187.000\tpkt\n",
      "6.\t\t17892.000\tdisappoint                    \t\t186.000\tpkts\n",
      "7.\t\t28778.000\teasi                          \t\t185.000\tpku\n",
      "8.\t\t27298.000\tenjoy                         \t\t184.000\tpkwi\n",
      "9.\t\t27608.000\texcel                         \t\t183.000\tpla\n",
      "10.\t\t30096.000\tfavorit                       \t\t182.000\tplacat\n",
      "11.\t\t30171.000\tfind                          \t\t181.000\tplace\n",
      "12.\t\t29401.000\tgood                          \t\t180.000\tplacebo\n",
      "13.\t\t24408.000\tgreat                         \t\t205.000\tplacement\n",
      "14.\t\t23137.000\thowev                         \t\t206.000\tplacer\n",
      "15.\t\t25386.000\tkeep                          \t\t207.000\tplack\n",
      "16.\t\t5666.000\tlove                          \t\t208.000\tplactic\n",
      "17.\t\t3968.000\tmayb                          \t\t234.000\tplaesant\n",
      "18.\t\t7149.000\tmoney                         \t\t233.000\tplagu\n",
      "19.\t\t6104.000\tnice                          \t\t232.000\tplain\n",
      "20.\t\t1629.000\tperfect                       \t\t231.000\tplainer\n",
      "21.\t\t3267.000\tproduct                       \t\t230.000\tplak\n",
      "22.\t\t13943.000\ttast                          \t\t229.000\tplan\n",
      "23.\t\t13929.000\ttasti                         \t\t228.000\tplancha\n",
      "24.\t\t9132.000\tterribl                       \t\t227.000\tplanck\n",
      "25.\t\t8873.000\tthought                       \t\t226.000\tplane\n",
      "26.\t\t8297.000\tunfortun                      \t\t225.000\tplanet\n",
      "27.\t\t10892.000\tuse                           \t\t224.000\tplanetari\n",
      "28.\t\t10306.000\twonder                        \t\t223.000\tplanett\n",
      "29.\t\t10371.000\tworst                         \t\t179.000\tplanetwond\n",
      "30.\t\t10169.000\twould                         \t\t222.000\tplank\n"
     ]
    }
   ],
   "source": [
    "show_30_informative_feature(vectorizer,Model_Bow)"
   ]
  },
  {
   "cell_type": "code",
   "execution_count": 25,
   "metadata": {},
   "outputs": [
    {
     "data": {
      "image/svg+xml": [
       "<?xml version=\"1.0\" encoding=\"UTF-8\" standalone=\"no\"?>\r\n",
       "<!DOCTYPE svg PUBLIC \"-//W3C//DTD SVG 1.1//EN\"\r\n",
       " \"http://www.w3.org/Graphics/SVG/1.1/DTD/svg11.dtd\">\r\n",
       "<!-- Generated by graphviz version 2.38.0 (20140413.2041)\r\n",
       " -->\r\n",
       "<!-- Title: Tree Pages: 1 -->\r\n",
       "<svg width=\"1894pt\" height=\"668pt\"\r\n",
       " viewBox=\"0.00 0.00 1893.50 668.00\" xmlns=\"http://www.w3.org/2000/svg\" xmlns:xlink=\"http://www.w3.org/1999/xlink\">\r\n",
       "<g id=\"graph0\" class=\"graph\" transform=\"scale(1 1) rotate(0) translate(4 664)\">\r\n",
       "<title>Tree</title>\r\n",
       "<polygon fill=\"white\" stroke=\"none\" points=\"-4,4 -4,-664 1889.5,-664 1889.5,4 -4,4\"/>\r\n",
       "<!-- 0 -->\r\n",
       "<g id=\"node1\" class=\"node\"><title>0</title>\r\n",
       "<polygon fill=\"none\" stroke=\"black\" points=\"1548.5,-660 1382.5,-660 1382.5,-592 1548.5,-592 1548.5,-660\"/>\r\n",
       "<text text-anchor=\"middle\" x=\"1465.5\" y=\"-644.8\" font-family=\"Times New Roman,serif\" font-size=\"14.00\">great &lt;= 0.113</text>\r\n",
       "<text text-anchor=\"middle\" x=\"1465.5\" y=\"-629.8\" font-family=\"Times New Roman,serif\" font-size=\"14.00\">gini = 0.5</text>\r\n",
       "<text text-anchor=\"middle\" x=\"1465.5\" y=\"-614.8\" font-family=\"Times New Roman,serif\" font-size=\"14.00\">samples = 67000</text>\r\n",
       "<text text-anchor=\"middle\" x=\"1465.5\" y=\"-599.8\" font-family=\"Times New Roman,serif\" font-size=\"14.00\">value = [33500.0, 33500.0]</text>\r\n",
       "</g>\r\n",
       "<!-- 1 -->\r\n",
       "<g id=\"node2\" class=\"node\"><title>1</title>\r\n",
       "<polygon fill=\"#e58139\" fill-opacity=\"0.184314\" stroke=\"black\" points=\"1417,-556 1224,-556 1224,-488 1417,-488 1417,-556\"/>\r\n",
       "<text text-anchor=\"middle\" x=\"1320.5\" y=\"-540.8\" font-family=\"Times New Roman,serif\" font-size=\"14.00\">best &lt;= 0.05</text>\r\n",
       "<text text-anchor=\"middle\" x=\"1320.5\" y=\"-525.8\" font-family=\"Times New Roman,serif\" font-size=\"14.00\">gini = 0.495</text>\r\n",
       "<text text-anchor=\"middle\" x=\"1320.5\" y=\"-510.8\" font-family=\"Times New Roman,serif\" font-size=\"14.00\">samples = 52631</text>\r\n",
       "<text text-anchor=\"middle\" x=\"1320.5\" y=\"-495.8\" font-family=\"Times New Roman,serif\" font-size=\"14.00\">value = [31372.129, 25649.932]</text>\r\n",
       "</g>\r\n",
       "<!-- 0&#45;&gt;1 -->\r\n",
       "<g id=\"edge1\" class=\"edge\"><title>0&#45;&gt;1</title>\r\n",
       "<path fill=\"none\" stroke=\"black\" d=\"M1418.42,-591.884C1405,-582.442 1390.25,-572.064 1376.36,-562.292\"/>\r\n",
       "<polygon fill=\"black\" stroke=\"black\" points=\"1378.03,-559.19 1367.84,-556.299 1374,-564.916 1378.03,-559.19\"/>\r\n",
       "<text text-anchor=\"middle\" x=\"1372.13\" y=\"-577.229\" font-family=\"Times New Roman,serif\" font-size=\"14.00\">True</text>\r\n",
       "</g>\r\n",
       "<!-- 1208 -->\r\n",
       "<g id=\"node37\" class=\"node\"><title>1208</title>\r\n",
       "<polygon fill=\"#399de5\" fill-opacity=\"0.729412\" stroke=\"black\" points=\"1701,-556 1522,-556 1522,-488 1701,-488 1701,-556\"/>\r\n",
       "<text text-anchor=\"middle\" x=\"1611.5\" y=\"-540.8\" font-family=\"Times New Roman,serif\" font-size=\"14.00\">disappoint &lt;= 0.067</text>\r\n",
       "<text text-anchor=\"middle\" x=\"1611.5\" y=\"-525.8\" font-family=\"Times New Roman,serif\" font-size=\"14.00\">gini = 0.336</text>\r\n",
       "<text text-anchor=\"middle\" x=\"1611.5\" y=\"-510.8\" font-family=\"Times New Roman,serif\" font-size=\"14.00\">samples = 14369</text>\r\n",
       "<text text-anchor=\"middle\" x=\"1611.5\" y=\"-495.8\" font-family=\"Times New Roman,serif\" font-size=\"14.00\">value = [2127.871, 7850.068]</text>\r\n",
       "</g>\r\n",
       "<!-- 0&#45;&gt;1208 -->\r\n",
       "<g id=\"edge36\" class=\"edge\"><title>0&#45;&gt;1208</title>\r\n",
       "<path fill=\"none\" stroke=\"black\" d=\"M1512.9,-591.884C1526.42,-582.442 1541.27,-572.064 1555.26,-562.292\"/>\r\n",
       "<polygon fill=\"black\" stroke=\"black\" points=\"1557.64,-564.896 1563.84,-556.299 1553.63,-559.157 1557.64,-564.896\"/>\r\n",
       "<text text-anchor=\"middle\" x=\"1559.47\" y=\"-577.215\" font-family=\"Times New Roman,serif\" font-size=\"14.00\">False</text>\r\n",
       "</g>\r\n",
       "<!-- 2 -->\r\n",
       "<g id=\"node3\" class=\"node\"><title>2</title>\r\n",
       "<polygon fill=\"#e58139\" fill-opacity=\"0.282353\" stroke=\"black\" points=\"1044,-452 851,-452 851,-384 1044,-384 1044,-452\"/>\r\n",
       "<text text-anchor=\"middle\" x=\"947.5\" y=\"-436.8\" font-family=\"Times New Roman,serif\" font-size=\"14.00\">love &lt;= 0.135</text>\r\n",
       "<text text-anchor=\"middle\" x=\"947.5\" y=\"-421.8\" font-family=\"Times New Roman,serif\" font-size=\"14.00\">gini = 0.486</text>\r\n",
       "<text text-anchor=\"middle\" x=\"947.5\" y=\"-406.8\" font-family=\"Times New Roman,serif\" font-size=\"14.00\">samples = 45148</text>\r\n",
       "<text text-anchor=\"middle\" x=\"947.5\" y=\"-391.8\" font-family=\"Times New Roman,serif\" font-size=\"14.00\">value = [30108.302, 21582.313]</text>\r\n",
       "</g>\r\n",
       "<!-- 1&#45;&gt;2 -->\r\n",
       "<g id=\"edge2\" class=\"edge\"><title>1&#45;&gt;2</title>\r\n",
       "<path fill=\"none\" stroke=\"black\" d=\"M1223.96,-494.6C1171.94,-480.374 1107.64,-462.791 1054.14,-448.162\"/>\r\n",
       "<polygon fill=\"black\" stroke=\"black\" points=\"1054.85,-444.728 1044.28,-445.467 1053.01,-451.48 1054.85,-444.728\"/>\r\n",
       "</g>\r\n",
       "<!-- 1059 -->\r\n",
       "<g id=\"node28\" class=\"node\"><title>1059</title>\r\n",
       "<polygon fill=\"#399de5\" fill-opacity=\"0.690196\" stroke=\"black\" points=\"1410,-452 1231,-452 1231,-384 1410,-384 1410,-452\"/>\r\n",
       "<text text-anchor=\"middle\" x=\"1320.5\" y=\"-436.8\" font-family=\"Times New Roman,serif\" font-size=\"14.00\">disappoint &lt;= 0.037</text>\r\n",
       "<text text-anchor=\"middle\" x=\"1320.5\" y=\"-421.8\" font-family=\"Times New Roman,serif\" font-size=\"14.00\">gini = 0.362</text>\r\n",
       "<text text-anchor=\"middle\" x=\"1320.5\" y=\"-406.8\" font-family=\"Times New Roman,serif\" font-size=\"14.00\">samples = 7483</text>\r\n",
       "<text text-anchor=\"middle\" x=\"1320.5\" y=\"-391.8\" font-family=\"Times New Roman,serif\" font-size=\"14.00\">value = [1263.827, 4067.619]</text>\r\n",
       "</g>\r\n",
       "<!-- 1&#45;&gt;1059 -->\r\n",
       "<g id=\"edge27\" class=\"edge\"><title>1&#45;&gt;1059</title>\r\n",
       "<path fill=\"none\" stroke=\"black\" d=\"M1320.5,-487.884C1320.5,-479.778 1320.5,-470.982 1320.5,-462.472\"/>\r\n",
       "<polygon fill=\"black\" stroke=\"black\" points=\"1324,-462.299 1320.5,-452.299 1317,-462.299 1324,-462.299\"/>\r\n",
       "</g>\r\n",
       "<!-- 3 -->\r\n",
       "<g id=\"node4\" class=\"node\"><title>3</title>\r\n",
       "<polygon fill=\"#e58139\" fill-opacity=\"0.384314\" stroke=\"black\" points=\"675,-348 482,-348 482,-280 675,-280 675,-348\"/>\r\n",
       "<text text-anchor=\"middle\" x=\"578.5\" y=\"-332.8\" font-family=\"Times New Roman,serif\" font-size=\"14.00\">delici &lt;= 0.025</text>\r\n",
       "<text text-anchor=\"middle\" x=\"578.5\" y=\"-317.8\" font-family=\"Times New Roman,serif\" font-size=\"14.00\">gini = 0.472</text>\r\n",
       "<text text-anchor=\"middle\" x=\"578.5\" y=\"-302.8\" font-family=\"Times New Roman,serif\" font-size=\"14.00\">samples = 36968</text>\r\n",
       "<text text-anchor=\"middle\" x=\"578.5\" y=\"-287.8\" font-family=\"Times New Roman,serif\" font-size=\"14.00\">value = [27946.041, 17238.578]</text>\r\n",
       "</g>\r\n",
       "<!-- 2&#45;&gt;3 -->\r\n",
       "<g id=\"edge3\" class=\"edge\"><title>2&#45;&gt;3</title>\r\n",
       "<path fill=\"none\" stroke=\"black\" d=\"M850.55,-390.201C799.697,-376.144 737.292,-358.894 685.084,-344.462\"/>\r\n",
       "<polygon fill=\"black\" stroke=\"black\" points=\"685.694,-341 675.123,-341.709 683.829,-347.747 685.694,-341\"/>\r\n",
       "</g>\r\n",
       "<!-- 902 -->\r\n",
       "<g id=\"node19\" class=\"node\"><title>902</title>\r\n",
       "<polygon fill=\"#399de5\" fill-opacity=\"0.501961\" stroke=\"black\" points=\"1037,-348 858,-348 858,-280 1037,-280 1037,-348\"/>\r\n",
       "<text text-anchor=\"middle\" x=\"947.5\" y=\"-332.8\" font-family=\"Times New Roman,serif\" font-size=\"14.00\">disappoint &lt;= 0.072</text>\r\n",
       "<text text-anchor=\"middle\" x=\"947.5\" y=\"-317.8\" font-family=\"Times New Roman,serif\" font-size=\"14.00\">gini = 0.444</text>\r\n",
       "<text text-anchor=\"middle\" x=\"947.5\" y=\"-302.8\" font-family=\"Times New Roman,serif\" font-size=\"14.00\">samples = 8180</text>\r\n",
       "<text text-anchor=\"middle\" x=\"947.5\" y=\"-287.8\" font-family=\"Times New Roman,serif\" font-size=\"14.00\">value = [2162.261, 4343.735]</text>\r\n",
       "</g>\r\n",
       "<!-- 2&#45;&gt;902 -->\r\n",
       "<g id=\"edge18\" class=\"edge\"><title>2&#45;&gt;902</title>\r\n",
       "<path fill=\"none\" stroke=\"black\" d=\"M947.5,-383.884C947.5,-375.778 947.5,-366.982 947.5,-358.472\"/>\r\n",
       "<polygon fill=\"black\" stroke=\"black\" points=\"951,-358.299 947.5,-348.299 944,-358.299 951,-358.299\"/>\r\n",
       "</g>\r\n",
       "<!-- 4 -->\r\n",
       "<g id=\"node5\" class=\"node\"><title>4</title>\r\n",
       "<polygon fill=\"#e58139\" fill-opacity=\"0.435294\" stroke=\"black\" points=\"391,-244 198,-244 198,-176 391,-176 391,-244\"/>\r\n",
       "<text text-anchor=\"middle\" x=\"294.5\" y=\"-228.8\" font-family=\"Times New Roman,serif\" font-size=\"14.00\">disappoint &lt;= 0.053</text>\r\n",
       "<text text-anchor=\"middle\" x=\"294.5\" y=\"-213.8\" font-family=\"Times New Roman,serif\" font-size=\"14.00\">gini = 0.461</text>\r\n",
       "<text text-anchor=\"middle\" x=\"294.5\" y=\"-198.8\" font-family=\"Times New Roman,serif\" font-size=\"14.00\">samples = 33838</text>\r\n",
       "<text text-anchor=\"middle\" x=\"294.5\" y=\"-183.8\" font-family=\"Times New Roman,serif\" font-size=\"14.00\">value = [27494.675, 15526.998]</text>\r\n",
       "</g>\r\n",
       "<!-- 3&#45;&gt;4 -->\r\n",
       "<g id=\"edge4\" class=\"edge\"><title>3&#45;&gt;4</title>\r\n",
       "<path fill=\"none\" stroke=\"black\" d=\"M486.293,-279.884C457.502,-269.543 425.584,-258.079 396.181,-247.519\"/>\r\n",
       "<polygon fill=\"black\" stroke=\"black\" points=\"397.324,-244.211 386.73,-244.125 394.958,-250.799 397.324,-244.211\"/>\r\n",
       "</g>\r\n",
       "<!-- 853 -->\r\n",
       "<g id=\"node12\" class=\"node\"><title>853</title>\r\n",
       "<polygon fill=\"#399de5\" fill-opacity=\"0.737255\" stroke=\"black\" points=\"661.5,-244 495.5,-244 495.5,-176 661.5,-176 661.5,-244\"/>\r\n",
       "<text text-anchor=\"middle\" x=\"578.5\" y=\"-228.8\" font-family=\"Times New Roman,serif\" font-size=\"14.00\">product &lt;= 0.076</text>\r\n",
       "<text text-anchor=\"middle\" x=\"578.5\" y=\"-213.8\" font-family=\"Times New Roman,serif\" font-size=\"14.00\">gini = 0.33</text>\r\n",
       "<text text-anchor=\"middle\" x=\"578.5\" y=\"-198.8\" font-family=\"Times New Roman,serif\" font-size=\"14.00\">samples = 3130</text>\r\n",
       "<text text-anchor=\"middle\" x=\"578.5\" y=\"-183.8\" font-family=\"Times New Roman,serif\" font-size=\"14.00\">value = [451.367, 1711.58]</text>\r\n",
       "</g>\r\n",
       "<!-- 3&#45;&gt;853 -->\r\n",
       "<g id=\"edge11\" class=\"edge\"><title>3&#45;&gt;853</title>\r\n",
       "<path fill=\"none\" stroke=\"black\" d=\"M578.5,-279.884C578.5,-271.778 578.5,-262.982 578.5,-254.472\"/>\r\n",
       "<polygon fill=\"black\" stroke=\"black\" points=\"582,-254.299 578.5,-244.299 575,-254.299 582,-254.299\"/>\r\n",
       "</g>\r\n",
       "<!-- 5 -->\r\n",
       "<g id=\"node6\" class=\"node\"><title>5</title>\r\n",
       "<polygon fill=\"#e58139\" fill-opacity=\"0.380392\" stroke=\"black\" points=\"193,-140 0,-140 0,-72 193,-72 193,-140\"/>\r\n",
       "<text text-anchor=\"middle\" x=\"96.5\" y=\"-124.8\" font-family=\"Times New Roman,serif\" font-size=\"14.00\">perfect &lt;= 0.035</text>\r\n",
       "<text text-anchor=\"middle\" x=\"96.5\" y=\"-109.8\" font-family=\"Times New Roman,serif\" font-size=\"14.00\">gini = 0.472</text>\r\n",
       "<text text-anchor=\"middle\" x=\"96.5\" y=\"-94.8\" font-family=\"Times New Roman,serif\" font-size=\"14.00\">samples = 32666</text>\r\n",
       "<text text-anchor=\"middle\" x=\"96.5\" y=\"-79.8\" font-family=\"Times New Roman,serif\" font-size=\"14.00\">value = [24618.825, 15242.395]</text>\r\n",
       "</g>\r\n",
       "<!-- 4&#45;&gt;5 -->\r\n",
       "<g id=\"edge5\" class=\"edge\"><title>4&#45;&gt;5</title>\r\n",
       "<path fill=\"none\" stroke=\"black\" d=\"M230.215,-175.884C210.924,-165.946 189.62,-154.971 169.794,-144.757\"/>\r\n",
       "<polygon fill=\"black\" stroke=\"black\" points=\"171.294,-141.593 160.801,-140.125 168.088,-147.816 171.294,-141.593\"/>\r\n",
       "</g>\r\n",
       "<!-- 762 -->\r\n",
       "<g id=\"node9\" class=\"node\"><title>762</title>\r\n",
       "<polygon fill=\"#e58139\" fill-opacity=\"0.901961\" stroke=\"black\" points=\"377.5,-140 211.5,-140 211.5,-72 377.5,-72 377.5,-140\"/>\r\n",
       "<text text-anchor=\"middle\" x=\"294.5\" y=\"-124.8\" font-family=\"Times New Roman,serif\" font-size=\"14.00\">wont &lt;= 0.054</text>\r\n",
       "<text text-anchor=\"middle\" x=\"294.5\" y=\"-109.8\" font-family=\"Times New Roman,serif\" font-size=\"14.00\">gini = 0.164</text>\r\n",
       "<text text-anchor=\"middle\" x=\"294.5\" y=\"-94.8\" font-family=\"Times New Roman,serif\" font-size=\"14.00\">samples = 1172</text>\r\n",
       "<text text-anchor=\"middle\" x=\"294.5\" y=\"-79.8\" font-family=\"Times New Roman,serif\" font-size=\"14.00\">value = [2875.85, 284.603]</text>\r\n",
       "</g>\r\n",
       "<!-- 4&#45;&gt;762 -->\r\n",
       "<g id=\"edge8\" class=\"edge\"><title>4&#45;&gt;762</title>\r\n",
       "<path fill=\"none\" stroke=\"black\" d=\"M294.5,-175.884C294.5,-167.778 294.5,-158.982 294.5,-150.472\"/>\r\n",
       "<polygon fill=\"black\" stroke=\"black\" points=\"298,-150.299 294.5,-140.299 291,-150.299 298,-150.299\"/>\r\n",
       "</g>\r\n",
       "<!-- 6 -->\r\n",
       "<g id=\"node7\" class=\"node\"><title>6</title>\r\n",
       "<polygon fill=\"#c0c0c0\" stroke=\"black\" points=\"108.5,-36 54.5,-36 54.5,-0 108.5,-0 108.5,-36\"/>\r\n",
       "<text text-anchor=\"middle\" x=\"81.5\" y=\"-14.3\" font-family=\"Times New Roman,serif\" font-size=\"14.00\">(...)</text>\r\n",
       "</g>\r\n",
       "<!-- 5&#45;&gt;6 -->\r\n",
       "<g id=\"edge6\" class=\"edge\"><title>5&#45;&gt;6</title>\r\n",
       "<path fill=\"none\" stroke=\"black\" d=\"M90.7435,-71.9961C89.2729,-63.5646 87.7076,-54.5902 86.2912,-46.4696\"/>\r\n",
       "<polygon fill=\"black\" stroke=\"black\" points=\"89.7017,-45.6532 84.5355,-36.4034 82.8059,-46.8561 89.7017,-45.6532\"/>\r\n",
       "</g>\r\n",
       "<!-- 723 -->\r\n",
       "<g id=\"node8\" class=\"node\"><title>723</title>\r\n",
       "<polygon fill=\"#c0c0c0\" stroke=\"black\" points=\"180.5,-36 126.5,-36 126.5,-0 180.5,-0 180.5,-36\"/>\r\n",
       "<text text-anchor=\"middle\" x=\"153.5\" y=\"-14.3\" font-family=\"Times New Roman,serif\" font-size=\"14.00\">(...)</text>\r\n",
       "</g>\r\n",
       "<!-- 5&#45;&gt;723 -->\r\n",
       "<g id=\"edge7\" class=\"edge\"><title>5&#45;&gt;723</title>\r\n",
       "<path fill=\"none\" stroke=\"black\" d=\"M118.375,-71.9961C124.34,-62.9962 130.715,-53.3778 136.374,-44.8393\"/>\r\n",
       "<polygon fill=\"black\" stroke=\"black\" points=\"139.358,-46.6724 141.965,-36.4034 133.523,-42.8052 139.358,-46.6724\"/>\r\n",
       "</g>\r\n",
       "<!-- 763 -->\r\n",
       "<g id=\"node10\" class=\"node\"><title>763</title>\r\n",
       "<polygon fill=\"#c0c0c0\" stroke=\"black\" points=\"265.5,-36 211.5,-36 211.5,-0 265.5,-0 265.5,-36\"/>\r\n",
       "<text text-anchor=\"middle\" x=\"238.5\" y=\"-14.3\" font-family=\"Times New Roman,serif\" font-size=\"14.00\">(...)</text>\r\n",
       "</g>\r\n",
       "<!-- 762&#45;&gt;763 -->\r\n",
       "<g id=\"edge9\" class=\"edge\"><title>762&#45;&gt;763</title>\r\n",
       "<path fill=\"none\" stroke=\"black\" d=\"M273.009,-71.9961C267.149,-62.9962 260.886,-53.3778 255.326,-44.8393\"/>\r\n",
       "<polygon fill=\"black\" stroke=\"black\" points=\"258.222,-42.8735 249.832,-36.4034 252.356,-46.6933 258.222,-42.8735\"/>\r\n",
       "</g>\r\n",
       "<!-- 852 -->\r\n",
       "<g id=\"node11\" class=\"node\"><title>852</title>\r\n",
       "<polygon fill=\"#c0c0c0\" stroke=\"black\" points=\"337.5,-36 283.5,-36 283.5,-0 337.5,-0 337.5,-36\"/>\r\n",
       "<text text-anchor=\"middle\" x=\"310.5\" y=\"-14.3\" font-family=\"Times New Roman,serif\" font-size=\"14.00\">(...)</text>\r\n",
       "</g>\r\n",
       "<!-- 762&#45;&gt;852 -->\r\n",
       "<g id=\"edge10\" class=\"edge\"><title>762&#45;&gt;852</title>\r\n",
       "<path fill=\"none\" stroke=\"black\" d=\"M300.64,-71.9961C302.209,-63.5646 303.879,-54.5902 305.389,-46.4696\"/>\r\n",
       "<polygon fill=\"black\" stroke=\"black\" points=\"308.874,-46.8749 307.262,-36.4034 301.992,-45.5945 308.874,-46.8749\"/>\r\n",
       "</g>\r\n",
       "<!-- 854 -->\r\n",
       "<g id=\"node13\" class=\"node\"><title>854</title>\r\n",
       "<polygon fill=\"#399de5\" fill-opacity=\"0.823529\" stroke=\"black\" points=\"569,-140 396,-140 396,-72 569,-72 569,-140\"/>\r\n",
       "<text text-anchor=\"middle\" x=\"482.5\" y=\"-124.8\" font-family=\"Times New Roman,serif\" font-size=\"14.00\">away &lt;= 0.085</text>\r\n",
       "<text text-anchor=\"middle\" x=\"482.5\" y=\"-109.8\" font-family=\"Times New Roman,serif\" font-size=\"14.00\">gini = 0.255</text>\r\n",
       "<text text-anchor=\"middle\" x=\"482.5\" y=\"-94.8\" font-family=\"Times New Roman,serif\" font-size=\"14.00\">samples = 2549</text>\r\n",
       "<text text-anchor=\"middle\" x=\"482.5\" y=\"-79.8\" font-family=\"Times New Roman,serif\" font-size=\"14.00\">value = [249.326, 1409.436]</text>\r\n",
       "</g>\r\n",
       "<!-- 853&#45;&gt;854 -->\r\n",
       "<g id=\"edge12\" class=\"edge\"><title>853&#45;&gt;854</title>\r\n",
       "<path fill=\"none\" stroke=\"black\" d=\"M547.332,-175.884C538.864,-166.887 529.597,-157.041 520.785,-147.678\"/>\r\n",
       "<polygon fill=\"black\" stroke=\"black\" points=\"523.243,-145.183 513.841,-140.299 518.146,-149.98 523.243,-145.183\"/>\r\n",
       "</g>\r\n",
       "<!-- 899 -->\r\n",
       "<g id=\"node16\" class=\"node\"><title>899</title>\r\n",
       "<polygon fill=\"#399de5\" fill-opacity=\"0.329412\" stroke=\"black\" points=\"746,-140 587,-140 587,-72 746,-72 746,-140\"/>\r\n",
       "<text text-anchor=\"middle\" x=\"666.5\" y=\"-124.8\" font-family=\"Times New Roman,serif\" font-size=\"14.00\">delici &lt;= 0.178</text>\r\n",
       "<text text-anchor=\"middle\" x=\"666.5\" y=\"-109.8\" font-family=\"Times New Roman,serif\" font-size=\"14.00\">gini = 0.48</text>\r\n",
       "<text text-anchor=\"middle\" x=\"666.5\" y=\"-94.8\" font-family=\"Times New Roman,serif\" font-size=\"14.00\">samples = 581</text>\r\n",
       "<text text-anchor=\"middle\" x=\"666.5\" y=\"-79.8\" font-family=\"Times New Roman,serif\" font-size=\"14.00\">value = [202.04, 302.143]</text>\r\n",
       "</g>\r\n",
       "<!-- 853&#45;&gt;899 -->\r\n",
       "<g id=\"edge15\" class=\"edge\"><title>853&#45;&gt;899</title>\r\n",
       "<path fill=\"none\" stroke=\"black\" d=\"M607.071,-175.884C614.756,-166.976 623.16,-157.235 631.165,-147.957\"/>\r\n",
       "<polygon fill=\"black\" stroke=\"black\" points=\"633.889,-150.157 637.771,-140.299 628.589,-145.585 633.889,-150.157\"/>\r\n",
       "</g>\r\n",
       "<!-- 855 -->\r\n",
       "<g id=\"node14\" class=\"node\"><title>855</title>\r\n",
       "<polygon fill=\"#c0c0c0\" stroke=\"black\" points=\"457.5,-36 403.5,-36 403.5,-0 457.5,-0 457.5,-36\"/>\r\n",
       "<text text-anchor=\"middle\" x=\"430.5\" y=\"-14.3\" font-family=\"Times New Roman,serif\" font-size=\"14.00\">(...)</text>\r\n",
       "</g>\r\n",
       "<!-- 854&#45;&gt;855 -->\r\n",
       "<g id=\"edge13\" class=\"edge\"><title>854&#45;&gt;855</title>\r\n",
       "<path fill=\"none\" stroke=\"black\" d=\"M462.544,-71.9961C457.16,-63.0909 451.409,-53.5802 446.287,-45.1093\"/>\r\n",
       "<polygon fill=\"black\" stroke=\"black\" points=\"449.192,-43.1497 441.023,-36.4034 443.202,-46.7717 449.192,-43.1497\"/>\r\n",
       "</g>\r\n",
       "<!-- 898 -->\r\n",
       "<g id=\"node15\" class=\"node\"><title>898</title>\r\n",
       "<polygon fill=\"#c0c0c0\" stroke=\"black\" points=\"529.5,-36 475.5,-36 475.5,-0 529.5,-0 529.5,-36\"/>\r\n",
       "<text text-anchor=\"middle\" x=\"502.5\" y=\"-14.3\" font-family=\"Times New Roman,serif\" font-size=\"14.00\">(...)</text>\r\n",
       "</g>\r\n",
       "<!-- 854&#45;&gt;898 -->\r\n",
       "<g id=\"edge14\" class=\"edge\"><title>854&#45;&gt;898</title>\r\n",
       "<path fill=\"none\" stroke=\"black\" d=\"M490.175,-71.9961C492.158,-63.4699 494.27,-54.3885 496.175,-46.1962\"/>\r\n",
       "<polygon fill=\"black\" stroke=\"black\" points=\"499.597,-46.9363 498.453,-36.4034 492.778,-45.3506 499.597,-46.9363\"/>\r\n",
       "</g>\r\n",
       "<!-- 900 -->\r\n",
       "<g id=\"node17\" class=\"node\"><title>900</title>\r\n",
       "<polygon fill=\"#c0c0c0\" stroke=\"black\" points=\"642.5,-36 588.5,-36 588.5,-0 642.5,-0 642.5,-36\"/>\r\n",
       "<text text-anchor=\"middle\" x=\"615.5\" y=\"-14.3\" font-family=\"Times New Roman,serif\" font-size=\"14.00\">(...)</text>\r\n",
       "</g>\r\n",
       "<!-- 899&#45;&gt;900 -->\r\n",
       "<g id=\"edge16\" class=\"edge\"><title>899&#45;&gt;900</title>\r\n",
       "<path fill=\"none\" stroke=\"black\" d=\"M646.928,-71.9961C641.647,-63.0909 636.007,-53.5802 630.983,-45.1093\"/>\r\n",
       "<polygon fill=\"black\" stroke=\"black\" points=\"633.932,-43.2194 625.821,-36.4034 627.911,-46.79 633.932,-43.2194\"/>\r\n",
       "</g>\r\n",
       "<!-- 901 -->\r\n",
       "<g id=\"node18\" class=\"node\"><title>901</title>\r\n",
       "<polygon fill=\"#c0c0c0\" stroke=\"black\" points=\"714.5,-36 660.5,-36 660.5,-0 714.5,-0 714.5,-36\"/>\r\n",
       "<text text-anchor=\"middle\" x=\"687.5\" y=\"-14.3\" font-family=\"Times New Roman,serif\" font-size=\"14.00\">(...)</text>\r\n",
       "</g>\r\n",
       "<!-- 899&#45;&gt;901 -->\r\n",
       "<g id=\"edge17\" class=\"edge\"><title>899&#45;&gt;901</title>\r\n",
       "<path fill=\"none\" stroke=\"black\" d=\"M674.559,-71.9961C676.641,-63.4699 678.859,-54.3885 680.859,-46.1962\"/>\r\n",
       "<polygon fill=\"black\" stroke=\"black\" points=\"684.278,-46.9482 683.25,-36.4034 677.478,-45.2877 684.278,-46.9482\"/>\r\n",
       "</g>\r\n",
       "<!-- 903 -->\r\n",
       "<g id=\"node20\" class=\"node\"><title>903</title>\r\n",
       "<polygon fill=\"#399de5\" fill-opacity=\"0.560784\" stroke=\"black\" points=\"945,-244 766,-244 766,-176 945,-176 945,-244\"/>\r\n",
       "<text text-anchor=\"middle\" x=\"855.5\" y=\"-228.8\" font-family=\"Times New Roman,serif\" font-size=\"14.00\">tast &lt;= 0.126</text>\r\n",
       "<text text-anchor=\"middle\" x=\"855.5\" y=\"-213.8\" font-family=\"Times New Roman,serif\" font-size=\"14.00\">gini = 0.424</text>\r\n",
       "<text text-anchor=\"middle\" x=\"855.5\" y=\"-198.8\" font-family=\"Times New Roman,serif\" font-size=\"14.00\">samples = 8002</text>\r\n",
       "<text text-anchor=\"middle\" x=\"855.5\" y=\"-183.8\" font-family=\"Times New Roman,serif\" font-size=\"14.00\">value = [1882.844, 4279.798]</text>\r\n",
       "</g>\r\n",
       "<!-- 902&#45;&gt;903 -->\r\n",
       "<g id=\"edge19\" class=\"edge\"><title>902&#45;&gt;903</title>\r\n",
       "<path fill=\"none\" stroke=\"black\" d=\"M917.63,-279.884C909.596,-270.976 900.81,-261.235 892.441,-251.957\"/>\r\n",
       "<polygon fill=\"black\" stroke=\"black\" points=\"894.831,-249.381 885.535,-244.299 889.633,-254.069 894.831,-249.381\"/>\r\n",
       "</g>\r\n",
       "<!-- 1058 -->\r\n",
       "<g id=\"node27\" class=\"node\"><title>1058</title>\r\n",
       "<polygon fill=\"#e58139\" fill-opacity=\"0.772549\" stroke=\"black\" points=\"1122,-236.5 963,-236.5 963,-183.5 1122,-183.5 1122,-236.5\"/>\r\n",
       "<text text-anchor=\"middle\" x=\"1042.5\" y=\"-221.3\" font-family=\"Times New Roman,serif\" font-size=\"14.00\">gini = 0.303</text>\r\n",
       "<text text-anchor=\"middle\" x=\"1042.5\" y=\"-206.3\" font-family=\"Times New Roman,serif\" font-size=\"14.00\">samples = 178</text>\r\n",
       "<text text-anchor=\"middle\" x=\"1042.5\" y=\"-191.3\" font-family=\"Times New Roman,serif\" font-size=\"14.00\">value = [279.417, 63.937]</text>\r\n",
       "</g>\r\n",
       "<!-- 902&#45;&gt;1058 -->\r\n",
       "<g id=\"edge26\" class=\"edge\"><title>902&#45;&gt;1058</title>\r\n",
       "<path fill=\"none\" stroke=\"black\" d=\"M978.344,-279.884C989.099,-268.336 1001.16,-255.387 1011.89,-243.86\"/>\r\n",
       "<polygon fill=\"black\" stroke=\"black\" points=\"1014.48,-246.223 1018.73,-236.52 1009.35,-241.452 1014.48,-246.223\"/>\r\n",
       "</g>\r\n",
       "<!-- 904 -->\r\n",
       "<g id=\"node21\" class=\"node\"><title>904</title>\r\n",
       "<polygon fill=\"#399de5\" fill-opacity=\"0.666667\" stroke=\"black\" points=\"943,-140 764,-140 764,-72 943,-72 943,-140\"/>\r\n",
       "<text text-anchor=\"middle\" x=\"853.5\" y=\"-124.8\" font-family=\"Times New Roman,serif\" font-size=\"14.00\">would &lt;= 0.106</text>\r\n",
       "<text text-anchor=\"middle\" x=\"853.5\" y=\"-109.8\" font-family=\"Times New Roman,serif\" font-size=\"14.00\">gini = 0.375</text>\r\n",
       "<text text-anchor=\"middle\" x=\"853.5\" y=\"-94.8\" font-family=\"Times New Roman,serif\" font-size=\"14.00\">samples = 6524</text>\r\n",
       "<text text-anchor=\"middle\" x=\"853.5\" y=\"-79.8\" font-family=\"Times New Roman,serif\" font-size=\"14.00\">value = [1177.852, 3536.322]</text>\r\n",
       "</g>\r\n",
       "<!-- 903&#45;&gt;904 -->\r\n",
       "<g id=\"edge20\" class=\"edge\"><title>903&#45;&gt;904</title>\r\n",
       "<path fill=\"none\" stroke=\"black\" d=\"M854.851,-175.884C854.692,-167.778 854.519,-158.982 854.352,-150.472\"/>\r\n",
       "<polygon fill=\"black\" stroke=\"black\" points=\"857.848,-150.229 854.153,-140.299 850.85,-150.366 857.848,-150.229\"/>\r\n",
       "</g>\r\n",
       "<!-- 997 -->\r\n",
       "<g id=\"node24\" class=\"node\"><title>997</title>\r\n",
       "<polygon fill=\"#399de5\" fill-opacity=\"0.050980\" stroke=\"black\" points=\"1127.5,-140 961.5,-140 961.5,-72 1127.5,-72 1127.5,-140\"/>\r\n",
       "<text text-anchor=\"middle\" x=\"1044.5\" y=\"-124.8\" font-family=\"Times New Roman,serif\" font-size=\"14.00\">thought &lt;= 0.029</text>\r\n",
       "<text text-anchor=\"middle\" x=\"1044.5\" y=\"-109.8\" font-family=\"Times New Roman,serif\" font-size=\"14.00\">gini = 0.5</text>\r\n",
       "<text text-anchor=\"middle\" x=\"1044.5\" y=\"-94.8\" font-family=\"Times New Roman,serif\" font-size=\"14.00\">samples = 1478</text>\r\n",
       "<text text-anchor=\"middle\" x=\"1044.5\" y=\"-79.8\" font-family=\"Times New Roman,serif\" font-size=\"14.00\">value = [704.992, 743.476]</text>\r\n",
       "</g>\r\n",
       "<!-- 903&#45;&gt;997 -->\r\n",
       "<g id=\"edge23\" class=\"edge\"><title>903&#45;&gt;997</title>\r\n",
       "<path fill=\"none\" stroke=\"black\" d=\"M916.863,-175.884C935.194,-165.991 955.429,-155.07 974.282,-144.895\"/>\r\n",
       "<polygon fill=\"black\" stroke=\"black\" points=\"975.984,-147.954 983.122,-140.125 972.659,-141.794 975.984,-147.954\"/>\r\n",
       "</g>\r\n",
       "<!-- 905 -->\r\n",
       "<g id=\"node22\" class=\"node\"><title>905</title>\r\n",
       "<polygon fill=\"#c0c0c0\" stroke=\"black\" points=\"831.5,-36 777.5,-36 777.5,-0 831.5,-0 831.5,-36\"/>\r\n",
       "<text text-anchor=\"middle\" x=\"804.5\" y=\"-14.3\" font-family=\"Times New Roman,serif\" font-size=\"14.00\">(...)</text>\r\n",
       "</g>\r\n",
       "<!-- 904&#45;&gt;905 -->\r\n",
       "<g id=\"edge21\" class=\"edge\"><title>904&#45;&gt;905</title>\r\n",
       "<path fill=\"none\" stroke=\"black\" d=\"M834.695,-71.9961C829.622,-63.0909 824.203,-53.5802 819.376,-45.1093\"/>\r\n",
       "<polygon fill=\"black\" stroke=\"black\" points=\"822.407,-43.3593 814.416,-36.4034 816.325,-46.8247 822.407,-43.3593\"/>\r\n",
       "</g>\r\n",
       "<!-- 994 -->\r\n",
       "<g id=\"node23\" class=\"node\"><title>994</title>\r\n",
       "<polygon fill=\"#c0c0c0\" stroke=\"black\" points=\"903.5,-36 849.5,-36 849.5,-0 903.5,-0 903.5,-36\"/>\r\n",
       "<text text-anchor=\"middle\" x=\"876.5\" y=\"-14.3\" font-family=\"Times New Roman,serif\" font-size=\"14.00\">(...)</text>\r\n",
       "</g>\r\n",
       "<!-- 904&#45;&gt;994 -->\r\n",
       "<g id=\"edge22\" class=\"edge\"><title>904&#45;&gt;994</title>\r\n",
       "<path fill=\"none\" stroke=\"black\" d=\"M862.327,-71.9961C864.607,-63.4699 867.036,-54.3885 869.227,-46.1962\"/>\r\n",
       "<polygon fill=\"black\" stroke=\"black\" points=\"872.643,-46.9682 871.846,-36.4034 865.881,-45.1596 872.643,-46.9682\"/>\r\n",
       "</g>\r\n",
       "<!-- 998 -->\r\n",
       "<g id=\"node25\" class=\"node\"><title>998</title>\r\n",
       "<polygon fill=\"#c0c0c0\" stroke=\"black\" points=\"1021.5,-36 967.5,-36 967.5,-0 1021.5,-0 1021.5,-36\"/>\r\n",
       "<text text-anchor=\"middle\" x=\"994.5\" y=\"-14.3\" font-family=\"Times New Roman,serif\" font-size=\"14.00\">(...)</text>\r\n",
       "</g>\r\n",
       "<!-- 997&#45;&gt;998 -->\r\n",
       "<g id=\"edge24\" class=\"edge\"><title>997&#45;&gt;998</title>\r\n",
       "<path fill=\"none\" stroke=\"black\" d=\"M1025.31,-71.9961C1020.13,-63.0909 1014.6,-53.5802 1009.68,-45.1093\"/>\r\n",
       "<polygon fill=\"black\" stroke=\"black\" points=\"1012.67,-43.2893 1004.62,-36.4034 1006.62,-46.8077 1012.67,-43.2893\"/>\r\n",
       "</g>\r\n",
       "<!-- 1057 -->\r\n",
       "<g id=\"node26\" class=\"node\"><title>1057</title>\r\n",
       "<polygon fill=\"#c0c0c0\" stroke=\"black\" points=\"1093.5,-36 1039.5,-36 1039.5,-0 1093.5,-0 1093.5,-36\"/>\r\n",
       "<text text-anchor=\"middle\" x=\"1066.5\" y=\"-14.3\" font-family=\"Times New Roman,serif\" font-size=\"14.00\">(...)</text>\r\n",
       "</g>\r\n",
       "<!-- 997&#45;&gt;1057 -->\r\n",
       "<g id=\"edge25\" class=\"edge\"><title>997&#45;&gt;1057</title>\r\n",
       "<path fill=\"none\" stroke=\"black\" d=\"M1052.94,-71.9961C1055.12,-63.4699 1057.45,-54.3885 1059.54,-46.1962\"/>\r\n",
       "<polygon fill=\"black\" stroke=\"black\" points=\"1062.96,-46.9589 1062.05,-36.4034 1056.18,-45.224 1062.96,-46.9589\"/>\r\n",
       "</g>\r\n",
       "<!-- 1060 -->\r\n",
       "<g id=\"node29\" class=\"node\"><title>1060</title>\r\n",
       "<polygon fill=\"#399de5\" fill-opacity=\"0.721569\" stroke=\"black\" points=\"1319,-348 1146,-348 1146,-280 1319,-280 1319,-348\"/>\r\n",
       "<text text-anchor=\"middle\" x=\"1232.5\" y=\"-332.8\" font-family=\"Times New Roman,serif\" font-size=\"14.00\">earth &lt;= 0.084</text>\r\n",
       "<text text-anchor=\"middle\" x=\"1232.5\" y=\"-317.8\" font-family=\"Times New Roman,serif\" font-size=\"14.00\">gini = 0.341</text>\r\n",
       "<text text-anchor=\"middle\" x=\"1232.5\" y=\"-302.8\" font-family=\"Times New Roman,serif\" font-size=\"14.00\">samples = 7269</text>\r\n",
       "<text text-anchor=\"middle\" x=\"1232.5\" y=\"-287.8\" font-family=\"Times New Roman,serif\" font-size=\"14.00\">value = [1104.774, 3967.47]</text>\r\n",
       "</g>\r\n",
       "<!-- 1059&#45;&gt;1060 -->\r\n",
       "<g id=\"edge28\" class=\"edge\"><title>1059&#45;&gt;1060</title>\r\n",
       "<path fill=\"none\" stroke=\"black\" d=\"M1291.93,-383.884C1284.24,-374.976 1275.84,-365.235 1267.84,-355.957\"/>\r\n",
       "<polygon fill=\"black\" stroke=\"black\" points=\"1270.41,-353.585 1261.23,-348.299 1265.11,-358.157 1270.41,-353.585\"/>\r\n",
       "</g>\r\n",
       "<!-- 1207 -->\r\n",
       "<g id=\"node36\" class=\"node\"><title>1207</title>\r\n",
       "<polygon fill=\"#e58139\" fill-opacity=\"0.368627\" stroke=\"black\" points=\"1503.5,-340.5 1337.5,-340.5 1337.5,-287.5 1503.5,-287.5 1503.5,-340.5\"/>\r\n",
       "<text text-anchor=\"middle\" x=\"1420.5\" y=\"-325.3\" font-family=\"Times New Roman,serif\" font-size=\"14.00\">gini = 0.474</text>\r\n",
       "<text text-anchor=\"middle\" x=\"1420.5\" y=\"-310.3\" font-family=\"Times New Roman,serif\" font-size=\"14.00\">samples = 214</text>\r\n",
       "<text text-anchor=\"middle\" x=\"1420.5\" y=\"-295.3\" font-family=\"Times New Roman,serif\" font-size=\"14.00\">value = [159.053, 100.149]</text>\r\n",
       "</g>\r\n",
       "<!-- 1059&#45;&gt;1207 -->\r\n",
       "<g id=\"edge35\" class=\"edge\"><title>1059&#45;&gt;1207</title>\r\n",
       "<path fill=\"none\" stroke=\"black\" d=\"M1352.97,-383.884C1364.29,-372.336 1376.98,-359.387 1388.28,-347.86\"/>\r\n",
       "<polygon fill=\"black\" stroke=\"black\" points=\"1390.98,-350.111 1395.48,-340.52 1385.98,-345.21 1390.98,-350.111\"/>\r\n",
       "</g>\r\n",
       "<!-- 1061 -->\r\n",
       "<g id=\"node30\" class=\"node\"><title>1061</title>\r\n",
       "<polygon fill=\"#399de5\" fill-opacity=\"0.741176\" stroke=\"black\" points=\"1322,-244 1143,-244 1143,-176 1322,-176 1322,-244\"/>\r\n",
       "<text text-anchor=\"middle\" x=\"1232.5\" y=\"-228.8\" font-family=\"Times New Roman,serif\" font-size=\"14.00\">worst &lt;= 0.043</text>\r\n",
       "<text text-anchor=\"middle\" x=\"1232.5\" y=\"-213.8\" font-family=\"Times New Roman,serif\" font-size=\"14.00\">gini = 0.325</text>\r\n",
       "<text text-anchor=\"middle\" x=\"1232.5\" y=\"-198.8\" font-family=\"Times New Roman,serif\" font-size=\"14.00\">samples = 7150</text>\r\n",
       "<text text-anchor=\"middle\" x=\"1232.5\" y=\"-183.8\" font-family=\"Times New Roman,serif\" font-size=\"14.00\">value = [1005.903, 3913.152]</text>\r\n",
       "</g>\r\n",
       "<!-- 1060&#45;&gt;1061 -->\r\n",
       "<g id=\"edge29\" class=\"edge\"><title>1060&#45;&gt;1061</title>\r\n",
       "<path fill=\"none\" stroke=\"black\" d=\"M1232.5,-279.884C1232.5,-271.778 1232.5,-262.982 1232.5,-254.472\"/>\r\n",
       "<polygon fill=\"black\" stroke=\"black\" points=\"1236,-254.299 1232.5,-244.299 1229,-254.299 1236,-254.299\"/>\r\n",
       "</g>\r\n",
       "<!-- 1206 -->\r\n",
       "<g id=\"node35\" class=\"node\"><title>1206</title>\r\n",
       "<polygon fill=\"#e58139\" fill-opacity=\"0.450980\" stroke=\"black\" points=\"1492.5,-236.5 1340.5,-236.5 1340.5,-183.5 1492.5,-183.5 1492.5,-236.5\"/>\r\n",
       "<text text-anchor=\"middle\" x=\"1416.5\" y=\"-221.3\" font-family=\"Times New Roman,serif\" font-size=\"14.00\">gini = 0.458</text>\r\n",
       "<text text-anchor=\"middle\" x=\"1416.5\" y=\"-206.3\" font-family=\"Times New Roman,serif\" font-size=\"14.00\">samples = 119</text>\r\n",
       "<text text-anchor=\"middle\" x=\"1416.5\" y=\"-191.3\" font-family=\"Times New Roman,serif\" font-size=\"14.00\">value = [98.871, 54.318]</text>\r\n",
       "</g>\r\n",
       "<!-- 1060&#45;&gt;1206 -->\r\n",
       "<g id=\"edge34\" class=\"edge\"><title>1060&#45;&gt;1206</title>\r\n",
       "<path fill=\"none\" stroke=\"black\" d=\"M1292.24,-279.884C1314.56,-267.511 1339.78,-253.53 1361.64,-241.413\"/>\r\n",
       "<polygon fill=\"black\" stroke=\"black\" points=\"1363.41,-244.429 1370.46,-236.52 1360.02,-238.307 1363.41,-244.429\"/>\r\n",
       "</g>\r\n",
       "<!-- 1062 -->\r\n",
       "<g id=\"node31\" class=\"node\"><title>1062</title>\r\n",
       "<polygon fill=\"#399de5\" fill-opacity=\"0.756863\" stroke=\"black\" points=\"1319,-140 1146,-140 1146,-72 1319,-72 1319,-140\"/>\r\n",
       "<text text-anchor=\"middle\" x=\"1232.5\" y=\"-124.8\" font-family=\"Times New Roman,serif\" font-size=\"14.00\">date &lt;= 0.096</text>\r\n",
       "<text text-anchor=\"middle\" x=\"1232.5\" y=\"-109.8\" font-family=\"Times New Roman,serif\" font-size=\"14.00\">gini = 0.315</text>\r\n",
       "<text text-anchor=\"middle\" x=\"1232.5\" y=\"-94.8\" font-family=\"Times New Roman,serif\" font-size=\"14.00\">samples = 7120</text>\r\n",
       "<text text-anchor=\"middle\" x=\"1232.5\" y=\"-79.8\" font-family=\"Times New Roman,serif\" font-size=\"14.00\">value = [950.019, 3903.533]</text>\r\n",
       "</g>\r\n",
       "<!-- 1061&#45;&gt;1062 -->\r\n",
       "<g id=\"edge30\" class=\"edge\"><title>1061&#45;&gt;1062</title>\r\n",
       "<path fill=\"none\" stroke=\"black\" d=\"M1232.5,-175.884C1232.5,-167.778 1232.5,-158.982 1232.5,-150.472\"/>\r\n",
       "<polygon fill=\"black\" stroke=\"black\" points=\"1236,-150.299 1232.5,-140.299 1229,-150.299 1236,-150.299\"/>\r\n",
       "</g>\r\n",
       "<!-- 1205 -->\r\n",
       "<g id=\"node34\" class=\"node\"><title>1205</title>\r\n",
       "<polygon fill=\"#e58139\" fill-opacity=\"0.827451\" stroke=\"black\" points=\"1483.5,-132.5 1337.5,-132.5 1337.5,-79.5 1483.5,-79.5 1483.5,-132.5\"/>\r\n",
       "<text text-anchor=\"middle\" x=\"1410.5\" y=\"-117.3\" font-family=\"Times New Roman,serif\" font-size=\"14.00\">gini = 0.251</text>\r\n",
       "<text text-anchor=\"middle\" x=\"1410.5\" y=\"-102.3\" font-family=\"Times New Roman,serif\" font-size=\"14.00\">samples = 30</text>\r\n",
       "<text text-anchor=\"middle\" x=\"1410.5\" y=\"-87.3\" font-family=\"Times New Roman,serif\" font-size=\"14.00\">value = [55.883, 9.619]</text>\r\n",
       "</g>\r\n",
       "<!-- 1061&#45;&gt;1205 -->\r\n",
       "<g id=\"edge33\" class=\"edge\"><title>1061&#45;&gt;1205</title>\r\n",
       "<path fill=\"none\" stroke=\"black\" d=\"M1290.29,-175.884C1311.79,-163.566 1336.06,-149.655 1357.14,-137.575\"/>\r\n",
       "<polygon fill=\"black\" stroke=\"black\" points=\"1359.03,-140.529 1365.97,-132.52 1355.55,-134.455 1359.03,-140.529\"/>\r\n",
       "</g>\r\n",
       "<!-- 1063 -->\r\n",
       "<g id=\"node32\" class=\"node\"><title>1063</title>\r\n",
       "<polygon fill=\"#c0c0c0\" stroke=\"black\" points=\"1223.5,-36 1169.5,-36 1169.5,-0 1223.5,-0 1223.5,-36\"/>\r\n",
       "<text text-anchor=\"middle\" x=\"1196.5\" y=\"-14.3\" font-family=\"Times New Roman,serif\" font-size=\"14.00\">(...)</text>\r\n",
       "</g>\r\n",
       "<!-- 1062&#45;&gt;1063 -->\r\n",
       "<g id=\"edge31\" class=\"edge\"><title>1062&#45;&gt;1063</title>\r\n",
       "<path fill=\"none\" stroke=\"black\" d=\"M1218.68,-71.9961C1215.04,-63.2804 1211.14,-53.9846 1207.66,-45.6514\"/>\r\n",
       "<polygon fill=\"black\" stroke=\"black\" points=\"1210.88,-44.2763 1203.79,-36.4034 1204.42,-46.9793 1210.88,-44.2763\"/>\r\n",
       "</g>\r\n",
       "<!-- 1204 -->\r\n",
       "<g id=\"node33\" class=\"node\"><title>1204</title>\r\n",
       "<polygon fill=\"#c0c0c0\" stroke=\"black\" points=\"1295.5,-36 1241.5,-36 1241.5,-0 1295.5,-0 1295.5,-36\"/>\r\n",
       "<text text-anchor=\"middle\" x=\"1268.5\" y=\"-14.3\" font-family=\"Times New Roman,serif\" font-size=\"14.00\">(...)</text>\r\n",
       "</g>\r\n",
       "<!-- 1062&#45;&gt;1204 -->\r\n",
       "<g id=\"edge32\" class=\"edge\"><title>1062&#45;&gt;1204</title>\r\n",
       "<path fill=\"none\" stroke=\"black\" d=\"M1246.32,-71.9961C1249.96,-63.2804 1253.86,-53.9846 1257.34,-45.6514\"/>\r\n",
       "<polygon fill=\"black\" stroke=\"black\" points=\"1260.58,-46.9793 1261.21,-36.4034 1254.12,-44.2763 1260.58,-46.9793\"/>\r\n",
       "</g>\r\n",
       "<!-- 1209 -->\r\n",
       "<g id=\"node38\" class=\"node\"><title>1209</title>\r\n",
       "<polygon fill=\"#399de5\" fill-opacity=\"0.752941\" stroke=\"black\" points=\"1698,-452 1525,-452 1525,-384 1698,-384 1698,-452\"/>\r\n",
       "<text text-anchor=\"middle\" x=\"1611.5\" y=\"-436.8\" font-family=\"Times New Roman,serif\" font-size=\"14.00\">thought &lt;= 0.06</text>\r\n",
       "<text text-anchor=\"middle\" x=\"1611.5\" y=\"-421.8\" font-family=\"Times New Roman,serif\" font-size=\"14.00\">gini = 0.317</text>\r\n",
       "<text text-anchor=\"middle\" x=\"1611.5\" y=\"-406.8\" font-family=\"Times New Roman,serif\" font-size=\"14.00\">samples = 14147</text>\r\n",
       "<text text-anchor=\"middle\" x=\"1611.5\" y=\"-391.8\" font-family=\"Times New Roman,serif\" font-size=\"14.00\">value = [1904.337, 7753.88]</text>\r\n",
       "</g>\r\n",
       "<!-- 1208&#45;&gt;1209 -->\r\n",
       "<g id=\"edge37\" class=\"edge\"><title>1208&#45;&gt;1209</title>\r\n",
       "<path fill=\"none\" stroke=\"black\" d=\"M1611.5,-487.884C1611.5,-479.778 1611.5,-470.982 1611.5,-462.472\"/>\r\n",
       "<polygon fill=\"black\" stroke=\"black\" points=\"1615,-462.299 1611.5,-452.299 1608,-462.299 1615,-462.299\"/>\r\n",
       "</g>\r\n",
       "<!-- 1368 -->\r\n",
       "<g id=\"node47\" class=\"node\"><title>1368</title>\r\n",
       "<polygon fill=\"#e58139\" fill-opacity=\"0.568627\" stroke=\"black\" points=\"1875,-444.5 1716,-444.5 1716,-391.5 1875,-391.5 1875,-444.5\"/>\r\n",
       "<text text-anchor=\"middle\" x=\"1795.5\" y=\"-429.3\" font-family=\"Times New Roman,serif\" font-size=\"14.00\">gini = 0.421</text>\r\n",
       "<text text-anchor=\"middle\" x=\"1795.5\" y=\"-414.3\" font-family=\"Times New Roman,serif\" font-size=\"14.00\">samples = 222</text>\r\n",
       "<text text-anchor=\"middle\" x=\"1795.5\" y=\"-399.3\" font-family=\"Times New Roman,serif\" font-size=\"14.00\">value = [223.534, 96.188]</text>\r\n",
       "</g>\r\n",
       "<!-- 1208&#45;&gt;1368 -->\r\n",
       "<g id=\"edge46\" class=\"edge\"><title>1208&#45;&gt;1368</title>\r\n",
       "<path fill=\"none\" stroke=\"black\" d=\"M1671.24,-487.884C1693.56,-475.511 1718.78,-461.53 1740.64,-449.413\"/>\r\n",
       "<polygon fill=\"black\" stroke=\"black\" points=\"1742.41,-452.429 1749.46,-444.52 1739.02,-446.307 1742.41,-452.429\"/>\r\n",
       "</g>\r\n",
       "<!-- 1210 -->\r\n",
       "<g id=\"node39\" class=\"node\"><title>1210</title>\r\n",
       "<polygon fill=\"#399de5\" fill-opacity=\"0.780392\" stroke=\"black\" points=\"1701,-348 1522,-348 1522,-280 1701,-280 1701,-348\"/>\r\n",
       "<text text-anchor=\"middle\" x=\"1611.5\" y=\"-332.8\" font-family=\"Times New Roman,serif\" font-size=\"14.00\">terribl &lt;= 0.121</text>\r\n",
       "<text text-anchor=\"middle\" x=\"1611.5\" y=\"-317.8\" font-family=\"Times New Roman,serif\" font-size=\"14.00\">gini = 0.296</text>\r\n",
       "<text text-anchor=\"middle\" x=\"1611.5\" y=\"-302.8\" font-family=\"Times New Roman,serif\" font-size=\"14.00\">samples = 13812</text>\r\n",
       "<text text-anchor=\"middle\" x=\"1611.5\" y=\"-287.8\" font-family=\"Times New Roman,serif\" font-size=\"14.00\">value = [1676.505, 7594.322]</text>\r\n",
       "</g>\r\n",
       "<!-- 1209&#45;&gt;1210 -->\r\n",
       "<g id=\"edge38\" class=\"edge\"><title>1209&#45;&gt;1210</title>\r\n",
       "<path fill=\"none\" stroke=\"black\" d=\"M1611.5,-383.884C1611.5,-375.778 1611.5,-366.982 1611.5,-358.472\"/>\r\n",
       "<polygon fill=\"black\" stroke=\"black\" points=\"1615,-358.299 1611.5,-348.299 1608,-358.299 1615,-358.299\"/>\r\n",
       "</g>\r\n",
       "<!-- 1367 -->\r\n",
       "<g id=\"node46\" class=\"node\"><title>1367</title>\r\n",
       "<polygon fill=\"#e58139\" fill-opacity=\"0.298039\" stroke=\"black\" points=\"1885.5,-340.5 1719.5,-340.5 1719.5,-287.5 1885.5,-287.5 1885.5,-340.5\"/>\r\n",
       "<text text-anchor=\"middle\" x=\"1802.5\" y=\"-325.3\" font-family=\"Times New Roman,serif\" font-size=\"14.00\">gini = 0.484</text>\r\n",
       "<text text-anchor=\"middle\" x=\"1802.5\" y=\"-310.3\" font-family=\"Times New Roman,serif\" font-size=\"14.00\">samples = 335</text>\r\n",
       "<text text-anchor=\"middle\" x=\"1802.5\" y=\"-295.3\" font-family=\"Times New Roman,serif\" font-size=\"14.00\">value = [227.833, 159.559]</text>\r\n",
       "</g>\r\n",
       "<!-- 1209&#45;&gt;1367 -->\r\n",
       "<g id=\"edge45\" class=\"edge\"><title>1209&#45;&gt;1367</title>\r\n",
       "<path fill=\"none\" stroke=\"black\" d=\"M1673.51,-383.884C1696.78,-371.456 1723.09,-357.406 1745.85,-345.252\"/>\r\n",
       "<polygon fill=\"black\" stroke=\"black\" points=\"1747.54,-348.318 1754.71,-340.52 1744.24,-342.143 1747.54,-348.318\"/>\r\n",
       "</g>\r\n",
       "<!-- 1211 -->\r\n",
       "<g id=\"node40\" class=\"node\"><title>1211</title>\r\n",
       "<polygon fill=\"#399de5\" fill-opacity=\"0.792157\" stroke=\"black\" points=\"1696,-244 1517,-244 1517,-176 1696,-176 1696,-244\"/>\r\n",
       "<text text-anchor=\"middle\" x=\"1606.5\" y=\"-228.8\" font-family=\"Times New Roman,serif\" font-size=\"14.00\">aw &lt;= 0.12</text>\r\n",
       "<text text-anchor=\"middle\" x=\"1606.5\" y=\"-213.8\" font-family=\"Times New Roman,serif\" font-size=\"14.00\">gini = 0.286</text>\r\n",
       "<text text-anchor=\"middle\" x=\"1606.5\" y=\"-198.8\" font-family=\"Times New Roman,serif\" font-size=\"14.00\">samples = 13768</text>\r\n",
       "<text text-anchor=\"middle\" x=\"1606.5\" y=\"-183.8\" font-family=\"Times New Roman,serif\" font-size=\"14.00\">value = [1581.933, 7581.874]</text>\r\n",
       "</g>\r\n",
       "<!-- 1210&#45;&gt;1211 -->\r\n",
       "<g id=\"edge39\" class=\"edge\"><title>1210&#45;&gt;1211</title>\r\n",
       "<path fill=\"none\" stroke=\"black\" d=\"M1609.88,-279.884C1609.48,-271.778 1609.05,-262.982 1608.63,-254.472\"/>\r\n",
       "<polygon fill=\"black\" stroke=\"black\" points=\"1612.12,-254.116 1608.13,-244.299 1605.13,-254.459 1612.12,-254.116\"/>\r\n",
       "</g>\r\n",
       "<!-- 1366 -->\r\n",
       "<g id=\"node45\" class=\"node\"><title>1366</title>\r\n",
       "<polygon fill=\"#e58139\" fill-opacity=\"0.866667\" stroke=\"black\" points=\"1866.5,-236.5 1714.5,-236.5 1714.5,-183.5 1866.5,-183.5 1866.5,-236.5\"/>\r\n",
       "<text text-anchor=\"middle\" x=\"1790.5\" y=\"-221.3\" font-family=\"Times New Roman,serif\" font-size=\"14.00\">gini = 0.206</text>\r\n",
       "<text text-anchor=\"middle\" x=\"1790.5\" y=\"-206.3\" font-family=\"Times New Roman,serif\" font-size=\"14.00\">samples = 44</text>\r\n",
       "<text text-anchor=\"middle\" x=\"1790.5\" y=\"-191.3\" font-family=\"Times New Roman,serif\" font-size=\"14.00\">value = [94.572, 12.448]</text>\r\n",
       "</g>\r\n",
       "<!-- 1210&#45;&gt;1366 -->\r\n",
       "<g id=\"edge44\" class=\"edge\"><title>1210&#45;&gt;1366</title>\r\n",
       "<path fill=\"none\" stroke=\"black\" d=\"M1669.62,-279.884C1691.23,-267.566 1715.65,-253.655 1736.84,-241.575\"/>\r\n",
       "<polygon fill=\"black\" stroke=\"black\" points=\"1738.76,-244.512 1745.72,-236.52 1735.29,-238.43 1738.76,-244.512\"/>\r\n",
       "</g>\r\n",
       "<!-- 1212 -->\r\n",
       "<g id=\"node41\" class=\"node\"><title>1212</title>\r\n",
       "<polygon fill=\"#399de5\" fill-opacity=\"0.800000\" stroke=\"black\" points=\"1686,-140 1513,-140 1513,-72 1686,-72 1686,-140\"/>\r\n",
       "<text text-anchor=\"middle\" x=\"1599.5\" y=\"-124.8\" font-family=\"Times New Roman,serif\" font-size=\"14.00\">howev &lt;= 0.059</text>\r\n",
       "<text text-anchor=\"middle\" x=\"1599.5\" y=\"-109.8\" font-family=\"Times New Roman,serif\" font-size=\"14.00\">gini = 0.279</text>\r\n",
       "<text text-anchor=\"middle\" x=\"1599.5\" y=\"-94.8\" font-family=\"Times New Roman,serif\" font-size=\"14.00\">samples = 13738</text>\r\n",
       "<text text-anchor=\"middle\" x=\"1599.5\" y=\"-79.8\" font-family=\"Times New Roman,serif\" font-size=\"14.00\">value = [1521.75, 7572.821]</text>\r\n",
       "</g>\r\n",
       "<!-- 1211&#45;&gt;1212 -->\r\n",
       "<g id=\"edge40\" class=\"edge\"><title>1211&#45;&gt;1212</title>\r\n",
       "<path fill=\"none\" stroke=\"black\" d=\"M1604.23,-175.884C1603.67,-167.778 1603.07,-158.982 1602.48,-150.472\"/>\r\n",
       "<polygon fill=\"black\" stroke=\"black\" points=\"1605.96,-150.036 1601.79,-140.299 1598.98,-150.516 1605.96,-150.036\"/>\r\n",
       "</g>\r\n",
       "<!-- 1365 -->\r\n",
       "<g id=\"node44\" class=\"node\"><title>1365</title>\r\n",
       "<polygon fill=\"#e58139\" fill-opacity=\"0.850980\" stroke=\"black\" points=\"1850.5,-132.5 1704.5,-132.5 1704.5,-79.5 1850.5,-79.5 1850.5,-132.5\"/>\r\n",
       "<text text-anchor=\"middle\" x=\"1777.5\" y=\"-117.3\" font-family=\"Times New Roman,serif\" font-size=\"14.00\">gini = 0.227</text>\r\n",
       "<text text-anchor=\"middle\" x=\"1777.5\" y=\"-102.3\" font-family=\"Times New Roman,serif\" font-size=\"14.00\">samples = 30</text>\r\n",
       "<text text-anchor=\"middle\" x=\"1777.5\" y=\"-87.3\" font-family=\"Times New Roman,serif\" font-size=\"14.00\">value = [60.182, 9.053]</text>\r\n",
       "</g>\r\n",
       "<!-- 1211&#45;&gt;1365 -->\r\n",
       "<g id=\"edge43\" class=\"edge\"><title>1211&#45;&gt;1365</title>\r\n",
       "<path fill=\"none\" stroke=\"black\" d=\"M1662.02,-175.884C1682.58,-163.621 1705.78,-149.779 1725.97,-137.737\"/>\r\n",
       "<polygon fill=\"black\" stroke=\"black\" points=\"1727.92,-140.649 1734.72,-132.52 1724.34,-134.637 1727.92,-140.649\"/>\r\n",
       "</g>\r\n",
       "<!-- 1213 -->\r\n",
       "<g id=\"node42\" class=\"node\"><title>1213</title>\r\n",
       "<polygon fill=\"#c0c0c0\" stroke=\"black\" points=\"1590.5,-36 1536.5,-36 1536.5,-0 1590.5,-0 1590.5,-36\"/>\r\n",
       "<text text-anchor=\"middle\" x=\"1563.5\" y=\"-14.3\" font-family=\"Times New Roman,serif\" font-size=\"14.00\">(...)</text>\r\n",
       "</g>\r\n",
       "<!-- 1212&#45;&gt;1213 -->\r\n",
       "<g id=\"edge41\" class=\"edge\"><title>1212&#45;&gt;1213</title>\r\n",
       "<path fill=\"none\" stroke=\"black\" d=\"M1585.68,-71.9961C1582.04,-63.2804 1578.14,-53.9846 1574.66,-45.6514\"/>\r\n",
       "<polygon fill=\"black\" stroke=\"black\" points=\"1577.88,-44.2763 1570.79,-36.4034 1571.42,-46.9793 1577.88,-44.2763\"/>\r\n",
       "</g>\r\n",
       "<!-- 1364 -->\r\n",
       "<g id=\"node43\" class=\"node\"><title>1364</title>\r\n",
       "<polygon fill=\"#c0c0c0\" stroke=\"black\" points=\"1662.5,-36 1608.5,-36 1608.5,-0 1662.5,-0 1662.5,-36\"/>\r\n",
       "<text text-anchor=\"middle\" x=\"1635.5\" y=\"-14.3\" font-family=\"Times New Roman,serif\" font-size=\"14.00\">(...)</text>\r\n",
       "</g>\r\n",
       "<!-- 1212&#45;&gt;1364 -->\r\n",
       "<g id=\"edge42\" class=\"edge\"><title>1212&#45;&gt;1364</title>\r\n",
       "<path fill=\"none\" stroke=\"black\" d=\"M1613.32,-71.9961C1616.96,-63.2804 1620.86,-53.9846 1624.34,-45.6514\"/>\r\n",
       "<polygon fill=\"black\" stroke=\"black\" points=\"1627.58,-46.9793 1628.21,-36.4034 1621.12,-44.2763 1627.58,-46.9793\"/>\r\n",
       "</g>\r\n",
       "</g>\r\n",
       "</svg>\r\n"
      ],
      "text/plain": [
       "<graphviz.files.Source at 0x247d3eca4e0>"
      ]
     },
     "execution_count": 25,
     "metadata": {},
     "output_type": "execute_result"
    }
   ],
   "source": [
    "from sklearn.tree import export_graphviz\n",
    "import graphviz\n",
    "\n",
    "export_graphviz(Model_Bow,out_file=\"BOW.dot\",feature_names=vectorizer.get_feature_names(),filled=True,max_depth=5)\n",
    "with open(\"BOW.dot\") as f:\n",
    "    dot_graph=f.read()\n",
    "graphviz.Source(dot_graph)    "
   ]
  },
  {
   "cell_type": "code",
   "execution_count": 66,
   "metadata": {},
   "outputs": [],
   "source": [
    "import os\n",
    "os.environ[\"PATH\"] += os.pathsep + 'C:/Program Files (x86)/Graphviz2.38/bin/'"
   ]
  },
  {
   "cell_type": "markdown",
   "metadata": {},
   "source": [
    "## TF-IDF Vectorizer"
   ]
  },
  {
   "cell_type": "code",
   "execution_count": 53,
   "metadata": {},
   "outputs": [
    {
     "data": {
      "text/plain": [
       "TfidfVectorizer(analyzer='word', binary=False, decode_error='strict',\n",
       "        dtype=<class 'numpy.float64'>, encoding='utf-8', input='content',\n",
       "        lowercase=True, max_df=1.0, max_features=None, min_df=1,\n",
       "        ngram_range=(1, 1), norm='l2', preprocessor=None, smooth_idf=True,\n",
       "        stop_words=None, strip_accents=None, sublinear_tf=False,\n",
       "        token_pattern='(?u)\\\\b\\\\w\\\\w+\\\\b', tokenizer=None, use_idf=True,\n",
       "        vocabulary=None)"
      ]
     },
     "execution_count": 53,
     "metadata": {},
     "output_type": "execute_result"
    }
   ],
   "source": [
    "vectorizer_tfidf=TfidfVectorizer()\n",
    "vectorizer_tfidf.fit(X_train)"
   ]
  },
  {
   "cell_type": "code",
   "execution_count": 54,
   "metadata": {},
   "outputs": [],
   "source": [
    "X_Train_Tfidf=vectorizer_tfidf.transform(X_train)\n",
    "X_Train_Tfidf=preprocessing.normalize(X_Train_Tfidf)\n",
    "\n",
    "X_Test_Tfidf=vectorizer_tfidf.transform(X_test)\n",
    "X_Test_Tfidf=preprocessing.normalize(X_Test_Tfidf)"
   ]
  },
  {
   "cell_type": "code",
   "execution_count": 55,
   "metadata": {},
   "outputs": [
    {
     "name": "stdout",
     "output_type": "stream",
     "text": [
      "Shape of Train and Test Data After vectorizations\n",
      "(67000, 30737) (67000,)\n",
      "(33000, 30737) (33000,)\n"
     ]
    }
   ],
   "source": [
    "print(\"Shape of Train and Test Data After vectorizations\")\n",
    "print(X_Train_Tfidf.shape, Y_train.shape)\n",
    "print(X_Test_Tfidf.shape, Y_test.shape)"
   ]
  },
  {
   "cell_type": "markdown",
   "metadata": {},
   "source": [
    "### Finding the best value Of hyperparameter (Alpha ) "
   ]
  },
  {
   "cell_type": "code",
   "execution_count": 56,
   "metadata": {},
   "outputs": [
    {
     "name": "stdout",
     "output_type": "stream",
     "text": [
      "Best HyperParameter:  {'max_depth': 50, 'min_samples_split': 500}\n",
      "Best Accuracy: 77.41%\n"
     ]
    }
   ],
   "source": [
    "gsv=Grid_SearchCV(X_Train_Tfidf,Y_train)\n",
    "\n",
    "print(\"Best HyperParameter: \",gsv.best_params_)\n",
    "print(\"Best Accuracy: %.2f%%\"%(gsv.best_score_*100))"
   ]
  },
  {
   "cell_type": "markdown",
   "metadata": {},
   "source": [
    "### Plot"
   ]
  },
  {
   "cell_type": "code",
   "execution_count": 57,
   "metadata": {},
   "outputs": [
    {
     "data": {
      "image/png": "[encoded data removed]",
      "text/plain": [
       "<Figure size 432x288 with 1 Axes>"
      ]
     },
     "metadata": {
      "needs_background": "light"
     },
     "output_type": "display_data"
    }
   ],
   "source": [
    "plot(gsv)"
   ]
  },
  {
   "cell_type": "markdown",
   "metadata": {},
   "source": [
    "### Training the model"
   ]
  },
  {
   "cell_type": "code",
   "execution_count": 58,
   "metadata": {},
   "outputs": [
    {
     "data": {
      "text/plain": [
       "DecisionTreeClassifier(class_weight='balanced', criterion='gini',\n",
       "            max_depth=50, max_features=None, max_leaf_nodes=None,\n",
       "            min_impurity_decrease=0.0, min_impurity_split=None,\n",
       "            min_samples_leaf=1, min_samples_split=500,\n",
       "            min_weight_fraction_leaf=0.0, presort=False, random_state=None,\n",
       "            splitter='best')"
      ]
     },
     "execution_count": 58,
     "metadata": {},
     "output_type": "execute_result"
    }
   ],
   "source": [
    "Best_Param=gsv.best_params_\n",
    "depth=Best_Param['max_depth']\n",
    "min_sample_split = Best_Param['min_samples_split']\n",
    "\n",
    "Model_Tfidf=DecisionTreeClassifier(max_depth=depth,min_samples_split=min_sample_split,class_weight=\"balanced\")\n",
    "Model_Tfidf.fit(X_Train_Tfidf,Y_train)"
   ]
  },
  {
   "cell_type": "markdown",
   "metadata": {},
   "source": [
    "### Evaluating the performance of model"
   ]
  },
  {
   "cell_type": "code",
   "execution_count": 59,
   "metadata": {},
   "outputs": [
    {
     "name": "stdout",
     "output_type": "stream",
     "text": [
      "Confusion Matrix for Train set\n"
     ]
    },
    {
     "data": {
      "image/png": "[encoded data removed]",
      "text/plain": [
       "<Figure size 432x288 with 2 Axes>"
      ]
     },
     "metadata": {
      "needs_background": "light"
     },
     "output_type": "display_data"
    }
   ],
   "source": [
    "trainconfusionmatrix(Model_Tfidf,X_Train_Tfidf,Y_train)"
   ]
  },
  {
   "cell_type": "code",
   "execution_count": 60,
   "metadata": {},
   "outputs": [
    {
     "name": "stdout",
     "output_type": "stream",
     "text": [
      "Confusion Matrix for Test set\n"
     ]
    },
    {
     "data": {
      "image/png": "[encoded data removed]",
      "text/plain": [
       "<Figure size 432x288 with 2 Axes>"
      ]
     },
     "metadata": {
      "needs_background": "light"
     },
     "output_type": "display_data"
    }
   ],
   "source": [
    "testconfusionmatrix(Model_Tfidf,X_Test_Tfidf,Y_test)"
   ]
  },
  {
   "cell_type": "code",
   "execution_count": 62,
   "metadata": {},
   "outputs": [
    {
     "data": {
      "image/png": "[encoded data removed]",
      "text/plain": [
       "<Figure size 432x288 with 1 Axes>"
      ]
     },
     "metadata": {
      "needs_background": "light"
     },
     "output_type": "display_data"
    }
   ],
   "source": [
    "plot_auc_roc(Model_Tfidf,X_Train_Tfidf,X_Test_Tfidf,Y_train,Y_test)"
   ]
  },
  {
   "cell_type": "code",
   "execution_count": 63,
   "metadata": {},
   "outputs": [
    {
     "name": "stdout",
     "output_type": "stream",
     "text": [
      "Classification Report: \n",
      "\n",
      "              precision    recall  f1-score   support\n",
      "\n",
      "           0       0.31      0.73      0.44      4478\n",
      "           1       0.95      0.75      0.83     28522\n",
      "\n",
      "   micro avg       0.74      0.74      0.74     33000\n",
      "   macro avg       0.63      0.74      0.64     33000\n",
      "weighted avg       0.86      0.74      0.78     33000\n",
      "\n"
     ]
    }
   ],
   "source": [
    "print(\"Classification Report: \\n\")\n",
    "y_pred=Model_Tfidf.predict(X_Test_Tfidf)\n",
    "\n",
    "print(classification_report(Y_test, y_pred))"
   ]
  },
  {
   "cell_type": "markdown",
   "metadata": {},
   "source": [
    "### Displaying 30 most informative features"
   ]
  },
  {
   "cell_type": "code",
   "execution_count": 64,
   "metadata": {},
   "outputs": [
    {
     "name": "stdout",
     "output_type": "stream",
     "text": [
      "S.N                 Positive                                               Negative            \n",
      "__________________________________________________________________________________________\n",
      "1.\t\t20573.000\talway                         \t\t0.000\taaa\n",
      "2.\t\t20606.000\tamaz                          \t\t185.000\tpix\n",
      "3.\t\t19609.000\taw                            \t\t184.000\tpixar\n",
      "4.\t\t19600.000\taway                          \t\t183.000\tpixi\n",
      "5.\t\t19726.000\tbad                           \t\t182.000\tpizaaz\n",
      "6.\t\t22758.000\tbest                          \t\t207.000\tpizazz\n",
      "7.\t\t17364.000\tdelici                        \t\t208.000\tpizel\n",
      "8.\t\t17870.000\tdisappoint                    \t\t209.000\tpizell\n",
      "9.\t\t28703.000\teasi                          \t\t210.000\tpizza\n",
      "10.\t\t27349.000\tenjoy                         \t\t237.000\tpizzaz\n",
      "11.\t\t27608.000\texcel                         \t\t236.000\tpizzazz\n",
      "12.\t\t30083.000\tfavorit                       \t\t235.000\tpizzeria\n",
      "13.\t\t29855.000\tfind                          \t\t234.000\tpizzl\n",
      "14.\t\t29478.000\tgood                          \t\t232.000\tpjs\n",
      "15.\t\t24406.000\tgreat                         \t\t231.000\tpjtip\n",
      "16.\t\t23775.000\thowev                         \t\t230.000\tpkg\n",
      "17.\t\t25293.000\tkeep                          \t\t229.000\tpkgd\n",
      "18.\t\t5625.000\tlove                          \t\t228.000\tpkgs\n",
      "19.\t\t6076.000\tnice                          \t\t227.000\tpkirk\n",
      "20.\t\t1576.000\tperfect                       \t\t226.000\tpks\n",
      "21.\t\t3307.000\tproduct                       \t\t225.000\tpkt\n",
      "22.\t\t13963.000\ttast                          \t\t181.000\tpkts\n",
      "23.\t\t13949.000\ttasti                         \t\t224.000\tpku\n",
      "24.\t\t9115.000\tterribl                       \t\t222.000\tpkwi\n",
      "25.\t\t9529.000\tthought                       \t\t221.000\tpla\n",
      "26.\t\t8339.000\tunfortun                      \t\t220.000\tplacat\n",
      "27.\t\t10792.000\tuse                           \t\t219.000\tplace\n",
      "28.\t\t10400.000\twonder                        \t\t218.000\tplacebo\n",
      "29.\t\t10161.000\tworst                         \t\t217.000\tplacement\n",
      "30.\t\t10187.000\twould                         \t\t216.000\tplacer\n"
     ]
    }
   ],
   "source": [
    "show_30_informative_feature(vectorizer_tfidf,Model_Tfidf)"
   ]
  },
  {
   "cell_type": "code",
   "execution_count": 67,
   "metadata": {},
   "outputs": [
    {
     "data": {
      "image/svg+xml": [
       "<?xml version=\"1.0\" encoding=\"UTF-8\" standalone=\"no\"?>\r\n",
       "<!DOCTYPE svg PUBLIC \"-//W3C//DTD SVG 1.1//EN\"\r\n",
       " \"http://www.w3.org/Graphics/SVG/1.1/DTD/svg11.dtd\">\r\n",
       "<!-- Generated by graphviz version 2.38.0 (20140413.2041)\r\n",
       " -->\r\n",
       "<!-- Title: Tree Pages: 1 -->\r\n",
       "<svg width=\"1877pt\" height=\"668pt\"\r\n",
       " viewBox=\"0.00 0.00 1876.50 668.00\" xmlns=\"http://www.w3.org/2000/svg\" xmlns:xlink=\"http://www.w3.org/1999/xlink\">\r\n",
       "<g id=\"graph0\" class=\"graph\" transform=\"scale(1 1) rotate(0) translate(4 664)\">\r\n",
       "<title>Tree</title>\r\n",
       "<polygon fill=\"white\" stroke=\"none\" points=\"-4,4 -4,-664 1872.5,-664 1872.5,4 -4,4\"/>\r\n",
       "<!-- 0 -->\r\n",
       "<g id=\"node1\" class=\"node\"><title>0</title>\r\n",
       "<polygon fill=\"none\" stroke=\"black\" points=\"1532.5,-660 1366.5,-660 1366.5,-592 1532.5,-592 1532.5,-660\"/>\r\n",
       "<text text-anchor=\"middle\" x=\"1449.5\" y=\"-644.8\" font-family=\"Times New Roman,serif\" font-size=\"14.00\">great &lt;= 0.05</text>\r\n",
       "<text text-anchor=\"middle\" x=\"1449.5\" y=\"-629.8\" font-family=\"Times New Roman,serif\" font-size=\"14.00\">gini = 0.5</text>\r\n",
       "<text text-anchor=\"middle\" x=\"1449.5\" y=\"-614.8\" font-family=\"Times New Roman,serif\" font-size=\"14.00\">samples = 67000</text>\r\n",
       "<text text-anchor=\"middle\" x=\"1449.5\" y=\"-599.8\" font-family=\"Times New Roman,serif\" font-size=\"14.00\">value = [33500.0, 33500.0]</text>\r\n",
       "</g>\r\n",
       "<!-- 1 -->\r\n",
       "<g id=\"node2\" class=\"node\"><title>1</title>\r\n",
       "<polygon fill=\"#e58139\" fill-opacity=\"0.184314\" stroke=\"black\" points=\"1402,-556 1209,-556 1209,-488 1402,-488 1402,-556\"/>\r\n",
       "<text text-anchor=\"middle\" x=\"1305.5\" y=\"-540.8\" font-family=\"Times New Roman,serif\" font-size=\"14.00\">best &lt;= 0.026</text>\r\n",
       "<text text-anchor=\"middle\" x=\"1305.5\" y=\"-525.8\" font-family=\"Times New Roman,serif\" font-size=\"14.00\">gini = 0.495</text>\r\n",
       "<text text-anchor=\"middle\" x=\"1305.5\" y=\"-510.8\" font-family=\"Times New Roman,serif\" font-size=\"14.00\">samples = 52232</text>\r\n",
       "<text text-anchor=\"middle\" x=\"1305.5\" y=\"-495.8\" font-family=\"Times New Roman,serif\" font-size=\"14.00\">value = [31238.868, 25441.713]</text>\r\n",
       "</g>\r\n",
       "<!-- 0&#45;&gt;1 -->\r\n",
       "<g id=\"edge1\" class=\"edge\"><title>0&#45;&gt;1</title>\r\n",
       "<path fill=\"none\" stroke=\"black\" d=\"M1402.75,-591.884C1389.42,-582.442 1374.77,-572.064 1360.97,-562.292\"/>\r\n",
       "<polygon fill=\"black\" stroke=\"black\" points=\"1362.69,-559.223 1352.51,-556.299 1358.65,-564.936 1362.69,-559.223\"/>\r\n",
       "<text text-anchor=\"middle\" x=\"1356.72\" y=\"-577.243\" font-family=\"Times New Roman,serif\" font-size=\"14.00\">True</text>\r\n",
       "</g>\r\n",
       "<!-- 1240 -->\r\n",
       "<g id=\"node37\" class=\"node\"><title>1240</title>\r\n",
       "<polygon fill=\"#399de5\" fill-opacity=\"0.717647\" stroke=\"black\" points=\"1684,-556 1505,-556 1505,-488 1684,-488 1684,-556\"/>\r\n",
       "<text text-anchor=\"middle\" x=\"1594.5\" y=\"-540.8\" font-family=\"Times New Roman,serif\" font-size=\"14.00\">disappoint &lt;= 0.051</text>\r\n",
       "<text text-anchor=\"middle\" x=\"1594.5\" y=\"-525.8\" font-family=\"Times New Roman,serif\" font-size=\"14.00\">gini = 0.342</text>\r\n",
       "<text text-anchor=\"middle\" x=\"1594.5\" y=\"-510.8\" font-family=\"Times New Roman,serif\" font-size=\"14.00\">samples = 14768</text>\r\n",
       "<text text-anchor=\"middle\" x=\"1594.5\" y=\"-495.8\" font-family=\"Times New Roman,serif\" font-size=\"14.00\">value = [2261.132, 8058.287]</text>\r\n",
       "</g>\r\n",
       "<!-- 0&#45;&gt;1240 -->\r\n",
       "<g id=\"edge36\" class=\"edge\"><title>0&#45;&gt;1240</title>\r\n",
       "<path fill=\"none\" stroke=\"black\" d=\"M1496.58,-591.884C1510,-582.442 1524.75,-572.064 1538.64,-562.292\"/>\r\n",
       "<polygon fill=\"black\" stroke=\"black\" points=\"1541,-564.916 1547.16,-556.299 1536.97,-559.19 1541,-564.916\"/>\r\n",
       "<text text-anchor=\"middle\" x=\"1542.87\" y=\"-577.229\" font-family=\"Times New Roman,serif\" font-size=\"14.00\">False</text>\r\n",
       "</g>\r\n",
       "<!-- 2 -->\r\n",
       "<g id=\"node3\" class=\"node\"><title>2</title>\r\n",
       "<polygon fill=\"#e58139\" fill-opacity=\"0.286275\" stroke=\"black\" points=\"1036,-452 843,-452 843,-384 1036,-384 1036,-452\"/>\r\n",
       "<text text-anchor=\"middle\" x=\"939.5\" y=\"-436.8\" font-family=\"Times New Roman,serif\" font-size=\"14.00\">love &lt;= 0.068</text>\r\n",
       "<text text-anchor=\"middle\" x=\"939.5\" y=\"-421.8\" font-family=\"Times New Roman,serif\" font-size=\"14.00\">gini = 0.486</text>\r\n",
       "<text text-anchor=\"middle\" x=\"939.5\" y=\"-406.8\" font-family=\"Times New Roman,serif\" font-size=\"14.00\">samples = 44785</text>\r\n",
       "<text text-anchor=\"middle\" x=\"939.5\" y=\"-391.8\" font-family=\"Times New Roman,serif\" font-size=\"14.00\">value = [29975.042, 21394.463]</text>\r\n",
       "</g>\r\n",
       "<!-- 1&#45;&gt;2 -->\r\n",
       "<g id=\"edge2\" class=\"edge\"><title>1&#45;&gt;2</title>\r\n",
       "<path fill=\"none\" stroke=\"black\" d=\"M1208.86,-494.067C1158.72,-480.094 1097.36,-462.993 1045.87,-448.645\"/>\r\n",
       "<polygon fill=\"black\" stroke=\"black\" points=\"1046.62,-445.22 1036.05,-445.907 1044.74,-451.963 1046.62,-445.22\"/>\r\n",
       "</g>\r\n",
       "<!-- 1077 -->\r\n",
       "<g id=\"node28\" class=\"node\"><title>1077</title>\r\n",
       "<polygon fill=\"#399de5\" fill-opacity=\"0.686275\" stroke=\"black\" points=\"1395,-452 1216,-452 1216,-384 1395,-384 1395,-452\"/>\r\n",
       "<text text-anchor=\"middle\" x=\"1305.5\" y=\"-436.8\" font-family=\"Times New Roman,serif\" font-size=\"14.00\">disappoint &lt;= 0.037</text>\r\n",
       "<text text-anchor=\"middle\" x=\"1305.5\" y=\"-421.8\" font-family=\"Times New Roman,serif\" font-size=\"14.00\">gini = 0.363</text>\r\n",
       "<text text-anchor=\"middle\" x=\"1305.5\" y=\"-406.8\" font-family=\"Times New Roman,serif\" font-size=\"14.00\">samples = 7447</text>\r\n",
       "<text text-anchor=\"middle\" x=\"1305.5\" y=\"-391.8\" font-family=\"Times New Roman,serif\" font-size=\"14.00\">value = [1263.827, 4047.249]</text>\r\n",
       "</g>\r\n",
       "<!-- 1&#45;&gt;1077 -->\r\n",
       "<g id=\"edge27\" class=\"edge\"><title>1&#45;&gt;1077</title>\r\n",
       "<path fill=\"none\" stroke=\"black\" d=\"M1305.5,-487.884C1305.5,-479.778 1305.5,-470.982 1305.5,-462.472\"/>\r\n",
       "<polygon fill=\"black\" stroke=\"black\" points=\"1309,-462.299 1305.5,-452.299 1302,-462.299 1309,-462.299\"/>\r\n",
       "</g>\r\n",
       "<!-- 3 -->\r\n",
       "<g id=\"node4\" class=\"node\"><title>3</title>\r\n",
       "<polygon fill=\"#e58139\" fill-opacity=\"0.384314\" stroke=\"black\" points=\"668,-348 475,-348 475,-280 668,-280 668,-348\"/>\r\n",
       "<text text-anchor=\"middle\" x=\"571.5\" y=\"-332.8\" font-family=\"Times New Roman,serif\" font-size=\"14.00\">delici &lt;= 0.003</text>\r\n",
       "<text text-anchor=\"middle\" x=\"571.5\" y=\"-317.8\" font-family=\"Times New Roman,serif\" font-size=\"14.00\">gini = 0.472</text>\r\n",
       "<text text-anchor=\"middle\" x=\"571.5\" y=\"-302.8\" font-family=\"Times New Roman,serif\" font-size=\"14.00\">samples = 36912</text>\r\n",
       "<text text-anchor=\"middle\" x=\"571.5\" y=\"-287.8\" font-family=\"Times New Roman,serif\" font-size=\"14.00\">value = [27954.639, 17205.761]</text>\r\n",
       "</g>\r\n",
       "<!-- 2&#45;&gt;3 -->\r\n",
       "<g id=\"edge3\" class=\"edge\"><title>2&#45;&gt;3</title>\r\n",
       "<path fill=\"none\" stroke=\"black\" d=\"M842.812,-390.201C792.197,-376.172 730.107,-358.962 678.103,-344.548\"/>\r\n",
       "<polygon fill=\"black\" stroke=\"black\" points=\"678.752,-341.095 668.18,-341.797 676.882,-347.841 678.752,-341.095\"/>\r\n",
       "</g>\r\n",
       "<!-- 920 -->\r\n",
       "<g id=\"node19\" class=\"node\"><title>920</title>\r\n",
       "<polygon fill=\"#399de5\" fill-opacity=\"0.517647\" stroke=\"black\" points=\"1029,-348 850,-348 850,-280 1029,-280 1029,-348\"/>\r\n",
       "<text text-anchor=\"middle\" x=\"939.5\" y=\"-332.8\" font-family=\"Times New Roman,serif\" font-size=\"14.00\">disappoint &lt;= 0.073</text>\r\n",
       "<text text-anchor=\"middle\" x=\"939.5\" y=\"-317.8\" font-family=\"Times New Roman,serif\" font-size=\"14.00\">gini = 0.439</text>\r\n",
       "<text text-anchor=\"middle\" x=\"939.5\" y=\"-302.8\" font-family=\"Times New Roman,serif\" font-size=\"14.00\">samples = 7873</text>\r\n",
       "<text text-anchor=\"middle\" x=\"939.5\" y=\"-287.8\" font-family=\"Times New Roman,serif\" font-size=\"14.00\">value = [2020.403, 4188.702]</text>\r\n",
       "</g>\r\n",
       "<!-- 2&#45;&gt;920 -->\r\n",
       "<g id=\"edge18\" class=\"edge\"><title>2&#45;&gt;920</title>\r\n",
       "<path fill=\"none\" stroke=\"black\" d=\"M939.5,-383.884C939.5,-375.778 939.5,-366.982 939.5,-358.472\"/>\r\n",
       "<polygon fill=\"black\" stroke=\"black\" points=\"943,-358.299 939.5,-348.299 936,-358.299 943,-358.299\"/>\r\n",
       "</g>\r\n",
       "<!-- 4 -->\r\n",
       "<g id=\"node5\" class=\"node\"><title>4</title>\r\n",
       "<polygon fill=\"#e58139\" fill-opacity=\"0.435294\" stroke=\"black\" points=\"380,-244 187,-244 187,-176 380,-176 380,-244\"/>\r\n",
       "<text text-anchor=\"middle\" x=\"283.5\" y=\"-228.8\" font-family=\"Times New Roman,serif\" font-size=\"14.00\">disappoint &lt;= 0.047</text>\r\n",
       "<text text-anchor=\"middle\" x=\"283.5\" y=\"-213.8\" font-family=\"Times New Roman,serif\" font-size=\"14.00\">gini = 0.461</text>\r\n",
       "<text text-anchor=\"middle\" x=\"283.5\" y=\"-198.8\" font-family=\"Times New Roman,serif\" font-size=\"14.00\">samples = 33798</text>\r\n",
       "<text text-anchor=\"middle\" x=\"283.5\" y=\"-183.8\" font-family=\"Times New Roman,serif\" font-size=\"14.00\">value = [27494.675, 15504.366]</text>\r\n",
       "</g>\r\n",
       "<!-- 3&#45;&gt;4 -->\r\n",
       "<g id=\"edge4\" class=\"edge\"><title>3&#45;&gt;4</title>\r\n",
       "<path fill=\"none\" stroke=\"black\" d=\"M477.995,-279.884C448.798,-269.543 416.43,-258.079 386.613,-247.519\"/>\r\n",
       "<polygon fill=\"black\" stroke=\"black\" points=\"387.623,-244.164 377.029,-244.125 385.286,-250.762 387.623,-244.164\"/>\r\n",
       "</g>\r\n",
       "<!-- 869 -->\r\n",
       "<g id=\"node12\" class=\"node\"><title>869</title>\r\n",
       "<polygon fill=\"#399de5\" fill-opacity=\"0.729412\" stroke=\"black\" points=\"658,-244 485,-244 485,-176 658,-176 658,-244\"/>\r\n",
       "<text text-anchor=\"middle\" x=\"571.5\" y=\"-228.8\" font-family=\"Times New Roman,serif\" font-size=\"14.00\">product &lt;= 0.035</text>\r\n",
       "<text text-anchor=\"middle\" x=\"571.5\" y=\"-213.8\" font-family=\"Times New Roman,serif\" font-size=\"14.00\">gini = 0.335</text>\r\n",
       "<text text-anchor=\"middle\" x=\"571.5\" y=\"-198.8\" font-family=\"Times New Roman,serif\" font-size=\"14.00\">samples = 3114</text>\r\n",
       "<text text-anchor=\"middle\" x=\"571.5\" y=\"-183.8\" font-family=\"Times New Roman,serif\" font-size=\"14.00\">value = [459.964, 1701.395]</text>\r\n",
       "</g>\r\n",
       "<!-- 3&#45;&gt;869 -->\r\n",
       "<g id=\"edge11\" class=\"edge\"><title>3&#45;&gt;869</title>\r\n",
       "<path fill=\"none\" stroke=\"black\" d=\"M571.5,-279.884C571.5,-271.778 571.5,-262.982 571.5,-254.472\"/>\r\n",
       "<polygon fill=\"black\" stroke=\"black\" points=\"575,-254.299 571.5,-244.299 568,-254.299 575,-254.299\"/>\r\n",
       "</g>\r\n",
       "<!-- 5 -->\r\n",
       "<g id=\"node6\" class=\"node\"><title>5</title>\r\n",
       "<polygon fill=\"#e58139\" fill-opacity=\"0.380392\" stroke=\"black\" points=\"179,-140 0,-140 0,-72 179,-72 179,-140\"/>\r\n",
       "<text text-anchor=\"middle\" x=\"89.5\" y=\"-124.8\" font-family=\"Times New Roman,serif\" font-size=\"14.00\">excel &lt;= 0.062</text>\r\n",
       "<text text-anchor=\"middle\" x=\"89.5\" y=\"-109.8\" font-family=\"Times New Roman,serif\" font-size=\"14.00\">gini = 0.472</text>\r\n",
       "<text text-anchor=\"middle\" x=\"89.5\" y=\"-94.8\" font-family=\"Times New Roman,serif\" font-size=\"14.00\">samples = 32633</text>\r\n",
       "<text text-anchor=\"middle\" x=\"89.5\" y=\"-79.8\" font-family=\"Times New Roman,serif\" font-size=\"14.00\">value = [24636.02, 15221.46]</text>\r\n",
       "</g>\r\n",
       "<!-- 4&#45;&gt;5 -->\r\n",
       "<g id=\"edge5\" class=\"edge\"><title>4&#45;&gt;5</title>\r\n",
       "<path fill=\"none\" stroke=\"black\" d=\"M220.514,-175.884C201.698,-165.991 180.927,-155.07 161.576,-144.895\"/>\r\n",
       "<polygon fill=\"black\" stroke=\"black\" points=\"162.982,-141.681 152.502,-140.125 159.724,-147.876 162.982,-141.681\"/>\r\n",
       "</g>\r\n",
       "<!-- 778 -->\r\n",
       "<g id=\"node9\" class=\"node\"><title>778</title>\r\n",
       "<polygon fill=\"#e58139\" fill-opacity=\"0.901961\" stroke=\"black\" points=\"370,-140 197,-140 197,-72 370,-72 370,-140\"/>\r\n",
       "<text text-anchor=\"middle\" x=\"283.5\" y=\"-124.8\" font-family=\"Times New Roman,serif\" font-size=\"14.00\">wont &lt;= 0.054</text>\r\n",
       "<text text-anchor=\"middle\" x=\"283.5\" y=\"-109.8\" font-family=\"Times New Roman,serif\" font-size=\"14.00\">gini = 0.164</text>\r\n",
       "<text text-anchor=\"middle\" x=\"283.5\" y=\"-94.8\" font-family=\"Times New Roman,serif\" font-size=\"14.00\">samples = 1165</text>\r\n",
       "<text text-anchor=\"middle\" x=\"283.5\" y=\"-79.8\" font-family=\"Times New Roman,serif\" font-size=\"14.00\">value = [2858.655, 282.906]</text>\r\n",
       "</g>\r\n",
       "<!-- 4&#45;&gt;778 -->\r\n",
       "<g id=\"edge8\" class=\"edge\"><title>4&#45;&gt;778</title>\r\n",
       "<path fill=\"none\" stroke=\"black\" d=\"M283.5,-175.884C283.5,-167.778 283.5,-158.982 283.5,-150.472\"/>\r\n",
       "<polygon fill=\"black\" stroke=\"black\" points=\"287,-150.299 283.5,-140.299 280,-150.299 287,-150.299\"/>\r\n",
       "</g>\r\n",
       "<!-- 6 -->\r\n",
       "<g id=\"node7\" class=\"node\"><title>6</title>\r\n",
       "<polygon fill=\"#c0c0c0\" stroke=\"black\" points=\"99.5,-36 45.5,-36 45.5,-0 99.5,-0 99.5,-36\"/>\r\n",
       "<text text-anchor=\"middle\" x=\"72.5\" y=\"-14.3\" font-family=\"Times New Roman,serif\" font-size=\"14.00\">(...)</text>\r\n",
       "</g>\r\n",
       "<!-- 5&#45;&gt;6 -->\r\n",
       "<g id=\"edge6\" class=\"edge\"><title>5&#45;&gt;6</title>\r\n",
       "<path fill=\"none\" stroke=\"black\" d=\"M82.976,-71.9961C81.3093,-63.5646 79.5353,-54.5902 77.93,-46.4696\"/>\r\n",
       "<polygon fill=\"black\" stroke=\"black\" points=\"81.3131,-45.5348 75.9402,-36.4034 74.4459,-46.8923 81.3131,-45.5348\"/>\r\n",
       "</g>\r\n",
       "<!-- 737 -->\r\n",
       "<g id=\"node8\" class=\"node\"><title>737</title>\r\n",
       "<polygon fill=\"#c0c0c0\" stroke=\"black\" points=\"171.5,-36 117.5,-36 117.5,-0 171.5,-0 171.5,-36\"/>\r\n",
       "<text text-anchor=\"middle\" x=\"144.5\" y=\"-14.3\" font-family=\"Times New Roman,serif\" font-size=\"14.00\">(...)</text>\r\n",
       "</g>\r\n",
       "<!-- 5&#45;&gt;737 -->\r\n",
       "<g id=\"edge7\" class=\"edge\"><title>5&#45;&gt;737</title>\r\n",
       "<path fill=\"none\" stroke=\"black\" d=\"M110.607,-71.9961C116.363,-62.9962 122.514,-53.3778 127.975,-44.8393\"/>\r\n",
       "<polygon fill=\"black\" stroke=\"black\" points=\"130.931,-46.7136 133.37,-36.4034 125.034,-42.9422 130.931,-46.7136\"/>\r\n",
       "</g>\r\n",
       "<!-- 779 -->\r\n",
       "<g id=\"node10\" class=\"node\"><title>779</title>\r\n",
       "<polygon fill=\"#c0c0c0\" stroke=\"black\" points=\"255.5,-36 201.5,-36 201.5,-0 255.5,-0 255.5,-36\"/>\r\n",
       "<text text-anchor=\"middle\" x=\"228.5\" y=\"-14.3\" font-family=\"Times New Roman,serif\" font-size=\"14.00\">(...)</text>\r\n",
       "</g>\r\n",
       "<!-- 778&#45;&gt;779 -->\r\n",
       "<g id=\"edge9\" class=\"edge\"><title>778&#45;&gt;779</title>\r\n",
       "<path fill=\"none\" stroke=\"black\" d=\"M262.393,-71.9961C256.637,-62.9962 250.486,-53.3778 245.025,-44.8393\"/>\r\n",
       "<polygon fill=\"black\" stroke=\"black\" points=\"247.966,-42.9422 239.63,-36.4034 242.069,-46.7136 247.966,-42.9422\"/>\r\n",
       "</g>\r\n",
       "<!-- 868 -->\r\n",
       "<g id=\"node11\" class=\"node\"><title>868</title>\r\n",
       "<polygon fill=\"#c0c0c0\" stroke=\"black\" points=\"327.5,-36 273.5,-36 273.5,-0 327.5,-0 327.5,-36\"/>\r\n",
       "<text text-anchor=\"middle\" x=\"300.5\" y=\"-14.3\" font-family=\"Times New Roman,serif\" font-size=\"14.00\">(...)</text>\r\n",
       "</g>\r\n",
       "<!-- 778&#45;&gt;868 -->\r\n",
       "<g id=\"edge10\" class=\"edge\"><title>778&#45;&gt;868</title>\r\n",
       "<path fill=\"none\" stroke=\"black\" d=\"M290.024,-71.9961C291.691,-63.5646 293.465,-54.5902 295.07,-46.4696\"/>\r\n",
       "<polygon fill=\"black\" stroke=\"black\" points=\"298.554,-46.8923 297.06,-36.4034 291.687,-45.5348 298.554,-46.8923\"/>\r\n",
       "</g>\r\n",
       "<!-- 870 -->\r\n",
       "<g id=\"node13\" class=\"node\"><title>870</title>\r\n",
       "<polygon fill=\"#399de5\" fill-opacity=\"0.815686\" stroke=\"black\" points=\"561,-140 388,-140 388,-72 561,-72 561,-140\"/>\r\n",
       "<text text-anchor=\"middle\" x=\"474.5\" y=\"-124.8\" font-family=\"Times New Roman,serif\" font-size=\"14.00\">away &lt;= 0.077</text>\r\n",
       "<text text-anchor=\"middle\" x=\"474.5\" y=\"-109.8\" font-family=\"Times New Roman,serif\" font-size=\"14.00\">gini = 0.264</text>\r\n",
       "<text text-anchor=\"middle\" x=\"474.5\" y=\"-94.8\" font-family=\"Times New Roman,serif\" font-size=\"14.00\">samples = 2523</text>\r\n",
       "<text text-anchor=\"middle\" x=\"474.5\" y=\"-79.8\" font-family=\"Times New Roman,serif\" font-size=\"14.00\">value = [257.924, 1393.594]</text>\r\n",
       "</g>\r\n",
       "<!-- 869&#45;&gt;870 -->\r\n",
       "<g id=\"edge12\" class=\"edge\"><title>869&#45;&gt;870</title>\r\n",
       "<path fill=\"none\" stroke=\"black\" d=\"M540.007,-175.884C531.451,-166.887 522.088,-157.041 513.184,-147.678\"/>\r\n",
       "<polygon fill=\"black\" stroke=\"black\" points=\"515.595,-145.134 506.167,-140.299 510.522,-149.958 515.595,-145.134\"/>\r\n",
       "</g>\r\n",
       "<!-- 917 -->\r\n",
       "<g id=\"node16\" class=\"node\"><title>917</title>\r\n",
       "<polygon fill=\"#399de5\" fill-opacity=\"0.345098\" stroke=\"black\" points=\"738,-140 579,-140 579,-72 738,-72 738,-140\"/>\r\n",
       "<text text-anchor=\"middle\" x=\"658.5\" y=\"-124.8\" font-family=\"Times New Roman,serif\" font-size=\"14.00\">delici &lt;= 0.128</text>\r\n",
       "<text text-anchor=\"middle\" x=\"658.5\" y=\"-109.8\" font-family=\"Times New Roman,serif\" font-size=\"14.00\">gini = 0.478</text>\r\n",
       "<text text-anchor=\"middle\" x=\"658.5\" y=\"-94.8\" font-family=\"Times New Roman,serif\" font-size=\"14.00\">samples = 591</text>\r\n",
       "<text text-anchor=\"middle\" x=\"658.5\" y=\"-79.8\" font-family=\"Times New Roman,serif\" font-size=\"14.00\">value = [202.04, 307.801]</text>\r\n",
       "</g>\r\n",
       "<!-- 869&#45;&gt;917 -->\r\n",
       "<g id=\"edge15\" class=\"edge\"><title>869&#45;&gt;917</title>\r\n",
       "<path fill=\"none\" stroke=\"black\" d=\"M599.746,-175.884C607.344,-166.976 615.652,-157.235 623.566,-147.957\"/>\r\n",
       "<polygon fill=\"black\" stroke=\"black\" points=\"626.271,-150.179 630.098,-140.299 620.945,-145.636 626.271,-150.179\"/>\r\n",
       "</g>\r\n",
       "<!-- 871 -->\r\n",
       "<g id=\"node14\" class=\"node\"><title>871</title>\r\n",
       "<polygon fill=\"#c0c0c0\" stroke=\"black\" points=\"449.5,-36 395.5,-36 395.5,-0 449.5,-0 449.5,-36\"/>\r\n",
       "<text text-anchor=\"middle\" x=\"422.5\" y=\"-14.3\" font-family=\"Times New Roman,serif\" font-size=\"14.00\">(...)</text>\r\n",
       "</g>\r\n",
       "<!-- 870&#45;&gt;871 -->\r\n",
       "<g id=\"edge13\" class=\"edge\"><title>870&#45;&gt;871</title>\r\n",
       "<path fill=\"none\" stroke=\"black\" d=\"M454.544,-71.9961C449.16,-63.0909 443.409,-53.5802 438.287,-45.1093\"/>\r\n",
       "<polygon fill=\"black\" stroke=\"black\" points=\"441.192,-43.1497 433.023,-36.4034 435.202,-46.7717 441.192,-43.1497\"/>\r\n",
       "</g>\r\n",
       "<!-- 916 -->\r\n",
       "<g id=\"node15\" class=\"node\"><title>916</title>\r\n",
       "<polygon fill=\"#c0c0c0\" stroke=\"black\" points=\"521.5,-36 467.5,-36 467.5,-0 521.5,-0 521.5,-36\"/>\r\n",
       "<text text-anchor=\"middle\" x=\"494.5\" y=\"-14.3\" font-family=\"Times New Roman,serif\" font-size=\"14.00\">(...)</text>\r\n",
       "</g>\r\n",
       "<!-- 870&#45;&gt;916 -->\r\n",
       "<g id=\"edge14\" class=\"edge\"><title>870&#45;&gt;916</title>\r\n",
       "<path fill=\"none\" stroke=\"black\" d=\"M482.175,-71.9961C484.158,-63.4699 486.27,-54.3885 488.175,-46.1962\"/>\r\n",
       "<polygon fill=\"black\" stroke=\"black\" points=\"491.597,-46.9363 490.453,-36.4034 484.778,-45.3506 491.597,-46.9363\"/>\r\n",
       "</g>\r\n",
       "<!-- 918 -->\r\n",
       "<g id=\"node17\" class=\"node\"><title>918</title>\r\n",
       "<polygon fill=\"#c0c0c0\" stroke=\"black\" points=\"634.5,-36 580.5,-36 580.5,-0 634.5,-0 634.5,-36\"/>\r\n",
       "<text text-anchor=\"middle\" x=\"607.5\" y=\"-14.3\" font-family=\"Times New Roman,serif\" font-size=\"14.00\">(...)</text>\r\n",
       "</g>\r\n",
       "<!-- 917&#45;&gt;918 -->\r\n",
       "<g id=\"edge16\" class=\"edge\"><title>917&#45;&gt;918</title>\r\n",
       "<path fill=\"none\" stroke=\"black\" d=\"M638.928,-71.9961C633.647,-63.0909 628.007,-53.5802 622.983,-45.1093\"/>\r\n",
       "<polygon fill=\"black\" stroke=\"black\" points=\"625.932,-43.2194 617.821,-36.4034 619.911,-46.79 625.932,-43.2194\"/>\r\n",
       "</g>\r\n",
       "<!-- 919 -->\r\n",
       "<g id=\"node18\" class=\"node\"><title>919</title>\r\n",
       "<polygon fill=\"#c0c0c0\" stroke=\"black\" points=\"706.5,-36 652.5,-36 652.5,-0 706.5,-0 706.5,-36\"/>\r\n",
       "<text text-anchor=\"middle\" x=\"679.5\" y=\"-14.3\" font-family=\"Times New Roman,serif\" font-size=\"14.00\">(...)</text>\r\n",
       "</g>\r\n",
       "<!-- 917&#45;&gt;919 -->\r\n",
       "<g id=\"edge17\" class=\"edge\"><title>917&#45;&gt;919</title>\r\n",
       "<path fill=\"none\" stroke=\"black\" d=\"M666.559,-71.9961C668.641,-63.4699 670.859,-54.3885 672.859,-46.1962\"/>\r\n",
       "<polygon fill=\"black\" stroke=\"black\" points=\"676.278,-46.9482 675.25,-36.4034 669.478,-45.2877 676.278,-46.9482\"/>\r\n",
       "</g>\r\n",
       "<!-- 921 -->\r\n",
       "<g id=\"node20\" class=\"node\"><title>921</title>\r\n",
       "<polygon fill=\"#399de5\" fill-opacity=\"0.576471\" stroke=\"black\" points=\"945,-244 766,-244 766,-176 945,-176 945,-244\"/>\r\n",
       "<text text-anchor=\"middle\" x=\"855.5\" y=\"-228.8\" font-family=\"Times New Roman,serif\" font-size=\"14.00\">tast &lt;= 0.062</text>\r\n",
       "<text text-anchor=\"middle\" x=\"855.5\" y=\"-213.8\" font-family=\"Times New Roman,serif\" font-size=\"14.00\">gini = 0.418</text>\r\n",
       "<text text-anchor=\"middle\" x=\"855.5\" y=\"-198.8\" font-family=\"Times New Roman,serif\" font-size=\"14.00\">samples = 7705</text>\r\n",
       "<text text-anchor=\"middle\" x=\"855.5\" y=\"-183.8\" font-family=\"Times New Roman,serif\" font-size=\"14.00\">value = [1749.583, 4129.292]</text>\r\n",
       "</g>\r\n",
       "<!-- 920&#45;&gt;921 -->\r\n",
       "<g id=\"edge19\" class=\"edge\"><title>920&#45;&gt;921</title>\r\n",
       "<path fill=\"none\" stroke=\"black\" d=\"M912.228,-279.884C904.965,-271.065 897.031,-261.43 889.458,-252.235\"/>\r\n",
       "<polygon fill=\"black\" stroke=\"black\" points=\"891.982,-249.794 882.923,-244.299 886.578,-254.244 891.982,-249.794\"/>\r\n",
       "</g>\r\n",
       "<!-- 1076 -->\r\n",
       "<g id=\"node27\" class=\"node\"><title>1076</title>\r\n",
       "<polygon fill=\"#e58139\" fill-opacity=\"0.780392\" stroke=\"black\" points=\"1109.5,-236.5 963.5,-236.5 963.5,-183.5 1109.5,-183.5 1109.5,-236.5\"/>\r\n",
       "<text text-anchor=\"middle\" x=\"1036.5\" y=\"-221.3\" font-family=\"Times New Roman,serif\" font-size=\"14.00\">gini = 0.295</text>\r\n",
       "<text text-anchor=\"middle\" x=\"1036.5\" y=\"-206.3\" font-family=\"Times New Roman,serif\" font-size=\"14.00\">samples = 168</text>\r\n",
       "<text text-anchor=\"middle\" x=\"1036.5\" y=\"-191.3\" font-family=\"Times New Roman,serif\" font-size=\"14.00\">value = [270.82, 59.41]</text>\r\n",
       "</g>\r\n",
       "<!-- 920&#45;&gt;1076 -->\r\n",
       "<g id=\"edge26\" class=\"edge\"><title>920&#45;&gt;1076</title>\r\n",
       "<path fill=\"none\" stroke=\"black\" d=\"M970.993,-279.884C981.975,-268.336 994.288,-255.387 1005.25,-243.86\"/>\r\n",
       "<polygon fill=\"black\" stroke=\"black\" points=\"1007.88,-246.178 1012.23,-236.52 1002.8,-241.354 1007.88,-246.178\"/>\r\n",
       "</g>\r\n",
       "<!-- 922 -->\r\n",
       "<g id=\"node21\" class=\"node\"><title>922</title>\r\n",
       "<polygon fill=\"#399de5\" fill-opacity=\"0.682353\" stroke=\"black\" points=\"935,-140 756,-140 756,-72 935,-72 935,-140\"/>\r\n",
       "<text text-anchor=\"middle\" x=\"845.5\" y=\"-124.8\" font-family=\"Times New Roman,serif\" font-size=\"14.00\">unfortun &lt;= 0.028</text>\r\n",
       "<text text-anchor=\"middle\" x=\"845.5\" y=\"-109.8\" font-family=\"Times New Roman,serif\" font-size=\"14.00\">gini = 0.366</text>\r\n",
       "<text text-anchor=\"middle\" x=\"845.5\" y=\"-94.8\" font-family=\"Times New Roman,serif\" font-size=\"14.00\">samples = 6293</text>\r\n",
       "<text text-anchor=\"middle\" x=\"845.5\" y=\"-79.8\" font-family=\"Times New Roman,serif\" font-size=\"14.00\">value = [1087.579, 3417.501]</text>\r\n",
       "</g>\r\n",
       "<!-- 921&#45;&gt;922 -->\r\n",
       "<g id=\"edge20\" class=\"edge\"><title>921&#45;&gt;922</title>\r\n",
       "<path fill=\"none\" stroke=\"black\" d=\"M852.253,-175.884C851.459,-167.778 850.596,-158.982 849.762,-150.472\"/>\r\n",
       "<polygon fill=\"black\" stroke=\"black\" points=\"853.224,-149.91 848.765,-140.299 846.257,-150.593 853.224,-149.91\"/>\r\n",
       "</g>\r\n",
       "<!-- 1031 -->\r\n",
       "<g id=\"node24\" class=\"node\"><title>1031</title>\r\n",
       "<polygon fill=\"#399de5\" fill-opacity=\"0.070588\" stroke=\"black\" points=\"1119.5,-140 953.5,-140 953.5,-72 1119.5,-72 1119.5,-140\"/>\r\n",
       "<text text-anchor=\"middle\" x=\"1036.5\" y=\"-124.8\" font-family=\"Times New Roman,serif\" font-size=\"14.00\">thought &lt;= 0.03</text>\r\n",
       "<text text-anchor=\"middle\" x=\"1036.5\" y=\"-109.8\" font-family=\"Times New Roman,serif\" font-size=\"14.00\">gini = 0.499</text>\r\n",
       "<text text-anchor=\"middle\" x=\"1036.5\" y=\"-94.8\" font-family=\"Times New Roman,serif\" font-size=\"14.00\">samples = 1412</text>\r\n",
       "<text text-anchor=\"middle\" x=\"1036.5\" y=\"-79.8\" font-family=\"Times New Roman,serif\" font-size=\"14.00\">value = [662.004, 711.791]</text>\r\n",
       "</g>\r\n",
       "<!-- 921&#45;&gt;1031 -->\r\n",
       "<g id=\"edge23\" class=\"edge\"><title>921&#45;&gt;1031</title>\r\n",
       "<path fill=\"none\" stroke=\"black\" d=\"M914.266,-175.884C931.582,-166.125 950.674,-155.366 968.518,-145.31\"/>\r\n",
       "<polygon fill=\"black\" stroke=\"black\" points=\"970.726,-148.083 977.72,-140.125 967.29,-141.985 970.726,-148.083\"/>\r\n",
       "</g>\r\n",
       "<!-- 923 -->\r\n",
       "<g id=\"node22\" class=\"node\"><title>923</title>\r\n",
       "<polygon fill=\"#c0c0c0\" stroke=\"black\" points=\"823.5,-36 769.5,-36 769.5,-0 823.5,-0 823.5,-36\"/>\r\n",
       "<text text-anchor=\"middle\" x=\"796.5\" y=\"-14.3\" font-family=\"Times New Roman,serif\" font-size=\"14.00\">(...)</text>\r\n",
       "</g>\r\n",
       "<!-- 922&#45;&gt;923 -->\r\n",
       "<g id=\"edge21\" class=\"edge\"><title>922&#45;&gt;923</title>\r\n",
       "<path fill=\"none\" stroke=\"black\" d=\"M826.695,-71.9961C821.622,-63.0909 816.203,-53.5802 811.376,-45.1093\"/>\r\n",
       "<polygon fill=\"black\" stroke=\"black\" points=\"814.407,-43.3593 806.416,-36.4034 808.325,-46.8247 814.407,-43.3593\"/>\r\n",
       "</g>\r\n",
       "<!-- 1030 -->\r\n",
       "<g id=\"node23\" class=\"node\"><title>1030</title>\r\n",
       "<polygon fill=\"#c0c0c0\" stroke=\"black\" points=\"895.5,-36 841.5,-36 841.5,-0 895.5,-0 895.5,-36\"/>\r\n",
       "<text text-anchor=\"middle\" x=\"868.5\" y=\"-14.3\" font-family=\"Times New Roman,serif\" font-size=\"14.00\">(...)</text>\r\n",
       "</g>\r\n",
       "<!-- 922&#45;&gt;1030 -->\r\n",
       "<g id=\"edge22\" class=\"edge\"><title>922&#45;&gt;1030</title>\r\n",
       "<path fill=\"none\" stroke=\"black\" d=\"M854.327,-71.9961C856.607,-63.4699 859.036,-54.3885 861.227,-46.1962\"/>\r\n",
       "<polygon fill=\"black\" stroke=\"black\" points=\"864.643,-46.9682 863.846,-36.4034 857.881,-45.1596 864.643,-46.9682\"/>\r\n",
       "</g>\r\n",
       "<!-- 1032 -->\r\n",
       "<g id=\"node25\" class=\"node\"><title>1032</title>\r\n",
       "<polygon fill=\"#c0c0c0\" stroke=\"black\" points=\"1011.5,-36 957.5,-36 957.5,-0 1011.5,-0 1011.5,-36\"/>\r\n",
       "<text text-anchor=\"middle\" x=\"984.5\" y=\"-14.3\" font-family=\"Times New Roman,serif\" font-size=\"14.00\">(...)</text>\r\n",
       "</g>\r\n",
       "<!-- 1031&#45;&gt;1032 -->\r\n",
       "<g id=\"edge24\" class=\"edge\"><title>1031&#45;&gt;1032</title>\r\n",
       "<path fill=\"none\" stroke=\"black\" d=\"M1016.54,-71.9961C1011.16,-63.0909 1005.41,-53.5802 1000.29,-45.1093\"/>\r\n",
       "<polygon fill=\"black\" stroke=\"black\" points=\"1003.19,-43.1497 995.023,-36.4034 997.202,-46.7717 1003.19,-43.1497\"/>\r\n",
       "</g>\r\n",
       "<!-- 1075 -->\r\n",
       "<g id=\"node26\" class=\"node\"><title>1075</title>\r\n",
       "<polygon fill=\"#c0c0c0\" stroke=\"black\" points=\"1083.5,-36 1029.5,-36 1029.5,-0 1083.5,-0 1083.5,-36\"/>\r\n",
       "<text text-anchor=\"middle\" x=\"1056.5\" y=\"-14.3\" font-family=\"Times New Roman,serif\" font-size=\"14.00\">(...)</text>\r\n",
       "</g>\r\n",
       "<!-- 1031&#45;&gt;1075 -->\r\n",
       "<g id=\"edge25\" class=\"edge\"><title>1031&#45;&gt;1075</title>\r\n",
       "<path fill=\"none\" stroke=\"black\" d=\"M1044.18,-71.9961C1046.16,-63.4699 1048.27,-54.3885 1050.18,-46.1962\"/>\r\n",
       "<polygon fill=\"black\" stroke=\"black\" points=\"1053.6,-46.9363 1052.45,-36.4034 1046.78,-45.3506 1053.6,-46.9363\"/>\r\n",
       "</g>\r\n",
       "<!-- 1078 -->\r\n",
       "<g id=\"node29\" class=\"node\"><title>1078</title>\r\n",
       "<polygon fill=\"#399de5\" fill-opacity=\"0.721569\" stroke=\"black\" points=\"1310,-348 1131,-348 1131,-280 1310,-280 1310,-348\"/>\r\n",
       "<text text-anchor=\"middle\" x=\"1220.5\" y=\"-332.8\" font-family=\"Times New Roman,serif\" font-size=\"14.00\">worst &lt;= 0.05</text>\r\n",
       "<text text-anchor=\"middle\" x=\"1220.5\" y=\"-317.8\" font-family=\"Times New Roman,serif\" font-size=\"14.00\">gini = 0.342</text>\r\n",
       "<text text-anchor=\"middle\" x=\"1220.5\" y=\"-302.8\" font-family=\"Times New Roman,serif\" font-size=\"14.00\">samples = 7234</text>\r\n",
       "<text text-anchor=\"middle\" x=\"1220.5\" y=\"-287.8\" font-family=\"Times New Roman,serif\" font-size=\"14.00\">value = [1104.774, 3947.667]</text>\r\n",
       "</g>\r\n",
       "<!-- 1077&#45;&gt;1078 -->\r\n",
       "<g id=\"edge28\" class=\"edge\"><title>1077&#45;&gt;1078</title>\r\n",
       "<path fill=\"none\" stroke=\"black\" d=\"M1277.9,-383.884C1270.55,-375.065 1262.53,-365.43 1254.86,-356.235\"/>\r\n",
       "<polygon fill=\"black\" stroke=\"black\" points=\"1257.34,-353.741 1248.25,-348.299 1251.96,-358.222 1257.34,-353.741\"/>\r\n",
       "</g>\r\n",
       "<!-- 1239 -->\r\n",
       "<g id=\"node36\" class=\"node\"><title>1239</title>\r\n",
       "<polygon fill=\"#e58139\" fill-opacity=\"0.372549\" stroke=\"black\" points=\"1487,-340.5 1328,-340.5 1328,-287.5 1487,-287.5 1487,-340.5\"/>\r\n",
       "<text text-anchor=\"middle\" x=\"1407.5\" y=\"-325.3\" font-family=\"Times New Roman,serif\" font-size=\"14.00\">gini = 0.474</text>\r\n",
       "<text text-anchor=\"middle\" x=\"1407.5\" y=\"-310.3\" font-family=\"Times New Roman,serif\" font-size=\"14.00\">samples = 213</text>\r\n",
       "<text text-anchor=\"middle\" x=\"1407.5\" y=\"-295.3\" font-family=\"Times New Roman,serif\" font-size=\"14.00\">value = [159.053, 99.583]</text>\r\n",
       "</g>\r\n",
       "<!-- 1077&#45;&gt;1239 -->\r\n",
       "<g id=\"edge35\" class=\"edge\"><title>1077&#45;&gt;1239</title>\r\n",
       "<path fill=\"none\" stroke=\"black\" d=\"M1338.62,-383.884C1350.16,-372.336 1363.11,-359.387 1374.64,-347.86\"/>\r\n",
       "<polygon fill=\"black\" stroke=\"black\" points=\"1377.38,-350.066 1381.98,-340.52 1372.43,-345.116 1377.38,-350.066\"/>\r\n",
       "</g>\r\n",
       "<!-- 1079 -->\r\n",
       "<g id=\"node30\" class=\"node\"><title>1079</title>\r\n",
       "<polygon fill=\"#399de5\" fill-opacity=\"0.733333\" stroke=\"black\" points=\"1310,-244 1131,-244 1131,-176 1310,-176 1310,-244\"/>\r\n",
       "<text text-anchor=\"middle\" x=\"1220.5\" y=\"-228.8\" font-family=\"Times New Roman,serif\" font-size=\"14.00\">earth &lt;= 0.088</text>\r\n",
       "<text text-anchor=\"middle\" x=\"1220.5\" y=\"-213.8\" font-family=\"Times New Roman,serif\" font-size=\"14.00\">gini = 0.331</text>\r\n",
       "<text text-anchor=\"middle\" x=\"1220.5\" y=\"-198.8\" font-family=\"Times New Roman,serif\" font-size=\"14.00\">samples = 7203</text>\r\n",
       "<text text-anchor=\"middle\" x=\"1220.5\" y=\"-183.8\" font-family=\"Times New Roman,serif\" font-size=\"14.00\">value = [1044.591, 3938.048]</text>\r\n",
       "</g>\r\n",
       "<!-- 1078&#45;&gt;1079 -->\r\n",
       "<g id=\"edge29\" class=\"edge\"><title>1078&#45;&gt;1079</title>\r\n",
       "<path fill=\"none\" stroke=\"black\" d=\"M1220.5,-279.884C1220.5,-271.778 1220.5,-262.982 1220.5,-254.472\"/>\r\n",
       "<polygon fill=\"black\" stroke=\"black\" points=\"1224,-254.299 1220.5,-244.299 1217,-254.299 1224,-254.299\"/>\r\n",
       "</g>\r\n",
       "<!-- 1238 -->\r\n",
       "<g id=\"node35\" class=\"node\"><title>1238</title>\r\n",
       "<polygon fill=\"#e58139\" fill-opacity=\"0.839216\" stroke=\"black\" points=\"1474.5,-236.5 1328.5,-236.5 1328.5,-183.5 1474.5,-183.5 1474.5,-236.5\"/>\r\n",
       "<text text-anchor=\"middle\" x=\"1401.5\" y=\"-221.3\" font-family=\"Times New Roman,serif\" font-size=\"14.00\">gini = 0.238</text>\r\n",
       "<text text-anchor=\"middle\" x=\"1401.5\" y=\"-206.3\" font-family=\"Times New Roman,serif\" font-size=\"14.00\">samples = 31</text>\r\n",
       "<text text-anchor=\"middle\" x=\"1401.5\" y=\"-191.3\" font-family=\"Times New Roman,serif\" font-size=\"14.00\">value = [60.182, 9.619]</text>\r\n",
       "</g>\r\n",
       "<!-- 1078&#45;&gt;1238 -->\r\n",
       "<g id=\"edge34\" class=\"edge\"><title>1078&#45;&gt;1238</title>\r\n",
       "<path fill=\"none\" stroke=\"black\" d=\"M1279.27,-279.884C1301.12,-267.566 1325.81,-253.655 1347.24,-241.575\"/>\r\n",
       "<polygon fill=\"black\" stroke=\"black\" points=\"1349.22,-244.479 1356.21,-236.52 1345.78,-238.38 1349.22,-244.479\"/>\r\n",
       "</g>\r\n",
       "<!-- 1080 -->\r\n",
       "<g id=\"node31\" class=\"node\"><title>1080</title>\r\n",
       "<polygon fill=\"#399de5\" fill-opacity=\"0.756863\" stroke=\"black\" points=\"1303.5,-140 1137.5,-140 1137.5,-72 1303.5,-72 1303.5,-140\"/>\r\n",
       "<text text-anchor=\"middle\" x=\"1220.5\" y=\"-124.8\" font-family=\"Times New Roman,serif\" font-size=\"14.00\">best &lt;= 0.098</text>\r\n",
       "<text text-anchor=\"middle\" x=\"1220.5\" y=\"-109.8\" font-family=\"Times New Roman,serif\" font-size=\"14.00\">gini = 0.315</text>\r\n",
       "<text text-anchor=\"middle\" x=\"1220.5\" y=\"-94.8\" font-family=\"Times New Roman,serif\" font-size=\"14.00\">samples = 7084</text>\r\n",
       "<text text-anchor=\"middle\" x=\"1220.5\" y=\"-79.8\" font-family=\"Times New Roman,serif\" font-size=\"14.00\">value = [945.721, 3883.73]</text>\r\n",
       "</g>\r\n",
       "<!-- 1079&#45;&gt;1080 -->\r\n",
       "<g id=\"edge30\" class=\"edge\"><title>1079&#45;&gt;1080</title>\r\n",
       "<path fill=\"none\" stroke=\"black\" d=\"M1220.5,-175.884C1220.5,-167.778 1220.5,-158.982 1220.5,-150.472\"/>\r\n",
       "<polygon fill=\"black\" stroke=\"black\" points=\"1224,-150.299 1220.5,-140.299 1217,-150.299 1224,-150.299\"/>\r\n",
       "</g>\r\n",
       "<!-- 1237 -->\r\n",
       "<g id=\"node34\" class=\"node\"><title>1237</title>\r\n",
       "<polygon fill=\"#e58139\" fill-opacity=\"0.450980\" stroke=\"black\" points=\"1473.5,-132.5 1321.5,-132.5 1321.5,-79.5 1473.5,-79.5 1473.5,-132.5\"/>\r\n",
       "<text text-anchor=\"middle\" x=\"1397.5\" y=\"-117.3\" font-family=\"Times New Roman,serif\" font-size=\"14.00\">gini = 0.458</text>\r\n",
       "<text text-anchor=\"middle\" x=\"1397.5\" y=\"-102.3\" font-family=\"Times New Roman,serif\" font-size=\"14.00\">samples = 119</text>\r\n",
       "<text text-anchor=\"middle\" x=\"1397.5\" y=\"-87.3\" font-family=\"Times New Roman,serif\" font-size=\"14.00\">value = [98.871, 54.318]</text>\r\n",
       "</g>\r\n",
       "<!-- 1079&#45;&gt;1237 -->\r\n",
       "<g id=\"edge33\" class=\"edge\"><title>1079&#45;&gt;1237</title>\r\n",
       "<path fill=\"none\" stroke=\"black\" d=\"M1277.97,-175.884C1299.34,-163.566 1323.48,-149.655 1344.44,-137.575\"/>\r\n",
       "<polygon fill=\"black\" stroke=\"black\" points=\"1346.3,-140.545 1353.22,-132.52 1342.8,-134.48 1346.3,-140.545\"/>\r\n",
       "</g>\r\n",
       "<!-- 1081 -->\r\n",
       "<g id=\"node32\" class=\"node\"><title>1081</title>\r\n",
       "<polygon fill=\"#c0c0c0\" stroke=\"black\" points=\"1211.5,-36 1157.5,-36 1157.5,-0 1211.5,-0 1211.5,-36\"/>\r\n",
       "<text text-anchor=\"middle\" x=\"1184.5\" y=\"-14.3\" font-family=\"Times New Roman,serif\" font-size=\"14.00\">(...)</text>\r\n",
       "</g>\r\n",
       "<!-- 1080&#45;&gt;1081 -->\r\n",
       "<g id=\"edge31\" class=\"edge\"><title>1080&#45;&gt;1081</title>\r\n",
       "<path fill=\"none\" stroke=\"black\" d=\"M1206.68,-71.9961C1203.04,-63.2804 1199.14,-53.9846 1195.66,-45.6514\"/>\r\n",
       "<polygon fill=\"black\" stroke=\"black\" points=\"1198.88,-44.2763 1191.79,-36.4034 1192.42,-46.9793 1198.88,-44.2763\"/>\r\n",
       "</g>\r\n",
       "<!-- 1154 -->\r\n",
       "<g id=\"node33\" class=\"node\"><title>1154</title>\r\n",
       "<polygon fill=\"#c0c0c0\" stroke=\"black\" points=\"1283.5,-36 1229.5,-36 1229.5,-0 1283.5,-0 1283.5,-36\"/>\r\n",
       "<text text-anchor=\"middle\" x=\"1256.5\" y=\"-14.3\" font-family=\"Times New Roman,serif\" font-size=\"14.00\">(...)</text>\r\n",
       "</g>\r\n",
       "<!-- 1080&#45;&gt;1154 -->\r\n",
       "<g id=\"edge32\" class=\"edge\"><title>1080&#45;&gt;1154</title>\r\n",
       "<path fill=\"none\" stroke=\"black\" d=\"M1234.32,-71.9961C1237.96,-63.2804 1241.86,-53.9846 1245.34,-45.6514\"/>\r\n",
       "<polygon fill=\"black\" stroke=\"black\" points=\"1248.58,-46.9793 1249.21,-36.4034 1242.12,-44.2763 1248.58,-46.9793\"/>\r\n",
       "</g>\r\n",
       "<!-- 1241 -->\r\n",
       "<g id=\"node38\" class=\"node\"><title>1241</title>\r\n",
       "<polygon fill=\"#399de5\" fill-opacity=\"0.745098\" stroke=\"black\" points=\"1684,-452 1505,-452 1505,-384 1684,-384 1684,-452\"/>\r\n",
       "<text text-anchor=\"middle\" x=\"1594.5\" y=\"-436.8\" font-family=\"Times New Roman,serif\" font-size=\"14.00\">thought &lt;= 0.078</text>\r\n",
       "<text text-anchor=\"middle\" x=\"1594.5\" y=\"-421.8\" font-family=\"Times New Roman,serif\" font-size=\"14.00\">gini = 0.323</text>\r\n",
       "<text text-anchor=\"middle\" x=\"1594.5\" y=\"-406.8\" font-family=\"Times New Roman,serif\" font-size=\"14.00\">samples = 14535</text>\r\n",
       "<text text-anchor=\"middle\" x=\"1594.5\" y=\"-391.8\" font-family=\"Times New Roman,serif\" font-size=\"14.00\">value = [2020.403, 7958.138]</text>\r\n",
       "</g>\r\n",
       "<!-- 1240&#45;&gt;1241 -->\r\n",
       "<g id=\"edge37\" class=\"edge\"><title>1240&#45;&gt;1241</title>\r\n",
       "<path fill=\"none\" stroke=\"black\" d=\"M1594.5,-487.884C1594.5,-479.778 1594.5,-470.982 1594.5,-462.472\"/>\r\n",
       "<polygon fill=\"black\" stroke=\"black\" points=\"1598,-462.299 1594.5,-452.299 1591,-462.299 1598,-462.299\"/>\r\n",
       "</g>\r\n",
       "<!-- 1462 -->\r\n",
       "<g id=\"node49\" class=\"node\"><title>1462</title>\r\n",
       "<polygon fill=\"#e58139\" fill-opacity=\"0.584314\" stroke=\"black\" points=\"1868.5,-444.5 1702.5,-444.5 1702.5,-391.5 1868.5,-391.5 1868.5,-444.5\"/>\r\n",
       "<text text-anchor=\"middle\" x=\"1785.5\" y=\"-429.3\" font-family=\"Times New Roman,serif\" font-size=\"14.00\">gini = 0.415</text>\r\n",
       "<text text-anchor=\"middle\" x=\"1785.5\" y=\"-414.3\" font-family=\"Times New Roman,serif\" font-size=\"14.00\">samples = 233</text>\r\n",
       "<text text-anchor=\"middle\" x=\"1785.5\" y=\"-399.3\" font-family=\"Times New Roman,serif\" font-size=\"14.00\">value = [240.729, 100.149]</text>\r\n",
       "</g>\r\n",
       "<!-- 1240&#45;&gt;1462 -->\r\n",
       "<g id=\"edge48\" class=\"edge\"><title>1240&#45;&gt;1462</title>\r\n",
       "<path fill=\"none\" stroke=\"black\" d=\"M1656.51,-487.884C1679.78,-475.456 1706.09,-461.406 1728.85,-449.252\"/>\r\n",
       "<polygon fill=\"black\" stroke=\"black\" points=\"1730.54,-452.318 1737.71,-444.52 1727.24,-446.143 1730.54,-452.318\"/>\r\n",
       "</g>\r\n",
       "<!-- 1242 -->\r\n",
       "<g id=\"node39\" class=\"node\"><title>1242</title>\r\n",
       "<polygon fill=\"#399de5\" fill-opacity=\"0.772549\" stroke=\"black\" points=\"1684,-348 1505,-348 1505,-280 1684,-280 1684,-348\"/>\r\n",
       "<text text-anchor=\"middle\" x=\"1594.5\" y=\"-332.8\" font-family=\"Times New Roman,serif\" font-size=\"14.00\">terribl &lt;= 0.133</text>\r\n",
       "<text text-anchor=\"middle\" x=\"1594.5\" y=\"-317.8\" font-family=\"Times New Roman,serif\" font-size=\"14.00\">gini = 0.302</text>\r\n",
       "<text text-anchor=\"middle\" x=\"1594.5\" y=\"-302.8\" font-family=\"Times New Roman,serif\" font-size=\"14.00\">samples = 14201</text>\r\n",
       "<text text-anchor=\"middle\" x=\"1594.5\" y=\"-287.8\" font-family=\"Times New Roman,serif\" font-size=\"14.00\">value = [1775.375, 7801.409]</text>\r\n",
       "</g>\r\n",
       "<!-- 1241&#45;&gt;1242 -->\r\n",
       "<g id=\"edge38\" class=\"edge\"><title>1241&#45;&gt;1242</title>\r\n",
       "<path fill=\"none\" stroke=\"black\" d=\"M1594.5,-383.884C1594.5,-375.778 1594.5,-366.982 1594.5,-358.472\"/>\r\n",
       "<polygon fill=\"black\" stroke=\"black\" points=\"1598,-358.299 1594.5,-348.299 1591,-358.299 1598,-358.299\"/>\r\n",
       "</g>\r\n",
       "<!-- 1461 -->\r\n",
       "<g id=\"node48\" class=\"node\"><title>1461</title>\r\n",
       "<polygon fill=\"#e58139\" fill-opacity=\"0.360784\" stroke=\"black\" points=\"1861,-340.5 1702,-340.5 1702,-287.5 1861,-287.5 1861,-340.5\"/>\r\n",
       "<text text-anchor=\"middle\" x=\"1781.5\" y=\"-325.3\" font-family=\"Times New Roman,serif\" font-size=\"14.00\">gini = 0.476</text>\r\n",
       "<text text-anchor=\"middle\" x=\"1781.5\" y=\"-310.3\" font-family=\"Times New Roman,serif\" font-size=\"14.00\">samples = 334</text>\r\n",
       "<text text-anchor=\"middle\" x=\"1781.5\" y=\"-295.3\" font-family=\"Times New Roman,serif\" font-size=\"14.00\">value = [245.028, 156.73]</text>\r\n",
       "</g>\r\n",
       "<!-- 1241&#45;&gt;1461 -->\r\n",
       "<g id=\"edge47\" class=\"edge\"><title>1241&#45;&gt;1461</title>\r\n",
       "<path fill=\"none\" stroke=\"black\" d=\"M1655.21,-383.884C1677.9,-371.511 1703.53,-357.53 1725.74,-345.413\"/>\r\n",
       "<polygon fill=\"black\" stroke=\"black\" points=\"1727.61,-348.381 1734.71,-340.52 1724.26,-342.236 1727.61,-348.381\"/>\r\n",
       "</g>\r\n",
       "<!-- 1243 -->\r\n",
       "<g id=\"node40\" class=\"node\"><title>1243</title>\r\n",
       "<polygon fill=\"#399de5\" fill-opacity=\"0.784314\" stroke=\"black\" points=\"1681,-244 1502,-244 1502,-176 1681,-176 1681,-244\"/>\r\n",
       "<text text-anchor=\"middle\" x=\"1591.5\" y=\"-228.8\" font-family=\"Times New Roman,serif\" font-size=\"14.00\">great &lt;= 0.111</text>\r\n",
       "<text text-anchor=\"middle\" x=\"1591.5\" y=\"-213.8\" font-family=\"Times New Roman,serif\" font-size=\"14.00\">gini = 0.292</text>\r\n",
       "<text text-anchor=\"middle\" x=\"1591.5\" y=\"-198.8\" font-family=\"Times New Roman,serif\" font-size=\"14.00\">samples = 14154</text>\r\n",
       "<text text-anchor=\"middle\" x=\"1591.5\" y=\"-183.8\" font-family=\"Times New Roman,serif\" font-size=\"14.00\">value = [1676.505, 7787.829]</text>\r\n",
       "</g>\r\n",
       "<!-- 1242&#45;&gt;1243 -->\r\n",
       "<g id=\"edge39\" class=\"edge\"><title>1242&#45;&gt;1243</title>\r\n",
       "<path fill=\"none\" stroke=\"black\" d=\"M1593.53,-279.884C1593.29,-271.778 1593.03,-262.982 1592.78,-254.472\"/>\r\n",
       "<polygon fill=\"black\" stroke=\"black\" points=\"1596.27,-254.192 1592.48,-244.299 1589.27,-254.398 1596.27,-254.192\"/>\r\n",
       "</g>\r\n",
       "<!-- 1460 -->\r\n",
       "<g id=\"node47\" class=\"node\"><title>1460</title>\r\n",
       "<polygon fill=\"#e58139\" fill-opacity=\"0.862745\" stroke=\"black\" points=\"1851.5,-236.5 1699.5,-236.5 1699.5,-183.5 1851.5,-183.5 1851.5,-236.5\"/>\r\n",
       "<text text-anchor=\"middle\" x=\"1775.5\" y=\"-221.3\" font-family=\"Times New Roman,serif\" font-size=\"14.00\">gini = 0.212</text>\r\n",
       "<text text-anchor=\"middle\" x=\"1775.5\" y=\"-206.3\" font-family=\"Times New Roman,serif\" font-size=\"14.00\">samples = 47</text>\r\n",
       "<text text-anchor=\"middle\" x=\"1775.5\" y=\"-191.3\" font-family=\"Times New Roman,serif\" font-size=\"14.00\">value = [98.871, 13.579]</text>\r\n",
       "</g>\r\n",
       "<!-- 1242&#45;&gt;1460 -->\r\n",
       "<g id=\"edge46\" class=\"edge\"><title>1242&#45;&gt;1460</title>\r\n",
       "<path fill=\"none\" stroke=\"black\" d=\"M1653.27,-279.884C1675.12,-267.566 1699.81,-253.655 1721.24,-241.575\"/>\r\n",
       "<polygon fill=\"black\" stroke=\"black\" points=\"1723.22,-244.479 1730.21,-236.52 1719.78,-238.38 1723.22,-244.479\"/>\r\n",
       "</g>\r\n",
       "<!-- 1244 -->\r\n",
       "<g id=\"node41\" class=\"node\"><title>1244</title>\r\n",
       "<polygon fill=\"#399de5\" fill-opacity=\"0.694118\" stroke=\"black\" points=\"1675,-140 1496,-140 1496,-72 1675,-72 1675,-140\"/>\r\n",
       "<text text-anchor=\"middle\" x=\"1585.5\" y=\"-124.8\" font-family=\"Times New Roman,serif\" font-size=\"14.00\">hope &lt;= 0.038</text>\r\n",
       "<text text-anchor=\"middle\" x=\"1585.5\" y=\"-109.8\" font-family=\"Times New Roman,serif\" font-size=\"14.00\">gini = 0.358</text>\r\n",
       "<text text-anchor=\"middle\" x=\"1585.5\" y=\"-94.8\" font-family=\"Times New Roman,serif\" font-size=\"14.00\">samples = 7777</text>\r\n",
       "<text text-anchor=\"middle\" x=\"1585.5\" y=\"-79.8\" font-family=\"Times New Roman,serif\" font-size=\"14.00\">value = [1289.619, 4230.572]</text>\r\n",
       "</g>\r\n",
       "<!-- 1243&#45;&gt;1244 -->\r\n",
       "<g id=\"edge40\" class=\"edge\"><title>1243&#45;&gt;1244</title>\r\n",
       "<path fill=\"none\" stroke=\"black\" d=\"M1589.55,-175.884C1589.08,-167.778 1588.56,-158.982 1588.06,-150.472\"/>\r\n",
       "<polygon fill=\"black\" stroke=\"black\" points=\"1591.54,-150.077 1587.46,-140.299 1584.55,-150.488 1591.54,-150.077\"/>\r\n",
       "</g>\r\n",
       "<!-- 1369 -->\r\n",
       "<g id=\"node44\" class=\"node\"><title>1369</title>\r\n",
       "<polygon fill=\"#399de5\" fill-opacity=\"0.890196\" stroke=\"black\" points=\"1866,-140 1693,-140 1693,-72 1866,-72 1866,-140\"/>\r\n",
       "<text text-anchor=\"middle\" x=\"1779.5\" y=\"-124.8\" font-family=\"Times New Roman,serif\" font-size=\"14.00\">aftertast &lt;= 0.153</text>\r\n",
       "<text text-anchor=\"middle\" x=\"1779.5\" y=\"-109.8\" font-family=\"Times New Roman,serif\" font-size=\"14.00\">gini = 0.177</text>\r\n",
       "<text text-anchor=\"middle\" x=\"1779.5\" y=\"-94.8\" font-family=\"Times New Roman,serif\" font-size=\"14.00\">samples = 6377</text>\r\n",
       "<text text-anchor=\"middle\" x=\"1779.5\" y=\"-79.8\" font-family=\"Times New Roman,serif\" font-size=\"14.00\">value = [386.886, 3557.257]</text>\r\n",
       "</g>\r\n",
       "<!-- 1243&#45;&gt;1369 -->\r\n",
       "<g id=\"edge43\" class=\"edge\"><title>1243&#45;&gt;1369</title>\r\n",
       "<path fill=\"none\" stroke=\"black\" d=\"M1652.54,-175.884C1670.77,-165.991 1690.9,-155.07 1709.65,-144.895\"/>\r\n",
       "<polygon fill=\"black\" stroke=\"black\" points=\"1711.33,-147.97 1718.45,-140.125 1707.99,-141.817 1711.33,-147.97\"/>\r\n",
       "</g>\r\n",
       "<!-- 1245 -->\r\n",
       "<g id=\"node42\" class=\"node\"><title>1245</title>\r\n",
       "<polygon fill=\"#c0c0c0\" stroke=\"black\" points=\"1576.5,-36 1522.5,-36 1522.5,-0 1576.5,-0 1576.5,-36\"/>\r\n",
       "<text text-anchor=\"middle\" x=\"1549.5\" y=\"-14.3\" font-family=\"Times New Roman,serif\" font-size=\"14.00\">(...)</text>\r\n",
       "</g>\r\n",
       "<!-- 1244&#45;&gt;1245 -->\r\n",
       "<g id=\"edge41\" class=\"edge\"><title>1244&#45;&gt;1245</title>\r\n",
       "<path fill=\"none\" stroke=\"black\" d=\"M1571.68,-71.9961C1568.04,-63.2804 1564.14,-53.9846 1560.66,-45.6514\"/>\r\n",
       "<polygon fill=\"black\" stroke=\"black\" points=\"1563.88,-44.2763 1556.79,-36.4034 1557.42,-46.9793 1563.88,-44.2763\"/>\r\n",
       "</g>\r\n",
       "<!-- 1368 -->\r\n",
       "<g id=\"node43\" class=\"node\"><title>1368</title>\r\n",
       "<polygon fill=\"#c0c0c0\" stroke=\"black\" points=\"1648.5,-36 1594.5,-36 1594.5,-0 1648.5,-0 1648.5,-36\"/>\r\n",
       "<text text-anchor=\"middle\" x=\"1621.5\" y=\"-14.3\" font-family=\"Times New Roman,serif\" font-size=\"14.00\">(...)</text>\r\n",
       "</g>\r\n",
       "<!-- 1244&#45;&gt;1368 -->\r\n",
       "<g id=\"edge42\" class=\"edge\"><title>1244&#45;&gt;1368</title>\r\n",
       "<path fill=\"none\" stroke=\"black\" d=\"M1599.32,-71.9961C1602.96,-63.2804 1606.86,-53.9846 1610.34,-45.6514\"/>\r\n",
       "<polygon fill=\"black\" stroke=\"black\" points=\"1613.58,-46.9793 1614.21,-36.4034 1607.12,-44.2763 1613.58,-46.9793\"/>\r\n",
       "</g>\r\n",
       "<!-- 1370 -->\r\n",
       "<g id=\"node45\" class=\"node\"><title>1370</title>\r\n",
       "<polygon fill=\"#c0c0c0\" stroke=\"black\" points=\"1770.5,-36 1716.5,-36 1716.5,-0 1770.5,-0 1770.5,-36\"/>\r\n",
       "<text text-anchor=\"middle\" x=\"1743.5\" y=\"-14.3\" font-family=\"Times New Roman,serif\" font-size=\"14.00\">(...)</text>\r\n",
       "</g>\r\n",
       "<!-- 1369&#45;&gt;1370 -->\r\n",
       "<g id=\"edge44\" class=\"edge\"><title>1369&#45;&gt;1370</title>\r\n",
       "<path fill=\"none\" stroke=\"black\" d=\"M1765.68,-71.9961C1762.04,-63.2804 1758.14,-53.9846 1754.66,-45.6514\"/>\r\n",
       "<polygon fill=\"black\" stroke=\"black\" points=\"1757.88,-44.2763 1750.79,-36.4034 1751.42,-46.9793 1757.88,-44.2763\"/>\r\n",
       "</g>\r\n",
       "<!-- 1459 -->\r\n",
       "<g id=\"node46\" class=\"node\"><title>1459</title>\r\n",
       "<polygon fill=\"#c0c0c0\" stroke=\"black\" points=\"1842.5,-36 1788.5,-36 1788.5,-0 1842.5,-0 1842.5,-36\"/>\r\n",
       "<text text-anchor=\"middle\" x=\"1815.5\" y=\"-14.3\" font-family=\"Times New Roman,serif\" font-size=\"14.00\">(...)</text>\r\n",
       "</g>\r\n",
       "<!-- 1369&#45;&gt;1459 -->\r\n",
       "<g id=\"edge45\" class=\"edge\"><title>1369&#45;&gt;1459</title>\r\n",
       "<path fill=\"none\" stroke=\"black\" d=\"M1793.32,-71.9961C1796.96,-63.2804 1800.86,-53.9846 1804.34,-45.6514\"/>\r\n",
       "<polygon fill=\"black\" stroke=\"black\" points=\"1807.58,-46.9793 1808.21,-36.4034 1801.12,-44.2763 1807.58,-46.9793\"/>\r\n",
       "</g>\r\n",
       "</g>\r\n",
       "</svg>\r\n"
      ],
      "text/plain": [
       "<graphviz.files.Source at 0x1bbd3801b38>"
      ]
     },
     "execution_count": 67,
     "metadata": {},
     "output_type": "execute_result"
    }
   ],
   "source": [
    "from sklearn.tree import export_graphviz\n",
    "import graphviz\n",
    "\n",
    "export_graphviz(Model_Tfidf,out_file=\"Tfidf.dot\",feature_names=vectorizer_tfidf.get_feature_names(),filled=True,max_depth=5)\n",
    "with open(\"Tfidf.dot\") as f:\n",
    "    dot_graph=f.read()\n",
    "graphviz.Source(dot_graph)  "
   ]
  },
  {
   "cell_type": "markdown",
   "metadata": {},
   "source": [
    "## Word To Vector"
   ]
  },
  {
   "cell_type": "code",
   "execution_count": 17,
   "metadata": {},
   "outputs": [],
   "source": [
    "list_of_Train_sent=[]\n",
    "list_of_Test_sent=[]\n",
    "\n",
    "for sent in X_train:\n",
    "    list_of_Train_sent.append(sent.split())\n",
    "    \n",
    "for sent in X_test:\n",
    "    list_of_Test_sent.append(sent.split())"
   ]
  },
  {
   "cell_type": "code",
   "execution_count": 18,
   "metadata": {},
   "outputs": [],
   "source": [
    "model=Word2Vec(list_of_Train_sent,min_count=5,size=50, workers=4)"
   ]
  },
  {
   "cell_type": "markdown",
   "metadata": {},
   "source": [
    "## Average Word To Vector"
   ]
  },
  {
   "cell_type": "code",
   "execution_count": 49,
   "metadata": {},
   "outputs": [],
   "source": [
    "import numpy as np\n",
    "\n",
    "Train_vectors = []\n",
    "for sent in list_of_Train_sent:\n",
    "    sent_vec = np.zeros(50)\n",
    "    cnt_words = 0\n",
    "    for word in sent:\n",
    "        try:\n",
    "            vec = model.wv[word]\n",
    "            sent_vec += vec\n",
    "            cnt_words += 1\n",
    "        except:\n",
    "            pass\n",
    "    if cnt_words!=0:    \n",
    "        sent_vec /= cnt_words\n",
    "    Train_vectors.append(sent_vec)\n",
    "Train_vectors = np.nan_to_num(Train_vectors)"
   ]
  },
  {
   "cell_type": "code",
   "execution_count": 50,
   "metadata": {},
   "outputs": [],
   "source": [
    "import numpy as np\n",
    "\n",
    "Test_vectors=[]\n",
    "for sent in list_of_Test_sent:\n",
    "    sent_vec=np.zeros(50)\n",
    "    cnt_words=0\n",
    "    for word in sent:\n",
    "        try:\n",
    "            vec=model.wv[word]\n",
    "            sent_vec+=vec\n",
    "            cnt_words+=1\n",
    "        except:\n",
    "            pass\n",
    "    if cnt_words!=0:\n",
    "        sent_vec/=cnt_words\n",
    "    Test_vectors.append(sent_vec)\n",
    "Test_vectors=np.nan_to_num(Test_vectors)    "
   ]
  },
  {
   "cell_type": "code",
   "execution_count": 51,
   "metadata": {},
   "outputs": [
    {
     "name": "stdout",
     "output_type": "stream",
     "text": [
      "Shape of Test Vectors :  (33000, 50)\n"
     ]
    }
   ],
   "source": [
    "print(\"Shape of Test Vectors : \",Test_vectors.shape)"
   ]
  },
  {
   "cell_type": "code",
   "execution_count": 52,
   "metadata": {},
   "outputs": [],
   "source": [
    "X_Train_Awv=Train_vectors\n",
    "X_Test_Awv=Test_vectors"
   ]
  },
  {
   "cell_type": "code",
   "execution_count": 53,
   "metadata": {},
   "outputs": [
    {
     "name": "stdout",
     "output_type": "stream",
     "text": [
      "(67000, 50) (67000,)\n",
      "(33000, 50) (33000,)\n"
     ]
    }
   ],
   "source": [
    "print(X_Train_Awv.shape, Y_train.shape)\n",
    "print(X_Test_Awv.shape, Y_test.shape)"
   ]
  },
  {
   "cell_type": "markdown",
   "metadata": {},
   "source": [
    "### Finding the best value Of hyperparameter (Alpha) "
   ]
  },
  {
   "cell_type": "code",
   "execution_count": 54,
   "metadata": {},
   "outputs": [
    {
     "name": "stdout",
     "output_type": "stream",
     "text": [
      "Best HyperParameter:  {'max_depth': 10, 'min_samples_split': 500}\n",
      "Best Accuracy: 77.57%\n"
     ]
    }
   ],
   "source": [
    "gsv=Grid_SearchCV(X_Train_Awv,Y_train)\n",
    "\n",
    "print(\"Best HyperParameter: \",gsv.best_params_)\n",
    "print(\"Best Accuracy: %.2f%%\"%(gsv.best_score_*100))"
   ]
  },
  {
   "cell_type": "markdown",
   "metadata": {},
   "source": [
    "\n",
    "\n",
    "### Plot"
   ]
  },
  {
   "cell_type": "code",
   "execution_count": 55,
   "metadata": {},
   "outputs": [
    {
     "data": {
      "image/png": "[encoded data removed]",
      "text/plain": [
       "<Figure size 432x288 with 1 Axes>"
      ]
     },
     "metadata": {
      "needs_background": "light"
     },
     "output_type": "display_data"
    }
   ],
   "source": [
    "plot(gsv)"
   ]
  },
  {
   "cell_type": "markdown",
   "metadata": {},
   "source": [
    "### Training Model "
   ]
  },
  {
   "cell_type": "code",
   "execution_count": 61,
   "metadata": {},
   "outputs": [
    {
     "data": {
      "text/plain": [
       "DecisionTreeClassifier(class_weight='balanced', criterion='gini',\n",
       "            max_depth=10, max_features=None, max_leaf_nodes=None,\n",
       "            min_impurity_decrease=0.0, min_impurity_split=None,\n",
       "            min_samples_leaf=1, min_samples_split=500,\n",
       "            min_weight_fraction_leaf=0.0, presort=False, random_state=None,\n",
       "            splitter='best')"
      ]
     },
     "execution_count": 61,
     "metadata": {},
     "output_type": "execute_result"
    }
   ],
   "source": [
    "Best_Param=gsv.best_params_\n",
    "depth=Best_Param['max_depth']\n",
    "min_sample_split = Best_Param['min_samples_split']\n",
    "\n",
    "Model_Awv=DecisionTreeClassifier(max_depth=depth,min_samples_split=min_sample_split,class_weight=\"balanced\")\n",
    "Model_Awv.fit(X_Train_Awv,Y_train)"
   ]
  },
  {
   "cell_type": "markdown",
   "metadata": {},
   "source": [
    "### Evaluating the performance of model"
   ]
  },
  {
   "cell_type": "code",
   "execution_count": 62,
   "metadata": {},
   "outputs": [
    {
     "name": "stdout",
     "output_type": "stream",
     "text": [
      "Confusion Matrix for Train set\n"
     ]
    },
    {
     "data": {
      "image/png": "[encoded data removed]",
      "text/plain": [
       "<Figure size 432x288 with 2 Axes>"
      ]
     },
     "metadata": {
      "needs_background": "light"
     },
     "output_type": "display_data"
    }
   ],
   "source": [
    "trainconfusionmatrix(Model_Awv,X_Train_Awv,Y_train)"
   ]
  },
  {
   "cell_type": "code",
   "execution_count": 63,
   "metadata": {},
   "outputs": [
    {
     "name": "stdout",
     "output_type": "stream",
     "text": [
      "Confusion Matrix for Train set\n"
     ]
    },
    {
     "data": {
      "image/png": "[encoded data removed]",
      "text/plain": [
       "<Figure size 432x288 with 2 Axes>"
      ]
     },
     "metadata": {
      "needs_background": "light"
     },
     "output_type": "display_data"
    }
   ],
   "source": [
    "trainconfusionmatrix(Model_Awv,X_Test_Awv,Y_test)"
   ]
  },
  {
   "cell_type": "code",
   "execution_count": 64,
   "metadata": {},
   "outputs": [
    {
     "data": {
      "image/png": "[encoded data removed]",
      "text/plain": [
       "<Figure size 432x288 with 1 Axes>"
      ]
     },
     "metadata": {
      "needs_background": "light"
     },
     "output_type": "display_data"
    }
   ],
   "source": [
    "plot_auc_roc_L(Model_Awv,X_Train_Awv,X_Test_Awv,Y_train,Y_test)"
   ]
  },
  {
   "cell_type": "code",
   "execution_count": 65,
   "metadata": {},
   "outputs": [
    {
     "name": "stdout",
     "output_type": "stream",
     "text": [
      "Classification Report: \n",
      "\n",
      "              precision    recall  f1-score   support\n",
      "\n",
      "           0       0.29      0.76      0.42      4478\n",
      "           1       0.95      0.71      0.81     28522\n",
      "\n",
      "   micro avg       0.71      0.71      0.71     33000\n",
      "   macro avg       0.62      0.73      0.61     33000\n",
      "weighted avg       0.86      0.71      0.76     33000\n",
      "\n"
     ]
    }
   ],
   "source": [
    "print(\"Classification Report: \\n\")\n",
    "y_pred=Model_Awv.predict(X_Test_Awv)\n",
    "\n",
    "print(classification_report(Y_test, y_pred))"
   ]
  },
  {
   "cell_type": "code",
   "execution_count": 66,
   "metadata": {},
   "outputs": [
    {
     "data": {
      "image/svg+xml": [
       "<?xml version=\"1.0\" encoding=\"UTF-8\" standalone=\"no\"?>\r\n",
       "<!DOCTYPE svg PUBLIC \"-//W3C//DTD SVG 1.1//EN\"\r\n",
       " \"http://www.w3.org/Graphics/SVG/1.1/DTD/svg11.dtd\">\r\n",
       "<!-- Generated by graphviz version 2.38.0 (20140413.2041)\r\n",
       " -->\r\n",
       "<!-- Title: Tree Pages: 1 -->\r\n",
       "<svg width=\"1894pt\" height=\"668pt\"\r\n",
       " viewBox=\"0.00 0.00 1893.50 668.00\" xmlns=\"http://www.w3.org/2000/svg\" xmlns:xlink=\"http://www.w3.org/1999/xlink\">\r\n",
       "<g id=\"graph0\" class=\"graph\" transform=\"scale(1 1) rotate(0) translate(4 664)\">\r\n",
       "<title>Tree</title>\r\n",
       "<polygon fill=\"white\" stroke=\"none\" points=\"-4,4 -4,-664 1889.5,-664 1889.5,4 -4,4\"/>\r\n",
       "<!-- 0 -->\r\n",
       "<g id=\"node1\" class=\"node\"><title>0</title>\r\n",
       "<polygon fill=\"none\" stroke=\"black\" points=\"1548.5,-660 1382.5,-660 1382.5,-592 1548.5,-592 1548.5,-660\"/>\r\n",
       "<text text-anchor=\"middle\" x=\"1465.5\" y=\"-644.8\" font-family=\"Times New Roman,serif\" font-size=\"14.00\">great &lt;= 0.113</text>\r\n",
       "<text text-anchor=\"middle\" x=\"1465.5\" y=\"-629.8\" font-family=\"Times New Roman,serif\" font-size=\"14.00\">gini = 0.5</text>\r\n",
       "<text text-anchor=\"middle\" x=\"1465.5\" y=\"-614.8\" font-family=\"Times New Roman,serif\" font-size=\"14.00\">samples = 67000</text>\r\n",
       "<text text-anchor=\"middle\" x=\"1465.5\" y=\"-599.8\" font-family=\"Times New Roman,serif\" font-size=\"14.00\">value = [33500.0, 33500.0]</text>\r\n",
       "</g>\r\n",
       "<!-- 1 -->\r\n",
       "<g id=\"node2\" class=\"node\"><title>1</title>\r\n",
       "<polygon fill=\"#e58139\" fill-opacity=\"0.184314\" stroke=\"black\" points=\"1417,-556 1224,-556 1224,-488 1417,-488 1417,-556\"/>\r\n",
       "<text text-anchor=\"middle\" x=\"1320.5\" y=\"-540.8\" font-family=\"Times New Roman,serif\" font-size=\"14.00\">best &lt;= 0.05</text>\r\n",
       "<text text-anchor=\"middle\" x=\"1320.5\" y=\"-525.8\" font-family=\"Times New Roman,serif\" font-size=\"14.00\">gini = 0.495</text>\r\n",
       "<text text-anchor=\"middle\" x=\"1320.5\" y=\"-510.8\" font-family=\"Times New Roman,serif\" font-size=\"14.00\">samples = 52631</text>\r\n",
       "<text text-anchor=\"middle\" x=\"1320.5\" y=\"-495.8\" font-family=\"Times New Roman,serif\" font-size=\"14.00\">value = [31372.129, 25649.932]</text>\r\n",
       "</g>\r\n",
       "<!-- 0&#45;&gt;1 -->\r\n",
       "<g id=\"edge1\" class=\"edge\"><title>0&#45;&gt;1</title>\r\n",
       "<path fill=\"none\" stroke=\"black\" d=\"M1418.42,-591.884C1405,-582.442 1390.25,-572.064 1376.36,-562.292\"/>\r\n",
       "<polygon fill=\"black\" stroke=\"black\" points=\"1378.03,-559.19 1367.84,-556.299 1374,-564.916 1378.03,-559.19\"/>\r\n",
       "<text text-anchor=\"middle\" x=\"1372.13\" y=\"-577.229\" font-family=\"Times New Roman,serif\" font-size=\"14.00\">True</text>\r\n",
       "</g>\r\n",
       "<!-- 112 -->\r\n",
       "<g id=\"node37\" class=\"node\"><title>112</title>\r\n",
       "<polygon fill=\"#399de5\" fill-opacity=\"0.729412\" stroke=\"black\" points=\"1701,-556 1522,-556 1522,-488 1701,-488 1701,-556\"/>\r\n",
       "<text text-anchor=\"middle\" x=\"1611.5\" y=\"-540.8\" font-family=\"Times New Roman,serif\" font-size=\"14.00\">disappoint &lt;= 0.067</text>\r\n",
       "<text text-anchor=\"middle\" x=\"1611.5\" y=\"-525.8\" font-family=\"Times New Roman,serif\" font-size=\"14.00\">gini = 0.336</text>\r\n",
       "<text text-anchor=\"middle\" x=\"1611.5\" y=\"-510.8\" font-family=\"Times New Roman,serif\" font-size=\"14.00\">samples = 14369</text>\r\n",
       "<text text-anchor=\"middle\" x=\"1611.5\" y=\"-495.8\" font-family=\"Times New Roman,serif\" font-size=\"14.00\">value = [2127.871, 7850.068]</text>\r\n",
       "</g>\r\n",
       "<!-- 0&#45;&gt;112 -->\r\n",
       "<g id=\"edge36\" class=\"edge\"><title>0&#45;&gt;112</title>\r\n",
       "<path fill=\"none\" stroke=\"black\" d=\"M1512.9,-591.884C1526.42,-582.442 1541.27,-572.064 1555.26,-562.292\"/>\r\n",
       "<polygon fill=\"black\" stroke=\"black\" points=\"1557.64,-564.896 1563.84,-556.299 1553.63,-559.157 1557.64,-564.896\"/>\r\n",
       "<text text-anchor=\"middle\" x=\"1559.47\" y=\"-577.215\" font-family=\"Times New Roman,serif\" font-size=\"14.00\">False</text>\r\n",
       "</g>\r\n",
       "<!-- 2 -->\r\n",
       "<g id=\"node3\" class=\"node\"><title>2</title>\r\n",
       "<polygon fill=\"#e58139\" fill-opacity=\"0.282353\" stroke=\"black\" points=\"1044,-452 851,-452 851,-384 1044,-384 1044,-452\"/>\r\n",
       "<text text-anchor=\"middle\" x=\"947.5\" y=\"-436.8\" font-family=\"Times New Roman,serif\" font-size=\"14.00\">love &lt;= 0.135</text>\r\n",
       "<text text-anchor=\"middle\" x=\"947.5\" y=\"-421.8\" font-family=\"Times New Roman,serif\" font-size=\"14.00\">gini = 0.486</text>\r\n",
       "<text text-anchor=\"middle\" x=\"947.5\" y=\"-406.8\" font-family=\"Times New Roman,serif\" font-size=\"14.00\">samples = 45148</text>\r\n",
       "<text text-anchor=\"middle\" x=\"947.5\" y=\"-391.8\" font-family=\"Times New Roman,serif\" font-size=\"14.00\">value = [30108.302, 21582.313]</text>\r\n",
       "</g>\r\n",
       "<!-- 1&#45;&gt;2 -->\r\n",
       "<g id=\"edge2\" class=\"edge\"><title>1&#45;&gt;2</title>\r\n",
       "<path fill=\"none\" stroke=\"black\" d=\"M1223.96,-494.6C1171.94,-480.374 1107.64,-462.791 1054.14,-448.162\"/>\r\n",
       "<polygon fill=\"black\" stroke=\"black\" points=\"1054.85,-444.728 1044.28,-445.467 1053.01,-451.48 1054.85,-444.728\"/>\r\n",
       "</g>\r\n",
       "<!-- 89 -->\r\n",
       "<g id=\"node28\" class=\"node\"><title>89</title>\r\n",
       "<polygon fill=\"#399de5\" fill-opacity=\"0.690196\" stroke=\"black\" points=\"1410,-452 1231,-452 1231,-384 1410,-384 1410,-452\"/>\r\n",
       "<text text-anchor=\"middle\" x=\"1320.5\" y=\"-436.8\" font-family=\"Times New Roman,serif\" font-size=\"14.00\">disappoint &lt;= 0.037</text>\r\n",
       "<text text-anchor=\"middle\" x=\"1320.5\" y=\"-421.8\" font-family=\"Times New Roman,serif\" font-size=\"14.00\">gini = 0.362</text>\r\n",
       "<text text-anchor=\"middle\" x=\"1320.5\" y=\"-406.8\" font-family=\"Times New Roman,serif\" font-size=\"14.00\">samples = 7483</text>\r\n",
       "<text text-anchor=\"middle\" x=\"1320.5\" y=\"-391.8\" font-family=\"Times New Roman,serif\" font-size=\"14.00\">value = [1263.827, 4067.619]</text>\r\n",
       "</g>\r\n",
       "<!-- 1&#45;&gt;89 -->\r\n",
       "<g id=\"edge27\" class=\"edge\"><title>1&#45;&gt;89</title>\r\n",
       "<path fill=\"none\" stroke=\"black\" d=\"M1320.5,-487.884C1320.5,-479.778 1320.5,-470.982 1320.5,-462.472\"/>\r\n",
       "<polygon fill=\"black\" stroke=\"black\" points=\"1324,-462.299 1320.5,-452.299 1317,-462.299 1324,-462.299\"/>\r\n",
       "</g>\r\n",
       "<!-- 3 -->\r\n",
       "<g id=\"node4\" class=\"node\"><title>3</title>\r\n",
       "<polygon fill=\"#e58139\" fill-opacity=\"0.384314\" stroke=\"black\" points=\"675,-348 482,-348 482,-280 675,-280 675,-348\"/>\r\n",
       "<text text-anchor=\"middle\" x=\"578.5\" y=\"-332.8\" font-family=\"Times New Roman,serif\" font-size=\"14.00\">delici &lt;= 0.025</text>\r\n",
       "<text text-anchor=\"middle\" x=\"578.5\" y=\"-317.8\" font-family=\"Times New Roman,serif\" font-size=\"14.00\">gini = 0.472</text>\r\n",
       "<text text-anchor=\"middle\" x=\"578.5\" y=\"-302.8\" font-family=\"Times New Roman,serif\" font-size=\"14.00\">samples = 36968</text>\r\n",
       "<text text-anchor=\"middle\" x=\"578.5\" y=\"-287.8\" font-family=\"Times New Roman,serif\" font-size=\"14.00\">value = [27946.041, 17238.578]</text>\r\n",
       "</g>\r\n",
       "<!-- 2&#45;&gt;3 -->\r\n",
       "<g id=\"edge3\" class=\"edge\"><title>2&#45;&gt;3</title>\r\n",
       "<path fill=\"none\" stroke=\"black\" d=\"M850.55,-390.201C799.697,-376.144 737.292,-358.894 685.084,-344.462\"/>\r\n",
       "<polygon fill=\"black\" stroke=\"black\" points=\"685.694,-341 675.123,-341.709 683.829,-347.747 685.694,-341\"/>\r\n",
       "</g>\r\n",
       "<!-- 62 -->\r\n",
       "<g id=\"node19\" class=\"node\"><title>62</title>\r\n",
       "<polygon fill=\"#399de5\" fill-opacity=\"0.501961\" stroke=\"black\" points=\"1037,-348 858,-348 858,-280 1037,-280 1037,-348\"/>\r\n",
       "<text text-anchor=\"middle\" x=\"947.5\" y=\"-332.8\" font-family=\"Times New Roman,serif\" font-size=\"14.00\">disappoint &lt;= 0.072</text>\r\n",
       "<text text-anchor=\"middle\" x=\"947.5\" y=\"-317.8\" font-family=\"Times New Roman,serif\" font-size=\"14.00\">gini = 0.444</text>\r\n",
       "<text text-anchor=\"middle\" x=\"947.5\" y=\"-302.8\" font-family=\"Times New Roman,serif\" font-size=\"14.00\">samples = 8180</text>\r\n",
       "<text text-anchor=\"middle\" x=\"947.5\" y=\"-287.8\" font-family=\"Times New Roman,serif\" font-size=\"14.00\">value = [2162.261, 4343.735]</text>\r\n",
       "</g>\r\n",
       "<!-- 2&#45;&gt;62 -->\r\n",
       "<g id=\"edge18\" class=\"edge\"><title>2&#45;&gt;62</title>\r\n",
       "<path fill=\"none\" stroke=\"black\" d=\"M947.5,-383.884C947.5,-375.778 947.5,-366.982 947.5,-358.472\"/>\r\n",
       "<polygon fill=\"black\" stroke=\"black\" points=\"951,-358.299 947.5,-348.299 944,-358.299 951,-358.299\"/>\r\n",
       "</g>\r\n",
       "<!-- 4 -->\r\n",
       "<g id=\"node5\" class=\"node\"><title>4</title>\r\n",
       "<polygon fill=\"#e58139\" fill-opacity=\"0.435294\" stroke=\"black\" points=\"391,-244 198,-244 198,-176 391,-176 391,-244\"/>\r\n",
       "<text text-anchor=\"middle\" x=\"294.5\" y=\"-228.8\" font-family=\"Times New Roman,serif\" font-size=\"14.00\">disappoint &lt;= 0.053</text>\r\n",
       "<text text-anchor=\"middle\" x=\"294.5\" y=\"-213.8\" font-family=\"Times New Roman,serif\" font-size=\"14.00\">gini = 0.461</text>\r\n",
       "<text text-anchor=\"middle\" x=\"294.5\" y=\"-198.8\" font-family=\"Times New Roman,serif\" font-size=\"14.00\">samples = 33838</text>\r\n",
       "<text text-anchor=\"middle\" x=\"294.5\" y=\"-183.8\" font-family=\"Times New Roman,serif\" font-size=\"14.00\">value = [27494.675, 15526.998]</text>\r\n",
       "</g>\r\n",
       "<!-- 3&#45;&gt;4 -->\r\n",
       "<g id=\"edge4\" class=\"edge\"><title>3&#45;&gt;4</title>\r\n",
       "<path fill=\"none\" stroke=\"black\" d=\"M486.293,-279.884C457.502,-269.543 425.584,-258.079 396.181,-247.519\"/>\r\n",
       "<polygon fill=\"black\" stroke=\"black\" points=\"397.324,-244.211 386.73,-244.125 394.958,-250.799 397.324,-244.211\"/>\r\n",
       "</g>\r\n",
       "<!-- 47 -->\r\n",
       "<g id=\"node12\" class=\"node\"><title>47</title>\r\n",
       "<polygon fill=\"#399de5\" fill-opacity=\"0.737255\" stroke=\"black\" points=\"661.5,-244 495.5,-244 495.5,-176 661.5,-176 661.5,-244\"/>\r\n",
       "<text text-anchor=\"middle\" x=\"578.5\" y=\"-228.8\" font-family=\"Times New Roman,serif\" font-size=\"14.00\">product &lt;= 0.076</text>\r\n",
       "<text text-anchor=\"middle\" x=\"578.5\" y=\"-213.8\" font-family=\"Times New Roman,serif\" font-size=\"14.00\">gini = 0.33</text>\r\n",
       "<text text-anchor=\"middle\" x=\"578.5\" y=\"-198.8\" font-family=\"Times New Roman,serif\" font-size=\"14.00\">samples = 3130</text>\r\n",
       "<text text-anchor=\"middle\" x=\"578.5\" y=\"-183.8\" font-family=\"Times New Roman,serif\" font-size=\"14.00\">value = [451.367, 1711.58]</text>\r\n",
       "</g>\r\n",
       "<!-- 3&#45;&gt;47 -->\r\n",
       "<g id=\"edge11\" class=\"edge\"><title>3&#45;&gt;47</title>\r\n",
       "<path fill=\"none\" stroke=\"black\" d=\"M578.5,-279.884C578.5,-271.778 578.5,-262.982 578.5,-254.472\"/>\r\n",
       "<polygon fill=\"black\" stroke=\"black\" points=\"582,-254.299 578.5,-244.299 575,-254.299 582,-254.299\"/>\r\n",
       "</g>\r\n",
       "<!-- 5 -->\r\n",
       "<g id=\"node6\" class=\"node\"><title>5</title>\r\n",
       "<polygon fill=\"#e58139\" fill-opacity=\"0.380392\" stroke=\"black\" points=\"193,-140 0,-140 0,-72 193,-72 193,-140\"/>\r\n",
       "<text text-anchor=\"middle\" x=\"96.5\" y=\"-124.8\" font-family=\"Times New Roman,serif\" font-size=\"14.00\">perfect &lt;= 0.035</text>\r\n",
       "<text text-anchor=\"middle\" x=\"96.5\" y=\"-109.8\" font-family=\"Times New Roman,serif\" font-size=\"14.00\">gini = 0.472</text>\r\n",
       "<text text-anchor=\"middle\" x=\"96.5\" y=\"-94.8\" font-family=\"Times New Roman,serif\" font-size=\"14.00\">samples = 32666</text>\r\n",
       "<text text-anchor=\"middle\" x=\"96.5\" y=\"-79.8\" font-family=\"Times New Roman,serif\" font-size=\"14.00\">value = [24618.825, 15242.395]</text>\r\n",
       "</g>\r\n",
       "<!-- 4&#45;&gt;5 -->\r\n",
       "<g id=\"edge5\" class=\"edge\"><title>4&#45;&gt;5</title>\r\n",
       "<path fill=\"none\" stroke=\"black\" d=\"M230.215,-175.884C210.924,-165.946 189.62,-154.971 169.794,-144.757\"/>\r\n",
       "<polygon fill=\"black\" stroke=\"black\" points=\"171.294,-141.593 160.801,-140.125 168.088,-147.816 171.294,-141.593\"/>\r\n",
       "</g>\r\n",
       "<!-- 36 -->\r\n",
       "<g id=\"node9\" class=\"node\"><title>36</title>\r\n",
       "<polygon fill=\"#e58139\" fill-opacity=\"0.901961\" stroke=\"black\" points=\"377.5,-140 211.5,-140 211.5,-72 377.5,-72 377.5,-140\"/>\r\n",
       "<text text-anchor=\"middle\" x=\"294.5\" y=\"-124.8\" font-family=\"Times New Roman,serif\" font-size=\"14.00\">wont &lt;= 0.054</text>\r\n",
       "<text text-anchor=\"middle\" x=\"294.5\" y=\"-109.8\" font-family=\"Times New Roman,serif\" font-size=\"14.00\">gini = 0.164</text>\r\n",
       "<text text-anchor=\"middle\" x=\"294.5\" y=\"-94.8\" font-family=\"Times New Roman,serif\" font-size=\"14.00\">samples = 1172</text>\r\n",
       "<text text-anchor=\"middle\" x=\"294.5\" y=\"-79.8\" font-family=\"Times New Roman,serif\" font-size=\"14.00\">value = [2875.85, 284.603]</text>\r\n",
       "</g>\r\n",
       "<!-- 4&#45;&gt;36 -->\r\n",
       "<g id=\"edge8\" class=\"edge\"><title>4&#45;&gt;36</title>\r\n",
       "<path fill=\"none\" stroke=\"black\" d=\"M294.5,-175.884C294.5,-167.778 294.5,-158.982 294.5,-150.472\"/>\r\n",
       "<polygon fill=\"black\" stroke=\"black\" points=\"298,-150.299 294.5,-140.299 291,-150.299 298,-150.299\"/>\r\n",
       "</g>\r\n",
       "<!-- 6 -->\r\n",
       "<g id=\"node7\" class=\"node\"><title>6</title>\r\n",
       "<polygon fill=\"#c0c0c0\" stroke=\"black\" points=\"108.5,-36 54.5,-36 54.5,-0 108.5,-0 108.5,-36\"/>\r\n",
       "<text text-anchor=\"middle\" x=\"81.5\" y=\"-14.3\" font-family=\"Times New Roman,serif\" font-size=\"14.00\">(...)</text>\r\n",
       "</g>\r\n",
       "<!-- 5&#45;&gt;6 -->\r\n",
       "<g id=\"edge6\" class=\"edge\"><title>5&#45;&gt;6</title>\r\n",
       "<path fill=\"none\" stroke=\"black\" d=\"M90.7435,-71.9961C89.2729,-63.5646 87.7076,-54.5902 86.2912,-46.4696\"/>\r\n",
       "<polygon fill=\"black\" stroke=\"black\" points=\"89.7017,-45.6532 84.5355,-36.4034 82.8059,-46.8561 89.7017,-45.6532\"/>\r\n",
       "</g>\r\n",
       "<!-- 27 -->\r\n",
       "<g id=\"node8\" class=\"node\"><title>27</title>\r\n",
       "<polygon fill=\"#c0c0c0\" stroke=\"black\" points=\"180.5,-36 126.5,-36 126.5,-0 180.5,-0 180.5,-36\"/>\r\n",
       "<text text-anchor=\"middle\" x=\"153.5\" y=\"-14.3\" font-family=\"Times New Roman,serif\" font-size=\"14.00\">(...)</text>\r\n",
       "</g>\r\n",
       "<!-- 5&#45;&gt;27 -->\r\n",
       "<g id=\"edge7\" class=\"edge\"><title>5&#45;&gt;27</title>\r\n",
       "<path fill=\"none\" stroke=\"black\" d=\"M118.375,-71.9961C124.34,-62.9962 130.715,-53.3778 136.374,-44.8393\"/>\r\n",
       "<polygon fill=\"black\" stroke=\"black\" points=\"139.358,-46.6724 141.965,-36.4034 133.523,-42.8052 139.358,-46.6724\"/>\r\n",
       "</g>\r\n",
       "<!-- 37 -->\r\n",
       "<g id=\"node10\" class=\"node\"><title>37</title>\r\n",
       "<polygon fill=\"#c0c0c0\" stroke=\"black\" points=\"265.5,-36 211.5,-36 211.5,-0 265.5,-0 265.5,-36\"/>\r\n",
       "<text text-anchor=\"middle\" x=\"238.5\" y=\"-14.3\" font-family=\"Times New Roman,serif\" font-size=\"14.00\">(...)</text>\r\n",
       "</g>\r\n",
       "<!-- 36&#45;&gt;37 -->\r\n",
       "<g id=\"edge9\" class=\"edge\"><title>36&#45;&gt;37</title>\r\n",
       "<path fill=\"none\" stroke=\"black\" d=\"M273.009,-71.9961C267.149,-62.9962 260.886,-53.3778 255.326,-44.8393\"/>\r\n",
       "<polygon fill=\"black\" stroke=\"black\" points=\"258.222,-42.8735 249.832,-36.4034 252.356,-46.6933 258.222,-42.8735\"/>\r\n",
       "</g>\r\n",
       "<!-- 46 -->\r\n",
       "<g id=\"node11\" class=\"node\"><title>46</title>\r\n",
       "<polygon fill=\"#c0c0c0\" stroke=\"black\" points=\"337.5,-36 283.5,-36 283.5,-0 337.5,-0 337.5,-36\"/>\r\n",
       "<text text-anchor=\"middle\" x=\"310.5\" y=\"-14.3\" font-family=\"Times New Roman,serif\" font-size=\"14.00\">(...)</text>\r\n",
       "</g>\r\n",
       "<!-- 36&#45;&gt;46 -->\r\n",
       "<g id=\"edge10\" class=\"edge\"><title>36&#45;&gt;46</title>\r\n",
       "<path fill=\"none\" stroke=\"black\" d=\"M300.64,-71.9961C302.209,-63.5646 303.879,-54.5902 305.389,-46.4696\"/>\r\n",
       "<polygon fill=\"black\" stroke=\"black\" points=\"308.874,-46.8749 307.262,-36.4034 301.992,-45.5945 308.874,-46.8749\"/>\r\n",
       "</g>\r\n",
       "<!-- 48 -->\r\n",
       "<g id=\"node13\" class=\"node\"><title>48</title>\r\n",
       "<polygon fill=\"#399de5\" fill-opacity=\"0.823529\" stroke=\"black\" points=\"569,-140 396,-140 396,-72 569,-72 569,-140\"/>\r\n",
       "<text text-anchor=\"middle\" x=\"482.5\" y=\"-124.8\" font-family=\"Times New Roman,serif\" font-size=\"14.00\">away &lt;= 0.085</text>\r\n",
       "<text text-anchor=\"middle\" x=\"482.5\" y=\"-109.8\" font-family=\"Times New Roman,serif\" font-size=\"14.00\">gini = 0.255</text>\r\n",
       "<text text-anchor=\"middle\" x=\"482.5\" y=\"-94.8\" font-family=\"Times New Roman,serif\" font-size=\"14.00\">samples = 2549</text>\r\n",
       "<text text-anchor=\"middle\" x=\"482.5\" y=\"-79.8\" font-family=\"Times New Roman,serif\" font-size=\"14.00\">value = [249.326, 1409.436]</text>\r\n",
       "</g>\r\n",
       "<!-- 47&#45;&gt;48 -->\r\n",
       "<g id=\"edge12\" class=\"edge\"><title>47&#45;&gt;48</title>\r\n",
       "<path fill=\"none\" stroke=\"black\" d=\"M547.332,-175.884C538.864,-166.887 529.597,-157.041 520.785,-147.678\"/>\r\n",
       "<polygon fill=\"black\" stroke=\"black\" points=\"523.243,-145.183 513.841,-140.299 518.146,-149.98 523.243,-145.183\"/>\r\n",
       "</g>\r\n",
       "<!-- 59 -->\r\n",
       "<g id=\"node16\" class=\"node\"><title>59</title>\r\n",
       "<polygon fill=\"#399de5\" fill-opacity=\"0.329412\" stroke=\"black\" points=\"746,-140 587,-140 587,-72 746,-72 746,-140\"/>\r\n",
       "<text text-anchor=\"middle\" x=\"666.5\" y=\"-124.8\" font-family=\"Times New Roman,serif\" font-size=\"14.00\">delici &lt;= 0.178</text>\r\n",
       "<text text-anchor=\"middle\" x=\"666.5\" y=\"-109.8\" font-family=\"Times New Roman,serif\" font-size=\"14.00\">gini = 0.48</text>\r\n",
       "<text text-anchor=\"middle\" x=\"666.5\" y=\"-94.8\" font-family=\"Times New Roman,serif\" font-size=\"14.00\">samples = 581</text>\r\n",
       "<text text-anchor=\"middle\" x=\"666.5\" y=\"-79.8\" font-family=\"Times New Roman,serif\" font-size=\"14.00\">value = [202.04, 302.143]</text>\r\n",
       "</g>\r\n",
       "<!-- 47&#45;&gt;59 -->\r\n",
       "<g id=\"edge15\" class=\"edge\"><title>47&#45;&gt;59</title>\r\n",
       "<path fill=\"none\" stroke=\"black\" d=\"M607.071,-175.884C614.756,-166.976 623.16,-157.235 631.165,-147.957\"/>\r\n",
       "<polygon fill=\"black\" stroke=\"black\" points=\"633.889,-150.157 637.771,-140.299 628.589,-145.585 633.889,-150.157\"/>\r\n",
       "</g>\r\n",
       "<!-- 49 -->\r\n",
       "<g id=\"node14\" class=\"node\"><title>49</title>\r\n",
       "<polygon fill=\"#c0c0c0\" stroke=\"black\" points=\"457.5,-36 403.5,-36 403.5,-0 457.5,-0 457.5,-36\"/>\r\n",
       "<text text-anchor=\"middle\" x=\"430.5\" y=\"-14.3\" font-family=\"Times New Roman,serif\" font-size=\"14.00\">(...)</text>\r\n",
       "</g>\r\n",
       "<!-- 48&#45;&gt;49 -->\r\n",
       "<g id=\"edge13\" class=\"edge\"><title>48&#45;&gt;49</title>\r\n",
       "<path fill=\"none\" stroke=\"black\" d=\"M462.544,-71.9961C457.16,-63.0909 451.409,-53.5802 446.287,-45.1093\"/>\r\n",
       "<polygon fill=\"black\" stroke=\"black\" points=\"449.192,-43.1497 441.023,-36.4034 443.202,-46.7717 449.192,-43.1497\"/>\r\n",
       "</g>\r\n",
       "<!-- 58 -->\r\n",
       "<g id=\"node15\" class=\"node\"><title>58</title>\r\n",
       "<polygon fill=\"#c0c0c0\" stroke=\"black\" points=\"529.5,-36 475.5,-36 475.5,-0 529.5,-0 529.5,-36\"/>\r\n",
       "<text text-anchor=\"middle\" x=\"502.5\" y=\"-14.3\" font-family=\"Times New Roman,serif\" font-size=\"14.00\">(...)</text>\r\n",
       "</g>\r\n",
       "<!-- 48&#45;&gt;58 -->\r\n",
       "<g id=\"edge14\" class=\"edge\"><title>48&#45;&gt;58</title>\r\n",
       "<path fill=\"none\" stroke=\"black\" d=\"M490.175,-71.9961C492.158,-63.4699 494.27,-54.3885 496.175,-46.1962\"/>\r\n",
       "<polygon fill=\"black\" stroke=\"black\" points=\"499.597,-46.9363 498.453,-36.4034 492.778,-45.3506 499.597,-46.9363\"/>\r\n",
       "</g>\r\n",
       "<!-- 60 -->\r\n",
       "<g id=\"node17\" class=\"node\"><title>60</title>\r\n",
       "<polygon fill=\"#c0c0c0\" stroke=\"black\" points=\"642.5,-36 588.5,-36 588.5,-0 642.5,-0 642.5,-36\"/>\r\n",
       "<text text-anchor=\"middle\" x=\"615.5\" y=\"-14.3\" font-family=\"Times New Roman,serif\" font-size=\"14.00\">(...)</text>\r\n",
       "</g>\r\n",
       "<!-- 59&#45;&gt;60 -->\r\n",
       "<g id=\"edge16\" class=\"edge\"><title>59&#45;&gt;60</title>\r\n",
       "<path fill=\"none\" stroke=\"black\" d=\"M646.928,-71.9961C641.647,-63.0909 636.007,-53.5802 630.983,-45.1093\"/>\r\n",
       "<polygon fill=\"black\" stroke=\"black\" points=\"633.932,-43.2194 625.821,-36.4034 627.911,-46.79 633.932,-43.2194\"/>\r\n",
       "</g>\r\n",
       "<!-- 61 -->\r\n",
       "<g id=\"node18\" class=\"node\"><title>61</title>\r\n",
       "<polygon fill=\"#c0c0c0\" stroke=\"black\" points=\"714.5,-36 660.5,-36 660.5,-0 714.5,-0 714.5,-36\"/>\r\n",
       "<text text-anchor=\"middle\" x=\"687.5\" y=\"-14.3\" font-family=\"Times New Roman,serif\" font-size=\"14.00\">(...)</text>\r\n",
       "</g>\r\n",
       "<!-- 59&#45;&gt;61 -->\r\n",
       "<g id=\"edge17\" class=\"edge\"><title>59&#45;&gt;61</title>\r\n",
       "<path fill=\"none\" stroke=\"black\" d=\"M674.559,-71.9961C676.641,-63.4699 678.859,-54.3885 680.859,-46.1962\"/>\r\n",
       "<polygon fill=\"black\" stroke=\"black\" points=\"684.278,-46.9482 683.25,-36.4034 677.478,-45.2877 684.278,-46.9482\"/>\r\n",
       "</g>\r\n",
       "<!-- 63 -->\r\n",
       "<g id=\"node20\" class=\"node\"><title>63</title>\r\n",
       "<polygon fill=\"#399de5\" fill-opacity=\"0.560784\" stroke=\"black\" points=\"945,-244 766,-244 766,-176 945,-176 945,-244\"/>\r\n",
       "<text text-anchor=\"middle\" x=\"855.5\" y=\"-228.8\" font-family=\"Times New Roman,serif\" font-size=\"14.00\">tast &lt;= 0.126</text>\r\n",
       "<text text-anchor=\"middle\" x=\"855.5\" y=\"-213.8\" font-family=\"Times New Roman,serif\" font-size=\"14.00\">gini = 0.424</text>\r\n",
       "<text text-anchor=\"middle\" x=\"855.5\" y=\"-198.8\" font-family=\"Times New Roman,serif\" font-size=\"14.00\">samples = 8002</text>\r\n",
       "<text text-anchor=\"middle\" x=\"855.5\" y=\"-183.8\" font-family=\"Times New Roman,serif\" font-size=\"14.00\">value = [1882.844, 4279.798]</text>\r\n",
       "</g>\r\n",
       "<!-- 62&#45;&gt;63 -->\r\n",
       "<g id=\"edge19\" class=\"edge\"><title>62&#45;&gt;63</title>\r\n",
       "<path fill=\"none\" stroke=\"black\" d=\"M917.63,-279.884C909.596,-270.976 900.81,-261.235 892.441,-251.957\"/>\r\n",
       "<polygon fill=\"black\" stroke=\"black\" points=\"894.831,-249.381 885.535,-244.299 889.633,-254.069 894.831,-249.381\"/>\r\n",
       "</g>\r\n",
       "<!-- 88 -->\r\n",
       "<g id=\"node27\" class=\"node\"><title>88</title>\r\n",
       "<polygon fill=\"#e58139\" fill-opacity=\"0.772549\" stroke=\"black\" points=\"1122,-236.5 963,-236.5 963,-183.5 1122,-183.5 1122,-236.5\"/>\r\n",
       "<text text-anchor=\"middle\" x=\"1042.5\" y=\"-221.3\" font-family=\"Times New Roman,serif\" font-size=\"14.00\">gini = 0.303</text>\r\n",
       "<text text-anchor=\"middle\" x=\"1042.5\" y=\"-206.3\" font-family=\"Times New Roman,serif\" font-size=\"14.00\">samples = 178</text>\r\n",
       "<text text-anchor=\"middle\" x=\"1042.5\" y=\"-191.3\" font-family=\"Times New Roman,serif\" font-size=\"14.00\">value = [279.417, 63.937]</text>\r\n",
       "</g>\r\n",
       "<!-- 62&#45;&gt;88 -->\r\n",
       "<g id=\"edge26\" class=\"edge\"><title>62&#45;&gt;88</title>\r\n",
       "<path fill=\"none\" stroke=\"black\" d=\"M978.344,-279.884C989.099,-268.336 1001.16,-255.387 1011.89,-243.86\"/>\r\n",
       "<polygon fill=\"black\" stroke=\"black\" points=\"1014.48,-246.223 1018.73,-236.52 1009.35,-241.452 1014.48,-246.223\"/>\r\n",
       "</g>\r\n",
       "<!-- 64 -->\r\n",
       "<g id=\"node21\" class=\"node\"><title>64</title>\r\n",
       "<polygon fill=\"#399de5\" fill-opacity=\"0.666667\" stroke=\"black\" points=\"943,-140 764,-140 764,-72 943,-72 943,-140\"/>\r\n",
       "<text text-anchor=\"middle\" x=\"853.5\" y=\"-124.8\" font-family=\"Times New Roman,serif\" font-size=\"14.00\">would &lt;= 0.106</text>\r\n",
       "<text text-anchor=\"middle\" x=\"853.5\" y=\"-109.8\" font-family=\"Times New Roman,serif\" font-size=\"14.00\">gini = 0.375</text>\r\n",
       "<text text-anchor=\"middle\" x=\"853.5\" y=\"-94.8\" font-family=\"Times New Roman,serif\" font-size=\"14.00\">samples = 6524</text>\r\n",
       "<text text-anchor=\"middle\" x=\"853.5\" y=\"-79.8\" font-family=\"Times New Roman,serif\" font-size=\"14.00\">value = [1177.852, 3536.322]</text>\r\n",
       "</g>\r\n",
       "<!-- 63&#45;&gt;64 -->\r\n",
       "<g id=\"edge20\" class=\"edge\"><title>63&#45;&gt;64</title>\r\n",
       "<path fill=\"none\" stroke=\"black\" d=\"M854.851,-175.884C854.692,-167.778 854.519,-158.982 854.352,-150.472\"/>\r\n",
       "<polygon fill=\"black\" stroke=\"black\" points=\"857.848,-150.229 854.153,-140.299 850.85,-150.366 857.848,-150.229\"/>\r\n",
       "</g>\r\n",
       "<!-- 77 -->\r\n",
       "<g id=\"node24\" class=\"node\"><title>77</title>\r\n",
       "<polygon fill=\"#399de5\" fill-opacity=\"0.050980\" stroke=\"black\" points=\"1127.5,-140 961.5,-140 961.5,-72 1127.5,-72 1127.5,-140\"/>\r\n",
       "<text text-anchor=\"middle\" x=\"1044.5\" y=\"-124.8\" font-family=\"Times New Roman,serif\" font-size=\"14.00\">thought &lt;= 0.029</text>\r\n",
       "<text text-anchor=\"middle\" x=\"1044.5\" y=\"-109.8\" font-family=\"Times New Roman,serif\" font-size=\"14.00\">gini = 0.5</text>\r\n",
       "<text text-anchor=\"middle\" x=\"1044.5\" y=\"-94.8\" font-family=\"Times New Roman,serif\" font-size=\"14.00\">samples = 1478</text>\r\n",
       "<text text-anchor=\"middle\" x=\"1044.5\" y=\"-79.8\" font-family=\"Times New Roman,serif\" font-size=\"14.00\">value = [704.992, 743.476]</text>\r\n",
       "</g>\r\n",
       "<!-- 63&#45;&gt;77 -->\r\n",
       "<g id=\"edge23\" class=\"edge\"><title>63&#45;&gt;77</title>\r\n",
       "<path fill=\"none\" stroke=\"black\" d=\"M916.863,-175.884C935.194,-165.991 955.429,-155.07 974.282,-144.895\"/>\r\n",
       "<polygon fill=\"black\" stroke=\"black\" points=\"975.984,-147.954 983.122,-140.125 972.659,-141.794 975.984,-147.954\"/>\r\n",
       "</g>\r\n",
       "<!-- 65 -->\r\n",
       "<g id=\"node22\" class=\"node\"><title>65</title>\r\n",
       "<polygon fill=\"#c0c0c0\" stroke=\"black\" points=\"831.5,-36 777.5,-36 777.5,-0 831.5,-0 831.5,-36\"/>\r\n",
       "<text text-anchor=\"middle\" x=\"804.5\" y=\"-14.3\" font-family=\"Times New Roman,serif\" font-size=\"14.00\">(...)</text>\r\n",
       "</g>\r\n",
       "<!-- 64&#45;&gt;65 -->\r\n",
       "<g id=\"edge21\" class=\"edge\"><title>64&#45;&gt;65</title>\r\n",
       "<path fill=\"none\" stroke=\"black\" d=\"M834.695,-71.9961C829.622,-63.0909 824.203,-53.5802 819.376,-45.1093\"/>\r\n",
       "<polygon fill=\"black\" stroke=\"black\" points=\"822.407,-43.3593 814.416,-36.4034 816.325,-46.8247 822.407,-43.3593\"/>\r\n",
       "</g>\r\n",
       "<!-- 74 -->\r\n",
       "<g id=\"node23\" class=\"node\"><title>74</title>\r\n",
       "<polygon fill=\"#c0c0c0\" stroke=\"black\" points=\"903.5,-36 849.5,-36 849.5,-0 903.5,-0 903.5,-36\"/>\r\n",
       "<text text-anchor=\"middle\" x=\"876.5\" y=\"-14.3\" font-family=\"Times New Roman,serif\" font-size=\"14.00\">(...)</text>\r\n",
       "</g>\r\n",
       "<!-- 64&#45;&gt;74 -->\r\n",
       "<g id=\"edge22\" class=\"edge\"><title>64&#45;&gt;74</title>\r\n",
       "<path fill=\"none\" stroke=\"black\" d=\"M862.327,-71.9961C864.607,-63.4699 867.036,-54.3885 869.227,-46.1962\"/>\r\n",
       "<polygon fill=\"black\" stroke=\"black\" points=\"872.643,-46.9682 871.846,-36.4034 865.881,-45.1596 872.643,-46.9682\"/>\r\n",
       "</g>\r\n",
       "<!-- 78 -->\r\n",
       "<g id=\"node25\" class=\"node\"><title>78</title>\r\n",
       "<polygon fill=\"#c0c0c0\" stroke=\"black\" points=\"1021.5,-36 967.5,-36 967.5,-0 1021.5,-0 1021.5,-36\"/>\r\n",
       "<text text-anchor=\"middle\" x=\"994.5\" y=\"-14.3\" font-family=\"Times New Roman,serif\" font-size=\"14.00\">(...)</text>\r\n",
       "</g>\r\n",
       "<!-- 77&#45;&gt;78 -->\r\n",
       "<g id=\"edge24\" class=\"edge\"><title>77&#45;&gt;78</title>\r\n",
       "<path fill=\"none\" stroke=\"black\" d=\"M1025.31,-71.9961C1020.13,-63.0909 1014.6,-53.5802 1009.68,-45.1093\"/>\r\n",
       "<polygon fill=\"black\" stroke=\"black\" points=\"1012.67,-43.2893 1004.62,-36.4034 1006.62,-46.8077 1012.67,-43.2893\"/>\r\n",
       "</g>\r\n",
       "<!-- 87 -->\r\n",
       "<g id=\"node26\" class=\"node\"><title>87</title>\r\n",
       "<polygon fill=\"#c0c0c0\" stroke=\"black\" points=\"1093.5,-36 1039.5,-36 1039.5,-0 1093.5,-0 1093.5,-36\"/>\r\n",
       "<text text-anchor=\"middle\" x=\"1066.5\" y=\"-14.3\" font-family=\"Times New Roman,serif\" font-size=\"14.00\">(...)</text>\r\n",
       "</g>\r\n",
       "<!-- 77&#45;&gt;87 -->\r\n",
       "<g id=\"edge25\" class=\"edge\"><title>77&#45;&gt;87</title>\r\n",
       "<path fill=\"none\" stroke=\"black\" d=\"M1052.94,-71.9961C1055.12,-63.4699 1057.45,-54.3885 1059.54,-46.1962\"/>\r\n",
       "<polygon fill=\"black\" stroke=\"black\" points=\"1062.96,-46.9589 1062.05,-36.4034 1056.18,-45.224 1062.96,-46.9589\"/>\r\n",
       "</g>\r\n",
       "<!-- 90 -->\r\n",
       "<g id=\"node29\" class=\"node\"><title>90</title>\r\n",
       "<polygon fill=\"#399de5\" fill-opacity=\"0.721569\" stroke=\"black\" points=\"1319,-348 1146,-348 1146,-280 1319,-280 1319,-348\"/>\r\n",
       "<text text-anchor=\"middle\" x=\"1232.5\" y=\"-332.8\" font-family=\"Times New Roman,serif\" font-size=\"14.00\">earth &lt;= 0.084</text>\r\n",
       "<text text-anchor=\"middle\" x=\"1232.5\" y=\"-317.8\" font-family=\"Times New Roman,serif\" font-size=\"14.00\">gini = 0.341</text>\r\n",
       "<text text-anchor=\"middle\" x=\"1232.5\" y=\"-302.8\" font-family=\"Times New Roman,serif\" font-size=\"14.00\">samples = 7269</text>\r\n",
       "<text text-anchor=\"middle\" x=\"1232.5\" y=\"-287.8\" font-family=\"Times New Roman,serif\" font-size=\"14.00\">value = [1104.774, 3967.47]</text>\r\n",
       "</g>\r\n",
       "<!-- 89&#45;&gt;90 -->\r\n",
       "<g id=\"edge28\" class=\"edge\"><title>89&#45;&gt;90</title>\r\n",
       "<path fill=\"none\" stroke=\"black\" d=\"M1291.93,-383.884C1284.24,-374.976 1275.84,-365.235 1267.84,-355.957\"/>\r\n",
       "<polygon fill=\"black\" stroke=\"black\" points=\"1270.41,-353.585 1261.23,-348.299 1265.11,-358.157 1270.41,-353.585\"/>\r\n",
       "</g>\r\n",
       "<!-- 111 -->\r\n",
       "<g id=\"node36\" class=\"node\"><title>111</title>\r\n",
       "<polygon fill=\"#e58139\" fill-opacity=\"0.368627\" stroke=\"black\" points=\"1503.5,-340.5 1337.5,-340.5 1337.5,-287.5 1503.5,-287.5 1503.5,-340.5\"/>\r\n",
       "<text text-anchor=\"middle\" x=\"1420.5\" y=\"-325.3\" font-family=\"Times New Roman,serif\" font-size=\"14.00\">gini = 0.474</text>\r\n",
       "<text text-anchor=\"middle\" x=\"1420.5\" y=\"-310.3\" font-family=\"Times New Roman,serif\" font-size=\"14.00\">samples = 214</text>\r\n",
       "<text text-anchor=\"middle\" x=\"1420.5\" y=\"-295.3\" font-family=\"Times New Roman,serif\" font-size=\"14.00\">value = [159.053, 100.149]</text>\r\n",
       "</g>\r\n",
       "<!-- 89&#45;&gt;111 -->\r\n",
       "<g id=\"edge35\" class=\"edge\"><title>89&#45;&gt;111</title>\r\n",
       "<path fill=\"none\" stroke=\"black\" d=\"M1352.97,-383.884C1364.29,-372.336 1376.98,-359.387 1388.28,-347.86\"/>\r\n",
       "<polygon fill=\"black\" stroke=\"black\" points=\"1390.98,-350.111 1395.48,-340.52 1385.98,-345.21 1390.98,-350.111\"/>\r\n",
       "</g>\r\n",
       "<!-- 91 -->\r\n",
       "<g id=\"node30\" class=\"node\"><title>91</title>\r\n",
       "<polygon fill=\"#399de5\" fill-opacity=\"0.741176\" stroke=\"black\" points=\"1322,-244 1143,-244 1143,-176 1322,-176 1322,-244\"/>\r\n",
       "<text text-anchor=\"middle\" x=\"1232.5\" y=\"-228.8\" font-family=\"Times New Roman,serif\" font-size=\"14.00\">worst &lt;= 0.043</text>\r\n",
       "<text text-anchor=\"middle\" x=\"1232.5\" y=\"-213.8\" font-family=\"Times New Roman,serif\" font-size=\"14.00\">gini = 0.325</text>\r\n",
       "<text text-anchor=\"middle\" x=\"1232.5\" y=\"-198.8\" font-family=\"Times New Roman,serif\" font-size=\"14.00\">samples = 7150</text>\r\n",
       "<text text-anchor=\"middle\" x=\"1232.5\" y=\"-183.8\" font-family=\"Times New Roman,serif\" font-size=\"14.00\">value = [1005.903, 3913.152]</text>\r\n",
       "</g>\r\n",
       "<!-- 90&#45;&gt;91 -->\r\n",
       "<g id=\"edge29\" class=\"edge\"><title>90&#45;&gt;91</title>\r\n",
       "<path fill=\"none\" stroke=\"black\" d=\"M1232.5,-279.884C1232.5,-271.778 1232.5,-262.982 1232.5,-254.472\"/>\r\n",
       "<polygon fill=\"black\" stroke=\"black\" points=\"1236,-254.299 1232.5,-244.299 1229,-254.299 1236,-254.299\"/>\r\n",
       "</g>\r\n",
       "<!-- 110 -->\r\n",
       "<g id=\"node35\" class=\"node\"><title>110</title>\r\n",
       "<polygon fill=\"#e58139\" fill-opacity=\"0.450980\" stroke=\"black\" points=\"1492.5,-236.5 1340.5,-236.5 1340.5,-183.5 1492.5,-183.5 1492.5,-236.5\"/>\r\n",
       "<text text-anchor=\"middle\" x=\"1416.5\" y=\"-221.3\" font-family=\"Times New Roman,serif\" font-size=\"14.00\">gini = 0.458</text>\r\n",
       "<text text-anchor=\"middle\" x=\"1416.5\" y=\"-206.3\" font-family=\"Times New Roman,serif\" font-size=\"14.00\">samples = 119</text>\r\n",
       "<text text-anchor=\"middle\" x=\"1416.5\" y=\"-191.3\" font-family=\"Times New Roman,serif\" font-size=\"14.00\">value = [98.871, 54.318]</text>\r\n",
       "</g>\r\n",
       "<!-- 90&#45;&gt;110 -->\r\n",
       "<g id=\"edge34\" class=\"edge\"><title>90&#45;&gt;110</title>\r\n",
       "<path fill=\"none\" stroke=\"black\" d=\"M1292.24,-279.884C1314.56,-267.511 1339.78,-253.53 1361.64,-241.413\"/>\r\n",
       "<polygon fill=\"black\" stroke=\"black\" points=\"1363.41,-244.429 1370.46,-236.52 1360.02,-238.307 1363.41,-244.429\"/>\r\n",
       "</g>\r\n",
       "<!-- 92 -->\r\n",
       "<g id=\"node31\" class=\"node\"><title>92</title>\r\n",
       "<polygon fill=\"#399de5\" fill-opacity=\"0.756863\" stroke=\"black\" points=\"1319,-140 1146,-140 1146,-72 1319,-72 1319,-140\"/>\r\n",
       "<text text-anchor=\"middle\" x=\"1232.5\" y=\"-124.8\" font-family=\"Times New Roman,serif\" font-size=\"14.00\">date &lt;= 0.096</text>\r\n",
       "<text text-anchor=\"middle\" x=\"1232.5\" y=\"-109.8\" font-family=\"Times New Roman,serif\" font-size=\"14.00\">gini = 0.315</text>\r\n",
       "<text text-anchor=\"middle\" x=\"1232.5\" y=\"-94.8\" font-family=\"Times New Roman,serif\" font-size=\"14.00\">samples = 7120</text>\r\n",
       "<text text-anchor=\"middle\" x=\"1232.5\" y=\"-79.8\" font-family=\"Times New Roman,serif\" font-size=\"14.00\">value = [950.019, 3903.533]</text>\r\n",
       "</g>\r\n",
       "<!-- 91&#45;&gt;92 -->\r\n",
       "<g id=\"edge30\" class=\"edge\"><title>91&#45;&gt;92</title>\r\n",
       "<path fill=\"none\" stroke=\"black\" d=\"M1232.5,-175.884C1232.5,-167.778 1232.5,-158.982 1232.5,-150.472\"/>\r\n",
       "<polygon fill=\"black\" stroke=\"black\" points=\"1236,-150.299 1232.5,-140.299 1229,-150.299 1236,-150.299\"/>\r\n",
       "</g>\r\n",
       "<!-- 109 -->\r\n",
       "<g id=\"node34\" class=\"node\"><title>109</title>\r\n",
       "<polygon fill=\"#e58139\" fill-opacity=\"0.827451\" stroke=\"black\" points=\"1483.5,-132.5 1337.5,-132.5 1337.5,-79.5 1483.5,-79.5 1483.5,-132.5\"/>\r\n",
       "<text text-anchor=\"middle\" x=\"1410.5\" y=\"-117.3\" font-family=\"Times New Roman,serif\" font-size=\"14.00\">gini = 0.251</text>\r\n",
       "<text text-anchor=\"middle\" x=\"1410.5\" y=\"-102.3\" font-family=\"Times New Roman,serif\" font-size=\"14.00\">samples = 30</text>\r\n",
       "<text text-anchor=\"middle\" x=\"1410.5\" y=\"-87.3\" font-family=\"Times New Roman,serif\" font-size=\"14.00\">value = [55.883, 9.619]</text>\r\n",
       "</g>\r\n",
       "<!-- 91&#45;&gt;109 -->\r\n",
       "<g id=\"edge33\" class=\"edge\"><title>91&#45;&gt;109</title>\r\n",
       "<path fill=\"none\" stroke=\"black\" d=\"M1290.29,-175.884C1311.79,-163.566 1336.06,-149.655 1357.14,-137.575\"/>\r\n",
       "<polygon fill=\"black\" stroke=\"black\" points=\"1359.03,-140.529 1365.97,-132.52 1355.55,-134.455 1359.03,-140.529\"/>\r\n",
       "</g>\r\n",
       "<!-- 93 -->\r\n",
       "<g id=\"node32\" class=\"node\"><title>93</title>\r\n",
       "<polygon fill=\"#c0c0c0\" stroke=\"black\" points=\"1223.5,-36 1169.5,-36 1169.5,-0 1223.5,-0 1223.5,-36\"/>\r\n",
       "<text text-anchor=\"middle\" x=\"1196.5\" y=\"-14.3\" font-family=\"Times New Roman,serif\" font-size=\"14.00\">(...)</text>\r\n",
       "</g>\r\n",
       "<!-- 92&#45;&gt;93 -->\r\n",
       "<g id=\"edge31\" class=\"edge\"><title>92&#45;&gt;93</title>\r\n",
       "<path fill=\"none\" stroke=\"black\" d=\"M1218.68,-71.9961C1215.04,-63.2804 1211.14,-53.9846 1207.66,-45.6514\"/>\r\n",
       "<polygon fill=\"black\" stroke=\"black\" points=\"1210.88,-44.2763 1203.79,-36.4034 1204.42,-46.9793 1210.88,-44.2763\"/>\r\n",
       "</g>\r\n",
       "<!-- 108 -->\r\n",
       "<g id=\"node33\" class=\"node\"><title>108</title>\r\n",
       "<polygon fill=\"#c0c0c0\" stroke=\"black\" points=\"1295.5,-36 1241.5,-36 1241.5,-0 1295.5,-0 1295.5,-36\"/>\r\n",
       "<text text-anchor=\"middle\" x=\"1268.5\" y=\"-14.3\" font-family=\"Times New Roman,serif\" font-size=\"14.00\">(...)</text>\r\n",
       "</g>\r\n",
       "<!-- 92&#45;&gt;108 -->\r\n",
       "<g id=\"edge32\" class=\"edge\"><title>92&#45;&gt;108</title>\r\n",
       "<path fill=\"none\" stroke=\"black\" d=\"M1246.32,-71.9961C1249.96,-63.2804 1253.86,-53.9846 1257.34,-45.6514\"/>\r\n",
       "<polygon fill=\"black\" stroke=\"black\" points=\"1260.58,-46.9793 1261.21,-36.4034 1254.12,-44.2763 1260.58,-46.9793\"/>\r\n",
       "</g>\r\n",
       "<!-- 113 -->\r\n",
       "<g id=\"node38\" class=\"node\"><title>113</title>\r\n",
       "<polygon fill=\"#399de5\" fill-opacity=\"0.752941\" stroke=\"black\" points=\"1698,-452 1525,-452 1525,-384 1698,-384 1698,-452\"/>\r\n",
       "<text text-anchor=\"middle\" x=\"1611.5\" y=\"-436.8\" font-family=\"Times New Roman,serif\" font-size=\"14.00\">thought &lt;= 0.06</text>\r\n",
       "<text text-anchor=\"middle\" x=\"1611.5\" y=\"-421.8\" font-family=\"Times New Roman,serif\" font-size=\"14.00\">gini = 0.317</text>\r\n",
       "<text text-anchor=\"middle\" x=\"1611.5\" y=\"-406.8\" font-family=\"Times New Roman,serif\" font-size=\"14.00\">samples = 14147</text>\r\n",
       "<text text-anchor=\"middle\" x=\"1611.5\" y=\"-391.8\" font-family=\"Times New Roman,serif\" font-size=\"14.00\">value = [1904.337, 7753.88]</text>\r\n",
       "</g>\r\n",
       "<!-- 112&#45;&gt;113 -->\r\n",
       "<g id=\"edge37\" class=\"edge\"><title>112&#45;&gt;113</title>\r\n",
       "<path fill=\"none\" stroke=\"black\" d=\"M1611.5,-487.884C1611.5,-479.778 1611.5,-470.982 1611.5,-462.472\"/>\r\n",
       "<polygon fill=\"black\" stroke=\"black\" points=\"1615,-462.299 1611.5,-452.299 1608,-462.299 1615,-462.299\"/>\r\n",
       "</g>\r\n",
       "<!-- 132 -->\r\n",
       "<g id=\"node47\" class=\"node\"><title>132</title>\r\n",
       "<polygon fill=\"#e58139\" fill-opacity=\"0.568627\" stroke=\"black\" points=\"1875,-444.5 1716,-444.5 1716,-391.5 1875,-391.5 1875,-444.5\"/>\r\n",
       "<text text-anchor=\"middle\" x=\"1795.5\" y=\"-429.3\" font-family=\"Times New Roman,serif\" font-size=\"14.00\">gini = 0.421</text>\r\n",
       "<text text-anchor=\"middle\" x=\"1795.5\" y=\"-414.3\" font-family=\"Times New Roman,serif\" font-size=\"14.00\">samples = 222</text>\r\n",
       "<text text-anchor=\"middle\" x=\"1795.5\" y=\"-399.3\" font-family=\"Times New Roman,serif\" font-size=\"14.00\">value = [223.534, 96.188]</text>\r\n",
       "</g>\r\n",
       "<!-- 112&#45;&gt;132 -->\r\n",
       "<g id=\"edge46\" class=\"edge\"><title>112&#45;&gt;132</title>\r\n",
       "<path fill=\"none\" stroke=\"black\" d=\"M1671.24,-487.884C1693.56,-475.511 1718.78,-461.53 1740.64,-449.413\"/>\r\n",
       "<polygon fill=\"black\" stroke=\"black\" points=\"1742.41,-452.429 1749.46,-444.52 1739.02,-446.307 1742.41,-452.429\"/>\r\n",
       "</g>\r\n",
       "<!-- 114 -->\r\n",
       "<g id=\"node39\" class=\"node\"><title>114</title>\r\n",
       "<polygon fill=\"#399de5\" fill-opacity=\"0.780392\" stroke=\"black\" points=\"1701,-348 1522,-348 1522,-280 1701,-280 1701,-348\"/>\r\n",
       "<text text-anchor=\"middle\" x=\"1611.5\" y=\"-332.8\" font-family=\"Times New Roman,serif\" font-size=\"14.00\">terribl &lt;= 0.121</text>\r\n",
       "<text text-anchor=\"middle\" x=\"1611.5\" y=\"-317.8\" font-family=\"Times New Roman,serif\" font-size=\"14.00\">gini = 0.296</text>\r\n",
       "<text text-anchor=\"middle\" x=\"1611.5\" y=\"-302.8\" font-family=\"Times New Roman,serif\" font-size=\"14.00\">samples = 13812</text>\r\n",
       "<text text-anchor=\"middle\" x=\"1611.5\" y=\"-287.8\" font-family=\"Times New Roman,serif\" font-size=\"14.00\">value = [1676.505, 7594.322]</text>\r\n",
       "</g>\r\n",
       "<!-- 113&#45;&gt;114 -->\r\n",
       "<g id=\"edge38\" class=\"edge\"><title>113&#45;&gt;114</title>\r\n",
       "<path fill=\"none\" stroke=\"black\" d=\"M1611.5,-383.884C1611.5,-375.778 1611.5,-366.982 1611.5,-358.472\"/>\r\n",
       "<polygon fill=\"black\" stroke=\"black\" points=\"1615,-358.299 1611.5,-348.299 1608,-358.299 1615,-358.299\"/>\r\n",
       "</g>\r\n",
       "<!-- 131 -->\r\n",
       "<g id=\"node46\" class=\"node\"><title>131</title>\r\n",
       "<polygon fill=\"#e58139\" fill-opacity=\"0.298039\" stroke=\"black\" points=\"1885.5,-340.5 1719.5,-340.5 1719.5,-287.5 1885.5,-287.5 1885.5,-340.5\"/>\r\n",
       "<text text-anchor=\"middle\" x=\"1802.5\" y=\"-325.3\" font-family=\"Times New Roman,serif\" font-size=\"14.00\">gini = 0.484</text>\r\n",
       "<text text-anchor=\"middle\" x=\"1802.5\" y=\"-310.3\" font-family=\"Times New Roman,serif\" font-size=\"14.00\">samples = 335</text>\r\n",
       "<text text-anchor=\"middle\" x=\"1802.5\" y=\"-295.3\" font-family=\"Times New Roman,serif\" font-size=\"14.00\">value = [227.833, 159.559]</text>\r\n",
       "</g>\r\n",
       "<!-- 113&#45;&gt;131 -->\r\n",
       "<g id=\"edge45\" class=\"edge\"><title>113&#45;&gt;131</title>\r\n",
       "<path fill=\"none\" stroke=\"black\" d=\"M1673.51,-383.884C1696.78,-371.456 1723.09,-357.406 1745.85,-345.252\"/>\r\n",
       "<polygon fill=\"black\" stroke=\"black\" points=\"1747.54,-348.318 1754.71,-340.52 1744.24,-342.143 1747.54,-348.318\"/>\r\n",
       "</g>\r\n",
       "<!-- 115 -->\r\n",
       "<g id=\"node40\" class=\"node\"><title>115</title>\r\n",
       "<polygon fill=\"#399de5\" fill-opacity=\"0.792157\" stroke=\"black\" points=\"1696,-244 1517,-244 1517,-176 1696,-176 1696,-244\"/>\r\n",
       "<text text-anchor=\"middle\" x=\"1606.5\" y=\"-228.8\" font-family=\"Times New Roman,serif\" font-size=\"14.00\">aw &lt;= 0.12</text>\r\n",
       "<text text-anchor=\"middle\" x=\"1606.5\" y=\"-213.8\" font-family=\"Times New Roman,serif\" font-size=\"14.00\">gini = 0.286</text>\r\n",
       "<text text-anchor=\"middle\" x=\"1606.5\" y=\"-198.8\" font-family=\"Times New Roman,serif\" font-size=\"14.00\">samples = 13768</text>\r\n",
       "<text text-anchor=\"middle\" x=\"1606.5\" y=\"-183.8\" font-family=\"Times New Roman,serif\" font-size=\"14.00\">value = [1581.933, 7581.874]</text>\r\n",
       "</g>\r\n",
       "<!-- 114&#45;&gt;115 -->\r\n",
       "<g id=\"edge39\" class=\"edge\"><title>114&#45;&gt;115</title>\r\n",
       "<path fill=\"none\" stroke=\"black\" d=\"M1609.88,-279.884C1609.48,-271.778 1609.05,-262.982 1608.63,-254.472\"/>\r\n",
       "<polygon fill=\"black\" stroke=\"black\" points=\"1612.12,-254.116 1608.13,-244.299 1605.13,-254.459 1612.12,-254.116\"/>\r\n",
       "</g>\r\n",
       "<!-- 130 -->\r\n",
       "<g id=\"node45\" class=\"node\"><title>130</title>\r\n",
       "<polygon fill=\"#e58139\" fill-opacity=\"0.866667\" stroke=\"black\" points=\"1866.5,-236.5 1714.5,-236.5 1714.5,-183.5 1866.5,-183.5 1866.5,-236.5\"/>\r\n",
       "<text text-anchor=\"middle\" x=\"1790.5\" y=\"-221.3\" font-family=\"Times New Roman,serif\" font-size=\"14.00\">gini = 0.206</text>\r\n",
       "<text text-anchor=\"middle\" x=\"1790.5\" y=\"-206.3\" font-family=\"Times New Roman,serif\" font-size=\"14.00\">samples = 44</text>\r\n",
       "<text text-anchor=\"middle\" x=\"1790.5\" y=\"-191.3\" font-family=\"Times New Roman,serif\" font-size=\"14.00\">value = [94.572, 12.448]</text>\r\n",
       "</g>\r\n",
       "<!-- 114&#45;&gt;130 -->\r\n",
       "<g id=\"edge44\" class=\"edge\"><title>114&#45;&gt;130</title>\r\n",
       "<path fill=\"none\" stroke=\"black\" d=\"M1669.62,-279.884C1691.23,-267.566 1715.65,-253.655 1736.84,-241.575\"/>\r\n",
       "<polygon fill=\"black\" stroke=\"black\" points=\"1738.76,-244.512 1745.72,-236.52 1735.29,-238.43 1738.76,-244.512\"/>\r\n",
       "</g>\r\n",
       "<!-- 116 -->\r\n",
       "<g id=\"node41\" class=\"node\"><title>116</title>\r\n",
       "<polygon fill=\"#399de5\" fill-opacity=\"0.800000\" stroke=\"black\" points=\"1686,-140 1513,-140 1513,-72 1686,-72 1686,-140\"/>\r\n",
       "<text text-anchor=\"middle\" x=\"1599.5\" y=\"-124.8\" font-family=\"Times New Roman,serif\" font-size=\"14.00\">howev &lt;= 0.059</text>\r\n",
       "<text text-anchor=\"middle\" x=\"1599.5\" y=\"-109.8\" font-family=\"Times New Roman,serif\" font-size=\"14.00\">gini = 0.279</text>\r\n",
       "<text text-anchor=\"middle\" x=\"1599.5\" y=\"-94.8\" font-family=\"Times New Roman,serif\" font-size=\"14.00\">samples = 13738</text>\r\n",
       "<text text-anchor=\"middle\" x=\"1599.5\" y=\"-79.8\" font-family=\"Times New Roman,serif\" font-size=\"14.00\">value = [1521.75, 7572.821]</text>\r\n",
       "</g>\r\n",
       "<!-- 115&#45;&gt;116 -->\r\n",
       "<g id=\"edge40\" class=\"edge\"><title>115&#45;&gt;116</title>\r\n",
       "<path fill=\"none\" stroke=\"black\" d=\"M1604.23,-175.884C1603.67,-167.778 1603.07,-158.982 1602.48,-150.472\"/>\r\n",
       "<polygon fill=\"black\" stroke=\"black\" points=\"1605.96,-150.036 1601.79,-140.299 1598.98,-150.516 1605.96,-150.036\"/>\r\n",
       "</g>\r\n",
       "<!-- 129 -->\r\n",
       "<g id=\"node44\" class=\"node\"><title>129</title>\r\n",
       "<polygon fill=\"#e58139\" fill-opacity=\"0.850980\" stroke=\"black\" points=\"1850.5,-132.5 1704.5,-132.5 1704.5,-79.5 1850.5,-79.5 1850.5,-132.5\"/>\r\n",
       "<text text-anchor=\"middle\" x=\"1777.5\" y=\"-117.3\" font-family=\"Times New Roman,serif\" font-size=\"14.00\">gini = 0.227</text>\r\n",
       "<text text-anchor=\"middle\" x=\"1777.5\" y=\"-102.3\" font-family=\"Times New Roman,serif\" font-size=\"14.00\">samples = 30</text>\r\n",
       "<text text-anchor=\"middle\" x=\"1777.5\" y=\"-87.3\" font-family=\"Times New Roman,serif\" font-size=\"14.00\">value = [60.182, 9.053]</text>\r\n",
       "</g>\r\n",
       "<!-- 115&#45;&gt;129 -->\r\n",
       "<g id=\"edge43\" class=\"edge\"><title>115&#45;&gt;129</title>\r\n",
       "<path fill=\"none\" stroke=\"black\" d=\"M1662.02,-175.884C1682.58,-163.621 1705.78,-149.779 1725.97,-137.737\"/>\r\n",
       "<polygon fill=\"black\" stroke=\"black\" points=\"1727.92,-140.649 1734.72,-132.52 1724.34,-134.637 1727.92,-140.649\"/>\r\n",
       "</g>\r\n",
       "<!-- 117 -->\r\n",
       "<g id=\"node42\" class=\"node\"><title>117</title>\r\n",
       "<polygon fill=\"#c0c0c0\" stroke=\"black\" points=\"1590.5,-36 1536.5,-36 1536.5,-0 1590.5,-0 1590.5,-36\"/>\r\n",
       "<text text-anchor=\"middle\" x=\"1563.5\" y=\"-14.3\" font-family=\"Times New Roman,serif\" font-size=\"14.00\">(...)</text>\r\n",
       "</g>\r\n",
       "<!-- 116&#45;&gt;117 -->\r\n",
       "<g id=\"edge41\" class=\"edge\"><title>116&#45;&gt;117</title>\r\n",
       "<path fill=\"none\" stroke=\"black\" d=\"M1585.68,-71.9961C1582.04,-63.2804 1578.14,-53.9846 1574.66,-45.6514\"/>\r\n",
       "<polygon fill=\"black\" stroke=\"black\" points=\"1577.88,-44.2763 1570.79,-36.4034 1571.42,-46.9793 1577.88,-44.2763\"/>\r\n",
       "</g>\r\n",
       "<!-- 128 -->\r\n",
       "<g id=\"node43\" class=\"node\"><title>128</title>\r\n",
       "<polygon fill=\"#c0c0c0\" stroke=\"black\" points=\"1662.5,-36 1608.5,-36 1608.5,-0 1662.5,-0 1662.5,-36\"/>\r\n",
       "<text text-anchor=\"middle\" x=\"1635.5\" y=\"-14.3\" font-family=\"Times New Roman,serif\" font-size=\"14.00\">(...)</text>\r\n",
       "</g>\r\n",
       "<!-- 116&#45;&gt;128 -->\r\n",
       "<g id=\"edge42\" class=\"edge\"><title>116&#45;&gt;128</title>\r\n",
       "<path fill=\"none\" stroke=\"black\" d=\"M1613.32,-71.9961C1616.96,-63.2804 1620.86,-53.9846 1624.34,-45.6514\"/>\r\n",
       "<polygon fill=\"black\" stroke=\"black\" points=\"1627.58,-46.9793 1628.21,-36.4034 1621.12,-44.2763 1627.58,-46.9793\"/>\r\n",
       "</g>\r\n",
       "</g>\r\n",
       "</svg>\r\n"
      ],
      "text/plain": [
       "<graphviz.files.Source at 0x24782118278>"
      ]
     },
     "execution_count": 66,
     "metadata": {},
     "output_type": "execute_result"
    }
   ],
   "source": [
    "from sklearn.tree import export_graphviz\n",
    "import graphviz\n",
    "\n",
    "export_graphviz(Model_Awv,out_file=\"W2V.dot\",feature_names=model.get_feature_names(),filled=True,max_depth=5)\n",
    "with open(\"W2V.dot\") as f:\n",
    "    dot_graph=f.read()\n",
    "graphviz.Source(dot_graph)  "
   ]
  },
  {
   "cell_type": "markdown",
   "metadata": {},
   "source": [
    "## TF-IDF Word To Vector"
   ]
  },
  {
   "cell_type": "code",
   "execution_count": 19,
   "metadata": {},
   "outputs": [
    {
     "name": "stdout",
     "output_type": "stream",
     "text": [
      "30737\n",
      "['aaa', 'aaaaaaaaagghh', 'aaaaah', 'aaaaahhhhhhhhhhhhhhhh', 'aaaah', 'aaah', 'aachen', 'aad', 'aadp', 'aafco', 'aagh', 'aah', 'aahh', 'aand', 'aardvark', 'ab', 'aback', 'abandon', 'abaolut', 'abattoir']\n"
     ]
    }
   ],
   "source": [
    "TFIDF_Feature=vectorizer_tfidf.get_feature_names()\n",
    "print(len(TFIDF_Feature))\n",
    "print(TFIDF_Feature[0:20])"
   ]
  },
  {
   "cell_type": "code",
   "execution_count": 20,
   "metadata": {},
   "outputs": [
    {
     "name": "stdout",
     "output_type": "stream",
     "text": [
      "Number of words that occured minimum 5 times  10488\n",
      "Sample words  ['witti', 'littl', 'book', 'make', 'son', 'laugh', 'loud', 'car', 'drive', 'along', 'alway', 'sing', 'refrain', 'hes', 'learn', 'whale', 'india', 'droop', 'love', 'new', 'word', 'introduc', 'silli', 'classic', 'will', 'bet', 'still', 'abl', 'memori', 'colleg', 'rememb', 'see', 'show', 'air', 'televis', 'year', 'ago', 'child', 'sister', 'later', 'bought', 'day', 'thirti', 'someth', 'use', 'seri', 'song', 'student', 'teach', 'preschool']\n"
     ]
    }
   ],
   "source": [
    "w2v_words = list(model.wv.vocab)\n",
    "print(\"Number of words that occured minimum 5 times \",len(w2v_words))\n",
    "print(\"Sample words \", w2v_words[0:50])"
   ]
  },
  {
   "cell_type": "code",
   "execution_count": 21,
   "metadata": {},
   "outputs": [
    {
     "name": "stderr",
     "output_type": "stream",
     "text": [
      "100%|████████████████████████████████████| 67000/67000 [25:17<00:00, 44.15it/s]\n"
     ]
    }
   ],
   "source": [
    "from tqdm import tqdm\n",
    "Train_TFIDF_W2V_Vectors=[]\n",
    "row=0\n",
    "for sent in tqdm(list_of_Train_sent):\n",
    "    sent_vec=np.zeros(50)\n",
    "    weight=0\n",
    "    for word in sent:\n",
    "        try :\n",
    "            if word in TFIDF_Feature and word in w2v_words:\n",
    "                \n",
    "                w2v_vec=model.wv[word]\n",
    "                tfidf_vec=X_Train_Tfidf[row,TFIDF_Feature.index(word)]\n",
    "                sent_vec+=(w2v_vec*tfidf_vec)\n",
    "                weight+=tfidf_vec\n",
    "            \n",
    "        except :\n",
    "            pass\n",
    "    if weight!=0:\n",
    "        sent_vec/=weight\n",
    "    Train_TFIDF_W2V_Vectors.append(sent_vec) \n",
    "    row+=1"
   ]
  },
  {
   "cell_type": "code",
   "execution_count": 22,
   "metadata": {},
   "outputs": [
    {
     "name": "stderr",
     "output_type": "stream",
     "text": [
      "100%|████████████████████████████████████| 33000/33000 [12:57<00:00, 42.42it/s]\n"
     ]
    }
   ],
   "source": [
    "Test_TFIDF_W2V_Vectors=[]\n",
    "row=0\n",
    "for sent in tqdm(list_of_Test_sent):\n",
    "    sent_vec=np.zeros(50)\n",
    "    weight=0\n",
    "    \n",
    "    for word in sent:\n",
    "        try:\n",
    "             if word in TFIDF_Feature and word in w2v_words:\n",
    "                    \n",
    "                w2v_vec=model.wv[word]\n",
    "                tfidf_vec=X_Test_Tfidf(row,TFIDF_Feature.index(word))\n",
    "                sent_vec+=(w2v_vec*tfidf_vec)\n",
    "                weight+=tfidf\n",
    "          \n",
    "        except :\n",
    "            pass\n",
    "    \n",
    "    if weight!=0:\n",
    "        sent_vec/=weight\n",
    "    Test_TFIDF_W2V_Vectors.append(sent_vec)    \n",
    "    row+=1"
   ]
  },
  {
   "cell_type": "code",
   "execution_count": 23,
   "metadata": {},
   "outputs": [],
   "source": [
    "Train_TFIDF_W2V_Vectors = np.nan_to_num(Train_TFIDF_W2V_Vectors)\n",
    "Test_TFIDF_W2V_Vectors = np.nan_to_num(Test_TFIDF_W2V_Vectors)"
   ]
  },
  {
   "cell_type": "code",
   "execution_count": 24,
   "metadata": {},
   "outputs": [],
   "source": [
    "X_Train_TfidfW2v=Train_TFIDF_W2V_Vectors\n",
    "X_Test_TfidfW2v=Test_TFIDF_W2V_Vectors"
   ]
  },
  {
   "cell_type": "code",
   "execution_count": 25,
   "metadata": {},
   "outputs": [
    {
     "name": "stdout",
     "output_type": "stream",
     "text": [
      "(67000, 50) (67000,)\n",
      "(33000, 50) (33000,)\n"
     ]
    }
   ],
   "source": [
    "print(X_Train_TfidfW2v.shape, Y_train.shape)\n",
    "print(X_Test_TfidfW2v.shape, Y_test.shape)"
   ]
  },
  {
   "cell_type": "markdown",
   "metadata": {},
   "source": [
    "### Finding the best value Of hyperparameter (Alpha) "
   ]
  },
  {
   "cell_type": "code",
   "execution_count": 26,
   "metadata": {},
   "outputs": [
    {
     "name": "stdout",
     "output_type": "stream",
     "text": [
      "Best HyperParameter:  {'max_depth': 1, 'min_samples_split': 5}\n",
      "Best Accuracy: 50.00%\n"
     ]
    }
   ],
   "source": [
    "gsv=Grid_SearchCV(X_Train_TfidfW2v,Y_train)\n",
    "\n",
    "print(\"Best HyperParameter: \",gsv.best_params_)\n",
    "print(\"Best Accuracy: %.2f%%\"%(gsv.best_score_*100))"
   ]
  },
  {
   "cell_type": "markdown",
   "metadata": {},
   "source": [
    "### Plot"
   ]
  },
  {
   "cell_type": "code",
   "execution_count": 27,
   "metadata": {},
   "outputs": [
    {
     "data": {
      "image/png": "[encoded data removed]",
      "text/plain": [
       "<Figure size 432x288 with 1 Axes>"
      ]
     },
     "metadata": {
      "needs_background": "light"
     },
     "output_type": "display_data"
    }
   ],
   "source": [
    "plot(gsv)"
   ]
  },
  {
   "cell_type": "markdown",
   "metadata": {},
   "source": [
    "### Training Model"
   ]
  },
  {
   "cell_type": "code",
   "execution_count": 29,
   "metadata": {},
   "outputs": [
    {
     "data": {
      "text/plain": [
       "DecisionTreeClassifier(class_weight='balanced', criterion='gini', max_depth=1,\n",
       "            max_features=None, max_leaf_nodes=None,\n",
       "            min_impurity_decrease=0.0, min_impurity_split=None,\n",
       "            min_samples_leaf=1, min_samples_split=5,\n",
       "            min_weight_fraction_leaf=0.0, presort=False, random_state=None,\n",
       "            splitter='best')"
      ]
     },
     "execution_count": 29,
     "metadata": {},
     "output_type": "execute_result"
    }
   ],
   "source": [
    "Best_Param=gsv.best_params_\n",
    "depth=Best_Param['max_depth']\n",
    "min_sample_split = Best_Param['min_samples_split']\n",
    "\n",
    "Model_TfidfW2v=DecisionTreeClassifier(max_depth=depth,min_samples_split=min_sample_split,class_weight=\"balanced\")\n",
    "Model_TfidfW2v.fit(X_Train_TfidfW2v,Y_train)"
   ]
  },
  {
   "cell_type": "markdown",
   "metadata": {},
   "source": [
    "### Evaluating the performance of model"
   ]
  },
  {
   "cell_type": "code",
   "execution_count": 30,
   "metadata": {},
   "outputs": [
    {
     "name": "stdout",
     "output_type": "stream",
     "text": [
      "Confusion Matrix for Train set\n"
     ]
    },
    {
     "data": {
      "image/png": "[encoded data removed]",
      "text/plain": [
       "<Figure size 432x288 with 2 Axes>"
      ]
     },
     "metadata": {
      "needs_background": "light"
     },
     "output_type": "display_data"
    }
   ],
   "source": [
    "trainconfusionmatrix(Model_TfidfW2v,X_Train_TfidfW2v,Y_train)"
   ]
  },
  {
   "cell_type": "code",
   "execution_count": 31,
   "metadata": {},
   "outputs": [
    {
     "name": "stdout",
     "output_type": "stream",
     "text": [
      "Confusion Matrix for Test set\n"
     ]
    },
    {
     "data": {
      "image/png": "[encoded data removed]",
      "text/plain": [
       "<Figure size 432x288 with 2 Axes>"
      ]
     },
     "metadata": {
      "needs_background": "light"
     },
     "output_type": "display_data"
    }
   ],
   "source": [
    "testconfusionmatrix(Model_TfidfW2v,X_Test_TfidfW2v,Y_test)"
   ]
  },
  {
   "cell_type": "code",
   "execution_count": 34,
   "metadata": {},
   "outputs": [
    {
     "data": {
      "image/png": "[encoded data removed]",
      "text/plain": [
       "<Figure size 432x288 with 1 Axes>"
      ]
     },
     "metadata": {
      "needs_background": "light"
     },
     "output_type": "display_data"
    }
   ],
   "source": [
    "plot_auc_roc(Model_TfidfW2v,X_Train_TfidfW2v,X_Test_TfidfW2v,Y_train,Y_test)"
   ]
  },
  {
   "cell_type": "code",
   "execution_count": 35,
   "metadata": {},
   "outputs": [
    {
     "name": "stdout",
     "output_type": "stream",
     "text": [
      "Classification Report: \n",
      "\n",
      "              precision    recall  f1-score   support\n",
      "\n",
      "           0       0.14      1.00      0.24      4478\n",
      "           1       0.00      0.00      0.00     28522\n",
      "\n",
      "   micro avg       0.14      0.14      0.14     33000\n",
      "   macro avg       0.07      0.50      0.12     33000\n",
      "weighted avg       0.02      0.14      0.03     33000\n",
      "\n"
     ]
    }
   ],
   "source": [
    "print(\"Classification Report: \\n\")\n",
    "y_pred=Model_TfidfW2v.predict(X_Test_TfidfW2v)\n",
    "\n",
    "print(classification_report(Y_test, y_pred))"
   ]
  },
  {
   "cell_type": "markdown",
   "metadata": {},
   "source": [
    "### Conclusion :"
   ]
  },
  {
   "cell_type": "markdown",
   "metadata": {},
   "source": [
    "1. Report On different Vectorizer method."
   ]
  },
  {
   "cell_type": "code",
   "execution_count": 1,
   "metadata": {},
   "outputs": [
    {
     "name": "stdout",
     "output_type": "stream",
     "text": [
      "+------------+---------------------------+-----------------------------------+-----------+----------+----------+\n",
      "| Vectorizer | Hyperparameter(Max_Depth) | Hyperparameter(Min_Samples_Split) | Train AUC | Test AUC | F1-Score |\n",
      "+------------+---------------------------+-----------------------------------+-----------+----------+----------+\n",
      "|    BOW     |             50            |                500                |    0.91   |   0.76   |   0.78   |\n",
      "|   TF-IDF   |             50            |                500                |    0.91   |   0.78   |   0.78   |\n",
      "|  Avg W2V   |             10            |                500                |    0.85   |   0.8    |   0.76   |\n",
      "| TF-IDF W2V |             1             |                 5                 |    0.5    |   0.5    |   0.03   |\n",
      "+------------+---------------------------+-----------------------------------+-----------+----------+----------+\n"
     ]
    }
   ],
   "source": [
    "from prettytable import PrettyTable\n",
    "    \n",
    "x = PrettyTable()\n",
    "\n",
    "x.field_names = [\"Vectorizer\", \"Hyperparameter(Max_Depth)\",\"Hyperparameter(Min_Samples_Split)\",\"Train AUC\",\"Test AUC\",\"F1-Score\"]\n",
    "\n",
    "x.add_row([\"BOW\",50,500,0.91,0.76,0.78])\n",
    "x.add_row([\"TF-IDF\",50,500,0.91,0.78,0.78])\n",
    "x.add_row([\"Avg W2V\",10,500,0.85,0.80,0.76])\n",
    "x.add_row([\"TF-IDF W2V\",1,5,0.5,0.5,0.03])\n",
    "\n",
    "print(x)"
   ]
  },
  {
   "cell_type": "markdown",
   "metadata": {},
   "source": [
    "2. I have taken 100k points ."
   ]
  },
  {
   "cell_type": "markdown",
   "metadata": {},
   "source": [
    "3. Model is performing very good in case of Average Word to Vector than others."
   ]
  },
  {
   "cell_type": "markdown",
   "metadata": {},
   "source": [
    "4. In case of TF-IDF W2V model is behaving like a dumb model."
   ]
  }
 ],
 "metadata": {
  "kernelspec": {
   "display_name": "Python 3",
   "language": "python",
   "name": "python3"
  },
  "language_info": {
   "codemirror_mode": {
    "name": "ipython",
    "version": 3
   },
   "file_extension": ".py",
   "mimetype": "text/x-python",
   "name": "python",
   "nbconvert_exporter": "python",
   "pygments_lexer": "ipython3",
   "version": "3.7.3"
  }
 },
 "nbformat": 4,
 "nbformat_minor": 2
}
